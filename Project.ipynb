{
 "cells": [
  {
   "cell_type": "markdown",
   "id": "dbd084b9",
   "metadata": {},
   "source": [
    "# Health Insurance Premium Prediction Using Supervised Machine Learning"
   ]
  },
  {
   "cell_type": "markdown",
   "id": "8bc778a5",
   "metadata": {},
   "source": [
    "## Importing The Required Libaries"
   ]
  },
  {
   "cell_type": "code",
   "execution_count": 2,
   "id": "dc1f94e4",
   "metadata": {},
   "outputs": [],
   "source": [
    "import pandas as pd\n",
    "import numpy as np\n",
    "import math \n",
    "import matplotlib.pyplot as plt\n",
    "\n",
    "# for pre-processing\n",
    "from sklearn.preprocessing import OneHotEncoder\n",
    "from pandas.plotting import scatter_matrix\n",
    "from sklearn.preprocessing import StandardScaler\n",
    "\n",
    "# for model selection and prediction\n",
    "from sklearn.model_selection import train_test_split\n",
    "from sklearn.linear_model import LinearRegression\n",
    "from sklearn import neighbors\n",
    "from sklearn.tree import DecisionTreeRegressor\n",
    "from sklearn.ensemble import RandomForestRegressor\n",
    "from sklearn.svm import SVR\n",
    "\n",
    "# evaluation\n",
    "from sklearn.model_selection import cross_val_score\n",
    "\n",
    "# hyperparameters\n",
    "from sklearn.model_selection import RandomizedSearchCV\n",
    "from sklearn.model_selection import GridSearchCV\n"
   ]
  },
  {
   "cell_type": "markdown",
   "id": "8e86d314",
   "metadata": {},
   "source": [
    "## Loading the Insurance Dataset"
   ]
  },
  {
   "cell_type": "code",
   "execution_count": 3,
   "id": "dce19c25",
   "metadata": {
    "scrolled": true
   },
   "outputs": [
    {
     "data": {
      "text/html": [
       "<div>\n",
       "<style scoped>\n",
       "    .dataframe tbody tr th:only-of-type {\n",
       "        vertical-align: middle;\n",
       "    }\n",
       "\n",
       "    .dataframe tbody tr th {\n",
       "        vertical-align: top;\n",
       "    }\n",
       "\n",
       "    .dataframe thead th {\n",
       "        text-align: right;\n",
       "    }\n",
       "</style>\n",
       "<table border=\"1\" class=\"dataframe\">\n",
       "  <thead>\n",
       "    <tr style=\"text-align: right;\">\n",
       "      <th></th>\n",
       "      <th>age</th>\n",
       "      <th>sex</th>\n",
       "      <th>bmi</th>\n",
       "      <th>children</th>\n",
       "      <th>smoker</th>\n",
       "      <th>region</th>\n",
       "      <th>charges</th>\n",
       "    </tr>\n",
       "  </thead>\n",
       "  <tbody>\n",
       "    <tr>\n",
       "      <th>0</th>\n",
       "      <td>19</td>\n",
       "      <td>female</td>\n",
       "      <td>27.900</td>\n",
       "      <td>0</td>\n",
       "      <td>yes</td>\n",
       "      <td>southwest</td>\n",
       "      <td>16884.92400</td>\n",
       "    </tr>\n",
       "    <tr>\n",
       "      <th>1</th>\n",
       "      <td>18</td>\n",
       "      <td>male</td>\n",
       "      <td>33.770</td>\n",
       "      <td>1</td>\n",
       "      <td>no</td>\n",
       "      <td>southeast</td>\n",
       "      <td>1725.55230</td>\n",
       "    </tr>\n",
       "    <tr>\n",
       "      <th>2</th>\n",
       "      <td>28</td>\n",
       "      <td>male</td>\n",
       "      <td>33.000</td>\n",
       "      <td>3</td>\n",
       "      <td>no</td>\n",
       "      <td>southeast</td>\n",
       "      <td>4449.46200</td>\n",
       "    </tr>\n",
       "    <tr>\n",
       "      <th>3</th>\n",
       "      <td>33</td>\n",
       "      <td>male</td>\n",
       "      <td>22.705</td>\n",
       "      <td>0</td>\n",
       "      <td>no</td>\n",
       "      <td>northwest</td>\n",
       "      <td>21984.47061</td>\n",
       "    </tr>\n",
       "    <tr>\n",
       "      <th>4</th>\n",
       "      <td>32</td>\n",
       "      <td>male</td>\n",
       "      <td>28.880</td>\n",
       "      <td>0</td>\n",
       "      <td>no</td>\n",
       "      <td>northwest</td>\n",
       "      <td>3866.85520</td>\n",
       "    </tr>\n",
       "  </tbody>\n",
       "</table>\n",
       "</div>"
      ],
      "text/plain": [
       "   age     sex     bmi  children smoker     region      charges\n",
       "0   19  female  27.900         0    yes  southwest  16884.92400\n",
       "1   18    male  33.770         1     no  southeast   1725.55230\n",
       "2   28    male  33.000         3     no  southeast   4449.46200\n",
       "3   33    male  22.705         0     no  northwest  21984.47061\n",
       "4   32    male  28.880         0     no  northwest   3866.85520"
      ]
     },
     "execution_count": 3,
     "metadata": {},
     "output_type": "execute_result"
    }
   ],
   "source": [
    "import pandas as pd\n",
    "#reading the insurance dataset\n",
    "insurance_data = pd.read_csv(\"insurance.csv\") \n",
    "insurance_data.head()"
   ]
  },
  {
   "cell_type": "markdown",
   "id": "b5196c06",
   "metadata": {},
   "source": [
    "# Exploratory Data Analysis"
   ]
  },
  {
   "cell_type": "markdown",
   "id": "9b9f202c",
   "metadata": {},
   "source": [
    "## Checking for Missing and Null values"
   ]
  },
  {
   "cell_type": "code",
   "execution_count": 4,
   "id": "30894f09",
   "metadata": {},
   "outputs": [
    {
     "name": "stdout",
     "output_type": "stream",
     "text": [
      "<class 'pandas.core.frame.DataFrame'>\n",
      "RangeIndex: 1338 entries, 0 to 1337\n",
      "Data columns (total 7 columns):\n",
      " #   Column    Non-Null Count  Dtype  \n",
      "---  ------    --------------  -----  \n",
      " 0   age       1338 non-null   int64  \n",
      " 1   sex       1338 non-null   object \n",
      " 2   bmi       1338 non-null   float64\n",
      " 3   children  1338 non-null   int64  \n",
      " 4   smoker    1338 non-null   object \n",
      " 5   region    1338 non-null   object \n",
      " 6   charges   1338 non-null   float64\n",
      "dtypes: float64(2), int64(2), object(3)\n",
      "memory usage: 73.3+ KB\n"
     ]
    }
   ],
   "source": [
    "insurance_data.info()"
   ]
  },
  {
   "cell_type": "code",
   "execution_count": 5,
   "id": "1011fb44",
   "metadata": {
    "scrolled": true
   },
   "outputs": [
    {
     "data": {
      "text/html": [
       "<div>\n",
       "<style scoped>\n",
       "    .dataframe tbody tr th:only-of-type {\n",
       "        vertical-align: middle;\n",
       "    }\n",
       "\n",
       "    .dataframe tbody tr th {\n",
       "        vertical-align: top;\n",
       "    }\n",
       "\n",
       "    .dataframe thead th {\n",
       "        text-align: right;\n",
       "    }\n",
       "</style>\n",
       "<table border=\"1\" class=\"dataframe\">\n",
       "  <thead>\n",
       "    <tr style=\"text-align: right;\">\n",
       "      <th></th>\n",
       "      <th>age</th>\n",
       "      <th>bmi</th>\n",
       "      <th>children</th>\n",
       "      <th>charges</th>\n",
       "    </tr>\n",
       "  </thead>\n",
       "  <tbody>\n",
       "    <tr>\n",
       "      <th>count</th>\n",
       "      <td>1338.000000</td>\n",
       "      <td>1338.000000</td>\n",
       "      <td>1338.000000</td>\n",
       "      <td>1338.000000</td>\n",
       "    </tr>\n",
       "    <tr>\n",
       "      <th>mean</th>\n",
       "      <td>39.207025</td>\n",
       "      <td>30.663397</td>\n",
       "      <td>1.094918</td>\n",
       "      <td>13270.422265</td>\n",
       "    </tr>\n",
       "    <tr>\n",
       "      <th>std</th>\n",
       "      <td>14.049960</td>\n",
       "      <td>6.098187</td>\n",
       "      <td>1.205493</td>\n",
       "      <td>12110.011237</td>\n",
       "    </tr>\n",
       "    <tr>\n",
       "      <th>min</th>\n",
       "      <td>18.000000</td>\n",
       "      <td>15.960000</td>\n",
       "      <td>0.000000</td>\n",
       "      <td>1121.873900</td>\n",
       "    </tr>\n",
       "    <tr>\n",
       "      <th>25%</th>\n",
       "      <td>27.000000</td>\n",
       "      <td>26.296250</td>\n",
       "      <td>0.000000</td>\n",
       "      <td>4740.287150</td>\n",
       "    </tr>\n",
       "    <tr>\n",
       "      <th>50%</th>\n",
       "      <td>39.000000</td>\n",
       "      <td>30.400000</td>\n",
       "      <td>1.000000</td>\n",
       "      <td>9382.033000</td>\n",
       "    </tr>\n",
       "    <tr>\n",
       "      <th>75%</th>\n",
       "      <td>51.000000</td>\n",
       "      <td>34.693750</td>\n",
       "      <td>2.000000</td>\n",
       "      <td>16639.912515</td>\n",
       "    </tr>\n",
       "    <tr>\n",
       "      <th>max</th>\n",
       "      <td>64.000000</td>\n",
       "      <td>53.130000</td>\n",
       "      <td>5.000000</td>\n",
       "      <td>63770.428010</td>\n",
       "    </tr>\n",
       "  </tbody>\n",
       "</table>\n",
       "</div>"
      ],
      "text/plain": [
       "               age          bmi     children       charges\n",
       "count  1338.000000  1338.000000  1338.000000   1338.000000\n",
       "mean     39.207025    30.663397     1.094918  13270.422265\n",
       "std      14.049960     6.098187     1.205493  12110.011237\n",
       "min      18.000000    15.960000     0.000000   1121.873900\n",
       "25%      27.000000    26.296250     0.000000   4740.287150\n",
       "50%      39.000000    30.400000     1.000000   9382.033000\n",
       "75%      51.000000    34.693750     2.000000  16639.912515\n",
       "max      64.000000    53.130000     5.000000  63770.428010"
      ]
     },
     "execution_count": 5,
     "metadata": {},
     "output_type": "execute_result"
    }
   ],
   "source": [
    "insurance_data.describe()"
   ]
  },
  {
   "cell_type": "markdown",
   "id": "6f56f6d9",
   "metadata": {},
   "source": [
    "# Data PreProcessing"
   ]
  },
  {
   "cell_type": "markdown",
   "id": "4e4935cd",
   "metadata": {},
   "source": [
    "## One Hot Encoding "
   ]
  },
  {
   "cell_type": "code",
   "execution_count": 6,
   "id": "688e5d79",
   "metadata": {
    "scrolled": false
   },
   "outputs": [
    {
     "name": "stdout",
     "output_type": "stream",
     "text": [
      "<class 'pandas.core.frame.DataFrame'>\n",
      "RangeIndex: 1338 entries, 0 to 1337\n",
      "Data columns (total 12 columns):\n",
      " #   Column            Non-Null Count  Dtype  \n",
      "---  ------            --------------  -----  \n",
      " 0   age               1338 non-null   int64  \n",
      " 1   bmi               1338 non-null   float64\n",
      " 2   children          1338 non-null   int64  \n",
      " 3   charges           1338 non-null   float64\n",
      " 4   region_northeast  1338 non-null   uint8  \n",
      " 5   region_northwest  1338 non-null   uint8  \n",
      " 6   region_southeast  1338 non-null   uint8  \n",
      " 7   region_southwest  1338 non-null   uint8  \n",
      " 8   sex_female        1338 non-null   uint8  \n",
      " 9   sex_male          1338 non-null   uint8  \n",
      " 10  smoker_no         1338 non-null   uint8  \n",
      " 11  smoker_yes        1338 non-null   uint8  \n",
      "dtypes: float64(2), int64(2), uint8(8)\n",
      "memory usage: 52.4 KB\n"
     ]
    }
   ],
   "source": [
    "from sklearn.preprocessing import OneHotEncoder\n",
    "encoded_data = pd.get_dummies(insurance_data,columns = ['region','sex','smoker'])\n",
    "\n",
    "encoded_data.info()"
   ]
  },
  {
   "cell_type": "markdown",
   "id": "7f12addd",
   "metadata": {},
   "source": [
    "## Looking For Correlations"
   ]
  },
  {
   "cell_type": "code",
   "execution_count": 7,
   "id": "1278027e",
   "metadata": {},
   "outputs": [
    {
     "data": {
      "text/plain": [
       "charges             1.000000\n",
       "smoker_yes          0.787251\n",
       "age                 0.299008\n",
       "bmi                 0.198341\n",
       "region_southeast    0.073982\n",
       "children            0.067998\n",
       "sex_male            0.057292\n",
       "region_northeast    0.006349\n",
       "region_northwest   -0.039905\n",
       "region_southwest   -0.043210\n",
       "sex_female         -0.057292\n",
       "smoker_no          -0.787251\n",
       "Name: charges, dtype: float64"
      ]
     },
     "execution_count": 7,
     "metadata": {},
     "output_type": "execute_result"
    }
   ],
   "source": [
    "# Pearson co-relation \n",
    "# Kendall and spearman\n",
    "corr_matrix = encoded_data.corr()\n",
    "corr_matrix['charges'].sort_values(ascending = False)"
   ]
  },
  {
   "cell_type": "markdown",
   "id": "eaeb64cc",
   "metadata": {},
   "source": [
    "## Scatter Plot"
   ]
  },
  {
   "cell_type": "code",
   "execution_count": 8,
   "id": "7aea58ae",
   "metadata": {
    "scrolled": false
   },
   "outputs": [
    {
     "data": {
      "image/png": "[encoded data removed]",
      "text/plain": [
       "<Figure size 300x300 with 1 Axes>"
      ]
     },
     "metadata": {},
     "output_type": "display_data"
    },
    {
     "data": {
      "image/png": "[encoded data removed]",
      "text/plain": [
       "<Figure size 300x300 with 1 Axes>"
      ]
     },
     "metadata": {},
     "output_type": "display_data"
    },
    {
     "data": {
      "image/png": "[encoded data removed]",
      "text/plain": [
       "<Figure size 300x300 with 1 Axes>"
      ]
     },
     "metadata": {},
     "output_type": "display_data"
    },
    {
     "data": {
      "image/png": "[encoded data removed]",
      "text/plain": [
       "<Figure size 300x300 with 1 Axes>"
      ]
     },
     "metadata": {},
     "output_type": "display_data"
    }
   ],
   "source": [
    "import matplotlib.pyplot as plt\n",
    "from pandas.plotting import scatter_matrix\n",
    "def scatter_plot(x_value,y_value):\n",
    "    encoded_data.plot(kind = \"scatter\",x = x_value, y = y_value,figsize = (3,3))\n",
    "\n",
    "scatter_plot(\"smoker_yes\",\"charges\")\n",
    "scatter_plot(\"smoker_no\",\"charges\")\n",
    "scatter_plot(\"age\",\"charges\")\n",
    "scatter_plot(\"bmi\",\"charges\")"
   ]
  },
  {
   "cell_type": "markdown",
   "id": "796e96ad",
   "metadata": {},
   "source": [
    "## Spliting Of Dataset Into Train And Test Dataset"
   ]
  },
  {
   "cell_type": "code",
   "execution_count": 9,
   "id": "b0841e59",
   "metadata": {},
   "outputs": [],
   "source": [
    "from sklearn.model_selection import train_test_split\n",
    "\n",
    "train_set, test_set = train_test_split(encoded_data,test_size = 0.2, random_state = 42)"
   ]
  },
  {
   "cell_type": "markdown",
   "id": "7f790040",
   "metadata": {},
   "source": [
    "## Function To Separate Independent and Dependent Variables"
   ]
  },
  {
   "cell_type": "code",
   "execution_count": 10,
   "id": "fdb10be2",
   "metadata": {},
   "outputs": [],
   "source": [
    "def separating_variables(dataset):\n",
    "    features = dataset.drop('charges',axis = 1)\n",
    "    label = dataset['charges'].copy()\n",
    "    return features,label"
   ]
  },
  {
   "cell_type": "markdown",
   "id": "6b2ac5ca",
   "metadata": {},
   "source": [
    "## Function To Scale the Dataset"
   ]
  },
  {
   "cell_type": "code",
   "execution_count": 11,
   "id": "e7b925e5",
   "metadata": {},
   "outputs": [],
   "source": [
    "from sklearn.preprocessing import StandardScaler\n",
    "def scale_data(dataset):\n",
    "    scaler = StandardScaler()\n",
    "    scaled_data = scaler.fit_transform(dataset)\n",
    "    return scaled_data"
   ]
  },
  {
   "cell_type": "markdown",
   "id": "33d869d4",
   "metadata": {},
   "source": [
    "## Separating Dependent And Independent Variables in the Train and Test Dataset"
   ]
  },
  {
   "cell_type": "code",
   "execution_count": 12,
   "id": "d27432a2",
   "metadata": {},
   "outputs": [],
   "source": [
    "train_features, train_label = separating_variables(train_set)\n",
    "\n",
    "test_features, test_label = separating_variables(test_set)"
   ]
  },
  {
   "cell_type": "markdown",
   "id": "ba0aa1fb",
   "metadata": {},
   "source": [
    "## Scaling The Train Dataset"
   ]
  },
  {
   "cell_type": "code",
   "execution_count": 13,
   "id": "ebb4c029",
   "metadata": {
    "scrolled": true
   },
   "outputs": [],
   "source": [
    "scaled_train_set = scale_data(train_features)\n",
    "\n",
    "scaled_test_set = scale_data(test_features) "
   ]
  },
  {
   "cell_type": "markdown",
   "id": "c2190866",
   "metadata": {},
   "source": [
    "# Evaluation"
   ]
  },
  {
   "cell_type": "markdown",
   "id": "3515739c",
   "metadata": {},
   "source": [
    "## Funtion for Evaluation Parameters"
   ]
  },
  {
   "cell_type": "code",
   "execution_count": 14,
   "id": "6137754a",
   "metadata": {},
   "outputs": [],
   "source": [
    "import numpy as np\n",
    "from sklearn.model_selection import cross_val_score\n",
    "\n",
    "def print_output(scoring,model,parameter,fold):\n",
    "    print(\"The {} score for the {} is {} for {} fold cross validation\\n\".format(scoring,model,round(parameter,3),fold))\n",
    "\n",
    "import math \n",
    "def EvalPar(model,fold):\n",
    "    np.random.seed(42)\n",
    "    #mean sqaured error\n",
    "    mse = cross_val_score(model,scaled_test_set,test_label,cv = fold,scoring = 'neg_mean_squared_error')\n",
    "    rmse = np.array([math.sqrt(abs(i)) for i in mse])\n",
    "      \n",
    "    print_output(\"root mean squared error\",model,rmse.mean(),fold)      "
   ]
  },
  {
   "cell_type": "markdown",
   "id": "3ba10826",
   "metadata": {},
   "source": [
    "# Multiple Linear Regression"
   ]
  },
  {
   "cell_type": "markdown",
   "id": "7569aab4",
   "metadata": {},
   "source": [
    "## Applying the Multiple Linear Regression "
   ]
  },
  {
   "cell_type": "code",
   "execution_count": 15,
   "id": "3133a919",
   "metadata": {},
   "outputs": [
    {
     "data": {
      "text/html": [
       "<style>#sk-container-id-1 {color: black;background-color: white;}#sk-container-id-1 pre{padding: 0;}#sk-container-id-1 div.sk-toggleable {background-color: white;}#sk-container-id-1 label.sk-toggleable__label {cursor: pointer;display: block;width: 100%;margin-bottom: 0;padding: 0.3em;box-sizing: border-box;text-align: center;}#sk-container-id-1 label.sk-toggleable__label-arrow:before {content: \"▸\";float: left;margin-right: 0.25em;color: #696969;}#sk-container-id-1 label.sk-toggleable__label-arrow:hover:before {color: black;}#sk-container-id-1 div.sk-estimator:hover label.sk-toggleable__label-arrow:before {color: black;}#sk-container-id-1 div.sk-toggleable__content {max-height: 0;max-width: 0;overflow: hidden;text-align: left;background-color: #f0f8ff;}#sk-container-id-1 div.sk-toggleable__content pre {margin: 0.2em;color: black;border-radius: 0.25em;background-color: #f0f8ff;}#sk-container-id-1 input.sk-toggleable__control:checked~div.sk-toggleable__content {max-height: 200px;max-width: 100%;overflow: auto;}#sk-container-id-1 input.sk-toggleable__control:checked~label.sk-toggleable__label-arrow:before {content: \"▾\";}#sk-container-id-1 div.sk-estimator input.sk-toggleable__control:checked~label.sk-toggleable__label {background-color: #d4ebff;}#sk-container-id-1 div.sk-label input.sk-toggleable__control:checked~label.sk-toggleable__label {background-color: #d4ebff;}#sk-container-id-1 input.sk-hidden--visually {border: 0;clip: rect(1px 1px 1px 1px);clip: rect(1px, 1px, 1px, 1px);height: 1px;margin: -1px;overflow: hidden;padding: 0;position: absolute;width: 1px;}#sk-container-id-1 div.sk-estimator {font-family: monospace;background-color: #f0f8ff;border: 1px dotted black;border-radius: 0.25em;box-sizing: border-box;margin-bottom: 0.5em;}#sk-container-id-1 div.sk-estimator:hover {background-color: #d4ebff;}#sk-container-id-1 div.sk-parallel-item::after {content: \"\";width: 100%;border-bottom: 1px solid gray;flex-grow: 1;}#sk-container-id-1 div.sk-label:hover label.sk-toggleable__label {background-color: #d4ebff;}#sk-container-id-1 div.sk-serial::before {content: \"\";position: absolute;border-left: 1px solid gray;box-sizing: border-box;top: 0;bottom: 0;left: 50%;z-index: 0;}#sk-container-id-1 div.sk-serial {display: flex;flex-direction: column;align-items: center;background-color: white;padding-right: 0.2em;padding-left: 0.2em;position: relative;}#sk-container-id-1 div.sk-item {position: relative;z-index: 1;}#sk-container-id-1 div.sk-parallel {display: flex;align-items: stretch;justify-content: center;background-color: white;position: relative;}#sk-container-id-1 div.sk-item::before, #sk-container-id-1 div.sk-parallel-item::before {content: \"\";position: absolute;border-left: 1px solid gray;box-sizing: border-box;top: 0;bottom: 0;left: 50%;z-index: -1;}#sk-container-id-1 div.sk-parallel-item {display: flex;flex-direction: column;z-index: 1;position: relative;background-color: white;}#sk-container-id-1 div.sk-parallel-item:first-child::after {align-self: flex-end;width: 50%;}#sk-container-id-1 div.sk-parallel-item:last-child::after {align-self: flex-start;width: 50%;}#sk-container-id-1 div.sk-parallel-item:only-child::after {width: 0;}#sk-container-id-1 div.sk-dashed-wrapped {border: 1px dashed gray;margin: 0 0.4em 0.5em 0.4em;box-sizing: border-box;padding-bottom: 0.4em;background-color: white;}#sk-container-id-1 div.sk-label label {font-family: monospace;font-weight: bold;display: inline-block;line-height: 1.2em;}#sk-container-id-1 div.sk-label-container {text-align: center;}#sk-container-id-1 div.sk-container {/* jupyter's `normalize.less` sets `[hidden] { display: none; }` but bootstrap.min.css set `[hidden] { display: none !important; }` so we also need the `!important` here to be able to override the default hidden behavior on the sphinx rendered scikit-learn.org. See: https://github.com/scikit-learn/scikit-learn/issues/21755 */display: inline-block !important;position: relative;}#sk-container-id-1 div.sk-text-repr-fallback {display: none;}</style><div id=\"sk-container-id-1\" class=\"sk-top-container\"><div class=\"sk-text-repr-fallback\"><pre>LinearRegression()</pre><b>In a Jupyter environment, please rerun this cell to show the HTML representation or trust the notebook. <br />On GitHub, the HTML representation is unable to render, please try loading this page with nbviewer.org.</b></div><div class=\"sk-container\" hidden><div class=\"sk-item\"><div class=\"sk-estimator sk-toggleable\"><input class=\"sk-toggleable__control sk-hidden--visually\" id=\"sk-estimator-id-1\" type=\"checkbox\" checked><label for=\"sk-estimator-id-1\" class=\"sk-toggleable__label sk-toggleable__label-arrow\">LinearRegression</label><div class=\"sk-toggleable__content\"><pre>LinearRegression()</pre></div></div></div></div></div>"
      ],
      "text/plain": [
       "LinearRegression()"
      ]
     },
     "execution_count": 15,
     "metadata": {},
     "output_type": "execute_result"
    }
   ],
   "source": [
    "from sklearn.linear_model import LinearRegression\n",
    "\n",
    "LinearReg = LinearRegression()\n",
    "\n",
    "LinearReg.fit(scaled_train_set, train_label)"
   ]
  },
  {
   "cell_type": "markdown",
   "id": "e9df9994",
   "metadata": {},
   "source": [
    "## Predicting the Charges"
   ]
  },
  {
   "cell_type": "code",
   "execution_count": 16,
   "id": "d91e402e",
   "metadata": {},
   "outputs": [],
   "source": [
    "Linearpred = LinearReg.predict(scaled_test_set)"
   ]
  },
  {
   "cell_type": "markdown",
   "id": "ba232a73",
   "metadata": {},
   "source": [
    "## Evaluating for Multiple Linear Regression"
   ]
  },
  {
   "cell_type": "code",
   "execution_count": 17,
   "id": "7694f794",
   "metadata": {},
   "outputs": [
    {
     "name": "stdout",
     "output_type": "stream",
     "text": [
      "The root mean squared error score for the LinearRegression() is 5989.549 for 5 fold cross validation\n",
      "\n"
     ]
    }
   ],
   "source": [
    "EvalPar(LinearReg,5)"
   ]
  },
  {
   "cell_type": "code",
   "execution_count": 18,
   "id": "15862a30",
   "metadata": {},
   "outputs": [
    {
     "name": "stdout",
     "output_type": "stream",
     "text": [
      "The root mean squared error score for the LinearRegression() is 5956.769 for 10 fold cross validation\n",
      "\n"
     ]
    }
   ],
   "source": [
    "EvalPar(LinearReg,10)"
   ]
  },
  {
   "cell_type": "markdown",
   "id": "1630c6cc",
   "metadata": {},
   "source": [
    "# KNN Regression"
   ]
  },
  {
   "cell_type": "markdown",
   "id": "f2791140",
   "metadata": {},
   "source": [
    "## Applying KNN Regression"
   ]
  },
  {
   "cell_type": "code",
   "execution_count": 19,
   "id": "15b3a556",
   "metadata": {},
   "outputs": [
    {
     "data": {
      "text/html": [
       "<style>#sk-container-id-2 {color: black;background-color: white;}#sk-container-id-2 pre{padding: 0;}#sk-container-id-2 div.sk-toggleable {background-color: white;}#sk-container-id-2 label.sk-toggleable__label {cursor: pointer;display: block;width: 100%;margin-bottom: 0;padding: 0.3em;box-sizing: border-box;text-align: center;}#sk-container-id-2 label.sk-toggleable__label-arrow:before {content: \"▸\";float: left;margin-right: 0.25em;color: #696969;}#sk-container-id-2 label.sk-toggleable__label-arrow:hover:before {color: black;}#sk-container-id-2 div.sk-estimator:hover label.sk-toggleable__label-arrow:before {color: black;}#sk-container-id-2 div.sk-toggleable__content {max-height: 0;max-width: 0;overflow: hidden;text-align: left;background-color: #f0f8ff;}#sk-container-id-2 div.sk-toggleable__content pre {margin: 0.2em;color: black;border-radius: 0.25em;background-color: #f0f8ff;}#sk-container-id-2 input.sk-toggleable__control:checked~div.sk-toggleable__content {max-height: 200px;max-width: 100%;overflow: auto;}#sk-container-id-2 input.sk-toggleable__control:checked~label.sk-toggleable__label-arrow:before {content: \"▾\";}#sk-container-id-2 div.sk-estimator input.sk-toggleable__control:checked~label.sk-toggleable__label {background-color: #d4ebff;}#sk-container-id-2 div.sk-label input.sk-toggleable__control:checked~label.sk-toggleable__label {background-color: #d4ebff;}#sk-container-id-2 input.sk-hidden--visually {border: 0;clip: rect(1px 1px 1px 1px);clip: rect(1px, 1px, 1px, 1px);height: 1px;margin: -1px;overflow: hidden;padding: 0;position: absolute;width: 1px;}#sk-container-id-2 div.sk-estimator {font-family: monospace;background-color: #f0f8ff;border: 1px dotted black;border-radius: 0.25em;box-sizing: border-box;margin-bottom: 0.5em;}#sk-container-id-2 div.sk-estimator:hover {background-color: #d4ebff;}#sk-container-id-2 div.sk-parallel-item::after {content: \"\";width: 100%;border-bottom: 1px solid gray;flex-grow: 1;}#sk-container-id-2 div.sk-label:hover label.sk-toggleable__label {background-color: #d4ebff;}#sk-container-id-2 div.sk-serial::before {content: \"\";position: absolute;border-left: 1px solid gray;box-sizing: border-box;top: 0;bottom: 0;left: 50%;z-index: 0;}#sk-container-id-2 div.sk-serial {display: flex;flex-direction: column;align-items: center;background-color: white;padding-right: 0.2em;padding-left: 0.2em;position: relative;}#sk-container-id-2 div.sk-item {position: relative;z-index: 1;}#sk-container-id-2 div.sk-parallel {display: flex;align-items: stretch;justify-content: center;background-color: white;position: relative;}#sk-container-id-2 div.sk-item::before, #sk-container-id-2 div.sk-parallel-item::before {content: \"\";position: absolute;border-left: 1px solid gray;box-sizing: border-box;top: 0;bottom: 0;left: 50%;z-index: -1;}#sk-container-id-2 div.sk-parallel-item {display: flex;flex-direction: column;z-index: 1;position: relative;background-color: white;}#sk-container-id-2 div.sk-parallel-item:first-child::after {align-self: flex-end;width: 50%;}#sk-container-id-2 div.sk-parallel-item:last-child::after {align-self: flex-start;width: 50%;}#sk-container-id-2 div.sk-parallel-item:only-child::after {width: 0;}#sk-container-id-2 div.sk-dashed-wrapped {border: 1px dashed gray;margin: 0 0.4em 0.5em 0.4em;box-sizing: border-box;padding-bottom: 0.4em;background-color: white;}#sk-container-id-2 div.sk-label label {font-family: monospace;font-weight: bold;display: inline-block;line-height: 1.2em;}#sk-container-id-2 div.sk-label-container {text-align: center;}#sk-container-id-2 div.sk-container {/* jupyter's `normalize.less` sets `[hidden] { display: none; }` but bootstrap.min.css set `[hidden] { display: none !important; }` so we also need the `!important` here to be able to override the default hidden behavior on the sphinx rendered scikit-learn.org. See: https://github.com/scikit-learn/scikit-learn/issues/21755 */display: inline-block !important;position: relative;}#sk-container-id-2 div.sk-text-repr-fallback {display: none;}</style><div id=\"sk-container-id-2\" class=\"sk-top-container\"><div class=\"sk-text-repr-fallback\"><pre>KNeighborsRegressor()</pre><b>In a Jupyter environment, please rerun this cell to show the HTML representation or trust the notebook. <br />On GitHub, the HTML representation is unable to render, please try loading this page with nbviewer.org.</b></div><div class=\"sk-container\" hidden><div class=\"sk-item\"><div class=\"sk-estimator sk-toggleable\"><input class=\"sk-toggleable__control sk-hidden--visually\" id=\"sk-estimator-id-2\" type=\"checkbox\" checked><label for=\"sk-estimator-id-2\" class=\"sk-toggleable__label sk-toggleable__label-arrow\">KNeighborsRegressor</label><div class=\"sk-toggleable__content\"><pre>KNeighborsRegressor()</pre></div></div></div></div></div>"
      ],
      "text/plain": [
       "KNeighborsRegressor()"
      ]
     },
     "execution_count": 19,
     "metadata": {},
     "output_type": "execute_result"
    }
   ],
   "source": [
    "from sklearn import neighbors\n",
    "KNNReg = neighbors.KNeighborsRegressor(n_neighbors = 5)\n",
    "KNNReg.fit(scaled_train_set, train_label)"
   ]
  },
  {
   "cell_type": "markdown",
   "id": "714c23dc",
   "metadata": {},
   "source": [
    "## Predicting the charges"
   ]
  },
  {
   "cell_type": "code",
   "execution_count": 20,
   "id": "a6f2a3ee",
   "metadata": {},
   "outputs": [],
   "source": [
    "KNNReg.predict(scaled_test_set);"
   ]
  },
  {
   "cell_type": "markdown",
   "id": "3c5e26c9",
   "metadata": {},
   "source": [
    "## Evaluating for KNN Regression"
   ]
  },
  {
   "cell_type": "code",
   "execution_count": 21,
   "id": "f488886e",
   "metadata": {},
   "outputs": [
    {
     "name": "stdout",
     "output_type": "stream",
     "text": [
      "The root mean squared error score for the KNeighborsRegressor() is 6269.507 for 5 fold cross validation\n",
      "\n"
     ]
    }
   ],
   "source": [
    "EvalPar(KNNReg,5)"
   ]
  },
  {
   "cell_type": "code",
   "execution_count": 22,
   "id": "01c1b46c",
   "metadata": {},
   "outputs": [
    {
     "name": "stdout",
     "output_type": "stream",
     "text": [
      "The root mean squared error score for the KNeighborsRegressor() is 6104.724 for 10 fold cross validation\n",
      "\n"
     ]
    }
   ],
   "source": [
    "EvalPar(KNNReg,10)"
   ]
  },
  {
   "cell_type": "markdown",
   "id": "85a773b1",
   "metadata": {},
   "source": [
    "# Decision Tree Regression"
   ]
  },
  {
   "cell_type": "markdown",
   "id": "6ab2fa45",
   "metadata": {},
   "source": [
    "## Applying Decision Tree regression"
   ]
  },
  {
   "cell_type": "code",
   "execution_count": 24,
   "id": "3dbadd01",
   "metadata": {},
   "outputs": [
    {
     "data": {
      "text/html": [
       "<style>#sk-container-id-3 {color: black;background-color: white;}#sk-container-id-3 pre{padding: 0;}#sk-container-id-3 div.sk-toggleable {background-color: white;}#sk-container-id-3 label.sk-toggleable__label {cursor: pointer;display: block;width: 100%;margin-bottom: 0;padding: 0.3em;box-sizing: border-box;text-align: center;}#sk-container-id-3 label.sk-toggleable__label-arrow:before {content: \"▸\";float: left;margin-right: 0.25em;color: #696969;}#sk-container-id-3 label.sk-toggleable__label-arrow:hover:before {color: black;}#sk-container-id-3 div.sk-estimator:hover label.sk-toggleable__label-arrow:before {color: black;}#sk-container-id-3 div.sk-toggleable__content {max-height: 0;max-width: 0;overflow: hidden;text-align: left;background-color: #f0f8ff;}#sk-container-id-3 div.sk-toggleable__content pre {margin: 0.2em;color: black;border-radius: 0.25em;background-color: #f0f8ff;}#sk-container-id-3 input.sk-toggleable__control:checked~div.sk-toggleable__content {max-height: 200px;max-width: 100%;overflow: auto;}#sk-container-id-3 input.sk-toggleable__control:checked~label.sk-toggleable__label-arrow:before {content: \"▾\";}#sk-container-id-3 div.sk-estimator input.sk-toggleable__control:checked~label.sk-toggleable__label {background-color: #d4ebff;}#sk-container-id-3 div.sk-label input.sk-toggleable__control:checked~label.sk-toggleable__label {background-color: #d4ebff;}#sk-container-id-3 input.sk-hidden--visually {border: 0;clip: rect(1px 1px 1px 1px);clip: rect(1px, 1px, 1px, 1px);height: 1px;margin: -1px;overflow: hidden;padding: 0;position: absolute;width: 1px;}#sk-container-id-3 div.sk-estimator {font-family: monospace;background-color: #f0f8ff;border: 1px dotted black;border-radius: 0.25em;box-sizing: border-box;margin-bottom: 0.5em;}#sk-container-id-3 div.sk-estimator:hover {background-color: #d4ebff;}#sk-container-id-3 div.sk-parallel-item::after {content: \"\";width: 100%;border-bottom: 1px solid gray;flex-grow: 1;}#sk-container-id-3 div.sk-label:hover label.sk-toggleable__label {background-color: #d4ebff;}#sk-container-id-3 div.sk-serial::before {content: \"\";position: absolute;border-left: 1px solid gray;box-sizing: border-box;top: 0;bottom: 0;left: 50%;z-index: 0;}#sk-container-id-3 div.sk-serial {display: flex;flex-direction: column;align-items: center;background-color: white;padding-right: 0.2em;padding-left: 0.2em;position: relative;}#sk-container-id-3 div.sk-item {position: relative;z-index: 1;}#sk-container-id-3 div.sk-parallel {display: flex;align-items: stretch;justify-content: center;background-color: white;position: relative;}#sk-container-id-3 div.sk-item::before, #sk-container-id-3 div.sk-parallel-item::before {content: \"\";position: absolute;border-left: 1px solid gray;box-sizing: border-box;top: 0;bottom: 0;left: 50%;z-index: -1;}#sk-container-id-3 div.sk-parallel-item {display: flex;flex-direction: column;z-index: 1;position: relative;background-color: white;}#sk-container-id-3 div.sk-parallel-item:first-child::after {align-self: flex-end;width: 50%;}#sk-container-id-3 div.sk-parallel-item:last-child::after {align-self: flex-start;width: 50%;}#sk-container-id-3 div.sk-parallel-item:only-child::after {width: 0;}#sk-container-id-3 div.sk-dashed-wrapped {border: 1px dashed gray;margin: 0 0.4em 0.5em 0.4em;box-sizing: border-box;padding-bottom: 0.4em;background-color: white;}#sk-container-id-3 div.sk-label label {font-family: monospace;font-weight: bold;display: inline-block;line-height: 1.2em;}#sk-container-id-3 div.sk-label-container {text-align: center;}#sk-container-id-3 div.sk-container {/* jupyter's `normalize.less` sets `[hidden] { display: none; }` but bootstrap.min.css set `[hidden] { display: none !important; }` so we also need the `!important` here to be able to override the default hidden behavior on the sphinx rendered scikit-learn.org. See: https://github.com/scikit-learn/scikit-learn/issues/21755 */display: inline-block !important;position: relative;}#sk-container-id-3 div.sk-text-repr-fallback {display: none;}</style><div id=\"sk-container-id-3\" class=\"sk-top-container\"><div class=\"sk-text-repr-fallback\"><pre>DecisionTreeRegressor()</pre><b>In a Jupyter environment, please rerun this cell to show the HTML representation or trust the notebook. <br />On GitHub, the HTML representation is unable to render, please try loading this page with nbviewer.org.</b></div><div class=\"sk-container\" hidden><div class=\"sk-item\"><div class=\"sk-estimator sk-toggleable\"><input class=\"sk-toggleable__control sk-hidden--visually\" id=\"sk-estimator-id-3\" type=\"checkbox\" checked><label for=\"sk-estimator-id-3\" class=\"sk-toggleable__label sk-toggleable__label-arrow\">DecisionTreeRegressor</label><div class=\"sk-toggleable__content\"><pre>DecisionTreeRegressor()</pre></div></div></div></div></div>"
      ],
      "text/plain": [
       "DecisionTreeRegressor()"
      ]
     },
     "execution_count": 24,
     "metadata": {},
     "output_type": "execute_result"
    }
   ],
   "source": [
    "from sklearn.tree import DecisionTreeRegressor\n",
    "\n",
    "DTReg = DecisionTreeRegressor()\n",
    "DTReg.fit(scaled_train_set, train_label)"
   ]
  },
  {
   "cell_type": "markdown",
   "id": "f2ec31ec",
   "metadata": {},
   "source": [
    "## Predicting the charges"
   ]
  },
  {
   "cell_type": "code",
   "execution_count": 25,
   "id": "4b1fee23",
   "metadata": {},
   "outputs": [],
   "source": [
    "DTpred = DTReg.predict(scaled_test_set);"
   ]
  },
  {
   "cell_type": "markdown",
   "id": "41b0c589",
   "metadata": {},
   "source": [
    "## Evaluating for Decision Tree Regression"
   ]
  },
  {
   "cell_type": "code",
   "execution_count": 26,
   "id": "6acd68b8",
   "metadata": {},
   "outputs": [
    {
     "name": "stdout",
     "output_type": "stream",
     "text": [
      "The root mean squared error score for the DecisionTreeRegressor() is 6221.689 for 5 fold cross validation\n",
      "\n"
     ]
    }
   ],
   "source": [
    "EvalPar(DTReg,5)"
   ]
  },
  {
   "cell_type": "code",
   "execution_count": 27,
   "id": "b24e20ff",
   "metadata": {},
   "outputs": [
    {
     "name": "stdout",
     "output_type": "stream",
     "text": [
      "The root mean squared error score for the DecisionTreeRegressor() is 6244.383 for 10 fold cross validation\n",
      "\n"
     ]
    }
   ],
   "source": [
    "EvalPar(DTReg,10)"
   ]
  },
  {
   "cell_type": "markdown",
   "id": "bf1bfef8",
   "metadata": {},
   "source": [
    "## Hyperparameter tuning for Decision Tree Regression"
   ]
  },
  {
   "cell_type": "markdown",
   "id": "3917be65",
   "metadata": {},
   "source": [
    "### RandomSearchCV Method "
   ]
  },
  {
   "cell_type": "code",
   "execution_count": 28,
   "id": "9cf51aec",
   "metadata": {},
   "outputs": [
    {
     "data": {
      "text/plain": [
       "{'ccp_alpha': 0.0,\n",
       " 'criterion': 'squared_error',\n",
       " 'max_depth': None,\n",
       " 'max_features': None,\n",
       " 'max_leaf_nodes': None,\n",
       " 'min_impurity_decrease': 0.0,\n",
       " 'min_samples_leaf': 1,\n",
       " 'min_samples_split': 2,\n",
       " 'min_weight_fraction_leaf': 0.0,\n",
       " 'random_state': None,\n",
       " 'splitter': 'best'}"
      ]
     },
     "execution_count": 28,
     "metadata": {},
     "output_type": "execute_result"
    }
   ],
   "source": [
    "#get parameters\n",
    "DTReg.get_params()"
   ]
  },
  {
   "cell_type": "code",
   "execution_count": 29,
   "id": "7716a1ba",
   "metadata": {},
   "outputs": [
    {
     "name": "stdout",
     "output_type": "stream",
     "text": [
      "Fitting 5 folds for each of 10 candidates, totalling 50 fits\n",
      "[CV] END max_depth=3, max_features=sqrt, min_impurity_decrease=3.5, min_samples_leaf=4, min_samples_split=5; total time=   0.0s\n",
      "[CV] END max_depth=3, max_features=sqrt, min_impurity_decrease=3.5, min_samples_leaf=4, min_samples_split=5; total time=   0.0s\n",
      "[CV] END max_depth=3, max_features=sqrt, min_impurity_decrease=3.5, min_samples_leaf=4, min_samples_split=5; total time=   0.0s\n",
      "[CV] END max_depth=3, max_features=sqrt, min_impurity_decrease=3.5, min_samples_leaf=4, min_samples_split=5; total time=   0.0s\n",
      "[CV] END max_depth=3, max_features=sqrt, min_impurity_decrease=3.5, min_samples_leaf=4, min_samples_split=5; total time=   0.0s\n",
      "[CV] END max_depth=5, max_features=log2, min_impurity_decrease=3.5, min_samples_leaf=2, min_samples_split=3; total time=   0.0s\n",
      "[CV] END max_depth=5, max_features=log2, min_impurity_decrease=3.5, min_samples_leaf=2, min_samples_split=3; total time=   0.0s\n",
      "[CV] END max_depth=5, max_features=log2, min_impurity_decrease=3.5, min_samples_leaf=2, min_samples_split=3; total time=   0.0s\n",
      "[CV] END max_depth=5, max_features=log2, min_impurity_decrease=3.5, min_samples_leaf=2, min_samples_split=3; total time=   0.0s\n",
      "[CV] END max_depth=5, max_features=log2, min_impurity_decrease=3.5, min_samples_leaf=2, min_samples_split=3; total time=   0.0s\n",
      "[CV] END max_depth=None, max_features=log2, min_impurity_decrease=0.0, min_samples_leaf=1, min_samples_split=2; total time=   0.0s\n",
      "[CV] END max_depth=None, max_features=log2, min_impurity_decrease=0.0, min_samples_leaf=1, min_samples_split=2; total time=   0.0s\n",
      "[CV] END max_depth=None, max_features=log2, min_impurity_decrease=0.0, min_samples_leaf=1, min_samples_split=2; total time=   0.0s\n",
      "[CV] END max_depth=None, max_features=log2, min_impurity_decrease=0.0, min_samples_leaf=1, min_samples_split=2; total time=   0.0s\n",
      "[CV] END max_depth=None, max_features=log2, min_impurity_decrease=0.0, min_samples_leaf=1, min_samples_split=2; total time=   0.0s\n",
      "[CV] END max_depth=3, max_features=log2, min_impurity_decrease=3.5, min_samples_leaf=4, min_samples_split=2; total time=   0.0s\n",
      "[CV] END max_depth=3, max_features=log2, min_impurity_decrease=3.5, min_samples_leaf=4, min_samples_split=2; total time=   0.0s\n",
      "[CV] END max_depth=3, max_features=log2, min_impurity_decrease=3.5, min_samples_leaf=4, min_samples_split=2; total time=   0.0s\n",
      "[CV] END max_depth=3, max_features=log2, min_impurity_decrease=3.5, min_samples_leaf=4, min_samples_split=2; total time=   0.0s\n",
      "[CV] END max_depth=3, max_features=log2, min_impurity_decrease=3.5, min_samples_leaf=4, min_samples_split=2; total time=   0.0s\n",
      "[CV] END max_depth=None, max_features=log2, min_impurity_decrease=0.0, min_samples_leaf=1, min_samples_split=3; total time=   0.0s\n",
      "[CV] END max_depth=None, max_features=log2, min_impurity_decrease=0.0, min_samples_leaf=1, min_samples_split=3; total time=   0.0s\n",
      "[CV] END max_depth=None, max_features=log2, min_impurity_decrease=0.0, min_samples_leaf=1, min_samples_split=3; total time=   0.0s\n",
      "[CV] END max_depth=None, max_features=log2, min_impurity_decrease=0.0, min_samples_leaf=1, min_samples_split=3; total time=   0.0s\n",
      "[CV] END max_depth=None, max_features=log2, min_impurity_decrease=0.0, min_samples_leaf=1, min_samples_split=3; total time=   0.0s\n",
      "[CV] END max_depth=2, max_features=log2, min_impurity_decrease=2.5, min_samples_leaf=2, min_samples_split=3; total time=   0.0s\n",
      "[CV] END max_depth=2, max_features=log2, min_impurity_decrease=2.5, min_samples_leaf=2, min_samples_split=3; total time=   0.0s\n",
      "[CV] END max_depth=2, max_features=log2, min_impurity_decrease=2.5, min_samples_leaf=2, min_samples_split=3; total time=   0.0s\n",
      "[CV] END max_depth=2, max_features=log2, min_impurity_decrease=2.5, min_samples_leaf=2, min_samples_split=3; total time=   0.0s\n",
      "[CV] END max_depth=2, max_features=log2, min_impurity_decrease=2.5, min_samples_leaf=2, min_samples_split=3; total time=   0.0s\n",
      "[CV] END max_depth=2, max_features=sqrt, min_impurity_decrease=0.0, min_samples_leaf=4, min_samples_split=3; total time=   0.0s\n",
      "[CV] END max_depth=2, max_features=sqrt, min_impurity_decrease=0.0, min_samples_leaf=4, min_samples_split=3; total time=   0.0s\n",
      "[CV] END max_depth=2, max_features=sqrt, min_impurity_decrease=0.0, min_samples_leaf=4, min_samples_split=3; total time=   0.0s\n",
      "[CV] END max_depth=2, max_features=sqrt, min_impurity_decrease=0.0, min_samples_leaf=4, min_samples_split=3; total time=   0.0s\n",
      "[CV] END max_depth=2, max_features=sqrt, min_impurity_decrease=0.0, min_samples_leaf=4, min_samples_split=3; total time=   0.0s\n",
      "[CV] END max_depth=2, max_features=auto, min_impurity_decrease=3.5, min_samples_leaf=2, min_samples_split=2; total time=   0.0s\n",
      "[CV] END max_depth=2, max_features=auto, min_impurity_decrease=3.5, min_samples_leaf=2, min_samples_split=2; total time=   0.0s\n",
      "[CV] END max_depth=2, max_features=auto, min_impurity_decrease=3.5, min_samples_leaf=2, min_samples_split=2; total time=   0.0s\n",
      "[CV] END max_depth=2, max_features=auto, min_impurity_decrease=3.5, min_samples_leaf=2, min_samples_split=2; total time=   0.0s\n",
      "[CV] END max_depth=2, max_features=auto, min_impurity_decrease=3.5, min_samples_leaf=2, min_samples_split=2; total time=   0.0s\n",
      "[CV] END max_depth=3, max_features=sqrt, min_impurity_decrease=3.5, min_samples_leaf=1, min_samples_split=5; total time=   0.0s\n",
      "[CV] END max_depth=3, max_features=sqrt, min_impurity_decrease=3.5, min_samples_leaf=1, min_samples_split=5; total time=   0.0s\n",
      "[CV] END max_depth=3, max_features=sqrt, min_impurity_decrease=3.5, min_samples_leaf=1, min_samples_split=5; total time=   0.0s\n",
      "[CV] END max_depth=3, max_features=sqrt, min_impurity_decrease=3.5, min_samples_leaf=1, min_samples_split=5; total time=   0.0s\n",
      "[CV] END max_depth=3, max_features=sqrt, min_impurity_decrease=3.5, min_samples_leaf=1, min_samples_split=5; total time=   0.0s\n",
      "[CV] END max_depth=5, max_features=sqrt, min_impurity_decrease=0.0, min_samples_leaf=2, min_samples_split=3; total time=   0.0s\n",
      "[CV] END max_depth=5, max_features=sqrt, min_impurity_decrease=0.0, min_samples_leaf=2, min_samples_split=3; total time=   0.0s\n",
      "[CV] END max_depth=5, max_features=sqrt, min_impurity_decrease=0.0, min_samples_leaf=2, min_samples_split=3; total time=   0.0s\n",
      "[CV] END max_depth=5, max_features=sqrt, min_impurity_decrease=0.0, min_samples_leaf=2, min_samples_split=3; total time=   0.0s\n",
      "[CV] END max_depth=5, max_features=sqrt, min_impurity_decrease=0.0, min_samples_leaf=2, min_samples_split=3; total time=   0.0s\n"
     ]
    },
    {
     "name": "stderr",
     "output_type": "stream",
     "text": [
      "C:\\Users\\Dell\\AppData\\Roaming\\Python\\Python38\\site-packages\\sklearn\\tree\\_classes.py:306: FutureWarning: `max_features='auto'` has been deprecated in 1.1 and will be removed in 1.3. To keep the past behaviour, explicitly set `max_features=1.0'`.\n",
      "  warnings.warn(\n",
      "C:\\Users\\Dell\\AppData\\Roaming\\Python\\Python38\\site-packages\\sklearn\\tree\\_classes.py:306: FutureWarning: `max_features='auto'` has been deprecated in 1.1 and will be removed in 1.3. To keep the past behaviour, explicitly set `max_features=1.0'`.\n",
      "  warnings.warn(\n",
      "C:\\Users\\Dell\\AppData\\Roaming\\Python\\Python38\\site-packages\\sklearn\\tree\\_classes.py:306: FutureWarning: `max_features='auto'` has been deprecated in 1.1 and will be removed in 1.3. To keep the past behaviour, explicitly set `max_features=1.0'`.\n",
      "  warnings.warn(\n",
      "C:\\Users\\Dell\\AppData\\Roaming\\Python\\Python38\\site-packages\\sklearn\\tree\\_classes.py:306: FutureWarning: `max_features='auto'` has been deprecated in 1.1 and will be removed in 1.3. To keep the past behaviour, explicitly set `max_features=1.0'`.\n",
      "  warnings.warn(\n",
      "C:\\Users\\Dell\\AppData\\Roaming\\Python\\Python38\\site-packages\\sklearn\\tree\\_classes.py:306: FutureWarning: `max_features='auto'` has been deprecated in 1.1 and will be removed in 1.3. To keep the past behaviour, explicitly set `max_features=1.0'`.\n",
      "  warnings.warn(\n",
      "C:\\Users\\Dell\\AppData\\Roaming\\Python\\Python38\\site-packages\\sklearn\\tree\\_classes.py:306: FutureWarning: `max_features='auto'` has been deprecated in 1.1 and will be removed in 1.3. To keep the past behaviour, explicitly set `max_features=1.0'`.\n",
      "  warnings.warn(\n"
     ]
    },
    {
     "data": {
      "text/html": [
       "<style>#sk-container-id-4 {color: black;background-color: white;}#sk-container-id-4 pre{padding: 0;}#sk-container-id-4 div.sk-toggleable {background-color: white;}#sk-container-id-4 label.sk-toggleable__label {cursor: pointer;display: block;width: 100%;margin-bottom: 0;padding: 0.3em;box-sizing: border-box;text-align: center;}#sk-container-id-4 label.sk-toggleable__label-arrow:before {content: \"▸\";float: left;margin-right: 0.25em;color: #696969;}#sk-container-id-4 label.sk-toggleable__label-arrow:hover:before {color: black;}#sk-container-id-4 div.sk-estimator:hover label.sk-toggleable__label-arrow:before {color: black;}#sk-container-id-4 div.sk-toggleable__content {max-height: 0;max-width: 0;overflow: hidden;text-align: left;background-color: #f0f8ff;}#sk-container-id-4 div.sk-toggleable__content pre {margin: 0.2em;color: black;border-radius: 0.25em;background-color: #f0f8ff;}#sk-container-id-4 input.sk-toggleable__control:checked~div.sk-toggleable__content {max-height: 200px;max-width: 100%;overflow: auto;}#sk-container-id-4 input.sk-toggleable__control:checked~label.sk-toggleable__label-arrow:before {content: \"▾\";}#sk-container-id-4 div.sk-estimator input.sk-toggleable__control:checked~label.sk-toggleable__label {background-color: #d4ebff;}#sk-container-id-4 div.sk-label input.sk-toggleable__control:checked~label.sk-toggleable__label {background-color: #d4ebff;}#sk-container-id-4 input.sk-hidden--visually {border: 0;clip: rect(1px 1px 1px 1px);clip: rect(1px, 1px, 1px, 1px);height: 1px;margin: -1px;overflow: hidden;padding: 0;position: absolute;width: 1px;}#sk-container-id-4 div.sk-estimator {font-family: monospace;background-color: #f0f8ff;border: 1px dotted black;border-radius: 0.25em;box-sizing: border-box;margin-bottom: 0.5em;}#sk-container-id-4 div.sk-estimator:hover {background-color: #d4ebff;}#sk-container-id-4 div.sk-parallel-item::after {content: \"\";width: 100%;border-bottom: 1px solid gray;flex-grow: 1;}#sk-container-id-4 div.sk-label:hover label.sk-toggleable__label {background-color: #d4ebff;}#sk-container-id-4 div.sk-serial::before {content: \"\";position: absolute;border-left: 1px solid gray;box-sizing: border-box;top: 0;bottom: 0;left: 50%;z-index: 0;}#sk-container-id-4 div.sk-serial {display: flex;flex-direction: column;align-items: center;background-color: white;padding-right: 0.2em;padding-left: 0.2em;position: relative;}#sk-container-id-4 div.sk-item {position: relative;z-index: 1;}#sk-container-id-4 div.sk-parallel {display: flex;align-items: stretch;justify-content: center;background-color: white;position: relative;}#sk-container-id-4 div.sk-item::before, #sk-container-id-4 div.sk-parallel-item::before {content: \"\";position: absolute;border-left: 1px solid gray;box-sizing: border-box;top: 0;bottom: 0;left: 50%;z-index: -1;}#sk-container-id-4 div.sk-parallel-item {display: flex;flex-direction: column;z-index: 1;position: relative;background-color: white;}#sk-container-id-4 div.sk-parallel-item:first-child::after {align-self: flex-end;width: 50%;}#sk-container-id-4 div.sk-parallel-item:last-child::after {align-self: flex-start;width: 50%;}#sk-container-id-4 div.sk-parallel-item:only-child::after {width: 0;}#sk-container-id-4 div.sk-dashed-wrapped {border: 1px dashed gray;margin: 0 0.4em 0.5em 0.4em;box-sizing: border-box;padding-bottom: 0.4em;background-color: white;}#sk-container-id-4 div.sk-label label {font-family: monospace;font-weight: bold;display: inline-block;line-height: 1.2em;}#sk-container-id-4 div.sk-label-container {text-align: center;}#sk-container-id-4 div.sk-container {/* jupyter's `normalize.less` sets `[hidden] { display: none; }` but bootstrap.min.css set `[hidden] { display: none !important; }` so we also need the `!important` here to be able to override the default hidden behavior on the sphinx rendered scikit-learn.org. See: https://github.com/scikit-learn/scikit-learn/issues/21755 */display: inline-block !important;position: relative;}#sk-container-id-4 div.sk-text-repr-fallback {display: none;}</style><div id=\"sk-container-id-4\" class=\"sk-top-container\"><div class=\"sk-text-repr-fallback\"><pre>RandomizedSearchCV(cv=5, estimator=DecisionTreeRegressor(),\n",
       "                   param_distributions={&#x27;max_depth&#x27;: [None, 5, 3, 2],\n",
       "                                        &#x27;max_features&#x27;: [&#x27;auto&#x27;, &#x27;sqrt&#x27;,\n",
       "                                                         &#x27;log2&#x27;],\n",
       "                                        &#x27;min_impurity_decrease&#x27;: [0.0, 1.1, 2.5,\n",
       "                                                                  3.5],\n",
       "                                        &#x27;min_samples_leaf&#x27;: [1, 2, 4],\n",
       "                                        &#x27;min_samples_split&#x27;: [2, 3, 5]},\n",
       "                   verbose=2)</pre><b>In a Jupyter environment, please rerun this cell to show the HTML representation or trust the notebook. <br />On GitHub, the HTML representation is unable to render, please try loading this page with nbviewer.org.</b></div><div class=\"sk-container\" hidden><div class=\"sk-item sk-dashed-wrapped\"><div class=\"sk-label-container\"><div class=\"sk-label sk-toggleable\"><input class=\"sk-toggleable__control sk-hidden--visually\" id=\"sk-estimator-id-4\" type=\"checkbox\" ><label for=\"sk-estimator-id-4\" class=\"sk-toggleable__label sk-toggleable__label-arrow\">RandomizedSearchCV</label><div class=\"sk-toggleable__content\"><pre>RandomizedSearchCV(cv=5, estimator=DecisionTreeRegressor(),\n",
       "                   param_distributions={&#x27;max_depth&#x27;: [None, 5, 3, 2],\n",
       "                                        &#x27;max_features&#x27;: [&#x27;auto&#x27;, &#x27;sqrt&#x27;,\n",
       "                                                         &#x27;log2&#x27;],\n",
       "                                        &#x27;min_impurity_decrease&#x27;: [0.0, 1.1, 2.5,\n",
       "                                                                  3.5],\n",
       "                                        &#x27;min_samples_leaf&#x27;: [1, 2, 4],\n",
       "                                        &#x27;min_samples_split&#x27;: [2, 3, 5]},\n",
       "                   verbose=2)</pre></div></div></div><div class=\"sk-parallel\"><div class=\"sk-parallel-item\"><div class=\"sk-item\"><div class=\"sk-label-container\"><div class=\"sk-label sk-toggleable\"><input class=\"sk-toggleable__control sk-hidden--visually\" id=\"sk-estimator-id-5\" type=\"checkbox\" ><label for=\"sk-estimator-id-5\" class=\"sk-toggleable__label sk-toggleable__label-arrow\">estimator: DecisionTreeRegressor</label><div class=\"sk-toggleable__content\"><pre>DecisionTreeRegressor()</pre></div></div></div><div class=\"sk-serial\"><div class=\"sk-item\"><div class=\"sk-estimator sk-toggleable\"><input class=\"sk-toggleable__control sk-hidden--visually\" id=\"sk-estimator-id-6\" type=\"checkbox\" ><label for=\"sk-estimator-id-6\" class=\"sk-toggleable__label sk-toggleable__label-arrow\">DecisionTreeRegressor</label><div class=\"sk-toggleable__content\"><pre>DecisionTreeRegressor()</pre></div></div></div></div></div></div></div></div></div></div>"
      ],
      "text/plain": [
       "RandomizedSearchCV(cv=5, estimator=DecisionTreeRegressor(),\n",
       "                   param_distributions={'max_depth': [None, 5, 3, 2],\n",
       "                                        'max_features': ['auto', 'sqrt',\n",
       "                                                         'log2'],\n",
       "                                        'min_impurity_decrease': [0.0, 1.1, 2.5,\n",
       "                                                                  3.5],\n",
       "                                        'min_samples_leaf': [1, 2, 4],\n",
       "                                        'min_samples_split': [2, 3, 5]},\n",
       "                   verbose=2)"
      ]
     },
     "execution_count": 29,
     "metadata": {},
     "output_type": "execute_result"
    }
   ],
   "source": [
    "from sklearn.model_selection import RandomizedSearchCV\n",
    "\n",
    "DTgrid = {\"min_impurity_decrease\":[0.0,1.1,2.5,3.5],\n",
    "          \"max_depth\":[None,5,3,2],\n",
    "          \"max_features\":['auto','sqrt','log2'],\n",
    "          \"min_samples_split\":[2,3,5],\n",
    "          \"min_samples_leaf\":[1,2,4]}\n",
    "RCV_DTReg = RandomizedSearchCV(estimator = DTReg,\n",
    "                              param_distributions = DTgrid,\n",
    "                              n_iter = 10,\n",
    "                              cv = 5,\n",
    "                              verbose = 2)\n",
    "RCV_DTReg.fit(scaled_train_set,train_label)"
   ]
  },
  {
   "cell_type": "code",
   "execution_count": 30,
   "id": "d386d237",
   "metadata": {},
   "outputs": [
    {
     "data": {
      "text/plain": [
       "{'min_samples_split': 2,\n",
       " 'min_samples_leaf': 2,\n",
       " 'min_impurity_decrease': 3.5,\n",
       " 'max_features': 'auto',\n",
       " 'max_depth': 2}"
      ]
     },
     "execution_count": 30,
     "metadata": {},
     "output_type": "execute_result"
    }
   ],
   "source": [
    "RCV_DTReg.best_params_"
   ]
  },
  {
   "cell_type": "markdown",
   "id": "4094cbd4",
   "metadata": {},
   "source": [
    "### Baseline Decision Tree Regressor Model Score"
   ]
  },
  {
   "cell_type": "code",
   "execution_count": 31,
   "id": "e14bea8c",
   "metadata": {},
   "outputs": [
    {
     "data": {
      "text/plain": [
       "0.7840853610574918"
      ]
     },
     "execution_count": 31,
     "metadata": {},
     "output_type": "execute_result"
    }
   ],
   "source": [
    "DTReg.score(scaled_test_set,test_label)"
   ]
  },
  {
   "cell_type": "markdown",
   "id": "5c241a41",
   "metadata": {},
   "source": [
    "### Model Score after tuning hyperparameters with RandomSearchCV Method"
   ]
  },
  {
   "cell_type": "code",
   "execution_count": 32,
   "id": "e1428dc3",
   "metadata": {},
   "outputs": [
    {
     "data": {
      "text/plain": [
       "0.8392745587642383"
      ]
     },
     "execution_count": 32,
     "metadata": {},
     "output_type": "execute_result"
    }
   ],
   "source": [
    "RCV_DTReg.score(scaled_test_set,test_label)"
   ]
  },
  {
   "cell_type": "markdown",
   "id": "13b60dcf",
   "metadata": {},
   "source": [
    "### GridSearchCV Method"
   ]
  },
  {
   "cell_type": "code",
   "execution_count": 33,
   "id": "7e10fed6",
   "metadata": {},
   "outputs": [
    {
     "name": "stdout",
     "output_type": "stream",
     "text": [
      "Fitting 5 folds for each of 144 candidates, totalling 720 fits\n",
      "[CV] END max_depth=3, max_features=auto, min_impurity_decrease=0.0, min_samples_leaf=2, min_samples_split=2; total time=   0.0s\n",
      "[CV] END max_depth=3, max_features=auto, min_impurity_decrease=0.0, min_samples_leaf=2, min_samples_split=2; total time=   0.0s\n",
      "[CV] END max_depth=3, max_features=auto, min_impurity_decrease=0.0, min_samples_leaf=2, min_samples_split=2; total time=   0.0s\n",
      "[CV] END max_depth=3, max_features=auto, min_impurity_decrease=0.0, min_samples_leaf=2, min_samples_split=2; total time=   0.0s\n",
      "[CV] END max_depth=3, max_features=auto, min_impurity_decrease=0.0, min_samples_leaf=2, min_samples_split=2; total time=   0.0s\n",
      "[CV] END max_depth=3, max_features=auto, min_impurity_decrease=0.0, min_samples_leaf=2, min_samples_split=4; total time=   0.0s\n",
      "[CV] END max_depth=3, max_features=auto, min_impurity_decrease=0.0, min_samples_leaf=2, min_samples_split=4; total time=   0.0s\n",
      "[CV] END max_depth=3, max_features=auto, min_impurity_decrease=0.0, min_samples_leaf=2, min_samples_split=4; total time=   0.0s\n",
      "[CV] END max_depth=3, max_features=auto, min_impurity_decrease=0.0, min_samples_leaf=2, min_samples_split=4; total time=   0.0s\n",
      "[CV] END max_depth=3, max_features=auto, min_impurity_decrease=0.0, min_samples_leaf=2, min_samples_split=4; total time=   0.0s\n",
      "[CV] END max_depth=3, max_features=auto, min_impurity_decrease=0.0, min_samples_leaf=2, min_samples_split=5; total time=   0.0s\n",
      "[CV] END max_depth=3, max_features=auto, min_impurity_decrease=0.0, min_samples_leaf=2, min_samples_split=5; total time=   0.0s\n",
      "[CV] END max_depth=3, max_features=auto, min_impurity_decrease=0.0, min_samples_leaf=2, min_samples_split=5; total time=   0.0s\n",
      "[CV] END max_depth=3, max_features=auto, min_impurity_decrease=0.0, min_samples_leaf=2, min_samples_split=5; total time=   0.0s\n",
      "[CV] END max_depth=3, max_features=auto, min_impurity_decrease=0.0, min_samples_leaf=2, min_samples_split=5; total time=   0.0s\n",
      "[CV] END max_depth=3, max_features=auto, min_impurity_decrease=0.0, min_samples_leaf=4, min_samples_split=2; total time=   0.0s\n",
      "[CV] END max_depth=3, max_features=auto, min_impurity_decrease=0.0, min_samples_leaf=4, min_samples_split=2; total time=   0.0s\n",
      "[CV] END max_depth=3, max_features=auto, min_impurity_decrease=0.0, min_samples_leaf=4, min_samples_split=2; total time=   0.0s\n",
      "[CV] END max_depth=3, max_features=auto, min_impurity_decrease=0.0, min_samples_leaf=4, min_samples_split=2; total time=   0.0s\n",
      "[CV] END max_depth=3, max_features=auto, min_impurity_decrease=0.0, min_samples_leaf=4, min_samples_split=2; total time=   0.0s\n",
      "[CV] END max_depth=3, max_features=auto, min_impurity_decrease=0.0, min_samples_leaf=4, min_samples_split=4; total time=   0.0s\n",
      "[CV] END max_depth=3, max_features=auto, min_impurity_decrease=0.0, min_samples_leaf=4, min_samples_split=4; total time=   0.0s\n",
      "[CV] END max_depth=3, max_features=auto, min_impurity_decrease=0.0, min_samples_leaf=4, min_samples_split=4; total time=   0.0s\n",
      "[CV] END max_depth=3, max_features=auto, min_impurity_decrease=0.0, min_samples_leaf=4, min_samples_split=4; total time=   0.0s\n",
      "[CV] END max_depth=3, max_features=auto, min_impurity_decrease=0.0, min_samples_leaf=4, min_samples_split=4; total time=   0.0s\n",
      "[CV] END max_depth=3, max_features=auto, min_impurity_decrease=0.0, min_samples_leaf=4, min_samples_split=5; total time=   0.0s\n",
      "[CV] END max_depth=3, max_features=auto, min_impurity_decrease=0.0, min_samples_leaf=4, min_samples_split=5; total time=   0.0s\n",
      "[CV] END max_depth=3, max_features=auto, min_impurity_decrease=0.0, min_samples_leaf=4, min_samples_split=5; total time=   0.0s\n",
      "[CV] END max_depth=3, max_features=auto, min_impurity_decrease=0.0, min_samples_leaf=4, min_samples_split=5; total time=   0.0s\n",
      "[CV] END max_depth=3, max_features=auto, min_impurity_decrease=0.0, min_samples_leaf=4, min_samples_split=5; total time=   0.0s\n",
      "[CV] END max_depth=3, max_features=auto, min_impurity_decrease=2.1, min_samples_leaf=2, min_samples_split=2; total time=   0.0s\n",
      "[CV] END max_depth=3, max_features=auto, min_impurity_decrease=2.1, min_samples_leaf=2, min_samples_split=2; total time=   0.0s\n",
      "[CV] END max_depth=3, max_features=auto, min_impurity_decrease=2.1, min_samples_leaf=2, min_samples_split=2; total time=   0.0s\n",
      "[CV] END max_depth=3, max_features=auto, min_impurity_decrease=2.1, min_samples_leaf=2, min_samples_split=2; total time=   0.0s\n",
      "[CV] END max_depth=3, max_features=auto, min_impurity_decrease=2.1, min_samples_leaf=2, min_samples_split=2; total time=   0.0s\n",
      "[CV] END max_depth=3, max_features=auto, min_impurity_decrease=2.1, min_samples_leaf=2, min_samples_split=4; total time=   0.0s\n",
      "[CV] END max_depth=3, max_features=auto, min_impurity_decrease=2.1, min_samples_leaf=2, min_samples_split=4; total time=   0.0s\n",
      "[CV] END max_depth=3, max_features=auto, min_impurity_decrease=2.1, min_samples_leaf=2, min_samples_split=4; total time=   0.0s\n",
      "[CV] END max_depth=3, max_features=auto, min_impurity_decrease=2.1, min_samples_leaf=2, min_samples_split=4; total time=   0.0s\n",
      "[CV] END max_depth=3, max_features=auto, min_impurity_decrease=2.1, min_samples_leaf=2, min_samples_split=4; total time=   0.0s\n",
      "[CV] END max_depth=3, max_features=auto, min_impurity_decrease=2.1, min_samples_leaf=2, min_samples_split=5; total time=   0.0s\n",
      "[CV] END max_depth=3, max_features=auto, min_impurity_decrease=2.1, min_samples_leaf=2, min_samples_split=5; total time=   0.0s\n",
      "[CV] END max_depth=3, max_features=auto, min_impurity_decrease=2.1, min_samples_leaf=2, min_samples_split=5; total time=   0.0s\n",
      "[CV] END max_depth=3, max_features=auto, min_impurity_decrease=2.1, min_samples_leaf=2, min_samples_split=5; total time=   0.0s\n",
      "[CV] END max_depth=3, max_features=auto, min_impurity_decrease=2.1, min_samples_leaf=2, min_samples_split=5; total time=   0.0s\n",
      "[CV] END max_depth=3, max_features=auto, min_impurity_decrease=2.1, min_samples_leaf=4, min_samples_split=2; total time=   0.0s\n",
      "[CV] END max_depth=3, max_features=auto, min_impurity_decrease=2.1, min_samples_leaf=4, min_samples_split=2; total time=   0.0s\n",
      "[CV] END max_depth=3, max_features=auto, min_impurity_decrease=2.1, min_samples_leaf=4, min_samples_split=2; total time=   0.0s\n",
      "[CV] END max_depth=3, max_features=auto, min_impurity_decrease=2.1, min_samples_leaf=4, min_samples_split=2; total time=   0.0s\n",
      "[CV] END max_depth=3, max_features=auto, min_impurity_decrease=2.1, min_samples_leaf=4, min_samples_split=2; total time=   0.0s\n",
      "[CV] END max_depth=3, max_features=auto, min_impurity_decrease=2.1, min_samples_leaf=4, min_samples_split=4; total time=   0.0s\n",
      "[CV] END max_depth=3, max_features=auto, min_impurity_decrease=2.1, min_samples_leaf=4, min_samples_split=4; total time=   0.0s\n",
      "[CV] END max_depth=3, max_features=auto, min_impurity_decrease=2.1, min_samples_leaf=4, min_samples_split=4; total time=   0.0s\n",
      "[CV] END max_depth=3, max_features=auto, min_impurity_decrease=2.1, min_samples_leaf=4, min_samples_split=4; total time=   0.0s\n",
      "[CV] END max_depth=3, max_features=auto, min_impurity_decrease=2.1, min_samples_leaf=4, min_samples_split=4; total time=   0.0s\n",
      "[CV] END max_depth=3, max_features=auto, min_impurity_decrease=2.1, min_samples_leaf=4, min_samples_split=5; total time=   0.0s\n",
      "[CV] END max_depth=3, max_features=auto, min_impurity_decrease=2.1, min_samples_leaf=4, min_samples_split=5; total time=   0.0s\n",
      "[CV] END max_depth=3, max_features=auto, min_impurity_decrease=2.1, min_samples_leaf=4, min_samples_split=5; total time=   0.0s\n",
      "[CV] END max_depth=3, max_features=auto, min_impurity_decrease=2.1, min_samples_leaf=4, min_samples_split=5; total time=   0.0s\n",
      "[CV] END max_depth=3, max_features=auto, min_impurity_decrease=2.1, min_samples_leaf=4, min_samples_split=5; total time=   0.0s\n",
      "[CV] END max_depth=3, max_features=auto, min_impurity_decrease=1.1, min_samples_leaf=2, min_samples_split=2; total time=   0.0s\n",
      "[CV] END max_depth=3, max_features=auto, min_impurity_decrease=1.1, min_samples_leaf=2, min_samples_split=2; total time=   0.0s\n"
     ]
    },
    {
     "name": "stderr",
     "output_type": "stream",
     "text": [
      "C:\\Users\\Dell\\AppData\\Roaming\\Python\\Python38\\site-packages\\sklearn\\tree\\_classes.py:306: FutureWarning: `max_features='auto'` has been deprecated in 1.1 and will be removed in 1.3. To keep the past behaviour, explicitly set `max_features=1.0'`.\n",
      "  warnings.warn(\n",
      "C:\\Users\\Dell\\AppData\\Roaming\\Python\\Python38\\site-packages\\sklearn\\tree\\_classes.py:306: FutureWarning: `max_features='auto'` has been deprecated in 1.1 and will be removed in 1.3. To keep the past behaviour, explicitly set `max_features=1.0'`.\n",
      "  warnings.warn(\n",
      "C:\\Users\\Dell\\AppData\\Roaming\\Python\\Python38\\site-packages\\sklearn\\tree\\_classes.py:306: FutureWarning: `max_features='auto'` has been deprecated in 1.1 and will be removed in 1.3. To keep the past behaviour, explicitly set `max_features=1.0'`.\n",
      "  warnings.warn(\n",
      "C:\\Users\\Dell\\AppData\\Roaming\\Python\\Python38\\site-packages\\sklearn\\tree\\_classes.py:306: FutureWarning: `max_features='auto'` has been deprecated in 1.1 and will be removed in 1.3. To keep the past behaviour, explicitly set `max_features=1.0'`.\n",
      "  warnings.warn(\n",
      "C:\\Users\\Dell\\AppData\\Roaming\\Python\\Python38\\site-packages\\sklearn\\tree\\_classes.py:306: FutureWarning: `max_features='auto'` has been deprecated in 1.1 and will be removed in 1.3. To keep the past behaviour, explicitly set `max_features=1.0'`.\n",
      "  warnings.warn(\n",
      "C:\\Users\\Dell\\AppData\\Roaming\\Python\\Python38\\site-packages\\sklearn\\tree\\_classes.py:306: FutureWarning: `max_features='auto'` has been deprecated in 1.1 and will be removed in 1.3. To keep the past behaviour, explicitly set `max_features=1.0'`.\n",
      "  warnings.warn(\n",
      "C:\\Users\\Dell\\AppData\\Roaming\\Python\\Python38\\site-packages\\sklearn\\tree\\_classes.py:306: FutureWarning: `max_features='auto'` has been deprecated in 1.1 and will be removed in 1.3. To keep the past behaviour, explicitly set `max_features=1.0'`.\n",
      "  warnings.warn(\n",
      "C:\\Users\\Dell\\AppData\\Roaming\\Python\\Python38\\site-packages\\sklearn\\tree\\_classes.py:306: FutureWarning: `max_features='auto'` has been deprecated in 1.1 and will be removed in 1.3. To keep the past behaviour, explicitly set `max_features=1.0'`.\n",
      "  warnings.warn(\n",
      "C:\\Users\\Dell\\AppData\\Roaming\\Python\\Python38\\site-packages\\sklearn\\tree\\_classes.py:306: FutureWarning: `max_features='auto'` has been deprecated in 1.1 and will be removed in 1.3. To keep the past behaviour, explicitly set `max_features=1.0'`.\n",
      "  warnings.warn(\n",
      "C:\\Users\\Dell\\AppData\\Roaming\\Python\\Python38\\site-packages\\sklearn\\tree\\_classes.py:306: FutureWarning: `max_features='auto'` has been deprecated in 1.1 and will be removed in 1.3. To keep the past behaviour, explicitly set `max_features=1.0'`.\n",
      "  warnings.warn(\n",
      "C:\\Users\\Dell\\AppData\\Roaming\\Python\\Python38\\site-packages\\sklearn\\tree\\_classes.py:306: FutureWarning: `max_features='auto'` has been deprecated in 1.1 and will be removed in 1.3. To keep the past behaviour, explicitly set `max_features=1.0'`.\n",
      "  warnings.warn(\n",
      "C:\\Users\\Dell\\AppData\\Roaming\\Python\\Python38\\site-packages\\sklearn\\tree\\_classes.py:306: FutureWarning: `max_features='auto'` has been deprecated in 1.1 and will be removed in 1.3. To keep the past behaviour, explicitly set `max_features=1.0'`.\n",
      "  warnings.warn(\n",
      "C:\\Users\\Dell\\AppData\\Roaming\\Python\\Python38\\site-packages\\sklearn\\tree\\_classes.py:306: FutureWarning: `max_features='auto'` has been deprecated in 1.1 and will be removed in 1.3. To keep the past behaviour, explicitly set `max_features=1.0'`.\n",
      "  warnings.warn(\n",
      "C:\\Users\\Dell\\AppData\\Roaming\\Python\\Python38\\site-packages\\sklearn\\tree\\_classes.py:306: FutureWarning: `max_features='auto'` has been deprecated in 1.1 and will be removed in 1.3. To keep the past behaviour, explicitly set `max_features=1.0'`.\n",
      "  warnings.warn(\n",
      "C:\\Users\\Dell\\AppData\\Roaming\\Python\\Python38\\site-packages\\sklearn\\tree\\_classes.py:306: FutureWarning: `max_features='auto'` has been deprecated in 1.1 and will be removed in 1.3. To keep the past behaviour, explicitly set `max_features=1.0'`.\n",
      "  warnings.warn(\n",
      "C:\\Users\\Dell\\AppData\\Roaming\\Python\\Python38\\site-packages\\sklearn\\tree\\_classes.py:306: FutureWarning: `max_features='auto'` has been deprecated in 1.1 and will be removed in 1.3. To keep the past behaviour, explicitly set `max_features=1.0'`.\n",
      "  warnings.warn(\n",
      "C:\\Users\\Dell\\AppData\\Roaming\\Python\\Python38\\site-packages\\sklearn\\tree\\_classes.py:306: FutureWarning: `max_features='auto'` has been deprecated in 1.1 and will be removed in 1.3. To keep the past behaviour, explicitly set `max_features=1.0'`.\n",
      "  warnings.warn(\n",
      "C:\\Users\\Dell\\AppData\\Roaming\\Python\\Python38\\site-packages\\sklearn\\tree\\_classes.py:306: FutureWarning: `max_features='auto'` has been deprecated in 1.1 and will be removed in 1.3. To keep the past behaviour, explicitly set `max_features=1.0'`.\n",
      "  warnings.warn(\n",
      "C:\\Users\\Dell\\AppData\\Roaming\\Python\\Python38\\site-packages\\sklearn\\tree\\_classes.py:306: FutureWarning: `max_features='auto'` has been deprecated in 1.1 and will be removed in 1.3. To keep the past behaviour, explicitly set `max_features=1.0'`.\n",
      "  warnings.warn(\n",
      "C:\\Users\\Dell\\AppData\\Roaming\\Python\\Python38\\site-packages\\sklearn\\tree\\_classes.py:306: FutureWarning: `max_features='auto'` has been deprecated in 1.1 and will be removed in 1.3. To keep the past behaviour, explicitly set `max_features=1.0'`.\n",
      "  warnings.warn(\n",
      "C:\\Users\\Dell\\AppData\\Roaming\\Python\\Python38\\site-packages\\sklearn\\tree\\_classes.py:306: FutureWarning: `max_features='auto'` has been deprecated in 1.1 and will be removed in 1.3. To keep the past behaviour, explicitly set `max_features=1.0'`.\n",
      "  warnings.warn(\n",
      "C:\\Users\\Dell\\AppData\\Roaming\\Python\\Python38\\site-packages\\sklearn\\tree\\_classes.py:306: FutureWarning: `max_features='auto'` has been deprecated in 1.1 and will be removed in 1.3. To keep the past behaviour, explicitly set `max_features=1.0'`.\n",
      "  warnings.warn(\n",
      "C:\\Users\\Dell\\AppData\\Roaming\\Python\\Python38\\site-packages\\sklearn\\tree\\_classes.py:306: FutureWarning: `max_features='auto'` has been deprecated in 1.1 and will be removed in 1.3. To keep the past behaviour, explicitly set `max_features=1.0'`.\n",
      "  warnings.warn(\n",
      "C:\\Users\\Dell\\AppData\\Roaming\\Python\\Python38\\site-packages\\sklearn\\tree\\_classes.py:306: FutureWarning: `max_features='auto'` has been deprecated in 1.1 and will be removed in 1.3. To keep the past behaviour, explicitly set `max_features=1.0'`.\n",
      "  warnings.warn(\n",
      "C:\\Users\\Dell\\AppData\\Roaming\\Python\\Python38\\site-packages\\sklearn\\tree\\_classes.py:306: FutureWarning: `max_features='auto'` has been deprecated in 1.1 and will be removed in 1.3. To keep the past behaviour, explicitly set `max_features=1.0'`.\n",
      "  warnings.warn(\n",
      "C:\\Users\\Dell\\AppData\\Roaming\\Python\\Python38\\site-packages\\sklearn\\tree\\_classes.py:306: FutureWarning: `max_features='auto'` has been deprecated in 1.1 and will be removed in 1.3. To keep the past behaviour, explicitly set `max_features=1.0'`.\n",
      "  warnings.warn(\n",
      "C:\\Users\\Dell\\AppData\\Roaming\\Python\\Python38\\site-packages\\sklearn\\tree\\_classes.py:306: FutureWarning: `max_features='auto'` has been deprecated in 1.1 and will be removed in 1.3. To keep the past behaviour, explicitly set `max_features=1.0'`.\n",
      "  warnings.warn(\n",
      "C:\\Users\\Dell\\AppData\\Roaming\\Python\\Python38\\site-packages\\sklearn\\tree\\_classes.py:306: FutureWarning: `max_features='auto'` has been deprecated in 1.1 and will be removed in 1.3. To keep the past behaviour, explicitly set `max_features=1.0'`.\n",
      "  warnings.warn(\n",
      "C:\\Users\\Dell\\AppData\\Roaming\\Python\\Python38\\site-packages\\sklearn\\tree\\_classes.py:306: FutureWarning: `max_features='auto'` has been deprecated in 1.1 and will be removed in 1.3. To keep the past behaviour, explicitly set `max_features=1.0'`.\n",
      "  warnings.warn(\n",
      "C:\\Users\\Dell\\AppData\\Roaming\\Python\\Python38\\site-packages\\sklearn\\tree\\_classes.py:306: FutureWarning: `max_features='auto'` has been deprecated in 1.1 and will be removed in 1.3. To keep the past behaviour, explicitly set `max_features=1.0'`.\n",
      "  warnings.warn(\n",
      "C:\\Users\\Dell\\AppData\\Roaming\\Python\\Python38\\site-packages\\sklearn\\tree\\_classes.py:306: FutureWarning: `max_features='auto'` has been deprecated in 1.1 and will be removed in 1.3. To keep the past behaviour, explicitly set `max_features=1.0'`.\n",
      "  warnings.warn(\n",
      "C:\\Users\\Dell\\AppData\\Roaming\\Python\\Python38\\site-packages\\sklearn\\tree\\_classes.py:306: FutureWarning: `max_features='auto'` has been deprecated in 1.1 and will be removed in 1.3. To keep the past behaviour, explicitly set `max_features=1.0'`.\n",
      "  warnings.warn(\n",
      "C:\\Users\\Dell\\AppData\\Roaming\\Python\\Python38\\site-packages\\sklearn\\tree\\_classes.py:306: FutureWarning: `max_features='auto'` has been deprecated in 1.1 and will be removed in 1.3. To keep the past behaviour, explicitly set `max_features=1.0'`.\n",
      "  warnings.warn(\n",
      "C:\\Users\\Dell\\AppData\\Roaming\\Python\\Python38\\site-packages\\sklearn\\tree\\_classes.py:306: FutureWarning: `max_features='auto'` has been deprecated in 1.1 and will be removed in 1.3. To keep the past behaviour, explicitly set `max_features=1.0'`.\n",
      "  warnings.warn(\n",
      "C:\\Users\\Dell\\AppData\\Roaming\\Python\\Python38\\site-packages\\sklearn\\tree\\_classes.py:306: FutureWarning: `max_features='auto'` has been deprecated in 1.1 and will be removed in 1.3. To keep the past behaviour, explicitly set `max_features=1.0'`.\n",
      "  warnings.warn(\n",
      "C:\\Users\\Dell\\AppData\\Roaming\\Python\\Python38\\site-packages\\sklearn\\tree\\_classes.py:306: FutureWarning: `max_features='auto'` has been deprecated in 1.1 and will be removed in 1.3. To keep the past behaviour, explicitly set `max_features=1.0'`.\n",
      "  warnings.warn(\n",
      "C:\\Users\\Dell\\AppData\\Roaming\\Python\\Python38\\site-packages\\sklearn\\tree\\_classes.py:306: FutureWarning: `max_features='auto'` has been deprecated in 1.1 and will be removed in 1.3. To keep the past behaviour, explicitly set `max_features=1.0'`.\n",
      "  warnings.warn(\n",
      "C:\\Users\\Dell\\AppData\\Roaming\\Python\\Python38\\site-packages\\sklearn\\tree\\_classes.py:306: FutureWarning: `max_features='auto'` has been deprecated in 1.1 and will be removed in 1.3. To keep the past behaviour, explicitly set `max_features=1.0'`.\n",
      "  warnings.warn(\n",
      "C:\\Users\\Dell\\AppData\\Roaming\\Python\\Python38\\site-packages\\sklearn\\tree\\_classes.py:306: FutureWarning: `max_features='auto'` has been deprecated in 1.1 and will be removed in 1.3. To keep the past behaviour, explicitly set `max_features=1.0'`.\n",
      "  warnings.warn(\n",
      "C:\\Users\\Dell\\AppData\\Roaming\\Python\\Python38\\site-packages\\sklearn\\tree\\_classes.py:306: FutureWarning: `max_features='auto'` has been deprecated in 1.1 and will be removed in 1.3. To keep the past behaviour, explicitly set `max_features=1.0'`.\n",
      "  warnings.warn(\n",
      "C:\\Users\\Dell\\AppData\\Roaming\\Python\\Python38\\site-packages\\sklearn\\tree\\_classes.py:306: FutureWarning: `max_features='auto'` has been deprecated in 1.1 and will be removed in 1.3. To keep the past behaviour, explicitly set `max_features=1.0'`.\n",
      "  warnings.warn(\n",
      "C:\\Users\\Dell\\AppData\\Roaming\\Python\\Python38\\site-packages\\sklearn\\tree\\_classes.py:306: FutureWarning: `max_features='auto'` has been deprecated in 1.1 and will be removed in 1.3. To keep the past behaviour, explicitly set `max_features=1.0'`.\n",
      "  warnings.warn(\n",
      "C:\\Users\\Dell\\AppData\\Roaming\\Python\\Python38\\site-packages\\sklearn\\tree\\_classes.py:306: FutureWarning: `max_features='auto'` has been deprecated in 1.1 and will be removed in 1.3. To keep the past behaviour, explicitly set `max_features=1.0'`.\n",
      "  warnings.warn(\n",
      "C:\\Users\\Dell\\AppData\\Roaming\\Python\\Python38\\site-packages\\sklearn\\tree\\_classes.py:306: FutureWarning: `max_features='auto'` has been deprecated in 1.1 and will be removed in 1.3. To keep the past behaviour, explicitly set `max_features=1.0'`.\n",
      "  warnings.warn(\n",
      "C:\\Users\\Dell\\AppData\\Roaming\\Python\\Python38\\site-packages\\sklearn\\tree\\_classes.py:306: FutureWarning: `max_features='auto'` has been deprecated in 1.1 and will be removed in 1.3. To keep the past behaviour, explicitly set `max_features=1.0'`.\n",
      "  warnings.warn(\n",
      "C:\\Users\\Dell\\AppData\\Roaming\\Python\\Python38\\site-packages\\sklearn\\tree\\_classes.py:306: FutureWarning: `max_features='auto'` has been deprecated in 1.1 and will be removed in 1.3. To keep the past behaviour, explicitly set `max_features=1.0'`.\n",
      "  warnings.warn(\n",
      "C:\\Users\\Dell\\AppData\\Roaming\\Python\\Python38\\site-packages\\sklearn\\tree\\_classes.py:306: FutureWarning: `max_features='auto'` has been deprecated in 1.1 and will be removed in 1.3. To keep the past behaviour, explicitly set `max_features=1.0'`.\n",
      "  warnings.warn(\n",
      "C:\\Users\\Dell\\AppData\\Roaming\\Python\\Python38\\site-packages\\sklearn\\tree\\_classes.py:306: FutureWarning: `max_features='auto'` has been deprecated in 1.1 and will be removed in 1.3. To keep the past behaviour, explicitly set `max_features=1.0'`.\n",
      "  warnings.warn(\n",
      "C:\\Users\\Dell\\AppData\\Roaming\\Python\\Python38\\site-packages\\sklearn\\tree\\_classes.py:306: FutureWarning: `max_features='auto'` has been deprecated in 1.1 and will be removed in 1.3. To keep the past behaviour, explicitly set `max_features=1.0'`.\n",
      "  warnings.warn(\n",
      "C:\\Users\\Dell\\AppData\\Roaming\\Python\\Python38\\site-packages\\sklearn\\tree\\_classes.py:306: FutureWarning: `max_features='auto'` has been deprecated in 1.1 and will be removed in 1.3. To keep the past behaviour, explicitly set `max_features=1.0'`.\n",
      "  warnings.warn(\n",
      "C:\\Users\\Dell\\AppData\\Roaming\\Python\\Python38\\site-packages\\sklearn\\tree\\_classes.py:306: FutureWarning: `max_features='auto'` has been deprecated in 1.1 and will be removed in 1.3. To keep the past behaviour, explicitly set `max_features=1.0'`.\n",
      "  warnings.warn(\n",
      "C:\\Users\\Dell\\AppData\\Roaming\\Python\\Python38\\site-packages\\sklearn\\tree\\_classes.py:306: FutureWarning: `max_features='auto'` has been deprecated in 1.1 and will be removed in 1.3. To keep the past behaviour, explicitly set `max_features=1.0'`.\n",
      "  warnings.warn(\n",
      "C:\\Users\\Dell\\AppData\\Roaming\\Python\\Python38\\site-packages\\sklearn\\tree\\_classes.py:306: FutureWarning: `max_features='auto'` has been deprecated in 1.1 and will be removed in 1.3. To keep the past behaviour, explicitly set `max_features=1.0'`.\n",
      "  warnings.warn(\n",
      "C:\\Users\\Dell\\AppData\\Roaming\\Python\\Python38\\site-packages\\sklearn\\tree\\_classes.py:306: FutureWarning: `max_features='auto'` has been deprecated in 1.1 and will be removed in 1.3. To keep the past behaviour, explicitly set `max_features=1.0'`.\n",
      "  warnings.warn(\n",
      "C:\\Users\\Dell\\AppData\\Roaming\\Python\\Python38\\site-packages\\sklearn\\tree\\_classes.py:306: FutureWarning: `max_features='auto'` has been deprecated in 1.1 and will be removed in 1.3. To keep the past behaviour, explicitly set `max_features=1.0'`.\n",
      "  warnings.warn(\n",
      "C:\\Users\\Dell\\AppData\\Roaming\\Python\\Python38\\site-packages\\sklearn\\tree\\_classes.py:306: FutureWarning: `max_features='auto'` has been deprecated in 1.1 and will be removed in 1.3. To keep the past behaviour, explicitly set `max_features=1.0'`.\n",
      "  warnings.warn(\n",
      "C:\\Users\\Dell\\AppData\\Roaming\\Python\\Python38\\site-packages\\sklearn\\tree\\_classes.py:306: FutureWarning: `max_features='auto'` has been deprecated in 1.1 and will be removed in 1.3. To keep the past behaviour, explicitly set `max_features=1.0'`.\n",
      "  warnings.warn(\n",
      "C:\\Users\\Dell\\AppData\\Roaming\\Python\\Python38\\site-packages\\sklearn\\tree\\_classes.py:306: FutureWarning: `max_features='auto'` has been deprecated in 1.1 and will be removed in 1.3. To keep the past behaviour, explicitly set `max_features=1.0'`.\n",
      "  warnings.warn(\n",
      "C:\\Users\\Dell\\AppData\\Roaming\\Python\\Python38\\site-packages\\sklearn\\tree\\_classes.py:306: FutureWarning: `max_features='auto'` has been deprecated in 1.1 and will be removed in 1.3. To keep the past behaviour, explicitly set `max_features=1.0'`.\n",
      "  warnings.warn(\n",
      "C:\\Users\\Dell\\AppData\\Roaming\\Python\\Python38\\site-packages\\sklearn\\tree\\_classes.py:306: FutureWarning: `max_features='auto'` has been deprecated in 1.1 and will be removed in 1.3. To keep the past behaviour, explicitly set `max_features=1.0'`.\n",
      "  warnings.warn(\n",
      "C:\\Users\\Dell\\AppData\\Roaming\\Python\\Python38\\site-packages\\sklearn\\tree\\_classes.py:306: FutureWarning: `max_features='auto'` has been deprecated in 1.1 and will be removed in 1.3. To keep the past behaviour, explicitly set `max_features=1.0'`.\n",
      "  warnings.warn(\n",
      "C:\\Users\\Dell\\AppData\\Roaming\\Python\\Python38\\site-packages\\sklearn\\tree\\_classes.py:306: FutureWarning: `max_features='auto'` has been deprecated in 1.1 and will be removed in 1.3. To keep the past behaviour, explicitly set `max_features=1.0'`.\n",
      "  warnings.warn(\n"
     ]
    },
    {
     "name": "stderr",
     "output_type": "stream",
     "text": [
      "C:\\Users\\Dell\\AppData\\Roaming\\Python\\Python38\\site-packages\\sklearn\\tree\\_classes.py:306: FutureWarning: `max_features='auto'` has been deprecated in 1.1 and will be removed in 1.3. To keep the past behaviour, explicitly set `max_features=1.0'`.\n",
      "  warnings.warn(\n",
      "C:\\Users\\Dell\\AppData\\Roaming\\Python\\Python38\\site-packages\\sklearn\\tree\\_classes.py:306: FutureWarning: `max_features='auto'` has been deprecated in 1.1 and will be removed in 1.3. To keep the past behaviour, explicitly set `max_features=1.0'`.\n",
      "  warnings.warn(\n",
      "C:\\Users\\Dell\\AppData\\Roaming\\Python\\Python38\\site-packages\\sklearn\\tree\\_classes.py:306: FutureWarning: `max_features='auto'` has been deprecated in 1.1 and will be removed in 1.3. To keep the past behaviour, explicitly set `max_features=1.0'`.\n",
      "  warnings.warn(\n",
      "C:\\Users\\Dell\\AppData\\Roaming\\Python\\Python38\\site-packages\\sklearn\\tree\\_classes.py:306: FutureWarning: `max_features='auto'` has been deprecated in 1.1 and will be removed in 1.3. To keep the past behaviour, explicitly set `max_features=1.0'`.\n",
      "  warnings.warn(\n",
      "C:\\Users\\Dell\\AppData\\Roaming\\Python\\Python38\\site-packages\\sklearn\\tree\\_classes.py:306: FutureWarning: `max_features='auto'` has been deprecated in 1.1 and will be removed in 1.3. To keep the past behaviour, explicitly set `max_features=1.0'`.\n",
      "  warnings.warn(\n",
      "C:\\Users\\Dell\\AppData\\Roaming\\Python\\Python38\\site-packages\\sklearn\\tree\\_classes.py:306: FutureWarning: `max_features='auto'` has been deprecated in 1.1 and will be removed in 1.3. To keep the past behaviour, explicitly set `max_features=1.0'`.\n",
      "  warnings.warn(\n",
      "C:\\Users\\Dell\\AppData\\Roaming\\Python\\Python38\\site-packages\\sklearn\\tree\\_classes.py:306: FutureWarning: `max_features='auto'` has been deprecated in 1.1 and will be removed in 1.3. To keep the past behaviour, explicitly set `max_features=1.0'`.\n",
      "  warnings.warn(\n",
      "C:\\Users\\Dell\\AppData\\Roaming\\Python\\Python38\\site-packages\\sklearn\\tree\\_classes.py:306: FutureWarning: `max_features='auto'` has been deprecated in 1.1 and will be removed in 1.3. To keep the past behaviour, explicitly set `max_features=1.0'`.\n",
      "  warnings.warn(\n",
      "C:\\Users\\Dell\\AppData\\Roaming\\Python\\Python38\\site-packages\\sklearn\\tree\\_classes.py:306: FutureWarning: `max_features='auto'` has been deprecated in 1.1 and will be removed in 1.3. To keep the past behaviour, explicitly set `max_features=1.0'`.\n",
      "  warnings.warn(\n",
      "C:\\Users\\Dell\\AppData\\Roaming\\Python\\Python38\\site-packages\\sklearn\\tree\\_classes.py:306: FutureWarning: `max_features='auto'` has been deprecated in 1.1 and will be removed in 1.3. To keep the past behaviour, explicitly set `max_features=1.0'`.\n",
      "  warnings.warn(\n",
      "C:\\Users\\Dell\\AppData\\Roaming\\Python\\Python38\\site-packages\\sklearn\\tree\\_classes.py:306: FutureWarning: `max_features='auto'` has been deprecated in 1.1 and will be removed in 1.3. To keep the past behaviour, explicitly set `max_features=1.0'`.\n",
      "  warnings.warn(\n",
      "C:\\Users\\Dell\\AppData\\Roaming\\Python\\Python38\\site-packages\\sklearn\\tree\\_classes.py:306: FutureWarning: `max_features='auto'` has been deprecated in 1.1 and will be removed in 1.3. To keep the past behaviour, explicitly set `max_features=1.0'`.\n",
      "  warnings.warn(\n",
      "C:\\Users\\Dell\\AppData\\Roaming\\Python\\Python38\\site-packages\\sklearn\\tree\\_classes.py:306: FutureWarning: `max_features='auto'` has been deprecated in 1.1 and will be removed in 1.3. To keep the past behaviour, explicitly set `max_features=1.0'`.\n",
      "  warnings.warn(\n",
      "C:\\Users\\Dell\\AppData\\Roaming\\Python\\Python38\\site-packages\\sklearn\\tree\\_classes.py:306: FutureWarning: `max_features='auto'` has been deprecated in 1.1 and will be removed in 1.3. To keep the past behaviour, explicitly set `max_features=1.0'`.\n",
      "  warnings.warn(\n",
      "C:\\Users\\Dell\\AppData\\Roaming\\Python\\Python38\\site-packages\\sklearn\\tree\\_classes.py:306: FutureWarning: `max_features='auto'` has been deprecated in 1.1 and will be removed in 1.3. To keep the past behaviour, explicitly set `max_features=1.0'`.\n",
      "  warnings.warn(\n",
      "C:\\Users\\Dell\\AppData\\Roaming\\Python\\Python38\\site-packages\\sklearn\\tree\\_classes.py:306: FutureWarning: `max_features='auto'` has been deprecated in 1.1 and will be removed in 1.3. To keep the past behaviour, explicitly set `max_features=1.0'`.\n",
      "  warnings.warn(\n",
      "C:\\Users\\Dell\\AppData\\Roaming\\Python\\Python38\\site-packages\\sklearn\\tree\\_classes.py:306: FutureWarning: `max_features='auto'` has been deprecated in 1.1 and will be removed in 1.3. To keep the past behaviour, explicitly set `max_features=1.0'`.\n",
      "  warnings.warn(\n",
      "C:\\Users\\Dell\\AppData\\Roaming\\Python\\Python38\\site-packages\\sklearn\\tree\\_classes.py:306: FutureWarning: `max_features='auto'` has been deprecated in 1.1 and will be removed in 1.3. To keep the past behaviour, explicitly set `max_features=1.0'`.\n",
      "  warnings.warn(\n",
      "C:\\Users\\Dell\\AppData\\Roaming\\Python\\Python38\\site-packages\\sklearn\\tree\\_classes.py:306: FutureWarning: `max_features='auto'` has been deprecated in 1.1 and will be removed in 1.3. To keep the past behaviour, explicitly set `max_features=1.0'`.\n",
      "  warnings.warn(\n",
      "C:\\Users\\Dell\\AppData\\Roaming\\Python\\Python38\\site-packages\\sklearn\\tree\\_classes.py:306: FutureWarning: `max_features='auto'` has been deprecated in 1.1 and will be removed in 1.3. To keep the past behaviour, explicitly set `max_features=1.0'`.\n",
      "  warnings.warn(\n",
      "C:\\Users\\Dell\\AppData\\Roaming\\Python\\Python38\\site-packages\\sklearn\\tree\\_classes.py:306: FutureWarning: `max_features='auto'` has been deprecated in 1.1 and will be removed in 1.3. To keep the past behaviour, explicitly set `max_features=1.0'`.\n",
      "  warnings.warn(\n",
      "C:\\Users\\Dell\\AppData\\Roaming\\Python\\Python38\\site-packages\\sklearn\\tree\\_classes.py:306: FutureWarning: `max_features='auto'` has been deprecated in 1.1 and will be removed in 1.3. To keep the past behaviour, explicitly set `max_features=1.0'`.\n",
      "  warnings.warn(\n",
      "C:\\Users\\Dell\\AppData\\Roaming\\Python\\Python38\\site-packages\\sklearn\\tree\\_classes.py:306: FutureWarning: `max_features='auto'` has been deprecated in 1.1 and will be removed in 1.3. To keep the past behaviour, explicitly set `max_features=1.0'`.\n",
      "  warnings.warn(\n",
      "C:\\Users\\Dell\\AppData\\Roaming\\Python\\Python38\\site-packages\\sklearn\\tree\\_classes.py:306: FutureWarning: `max_features='auto'` has been deprecated in 1.1 and will be removed in 1.3. To keep the past behaviour, explicitly set `max_features=1.0'`.\n",
      "  warnings.warn(\n",
      "C:\\Users\\Dell\\AppData\\Roaming\\Python\\Python38\\site-packages\\sklearn\\tree\\_classes.py:306: FutureWarning: `max_features='auto'` has been deprecated in 1.1 and will be removed in 1.3. To keep the past behaviour, explicitly set `max_features=1.0'`.\n",
      "  warnings.warn(\n",
      "C:\\Users\\Dell\\AppData\\Roaming\\Python\\Python38\\site-packages\\sklearn\\tree\\_classes.py:306: FutureWarning: `max_features='auto'` has been deprecated in 1.1 and will be removed in 1.3. To keep the past behaviour, explicitly set `max_features=1.0'`.\n",
      "  warnings.warn(\n",
      "C:\\Users\\Dell\\AppData\\Roaming\\Python\\Python38\\site-packages\\sklearn\\tree\\_classes.py:306: FutureWarning: `max_features='auto'` has been deprecated in 1.1 and will be removed in 1.3. To keep the past behaviour, explicitly set `max_features=1.0'`.\n",
      "  warnings.warn(\n",
      "C:\\Users\\Dell\\AppData\\Roaming\\Python\\Python38\\site-packages\\sklearn\\tree\\_classes.py:306: FutureWarning: `max_features='auto'` has been deprecated in 1.1 and will be removed in 1.3. To keep the past behaviour, explicitly set `max_features=1.0'`.\n",
      "  warnings.warn(\n"
     ]
    },
    {
     "name": "stdout",
     "output_type": "stream",
     "text": [
      "[CV] END max_depth=3, max_features=auto, min_impurity_decrease=1.1, min_samples_leaf=2, min_samples_split=2; total time=   0.0s\n",
      "[CV] END max_depth=3, max_features=auto, min_impurity_decrease=1.1, min_samples_leaf=2, min_samples_split=2; total time=   0.0s\n",
      "[CV] END max_depth=3, max_features=auto, min_impurity_decrease=1.1, min_samples_leaf=2, min_samples_split=2; total time=   0.0s\n",
      "[CV] END max_depth=3, max_features=auto, min_impurity_decrease=1.1, min_samples_leaf=2, min_samples_split=4; total time=   0.0s\n",
      "[CV] END max_depth=3, max_features=auto, min_impurity_decrease=1.1, min_samples_leaf=2, min_samples_split=4; total time=   0.0s\n",
      "[CV] END max_depth=3, max_features=auto, min_impurity_decrease=1.1, min_samples_leaf=2, min_samples_split=4; total time=   0.0s\n",
      "[CV] END max_depth=3, max_features=auto, min_impurity_decrease=1.1, min_samples_leaf=2, min_samples_split=4; total time=   0.0s\n",
      "[CV] END max_depth=3, max_features=auto, min_impurity_decrease=1.1, min_samples_leaf=2, min_samples_split=4; total time=   0.0s\n",
      "[CV] END max_depth=3, max_features=auto, min_impurity_decrease=1.1, min_samples_leaf=2, min_samples_split=5; total time=   0.0s\n",
      "[CV] END max_depth=3, max_features=auto, min_impurity_decrease=1.1, min_samples_leaf=2, min_samples_split=5; total time=   0.0s\n",
      "[CV] END max_depth=3, max_features=auto, min_impurity_decrease=1.1, min_samples_leaf=2, min_samples_split=5; total time=   0.0s\n",
      "[CV] END max_depth=3, max_features=auto, min_impurity_decrease=1.1, min_samples_leaf=2, min_samples_split=5; total time=   0.0s\n",
      "[CV] END max_depth=3, max_features=auto, min_impurity_decrease=1.1, min_samples_leaf=2, min_samples_split=5; total time=   0.0s\n",
      "[CV] END max_depth=3, max_features=auto, min_impurity_decrease=1.1, min_samples_leaf=4, min_samples_split=2; total time=   0.0s\n",
      "[CV] END max_depth=3, max_features=auto, min_impurity_decrease=1.1, min_samples_leaf=4, min_samples_split=2; total time=   0.0s\n",
      "[CV] END max_depth=3, max_features=auto, min_impurity_decrease=1.1, min_samples_leaf=4, min_samples_split=2; total time=   0.0s\n",
      "[CV] END max_depth=3, max_features=auto, min_impurity_decrease=1.1, min_samples_leaf=4, min_samples_split=2; total time=   0.0s\n",
      "[CV] END max_depth=3, max_features=auto, min_impurity_decrease=1.1, min_samples_leaf=4, min_samples_split=2; total time=   0.0s\n",
      "[CV] END max_depth=3, max_features=auto, min_impurity_decrease=1.1, min_samples_leaf=4, min_samples_split=4; total time=   0.0s\n",
      "[CV] END max_depth=3, max_features=auto, min_impurity_decrease=1.1, min_samples_leaf=4, min_samples_split=4; total time=   0.0s\n",
      "[CV] END max_depth=3, max_features=auto, min_impurity_decrease=1.1, min_samples_leaf=4, min_samples_split=4; total time=   0.0s\n",
      "[CV] END max_depth=3, max_features=auto, min_impurity_decrease=1.1, min_samples_leaf=4, min_samples_split=4; total time=   0.0s\n",
      "[CV] END max_depth=3, max_features=auto, min_impurity_decrease=1.1, min_samples_leaf=4, min_samples_split=4; total time=   0.0s\n",
      "[CV] END max_depth=3, max_features=auto, min_impurity_decrease=1.1, min_samples_leaf=4, min_samples_split=5; total time=   0.0s\n",
      "[CV] END max_depth=3, max_features=auto, min_impurity_decrease=1.1, min_samples_leaf=4, min_samples_split=5; total time=   0.0s\n",
      "[CV] END max_depth=3, max_features=auto, min_impurity_decrease=1.1, min_samples_leaf=4, min_samples_split=5; total time=   0.0s\n",
      "[CV] END max_depth=3, max_features=auto, min_impurity_decrease=1.1, min_samples_leaf=4, min_samples_split=5; total time=   0.0s\n",
      "[CV] END max_depth=3, max_features=auto, min_impurity_decrease=1.1, min_samples_leaf=4, min_samples_split=5; total time=   0.0s\n",
      "[CV] END max_depth=3, max_features=sqrt, min_impurity_decrease=0.0, min_samples_leaf=2, min_samples_split=2; total time=   0.0s\n",
      "[CV] END max_depth=3, max_features=sqrt, min_impurity_decrease=0.0, min_samples_leaf=2, min_samples_split=2; total time=   0.0s\n",
      "[CV] END max_depth=3, max_features=sqrt, min_impurity_decrease=0.0, min_samples_leaf=2, min_samples_split=2; total time=   0.0s\n",
      "[CV] END max_depth=3, max_features=sqrt, min_impurity_decrease=0.0, min_samples_leaf=2, min_samples_split=2; total time=   0.0s\n",
      "[CV] END max_depth=3, max_features=sqrt, min_impurity_decrease=0.0, min_samples_leaf=2, min_samples_split=2; total time=   0.0s\n",
      "[CV] END max_depth=3, max_features=sqrt, min_impurity_decrease=0.0, min_samples_leaf=2, min_samples_split=4; total time=   0.0s\n",
      "[CV] END max_depth=3, max_features=sqrt, min_impurity_decrease=0.0, min_samples_leaf=2, min_samples_split=4; total time=   0.0s\n",
      "[CV] END max_depth=3, max_features=sqrt, min_impurity_decrease=0.0, min_samples_leaf=2, min_samples_split=4; total time=   0.0s\n",
      "[CV] END max_depth=3, max_features=sqrt, min_impurity_decrease=0.0, min_samples_leaf=2, min_samples_split=4; total time=   0.0s\n",
      "[CV] END max_depth=3, max_features=sqrt, min_impurity_decrease=0.0, min_samples_leaf=2, min_samples_split=4; total time=   0.0s\n",
      "[CV] END max_depth=3, max_features=sqrt, min_impurity_decrease=0.0, min_samples_leaf=2, min_samples_split=5; total time=   0.0s\n",
      "[CV] END max_depth=3, max_features=sqrt, min_impurity_decrease=0.0, min_samples_leaf=2, min_samples_split=5; total time=   0.0s\n",
      "[CV] END max_depth=3, max_features=sqrt, min_impurity_decrease=0.0, min_samples_leaf=2, min_samples_split=5; total time=   0.0s\n",
      "[CV] END max_depth=3, max_features=sqrt, min_impurity_decrease=0.0, min_samples_leaf=2, min_samples_split=5; total time=   0.0s\n",
      "[CV] END max_depth=3, max_features=sqrt, min_impurity_decrease=0.0, min_samples_leaf=2, min_samples_split=5; total time=   0.0s\n",
      "[CV] END max_depth=3, max_features=sqrt, min_impurity_decrease=0.0, min_samples_leaf=4, min_samples_split=2; total time=   0.0s\n",
      "[CV] END max_depth=3, max_features=sqrt, min_impurity_decrease=0.0, min_samples_leaf=4, min_samples_split=2; total time=   0.0s\n",
      "[CV] END max_depth=3, max_features=sqrt, min_impurity_decrease=0.0, min_samples_leaf=4, min_samples_split=2; total time=   0.0s\n",
      "[CV] END max_depth=3, max_features=sqrt, min_impurity_decrease=0.0, min_samples_leaf=4, min_samples_split=2; total time=   0.0s\n",
      "[CV] END max_depth=3, max_features=sqrt, min_impurity_decrease=0.0, min_samples_leaf=4, min_samples_split=2; total time=   0.0s\n",
      "[CV] END max_depth=3, max_features=sqrt, min_impurity_decrease=0.0, min_samples_leaf=4, min_samples_split=4; total time=   0.0s\n",
      "[CV] END max_depth=3, max_features=sqrt, min_impurity_decrease=0.0, min_samples_leaf=4, min_samples_split=4; total time=   0.0s\n",
      "[CV] END max_depth=3, max_features=sqrt, min_impurity_decrease=0.0, min_samples_leaf=4, min_samples_split=4; total time=   0.0s\n",
      "[CV] END max_depth=3, max_features=sqrt, min_impurity_decrease=0.0, min_samples_leaf=4, min_samples_split=4; total time=   0.0s\n",
      "[CV] END max_depth=3, max_features=sqrt, min_impurity_decrease=0.0, min_samples_leaf=4, min_samples_split=4; total time=   0.0s\n",
      "[CV] END max_depth=3, max_features=sqrt, min_impurity_decrease=0.0, min_samples_leaf=4, min_samples_split=5; total time=   0.0s\n",
      "[CV] END max_depth=3, max_features=sqrt, min_impurity_decrease=0.0, min_samples_leaf=4, min_samples_split=5; total time=   0.0s\n",
      "[CV] END max_depth=3, max_features=sqrt, min_impurity_decrease=0.0, min_samples_leaf=4, min_samples_split=5; total time=   0.0s\n",
      "[CV] END max_depth=3, max_features=sqrt, min_impurity_decrease=0.0, min_samples_leaf=4, min_samples_split=5; total time=   0.0s\n",
      "[CV] END max_depth=3, max_features=sqrt, min_impurity_decrease=0.0, min_samples_leaf=4, min_samples_split=5; total time=   0.0s\n",
      "[CV] END max_depth=3, max_features=sqrt, min_impurity_decrease=2.1, min_samples_leaf=2, min_samples_split=2; total time=   0.0s\n",
      "[CV] END max_depth=3, max_features=sqrt, min_impurity_decrease=2.1, min_samples_leaf=2, min_samples_split=2; total time=   0.0s\n",
      "[CV] END max_depth=3, max_features=sqrt, min_impurity_decrease=2.1, min_samples_leaf=2, min_samples_split=2; total time=   0.0s\n",
      "[CV] END max_depth=3, max_features=sqrt, min_impurity_decrease=2.1, min_samples_leaf=2, min_samples_split=2; total time=   0.0s\n",
      "[CV] END max_depth=3, max_features=sqrt, min_impurity_decrease=2.1, min_samples_leaf=2, min_samples_split=2; total time=   0.0s\n",
      "[CV] END max_depth=3, max_features=sqrt, min_impurity_decrease=2.1, min_samples_leaf=2, min_samples_split=4; total time=   0.0s\n",
      "[CV] END max_depth=3, max_features=sqrt, min_impurity_decrease=2.1, min_samples_leaf=2, min_samples_split=4; total time=   0.0s\n",
      "[CV] END max_depth=3, max_features=sqrt, min_impurity_decrease=2.1, min_samples_leaf=2, min_samples_split=4; total time=   0.0s\n",
      "[CV] END max_depth=3, max_features=sqrt, min_impurity_decrease=2.1, min_samples_leaf=2, min_samples_split=4; total time=   0.0s\n",
      "[CV] END max_depth=3, max_features=sqrt, min_impurity_decrease=2.1, min_samples_leaf=2, min_samples_split=4; total time=   0.0s\n",
      "[CV] END max_depth=3, max_features=sqrt, min_impurity_decrease=2.1, min_samples_leaf=2, min_samples_split=5; total time=   0.0s\n",
      "[CV] END max_depth=3, max_features=sqrt, min_impurity_decrease=2.1, min_samples_leaf=2, min_samples_split=5; total time=   0.0s\n",
      "[CV] END max_depth=3, max_features=sqrt, min_impurity_decrease=2.1, min_samples_leaf=2, min_samples_split=5; total time=   0.0s\n",
      "[CV] END max_depth=3, max_features=sqrt, min_impurity_decrease=2.1, min_samples_leaf=2, min_samples_split=5; total time=   0.0s\n",
      "[CV] END max_depth=3, max_features=sqrt, min_impurity_decrease=2.1, min_samples_leaf=2, min_samples_split=5; total time=   0.0s\n",
      "[CV] END max_depth=3, max_features=sqrt, min_impurity_decrease=2.1, min_samples_leaf=4, min_samples_split=2; total time=   0.0s\n",
      "[CV] END max_depth=3, max_features=sqrt, min_impurity_decrease=2.1, min_samples_leaf=4, min_samples_split=2; total time=   0.0s\n",
      "[CV] END max_depth=3, max_features=sqrt, min_impurity_decrease=2.1, min_samples_leaf=4, min_samples_split=2; total time=   0.0s\n",
      "[CV] END max_depth=3, max_features=sqrt, min_impurity_decrease=2.1, min_samples_leaf=4, min_samples_split=2; total time=   0.0s\n",
      "[CV] END max_depth=3, max_features=sqrt, min_impurity_decrease=2.1, min_samples_leaf=4, min_samples_split=2; total time=   0.0s\n",
      "[CV] END max_depth=3, max_features=sqrt, min_impurity_decrease=2.1, min_samples_leaf=4, min_samples_split=4; total time=   0.0s\n",
      "[CV] END max_depth=3, max_features=sqrt, min_impurity_decrease=2.1, min_samples_leaf=4, min_samples_split=4; total time=   0.0s\n",
      "[CV] END max_depth=3, max_features=sqrt, min_impurity_decrease=2.1, min_samples_leaf=4, min_samples_split=4; total time=   0.0s\n",
      "[CV] END max_depth=3, max_features=sqrt, min_impurity_decrease=2.1, min_samples_leaf=4, min_samples_split=4; total time=   0.0s\n",
      "[CV] END max_depth=3, max_features=sqrt, min_impurity_decrease=2.1, min_samples_leaf=4, min_samples_split=4; total time=   0.0s\n",
      "[CV] END max_depth=3, max_features=sqrt, min_impurity_decrease=2.1, min_samples_leaf=4, min_samples_split=5; total time=   0.0s\n",
      "[CV] END max_depth=3, max_features=sqrt, min_impurity_decrease=2.1, min_samples_leaf=4, min_samples_split=5; total time=   0.0s\n",
      "[CV] END max_depth=3, max_features=sqrt, min_impurity_decrease=2.1, min_samples_leaf=4, min_samples_split=5; total time=   0.0s\n",
      "[CV] END max_depth=3, max_features=sqrt, min_impurity_decrease=2.1, min_samples_leaf=4, min_samples_split=5; total time=   0.0s\n",
      "[CV] END max_depth=3, max_features=sqrt, min_impurity_decrease=2.1, min_samples_leaf=4, min_samples_split=5; total time=   0.0s\n",
      "[CV] END max_depth=3, max_features=sqrt, min_impurity_decrease=1.1, min_samples_leaf=2, min_samples_split=2; total time=   0.0s\n",
      "[CV] END max_depth=3, max_features=sqrt, min_impurity_decrease=1.1, min_samples_leaf=2, min_samples_split=2; total time=   0.0s\n",
      "[CV] END max_depth=3, max_features=sqrt, min_impurity_decrease=1.1, min_samples_leaf=2, min_samples_split=2; total time=   0.0s\n",
      "[CV] END max_depth=3, max_features=sqrt, min_impurity_decrease=1.1, min_samples_leaf=2, min_samples_split=2; total time=   0.0s\n",
      "[CV] END max_depth=3, max_features=sqrt, min_impurity_decrease=1.1, min_samples_leaf=2, min_samples_split=2; total time=   0.0s\n",
      "[CV] END max_depth=3, max_features=sqrt, min_impurity_decrease=1.1, min_samples_leaf=2, min_samples_split=4; total time=   0.0s\n",
      "[CV] END max_depth=3, max_features=sqrt, min_impurity_decrease=1.1, min_samples_leaf=2, min_samples_split=4; total time=   0.0s\n",
      "[CV] END max_depth=3, max_features=sqrt, min_impurity_decrease=1.1, min_samples_leaf=2, min_samples_split=4; total time=   0.0s\n",
      "[CV] END max_depth=3, max_features=sqrt, min_impurity_decrease=1.1, min_samples_leaf=2, min_samples_split=4; total time=   0.0s\n",
      "[CV] END max_depth=3, max_features=sqrt, min_impurity_decrease=1.1, min_samples_leaf=2, min_samples_split=4; total time=   0.0s\n",
      "[CV] END max_depth=3, max_features=sqrt, min_impurity_decrease=1.1, min_samples_leaf=2, min_samples_split=5; total time=   0.0s\n",
      "[CV] END max_depth=3, max_features=sqrt, min_impurity_decrease=1.1, min_samples_leaf=2, min_samples_split=5; total time=   0.0s\n",
      "[CV] END max_depth=3, max_features=sqrt, min_impurity_decrease=1.1, min_samples_leaf=2, min_samples_split=5; total time=   0.0s\n",
      "[CV] END max_depth=3, max_features=sqrt, min_impurity_decrease=1.1, min_samples_leaf=2, min_samples_split=5; total time=   0.0s\n",
      "[CV] END max_depth=3, max_features=sqrt, min_impurity_decrease=1.1, min_samples_leaf=2, min_samples_split=5; total time=   0.0s\n",
      "[CV] END max_depth=3, max_features=sqrt, min_impurity_decrease=1.1, min_samples_leaf=4, min_samples_split=2; total time=   0.0s\n",
      "[CV] END max_depth=3, max_features=sqrt, min_impurity_decrease=1.1, min_samples_leaf=4, min_samples_split=2; total time=   0.0s\n",
      "[CV] END max_depth=3, max_features=sqrt, min_impurity_decrease=1.1, min_samples_leaf=4, min_samples_split=2; total time=   0.0s\n",
      "[CV] END max_depth=3, max_features=sqrt, min_impurity_decrease=1.1, min_samples_leaf=4, min_samples_split=2; total time=   0.0s\n",
      "[CV] END max_depth=3, max_features=sqrt, min_impurity_decrease=1.1, min_samples_leaf=4, min_samples_split=2; total time=   0.0s\n",
      "[CV] END max_depth=3, max_features=sqrt, min_impurity_decrease=1.1, min_samples_leaf=4, min_samples_split=4; total time=   0.0s\n",
      "[CV] END max_depth=3, max_features=sqrt, min_impurity_decrease=1.1, min_samples_leaf=4, min_samples_split=4; total time=   0.0s\n",
      "[CV] END max_depth=3, max_features=sqrt, min_impurity_decrease=1.1, min_samples_leaf=4, min_samples_split=4; total time=   0.0s\n",
      "[CV] END max_depth=3, max_features=sqrt, min_impurity_decrease=1.1, min_samples_leaf=4, min_samples_split=4; total time=   0.0s\n",
      "[CV] END max_depth=3, max_features=sqrt, min_impurity_decrease=1.1, min_samples_leaf=4, min_samples_split=4; total time=   0.0s\n",
      "[CV] END max_depth=3, max_features=sqrt, min_impurity_decrease=1.1, min_samples_leaf=4, min_samples_split=5; total time=   0.0s\n",
      "[CV] END max_depth=3, max_features=sqrt, min_impurity_decrease=1.1, min_samples_leaf=4, min_samples_split=5; total time=   0.0s\n",
      "[CV] END max_depth=3, max_features=sqrt, min_impurity_decrease=1.1, min_samples_leaf=4, min_samples_split=5; total time=   0.0s\n",
      "[CV] END max_depth=3, max_features=sqrt, min_impurity_decrease=1.1, min_samples_leaf=4, min_samples_split=5; total time=   0.0s\n",
      "[CV] END max_depth=3, max_features=sqrt, min_impurity_decrease=1.1, min_samples_leaf=4, min_samples_split=5; total time=   0.0s\n",
      "[CV] END max_depth=2, max_features=auto, min_impurity_decrease=0.0, min_samples_leaf=2, min_samples_split=2; total time=   0.0s\n",
      "[CV] END max_depth=2, max_features=auto, min_impurity_decrease=0.0, min_samples_leaf=2, min_samples_split=2; total time=   0.0s\n",
      "[CV] END max_depth=2, max_features=auto, min_impurity_decrease=0.0, min_samples_leaf=2, min_samples_split=2; total time=   0.0s\n",
      "[CV] END max_depth=2, max_features=auto, min_impurity_decrease=0.0, min_samples_leaf=2, min_samples_split=2; total time=   0.0s\n",
      "[CV] END max_depth=2, max_features=auto, min_impurity_decrease=0.0, min_samples_leaf=2, min_samples_split=2; total time=   0.0s\n",
      "[CV] END max_depth=2, max_features=auto, min_impurity_decrease=0.0, min_samples_leaf=2, min_samples_split=4; total time=   0.0s\n",
      "[CV] END max_depth=2, max_features=auto, min_impurity_decrease=0.0, min_samples_leaf=2, min_samples_split=4; total time=   0.0s\n",
      "[CV] END max_depth=2, max_features=auto, min_impurity_decrease=0.0, min_samples_leaf=2, min_samples_split=4; total time=   0.0s\n",
      "[CV] END max_depth=2, max_features=auto, min_impurity_decrease=0.0, min_samples_leaf=2, min_samples_split=4; total time=   0.0s\n",
      "[CV] END max_depth=2, max_features=auto, min_impurity_decrease=0.0, min_samples_leaf=2, min_samples_split=4; total time=   0.0s\n",
      "[CV] END max_depth=2, max_features=auto, min_impurity_decrease=0.0, min_samples_leaf=2, min_samples_split=5; total time=   0.0s\n",
      "[CV] END max_depth=2, max_features=auto, min_impurity_decrease=0.0, min_samples_leaf=2, min_samples_split=5; total time=   0.0s\n",
      "[CV] END max_depth=2, max_features=auto, min_impurity_decrease=0.0, min_samples_leaf=2, min_samples_split=5; total time=   0.0s\n",
      "[CV] END max_depth=2, max_features=auto, min_impurity_decrease=0.0, min_samples_leaf=2, min_samples_split=5; total time=   0.0s\n",
      "[CV] END max_depth=2, max_features=auto, min_impurity_decrease=0.0, min_samples_leaf=2, min_samples_split=5; total time=   0.0s\n",
      "[CV] END max_depth=2, max_features=auto, min_impurity_decrease=0.0, min_samples_leaf=4, min_samples_split=2; total time=   0.0s\n"
     ]
    },
    {
     "name": "stderr",
     "output_type": "stream",
     "text": [
      "C:\\Users\\Dell\\AppData\\Roaming\\Python\\Python38\\site-packages\\sklearn\\tree\\_classes.py:306: FutureWarning: `max_features='auto'` has been deprecated in 1.1 and will be removed in 1.3. To keep the past behaviour, explicitly set `max_features=1.0'`.\n",
      "  warnings.warn(\n",
      "C:\\Users\\Dell\\AppData\\Roaming\\Python\\Python38\\site-packages\\sklearn\\tree\\_classes.py:306: FutureWarning: `max_features='auto'` has been deprecated in 1.1 and will be removed in 1.3. To keep the past behaviour, explicitly set `max_features=1.0'`.\n",
      "  warnings.warn(\n",
      "C:\\Users\\Dell\\AppData\\Roaming\\Python\\Python38\\site-packages\\sklearn\\tree\\_classes.py:306: FutureWarning: `max_features='auto'` has been deprecated in 1.1 and will be removed in 1.3. To keep the past behaviour, explicitly set `max_features=1.0'`.\n",
      "  warnings.warn(\n",
      "C:\\Users\\Dell\\AppData\\Roaming\\Python\\Python38\\site-packages\\sklearn\\tree\\_classes.py:306: FutureWarning: `max_features='auto'` has been deprecated in 1.1 and will be removed in 1.3. To keep the past behaviour, explicitly set `max_features=1.0'`.\n",
      "  warnings.warn(\n",
      "C:\\Users\\Dell\\AppData\\Roaming\\Python\\Python38\\site-packages\\sklearn\\tree\\_classes.py:306: FutureWarning: `max_features='auto'` has been deprecated in 1.1 and will be removed in 1.3. To keep the past behaviour, explicitly set `max_features=1.0'`.\n",
      "  warnings.warn(\n",
      "C:\\Users\\Dell\\AppData\\Roaming\\Python\\Python38\\site-packages\\sklearn\\tree\\_classes.py:306: FutureWarning: `max_features='auto'` has been deprecated in 1.1 and will be removed in 1.3. To keep the past behaviour, explicitly set `max_features=1.0'`.\n",
      "  warnings.warn(\n",
      "C:\\Users\\Dell\\AppData\\Roaming\\Python\\Python38\\site-packages\\sklearn\\tree\\_classes.py:306: FutureWarning: `max_features='auto'` has been deprecated in 1.1 and will be removed in 1.3. To keep the past behaviour, explicitly set `max_features=1.0'`.\n",
      "  warnings.warn(\n",
      "C:\\Users\\Dell\\AppData\\Roaming\\Python\\Python38\\site-packages\\sklearn\\tree\\_classes.py:306: FutureWarning: `max_features='auto'` has been deprecated in 1.1 and will be removed in 1.3. To keep the past behaviour, explicitly set `max_features=1.0'`.\n",
      "  warnings.warn(\n",
      "C:\\Users\\Dell\\AppData\\Roaming\\Python\\Python38\\site-packages\\sklearn\\tree\\_classes.py:306: FutureWarning: `max_features='auto'` has been deprecated in 1.1 and will be removed in 1.3. To keep the past behaviour, explicitly set `max_features=1.0'`.\n",
      "  warnings.warn(\n",
      "C:\\Users\\Dell\\AppData\\Roaming\\Python\\Python38\\site-packages\\sklearn\\tree\\_classes.py:306: FutureWarning: `max_features='auto'` has been deprecated in 1.1 and will be removed in 1.3. To keep the past behaviour, explicitly set `max_features=1.0'`.\n",
      "  warnings.warn(\n",
      "C:\\Users\\Dell\\AppData\\Roaming\\Python\\Python38\\site-packages\\sklearn\\tree\\_classes.py:306: FutureWarning: `max_features='auto'` has been deprecated in 1.1 and will be removed in 1.3. To keep the past behaviour, explicitly set `max_features=1.0'`.\n",
      "  warnings.warn(\n",
      "C:\\Users\\Dell\\AppData\\Roaming\\Python\\Python38\\site-packages\\sklearn\\tree\\_classes.py:306: FutureWarning: `max_features='auto'` has been deprecated in 1.1 and will be removed in 1.3. To keep the past behaviour, explicitly set `max_features=1.0'`.\n",
      "  warnings.warn(\n",
      "C:\\Users\\Dell\\AppData\\Roaming\\Python\\Python38\\site-packages\\sklearn\\tree\\_classes.py:306: FutureWarning: `max_features='auto'` has been deprecated in 1.1 and will be removed in 1.3. To keep the past behaviour, explicitly set `max_features=1.0'`.\n",
      "  warnings.warn(\n",
      "C:\\Users\\Dell\\AppData\\Roaming\\Python\\Python38\\site-packages\\sklearn\\tree\\_classes.py:306: FutureWarning: `max_features='auto'` has been deprecated in 1.1 and will be removed in 1.3. To keep the past behaviour, explicitly set `max_features=1.0'`.\n",
      "  warnings.warn(\n",
      "C:\\Users\\Dell\\AppData\\Roaming\\Python\\Python38\\site-packages\\sklearn\\tree\\_classes.py:306: FutureWarning: `max_features='auto'` has been deprecated in 1.1 and will be removed in 1.3. To keep the past behaviour, explicitly set `max_features=1.0'`.\n",
      "  warnings.warn(\n",
      "C:\\Users\\Dell\\AppData\\Roaming\\Python\\Python38\\site-packages\\sklearn\\tree\\_classes.py:306: FutureWarning: `max_features='auto'` has been deprecated in 1.1 and will be removed in 1.3. To keep the past behaviour, explicitly set `max_features=1.0'`.\n",
      "  warnings.warn(\n",
      "C:\\Users\\Dell\\AppData\\Roaming\\Python\\Python38\\site-packages\\sklearn\\tree\\_classes.py:306: FutureWarning: `max_features='auto'` has been deprecated in 1.1 and will be removed in 1.3. To keep the past behaviour, explicitly set `max_features=1.0'`.\n",
      "  warnings.warn(\n",
      "C:\\Users\\Dell\\AppData\\Roaming\\Python\\Python38\\site-packages\\sklearn\\tree\\_classes.py:306: FutureWarning: `max_features='auto'` has been deprecated in 1.1 and will be removed in 1.3. To keep the past behaviour, explicitly set `max_features=1.0'`.\n",
      "  warnings.warn(\n",
      "C:\\Users\\Dell\\AppData\\Roaming\\Python\\Python38\\site-packages\\sklearn\\tree\\_classes.py:306: FutureWarning: `max_features='auto'` has been deprecated in 1.1 and will be removed in 1.3. To keep the past behaviour, explicitly set `max_features=1.0'`.\n",
      "  warnings.warn(\n",
      "C:\\Users\\Dell\\AppData\\Roaming\\Python\\Python38\\site-packages\\sklearn\\tree\\_classes.py:306: FutureWarning: `max_features='auto'` has been deprecated in 1.1 and will be removed in 1.3. To keep the past behaviour, explicitly set `max_features=1.0'`.\n",
      "  warnings.warn(\n",
      "C:\\Users\\Dell\\AppData\\Roaming\\Python\\Python38\\site-packages\\sklearn\\tree\\_classes.py:306: FutureWarning: `max_features='auto'` has been deprecated in 1.1 and will be removed in 1.3. To keep the past behaviour, explicitly set `max_features=1.0'`.\n",
      "  warnings.warn(\n",
      "C:\\Users\\Dell\\AppData\\Roaming\\Python\\Python38\\site-packages\\sklearn\\tree\\_classes.py:306: FutureWarning: `max_features='auto'` has been deprecated in 1.1 and will be removed in 1.3. To keep the past behaviour, explicitly set `max_features=1.0'`.\n",
      "  warnings.warn(\n",
      "C:\\Users\\Dell\\AppData\\Roaming\\Python\\Python38\\site-packages\\sklearn\\tree\\_classes.py:306: FutureWarning: `max_features='auto'` has been deprecated in 1.1 and will be removed in 1.3. To keep the past behaviour, explicitly set `max_features=1.0'`.\n",
      "  warnings.warn(\n",
      "C:\\Users\\Dell\\AppData\\Roaming\\Python\\Python38\\site-packages\\sklearn\\tree\\_classes.py:306: FutureWarning: `max_features='auto'` has been deprecated in 1.1 and will be removed in 1.3. To keep the past behaviour, explicitly set `max_features=1.0'`.\n",
      "  warnings.warn(\n",
      "C:\\Users\\Dell\\AppData\\Roaming\\Python\\Python38\\site-packages\\sklearn\\tree\\_classes.py:306: FutureWarning: `max_features='auto'` has been deprecated in 1.1 and will be removed in 1.3. To keep the past behaviour, explicitly set `max_features=1.0'`.\n",
      "  warnings.warn(\n",
      "C:\\Users\\Dell\\AppData\\Roaming\\Python\\Python38\\site-packages\\sklearn\\tree\\_classes.py:306: FutureWarning: `max_features='auto'` has been deprecated in 1.1 and will be removed in 1.3. To keep the past behaviour, explicitly set `max_features=1.0'`.\n",
      "  warnings.warn(\n",
      "C:\\Users\\Dell\\AppData\\Roaming\\Python\\Python38\\site-packages\\sklearn\\tree\\_classes.py:306: FutureWarning: `max_features='auto'` has been deprecated in 1.1 and will be removed in 1.3. To keep the past behaviour, explicitly set `max_features=1.0'`.\n",
      "  warnings.warn(\n",
      "C:\\Users\\Dell\\AppData\\Roaming\\Python\\Python38\\site-packages\\sklearn\\tree\\_classes.py:306: FutureWarning: `max_features='auto'` has been deprecated in 1.1 and will be removed in 1.3. To keep the past behaviour, explicitly set `max_features=1.0'`.\n",
      "  warnings.warn(\n",
      "C:\\Users\\Dell\\AppData\\Roaming\\Python\\Python38\\site-packages\\sklearn\\tree\\_classes.py:306: FutureWarning: `max_features='auto'` has been deprecated in 1.1 and will be removed in 1.3. To keep the past behaviour, explicitly set `max_features=1.0'`.\n",
      "  warnings.warn(\n",
      "C:\\Users\\Dell\\AppData\\Roaming\\Python\\Python38\\site-packages\\sklearn\\tree\\_classes.py:306: FutureWarning: `max_features='auto'` has been deprecated in 1.1 and will be removed in 1.3. To keep the past behaviour, explicitly set `max_features=1.0'`.\n",
      "  warnings.warn(\n",
      "C:\\Users\\Dell\\AppData\\Roaming\\Python\\Python38\\site-packages\\sklearn\\tree\\_classes.py:306: FutureWarning: `max_features='auto'` has been deprecated in 1.1 and will be removed in 1.3. To keep the past behaviour, explicitly set `max_features=1.0'`.\n",
      "  warnings.warn(\n",
      "C:\\Users\\Dell\\AppData\\Roaming\\Python\\Python38\\site-packages\\sklearn\\tree\\_classes.py:306: FutureWarning: `max_features='auto'` has been deprecated in 1.1 and will be removed in 1.3. To keep the past behaviour, explicitly set `max_features=1.0'`.\n",
      "  warnings.warn(\n",
      "C:\\Users\\Dell\\AppData\\Roaming\\Python\\Python38\\site-packages\\sklearn\\tree\\_classes.py:306: FutureWarning: `max_features='auto'` has been deprecated in 1.1 and will be removed in 1.3. To keep the past behaviour, explicitly set `max_features=1.0'`.\n",
      "  warnings.warn(\n",
      "C:\\Users\\Dell\\AppData\\Roaming\\Python\\Python38\\site-packages\\sklearn\\tree\\_classes.py:306: FutureWarning: `max_features='auto'` has been deprecated in 1.1 and will be removed in 1.3. To keep the past behaviour, explicitly set `max_features=1.0'`.\n",
      "  warnings.warn(\n",
      "C:\\Users\\Dell\\AppData\\Roaming\\Python\\Python38\\site-packages\\sklearn\\tree\\_classes.py:306: FutureWarning: `max_features='auto'` has been deprecated in 1.1 and will be removed in 1.3. To keep the past behaviour, explicitly set `max_features=1.0'`.\n",
      "  warnings.warn(\n",
      "C:\\Users\\Dell\\AppData\\Roaming\\Python\\Python38\\site-packages\\sklearn\\tree\\_classes.py:306: FutureWarning: `max_features='auto'` has been deprecated in 1.1 and will be removed in 1.3. To keep the past behaviour, explicitly set `max_features=1.0'`.\n",
      "  warnings.warn(\n",
      "C:\\Users\\Dell\\AppData\\Roaming\\Python\\Python38\\site-packages\\sklearn\\tree\\_classes.py:306: FutureWarning: `max_features='auto'` has been deprecated in 1.1 and will be removed in 1.3. To keep the past behaviour, explicitly set `max_features=1.0'`.\n",
      "  warnings.warn(\n",
      "C:\\Users\\Dell\\AppData\\Roaming\\Python\\Python38\\site-packages\\sklearn\\tree\\_classes.py:306: FutureWarning: `max_features='auto'` has been deprecated in 1.1 and will be removed in 1.3. To keep the past behaviour, explicitly set `max_features=1.0'`.\n",
      "  warnings.warn(\n",
      "C:\\Users\\Dell\\AppData\\Roaming\\Python\\Python38\\site-packages\\sklearn\\tree\\_classes.py:306: FutureWarning: `max_features='auto'` has been deprecated in 1.1 and will be removed in 1.3. To keep the past behaviour, explicitly set `max_features=1.0'`.\n",
      "  warnings.warn(\n",
      "C:\\Users\\Dell\\AppData\\Roaming\\Python\\Python38\\site-packages\\sklearn\\tree\\_classes.py:306: FutureWarning: `max_features='auto'` has been deprecated in 1.1 and will be removed in 1.3. To keep the past behaviour, explicitly set `max_features=1.0'`.\n",
      "  warnings.warn(\n",
      "C:\\Users\\Dell\\AppData\\Roaming\\Python\\Python38\\site-packages\\sklearn\\tree\\_classes.py:306: FutureWarning: `max_features='auto'` has been deprecated in 1.1 and will be removed in 1.3. To keep the past behaviour, explicitly set `max_features=1.0'`.\n",
      "  warnings.warn(\n",
      "C:\\Users\\Dell\\AppData\\Roaming\\Python\\Python38\\site-packages\\sklearn\\tree\\_classes.py:306: FutureWarning: `max_features='auto'` has been deprecated in 1.1 and will be removed in 1.3. To keep the past behaviour, explicitly set `max_features=1.0'`.\n",
      "  warnings.warn(\n",
      "C:\\Users\\Dell\\AppData\\Roaming\\Python\\Python38\\site-packages\\sklearn\\tree\\_classes.py:306: FutureWarning: `max_features='auto'` has been deprecated in 1.1 and will be removed in 1.3. To keep the past behaviour, explicitly set `max_features=1.0'`.\n",
      "  warnings.warn(\n",
      "C:\\Users\\Dell\\AppData\\Roaming\\Python\\Python38\\site-packages\\sklearn\\tree\\_classes.py:306: FutureWarning: `max_features='auto'` has been deprecated in 1.1 and will be removed in 1.3. To keep the past behaviour, explicitly set `max_features=1.0'`.\n",
      "  warnings.warn(\n",
      "C:\\Users\\Dell\\AppData\\Roaming\\Python\\Python38\\site-packages\\sklearn\\tree\\_classes.py:306: FutureWarning: `max_features='auto'` has been deprecated in 1.1 and will be removed in 1.3. To keep the past behaviour, explicitly set `max_features=1.0'`.\n",
      "  warnings.warn(\n",
      "C:\\Users\\Dell\\AppData\\Roaming\\Python\\Python38\\site-packages\\sklearn\\tree\\_classes.py:306: FutureWarning: `max_features='auto'` has been deprecated in 1.1 and will be removed in 1.3. To keep the past behaviour, explicitly set `max_features=1.0'`.\n",
      "  warnings.warn(\n",
      "C:\\Users\\Dell\\AppData\\Roaming\\Python\\Python38\\site-packages\\sklearn\\tree\\_classes.py:306: FutureWarning: `max_features='auto'` has been deprecated in 1.1 and will be removed in 1.3. To keep the past behaviour, explicitly set `max_features=1.0'`.\n",
      "  warnings.warn(\n",
      "C:\\Users\\Dell\\AppData\\Roaming\\Python\\Python38\\site-packages\\sklearn\\tree\\_classes.py:306: FutureWarning: `max_features='auto'` has been deprecated in 1.1 and will be removed in 1.3. To keep the past behaviour, explicitly set `max_features=1.0'`.\n",
      "  warnings.warn(\n",
      "C:\\Users\\Dell\\AppData\\Roaming\\Python\\Python38\\site-packages\\sklearn\\tree\\_classes.py:306: FutureWarning: `max_features='auto'` has been deprecated in 1.1 and will be removed in 1.3. To keep the past behaviour, explicitly set `max_features=1.0'`.\n",
      "  warnings.warn(\n",
      "C:\\Users\\Dell\\AppData\\Roaming\\Python\\Python38\\site-packages\\sklearn\\tree\\_classes.py:306: FutureWarning: `max_features='auto'` has been deprecated in 1.1 and will be removed in 1.3. To keep the past behaviour, explicitly set `max_features=1.0'`.\n",
      "  warnings.warn(\n",
      "C:\\Users\\Dell\\AppData\\Roaming\\Python\\Python38\\site-packages\\sklearn\\tree\\_classes.py:306: FutureWarning: `max_features='auto'` has been deprecated in 1.1 and will be removed in 1.3. To keep the past behaviour, explicitly set `max_features=1.0'`.\n",
      "  warnings.warn(\n",
      "C:\\Users\\Dell\\AppData\\Roaming\\Python\\Python38\\site-packages\\sklearn\\tree\\_classes.py:306: FutureWarning: `max_features='auto'` has been deprecated in 1.1 and will be removed in 1.3. To keep the past behaviour, explicitly set `max_features=1.0'`.\n",
      "  warnings.warn(\n",
      "C:\\Users\\Dell\\AppData\\Roaming\\Python\\Python38\\site-packages\\sklearn\\tree\\_classes.py:306: FutureWarning: `max_features='auto'` has been deprecated in 1.1 and will be removed in 1.3. To keep the past behaviour, explicitly set `max_features=1.0'`.\n",
      "  warnings.warn(\n",
      "C:\\Users\\Dell\\AppData\\Roaming\\Python\\Python38\\site-packages\\sklearn\\tree\\_classes.py:306: FutureWarning: `max_features='auto'` has been deprecated in 1.1 and will be removed in 1.3. To keep the past behaviour, explicitly set `max_features=1.0'`.\n",
      "  warnings.warn(\n",
      "C:\\Users\\Dell\\AppData\\Roaming\\Python\\Python38\\site-packages\\sklearn\\tree\\_classes.py:306: FutureWarning: `max_features='auto'` has been deprecated in 1.1 and will be removed in 1.3. To keep the past behaviour, explicitly set `max_features=1.0'`.\n",
      "  warnings.warn(\n",
      "C:\\Users\\Dell\\AppData\\Roaming\\Python\\Python38\\site-packages\\sklearn\\tree\\_classes.py:306: FutureWarning: `max_features='auto'` has been deprecated in 1.1 and will be removed in 1.3. To keep the past behaviour, explicitly set `max_features=1.0'`.\n",
      "  warnings.warn(\n",
      "C:\\Users\\Dell\\AppData\\Roaming\\Python\\Python38\\site-packages\\sklearn\\tree\\_classes.py:306: FutureWarning: `max_features='auto'` has been deprecated in 1.1 and will be removed in 1.3. To keep the past behaviour, explicitly set `max_features=1.0'`.\n",
      "  warnings.warn(\n",
      "C:\\Users\\Dell\\AppData\\Roaming\\Python\\Python38\\site-packages\\sklearn\\tree\\_classes.py:306: FutureWarning: `max_features='auto'` has been deprecated in 1.1 and will be removed in 1.3. To keep the past behaviour, explicitly set `max_features=1.0'`.\n",
      "  warnings.warn(\n",
      "C:\\Users\\Dell\\AppData\\Roaming\\Python\\Python38\\site-packages\\sklearn\\tree\\_classes.py:306: FutureWarning: `max_features='auto'` has been deprecated in 1.1 and will be removed in 1.3. To keep the past behaviour, explicitly set `max_features=1.0'`.\n",
      "  warnings.warn(\n",
      "C:\\Users\\Dell\\AppData\\Roaming\\Python\\Python38\\site-packages\\sklearn\\tree\\_classes.py:306: FutureWarning: `max_features='auto'` has been deprecated in 1.1 and will be removed in 1.3. To keep the past behaviour, explicitly set `max_features=1.0'`.\n",
      "  warnings.warn(\n",
      "C:\\Users\\Dell\\AppData\\Roaming\\Python\\Python38\\site-packages\\sklearn\\tree\\_classes.py:306: FutureWarning: `max_features='auto'` has been deprecated in 1.1 and will be removed in 1.3. To keep the past behaviour, explicitly set `max_features=1.0'`.\n",
      "  warnings.warn(\n",
      "C:\\Users\\Dell\\AppData\\Roaming\\Python\\Python38\\site-packages\\sklearn\\tree\\_classes.py:306: FutureWarning: `max_features='auto'` has been deprecated in 1.1 and will be removed in 1.3. To keep the past behaviour, explicitly set `max_features=1.0'`.\n",
      "  warnings.warn(\n",
      "C:\\Users\\Dell\\AppData\\Roaming\\Python\\Python38\\site-packages\\sklearn\\tree\\_classes.py:306: FutureWarning: `max_features='auto'` has been deprecated in 1.1 and will be removed in 1.3. To keep the past behaviour, explicitly set `max_features=1.0'`.\n",
      "  warnings.warn(\n",
      "C:\\Users\\Dell\\AppData\\Roaming\\Python\\Python38\\site-packages\\sklearn\\tree\\_classes.py:306: FutureWarning: `max_features='auto'` has been deprecated in 1.1 and will be removed in 1.3. To keep the past behaviour, explicitly set `max_features=1.0'`.\n",
      "  warnings.warn(\n",
      "C:\\Users\\Dell\\AppData\\Roaming\\Python\\Python38\\site-packages\\sklearn\\tree\\_classes.py:306: FutureWarning: `max_features='auto'` has been deprecated in 1.1 and will be removed in 1.3. To keep the past behaviour, explicitly set `max_features=1.0'`.\n",
      "  warnings.warn(\n",
      "C:\\Users\\Dell\\AppData\\Roaming\\Python\\Python38\\site-packages\\sklearn\\tree\\_classes.py:306: FutureWarning: `max_features='auto'` has been deprecated in 1.1 and will be removed in 1.3. To keep the past behaviour, explicitly set `max_features=1.0'`.\n",
      "  warnings.warn(\n",
      "C:\\Users\\Dell\\AppData\\Roaming\\Python\\Python38\\site-packages\\sklearn\\tree\\_classes.py:306: FutureWarning: `max_features='auto'` has been deprecated in 1.1 and will be removed in 1.3. To keep the past behaviour, explicitly set `max_features=1.0'`.\n",
      "  warnings.warn(\n",
      "C:\\Users\\Dell\\AppData\\Roaming\\Python\\Python38\\site-packages\\sklearn\\tree\\_classes.py:306: FutureWarning: `max_features='auto'` has been deprecated in 1.1 and will be removed in 1.3. To keep the past behaviour, explicitly set `max_features=1.0'`.\n",
      "  warnings.warn(\n",
      "C:\\Users\\Dell\\AppData\\Roaming\\Python\\Python38\\site-packages\\sklearn\\tree\\_classes.py:306: FutureWarning: `max_features='auto'` has been deprecated in 1.1 and will be removed in 1.3. To keep the past behaviour, explicitly set `max_features=1.0'`.\n",
      "  warnings.warn(\n",
      "C:\\Users\\Dell\\AppData\\Roaming\\Python\\Python38\\site-packages\\sklearn\\tree\\_classes.py:306: FutureWarning: `max_features='auto'` has been deprecated in 1.1 and will be removed in 1.3. To keep the past behaviour, explicitly set `max_features=1.0'`.\n",
      "  warnings.warn(\n",
      "C:\\Users\\Dell\\AppData\\Roaming\\Python\\Python38\\site-packages\\sklearn\\tree\\_classes.py:306: FutureWarning: `max_features='auto'` has been deprecated in 1.1 and will be removed in 1.3. To keep the past behaviour, explicitly set `max_features=1.0'`.\n",
      "  warnings.warn(\n"
     ]
    },
    {
     "name": "stdout",
     "output_type": "stream",
     "text": [
      "[CV] END max_depth=2, max_features=auto, min_impurity_decrease=0.0, min_samples_leaf=4, min_samples_split=2; total time=   0.0s\n",
      "[CV] END max_depth=2, max_features=auto, min_impurity_decrease=0.0, min_samples_leaf=4, min_samples_split=2; total time=   0.0s\n",
      "[CV] END max_depth=2, max_features=auto, min_impurity_decrease=0.0, min_samples_leaf=4, min_samples_split=2; total time=   0.0s\n",
      "[CV] END max_depth=2, max_features=auto, min_impurity_decrease=0.0, min_samples_leaf=4, min_samples_split=2; total time=   0.0s\n",
      "[CV] END max_depth=2, max_features=auto, min_impurity_decrease=0.0, min_samples_leaf=4, min_samples_split=4; total time=   0.0s\n",
      "[CV] END max_depth=2, max_features=auto, min_impurity_decrease=0.0, min_samples_leaf=4, min_samples_split=4; total time=   0.0s\n",
      "[CV] END max_depth=2, max_features=auto, min_impurity_decrease=0.0, min_samples_leaf=4, min_samples_split=4; total time=   0.0s\n",
      "[CV] END max_depth=2, max_features=auto, min_impurity_decrease=0.0, min_samples_leaf=4, min_samples_split=4; total time=   0.0s\n",
      "[CV] END max_depth=2, max_features=auto, min_impurity_decrease=0.0, min_samples_leaf=4, min_samples_split=4; total time=   0.0s\n",
      "[CV] END max_depth=2, max_features=auto, min_impurity_decrease=0.0, min_samples_leaf=4, min_samples_split=5; total time=   0.0s\n",
      "[CV] END max_depth=2, max_features=auto, min_impurity_decrease=0.0, min_samples_leaf=4, min_samples_split=5; total time=   0.0s\n",
      "[CV] END max_depth=2, max_features=auto, min_impurity_decrease=0.0, min_samples_leaf=4, min_samples_split=5; total time=   0.0s\n",
      "[CV] END max_depth=2, max_features=auto, min_impurity_decrease=0.0, min_samples_leaf=4, min_samples_split=5; total time=   0.0s\n",
      "[CV] END max_depth=2, max_features=auto, min_impurity_decrease=0.0, min_samples_leaf=4, min_samples_split=5; total time=   0.0s\n",
      "[CV] END max_depth=2, max_features=auto, min_impurity_decrease=2.1, min_samples_leaf=2, min_samples_split=2; total time=   0.0s\n",
      "[CV] END max_depth=2, max_features=auto, min_impurity_decrease=2.1, min_samples_leaf=2, min_samples_split=2; total time=   0.0s\n",
      "[CV] END max_depth=2, max_features=auto, min_impurity_decrease=2.1, min_samples_leaf=2, min_samples_split=2; total time=   0.0s\n",
      "[CV] END max_depth=2, max_features=auto, min_impurity_decrease=2.1, min_samples_leaf=2, min_samples_split=2; total time=   0.0s\n",
      "[CV] END max_depth=2, max_features=auto, min_impurity_decrease=2.1, min_samples_leaf=2, min_samples_split=2; total time=   0.0s\n",
      "[CV] END max_depth=2, max_features=auto, min_impurity_decrease=2.1, min_samples_leaf=2, min_samples_split=4; total time=   0.0s\n",
      "[CV] END max_depth=2, max_features=auto, min_impurity_decrease=2.1, min_samples_leaf=2, min_samples_split=4; total time=   0.0s\n",
      "[CV] END max_depth=2, max_features=auto, min_impurity_decrease=2.1, min_samples_leaf=2, min_samples_split=4; total time=   0.0s\n",
      "[CV] END max_depth=2, max_features=auto, min_impurity_decrease=2.1, min_samples_leaf=2, min_samples_split=4; total time=   0.0s\n",
      "[CV] END max_depth=2, max_features=auto, min_impurity_decrease=2.1, min_samples_leaf=2, min_samples_split=4; total time=   0.0s\n",
      "[CV] END max_depth=2, max_features=auto, min_impurity_decrease=2.1, min_samples_leaf=2, min_samples_split=5; total time=   0.0s\n",
      "[CV] END max_depth=2, max_features=auto, min_impurity_decrease=2.1, min_samples_leaf=2, min_samples_split=5; total time=   0.0s\n",
      "[CV] END max_depth=2, max_features=auto, min_impurity_decrease=2.1, min_samples_leaf=2, min_samples_split=5; total time=   0.0s\n",
      "[CV] END max_depth=2, max_features=auto, min_impurity_decrease=2.1, min_samples_leaf=2, min_samples_split=5; total time=   0.0s\n",
      "[CV] END max_depth=2, max_features=auto, min_impurity_decrease=2.1, min_samples_leaf=2, min_samples_split=5; total time=   0.0s\n",
      "[CV] END max_depth=2, max_features=auto, min_impurity_decrease=2.1, min_samples_leaf=4, min_samples_split=2; total time=   0.0s\n",
      "[CV] END max_depth=2, max_features=auto, min_impurity_decrease=2.1, min_samples_leaf=4, min_samples_split=2; total time=   0.0s\n",
      "[CV] END max_depth=2, max_features=auto, min_impurity_decrease=2.1, min_samples_leaf=4, min_samples_split=2; total time=   0.0s\n",
      "[CV] END max_depth=2, max_features=auto, min_impurity_decrease=2.1, min_samples_leaf=4, min_samples_split=2; total time=   0.0s\n",
      "[CV] END max_depth=2, max_features=auto, min_impurity_decrease=2.1, min_samples_leaf=4, min_samples_split=2; total time=   0.0s\n",
      "[CV] END max_depth=2, max_features=auto, min_impurity_decrease=2.1, min_samples_leaf=4, min_samples_split=4; total time=   0.0s\n",
      "[CV] END max_depth=2, max_features=auto, min_impurity_decrease=2.1, min_samples_leaf=4, min_samples_split=4; total time=   0.0s\n",
      "[CV] END max_depth=2, max_features=auto, min_impurity_decrease=2.1, min_samples_leaf=4, min_samples_split=4; total time=   0.0s\n",
      "[CV] END max_depth=2, max_features=auto, min_impurity_decrease=2.1, min_samples_leaf=4, min_samples_split=4; total time=   0.0s\n",
      "[CV] END max_depth=2, max_features=auto, min_impurity_decrease=2.1, min_samples_leaf=4, min_samples_split=4; total time=   0.0s\n",
      "[CV] END max_depth=2, max_features=auto, min_impurity_decrease=2.1, min_samples_leaf=4, min_samples_split=5; total time=   0.0s\n",
      "[CV] END max_depth=2, max_features=auto, min_impurity_decrease=2.1, min_samples_leaf=4, min_samples_split=5; total time=   0.0s\n",
      "[CV] END max_depth=2, max_features=auto, min_impurity_decrease=2.1, min_samples_leaf=4, min_samples_split=5; total time=   0.0s\n",
      "[CV] END max_depth=2, max_features=auto, min_impurity_decrease=2.1, min_samples_leaf=4, min_samples_split=5; total time=   0.0s\n",
      "[CV] END max_depth=2, max_features=auto, min_impurity_decrease=2.1, min_samples_leaf=4, min_samples_split=5; total time=   0.0s\n",
      "[CV] END max_depth=2, max_features=auto, min_impurity_decrease=1.1, min_samples_leaf=2, min_samples_split=2; total time=   0.0s\n",
      "[CV] END max_depth=2, max_features=auto, min_impurity_decrease=1.1, min_samples_leaf=2, min_samples_split=2; total time=   0.0s\n",
      "[CV] END max_depth=2, max_features=auto, min_impurity_decrease=1.1, min_samples_leaf=2, min_samples_split=2; total time=   0.0s\n",
      "[CV] END max_depth=2, max_features=auto, min_impurity_decrease=1.1, min_samples_leaf=2, min_samples_split=2; total time=   0.0s\n",
      "[CV] END max_depth=2, max_features=auto, min_impurity_decrease=1.1, min_samples_leaf=2, min_samples_split=2; total time=   0.0s\n",
      "[CV] END max_depth=2, max_features=auto, min_impurity_decrease=1.1, min_samples_leaf=2, min_samples_split=4; total time=   0.0s\n",
      "[CV] END max_depth=2, max_features=auto, min_impurity_decrease=1.1, min_samples_leaf=2, min_samples_split=4; total time=   0.0s\n",
      "[CV] END max_depth=2, max_features=auto, min_impurity_decrease=1.1, min_samples_leaf=2, min_samples_split=4; total time=   0.0s\n",
      "[CV] END max_depth=2, max_features=auto, min_impurity_decrease=1.1, min_samples_leaf=2, min_samples_split=4; total time=   0.0s\n",
      "[CV] END max_depth=2, max_features=auto, min_impurity_decrease=1.1, min_samples_leaf=2, min_samples_split=4; total time=   0.0s\n",
      "[CV] END max_depth=2, max_features=auto, min_impurity_decrease=1.1, min_samples_leaf=2, min_samples_split=5; total time=   0.0s\n",
      "[CV] END max_depth=2, max_features=auto, min_impurity_decrease=1.1, min_samples_leaf=2, min_samples_split=5; total time=   0.0s\n",
      "[CV] END max_depth=2, max_features=auto, min_impurity_decrease=1.1, min_samples_leaf=2, min_samples_split=5; total time=   0.0s\n",
      "[CV] END max_depth=2, max_features=auto, min_impurity_decrease=1.1, min_samples_leaf=2, min_samples_split=5; total time=   0.0s\n",
      "[CV] END max_depth=2, max_features=auto, min_impurity_decrease=1.1, min_samples_leaf=2, min_samples_split=5; total time=   0.0s\n",
      "[CV] END max_depth=2, max_features=auto, min_impurity_decrease=1.1, min_samples_leaf=4, min_samples_split=2; total time=   0.0s\n",
      "[CV] END max_depth=2, max_features=auto, min_impurity_decrease=1.1, min_samples_leaf=4, min_samples_split=2; total time=   0.0s\n",
      "[CV] END max_depth=2, max_features=auto, min_impurity_decrease=1.1, min_samples_leaf=4, min_samples_split=2; total time=   0.0s\n",
      "[CV] END max_depth=2, max_features=auto, min_impurity_decrease=1.1, min_samples_leaf=4, min_samples_split=2; total time=   0.0s\n",
      "[CV] END max_depth=2, max_features=auto, min_impurity_decrease=1.1, min_samples_leaf=4, min_samples_split=2; total time=   0.0s\n",
      "[CV] END max_depth=2, max_features=auto, min_impurity_decrease=1.1, min_samples_leaf=4, min_samples_split=4; total time=   0.0s\n",
      "[CV] END max_depth=2, max_features=auto, min_impurity_decrease=1.1, min_samples_leaf=4, min_samples_split=4; total time=   0.0s\n",
      "[CV] END max_depth=2, max_features=auto, min_impurity_decrease=1.1, min_samples_leaf=4, min_samples_split=4; total time=   0.0s\n",
      "[CV] END max_depth=2, max_features=auto, min_impurity_decrease=1.1, min_samples_leaf=4, min_samples_split=4; total time=   0.0s\n",
      "[CV] END max_depth=2, max_features=auto, min_impurity_decrease=1.1, min_samples_leaf=4, min_samples_split=4; total time=   0.0s\n"
     ]
    },
    {
     "name": "stderr",
     "output_type": "stream",
     "text": [
      "C:\\Users\\Dell\\AppData\\Roaming\\Python\\Python38\\site-packages\\sklearn\\tree\\_classes.py:306: FutureWarning: `max_features='auto'` has been deprecated in 1.1 and will be removed in 1.3. To keep the past behaviour, explicitly set `max_features=1.0'`.\n",
      "  warnings.warn(\n",
      "C:\\Users\\Dell\\AppData\\Roaming\\Python\\Python38\\site-packages\\sklearn\\tree\\_classes.py:306: FutureWarning: `max_features='auto'` has been deprecated in 1.1 and will be removed in 1.3. To keep the past behaviour, explicitly set `max_features=1.0'`.\n",
      "  warnings.warn(\n",
      "C:\\Users\\Dell\\AppData\\Roaming\\Python\\Python38\\site-packages\\sklearn\\tree\\_classes.py:306: FutureWarning: `max_features='auto'` has been deprecated in 1.1 and will be removed in 1.3. To keep the past behaviour, explicitly set `max_features=1.0'`.\n",
      "  warnings.warn(\n",
      "C:\\Users\\Dell\\AppData\\Roaming\\Python\\Python38\\site-packages\\sklearn\\tree\\_classes.py:306: FutureWarning: `max_features='auto'` has been deprecated in 1.1 and will be removed in 1.3. To keep the past behaviour, explicitly set `max_features=1.0'`.\n",
      "  warnings.warn(\n",
      "C:\\Users\\Dell\\AppData\\Roaming\\Python\\Python38\\site-packages\\sklearn\\tree\\_classes.py:306: FutureWarning: `max_features='auto'` has been deprecated in 1.1 and will be removed in 1.3. To keep the past behaviour, explicitly set `max_features=1.0'`.\n",
      "  warnings.warn(\n",
      "C:\\Users\\Dell\\AppData\\Roaming\\Python\\Python38\\site-packages\\sklearn\\tree\\_classes.py:306: FutureWarning: `max_features='auto'` has been deprecated in 1.1 and will be removed in 1.3. To keep the past behaviour, explicitly set `max_features=1.0'`.\n",
      "  warnings.warn(\n",
      "C:\\Users\\Dell\\AppData\\Roaming\\Python\\Python38\\site-packages\\sklearn\\tree\\_classes.py:306: FutureWarning: `max_features='auto'` has been deprecated in 1.1 and will be removed in 1.3. To keep the past behaviour, explicitly set `max_features=1.0'`.\n",
      "  warnings.warn(\n",
      "C:\\Users\\Dell\\AppData\\Roaming\\Python\\Python38\\site-packages\\sklearn\\tree\\_classes.py:306: FutureWarning: `max_features='auto'` has been deprecated in 1.1 and will be removed in 1.3. To keep the past behaviour, explicitly set `max_features=1.0'`.\n",
      "  warnings.warn(\n",
      "C:\\Users\\Dell\\AppData\\Roaming\\Python\\Python38\\site-packages\\sklearn\\tree\\_classes.py:306: FutureWarning: `max_features='auto'` has been deprecated in 1.1 and will be removed in 1.3. To keep the past behaviour, explicitly set `max_features=1.0'`.\n",
      "  warnings.warn(\n",
      "C:\\Users\\Dell\\AppData\\Roaming\\Python\\Python38\\site-packages\\sklearn\\tree\\_classes.py:306: FutureWarning: `max_features='auto'` has been deprecated in 1.1 and will be removed in 1.3. To keep the past behaviour, explicitly set `max_features=1.0'`.\n",
      "  warnings.warn(\n",
      "C:\\Users\\Dell\\AppData\\Roaming\\Python\\Python38\\site-packages\\sklearn\\tree\\_classes.py:306: FutureWarning: `max_features='auto'` has been deprecated in 1.1 and will be removed in 1.3. To keep the past behaviour, explicitly set `max_features=1.0'`.\n",
      "  warnings.warn(\n",
      "C:\\Users\\Dell\\AppData\\Roaming\\Python\\Python38\\site-packages\\sklearn\\tree\\_classes.py:306: FutureWarning: `max_features='auto'` has been deprecated in 1.1 and will be removed in 1.3. To keep the past behaviour, explicitly set `max_features=1.0'`.\n",
      "  warnings.warn(\n",
      "C:\\Users\\Dell\\AppData\\Roaming\\Python\\Python38\\site-packages\\sklearn\\tree\\_classes.py:306: FutureWarning: `max_features='auto'` has been deprecated in 1.1 and will be removed in 1.3. To keep the past behaviour, explicitly set `max_features=1.0'`.\n",
      "  warnings.warn(\n",
      "C:\\Users\\Dell\\AppData\\Roaming\\Python\\Python38\\site-packages\\sklearn\\tree\\_classes.py:306: FutureWarning: `max_features='auto'` has been deprecated in 1.1 and will be removed in 1.3. To keep the past behaviour, explicitly set `max_features=1.0'`.\n",
      "  warnings.warn(\n",
      "C:\\Users\\Dell\\AppData\\Roaming\\Python\\Python38\\site-packages\\sklearn\\tree\\_classes.py:306: FutureWarning: `max_features='auto'` has been deprecated in 1.1 and will be removed in 1.3. To keep the past behaviour, explicitly set `max_features=1.0'`.\n",
      "  warnings.warn(\n",
      "C:\\Users\\Dell\\AppData\\Roaming\\Python\\Python38\\site-packages\\sklearn\\tree\\_classes.py:306: FutureWarning: `max_features='auto'` has been deprecated in 1.1 and will be removed in 1.3. To keep the past behaviour, explicitly set `max_features=1.0'`.\n",
      "  warnings.warn(\n",
      "C:\\Users\\Dell\\AppData\\Roaming\\Python\\Python38\\site-packages\\sklearn\\tree\\_classes.py:306: FutureWarning: `max_features='auto'` has been deprecated in 1.1 and will be removed in 1.3. To keep the past behaviour, explicitly set `max_features=1.0'`.\n",
      "  warnings.warn(\n",
      "C:\\Users\\Dell\\AppData\\Roaming\\Python\\Python38\\site-packages\\sklearn\\tree\\_classes.py:306: FutureWarning: `max_features='auto'` has been deprecated in 1.1 and will be removed in 1.3. To keep the past behaviour, explicitly set `max_features=1.0'`.\n",
      "  warnings.warn(\n",
      "C:\\Users\\Dell\\AppData\\Roaming\\Python\\Python38\\site-packages\\sklearn\\tree\\_classes.py:306: FutureWarning: `max_features='auto'` has been deprecated in 1.1 and will be removed in 1.3. To keep the past behaviour, explicitly set `max_features=1.0'`.\n",
      "  warnings.warn(\n"
     ]
    },
    {
     "name": "stdout",
     "output_type": "stream",
     "text": [
      "[CV] END max_depth=2, max_features=auto, min_impurity_decrease=1.1, min_samples_leaf=4, min_samples_split=5; total time=   0.0s\n",
      "[CV] END max_depth=2, max_features=auto, min_impurity_decrease=1.1, min_samples_leaf=4, min_samples_split=5; total time=   0.0s\n",
      "[CV] END max_depth=2, max_features=auto, min_impurity_decrease=1.1, min_samples_leaf=4, min_samples_split=5; total time=   0.0s\n",
      "[CV] END max_depth=2, max_features=auto, min_impurity_decrease=1.1, min_samples_leaf=4, min_samples_split=5; total time=   0.0s\n",
      "[CV] END max_depth=2, max_features=auto, min_impurity_decrease=1.1, min_samples_leaf=4, min_samples_split=5; total time=   0.0s\n",
      "[CV] END max_depth=2, max_features=sqrt, min_impurity_decrease=0.0, min_samples_leaf=2, min_samples_split=2; total time=   0.0s\n",
      "[CV] END max_depth=2, max_features=sqrt, min_impurity_decrease=0.0, min_samples_leaf=2, min_samples_split=2; total time=   0.0s\n",
      "[CV] END max_depth=2, max_features=sqrt, min_impurity_decrease=0.0, min_samples_leaf=2, min_samples_split=2; total time=   0.0s\n",
      "[CV] END max_depth=2, max_features=sqrt, min_impurity_decrease=0.0, min_samples_leaf=2, min_samples_split=2; total time=   0.0s\n",
      "[CV] END max_depth=2, max_features=sqrt, min_impurity_decrease=0.0, min_samples_leaf=2, min_samples_split=2; total time=   0.0s\n",
      "[CV] END max_depth=2, max_features=sqrt, min_impurity_decrease=0.0, min_samples_leaf=2, min_samples_split=4; total time=   0.0s\n",
      "[CV] END max_depth=2, max_features=sqrt, min_impurity_decrease=0.0, min_samples_leaf=2, min_samples_split=4; total time=   0.0s\n",
      "[CV] END max_depth=2, max_features=sqrt, min_impurity_decrease=0.0, min_samples_leaf=2, min_samples_split=4; total time=   0.0s\n",
      "[CV] END max_depth=2, max_features=sqrt, min_impurity_decrease=0.0, min_samples_leaf=2, min_samples_split=4; total time=   0.0s\n",
      "[CV] END max_depth=2, max_features=sqrt, min_impurity_decrease=0.0, min_samples_leaf=2, min_samples_split=4; total time=   0.0s\n",
      "[CV] END max_depth=2, max_features=sqrt, min_impurity_decrease=0.0, min_samples_leaf=2, min_samples_split=5; total time=   0.0s\n",
      "[CV] END max_depth=2, max_features=sqrt, min_impurity_decrease=0.0, min_samples_leaf=2, min_samples_split=5; total time=   0.0s\n",
      "[CV] END max_depth=2, max_features=sqrt, min_impurity_decrease=0.0, min_samples_leaf=2, min_samples_split=5; total time=   0.0s\n",
      "[CV] END max_depth=2, max_features=sqrt, min_impurity_decrease=0.0, min_samples_leaf=2, min_samples_split=5; total time=   0.0s\n",
      "[CV] END max_depth=2, max_features=sqrt, min_impurity_decrease=0.0, min_samples_leaf=2, min_samples_split=5; total time=   0.0s\n",
      "[CV] END max_depth=2, max_features=sqrt, min_impurity_decrease=0.0, min_samples_leaf=4, min_samples_split=2; total time=   0.0s\n",
      "[CV] END max_depth=2, max_features=sqrt, min_impurity_decrease=0.0, min_samples_leaf=4, min_samples_split=2; total time=   0.0s\n",
      "[CV] END max_depth=2, max_features=sqrt, min_impurity_decrease=0.0, min_samples_leaf=4, min_samples_split=2; total time=   0.0s\n",
      "[CV] END max_depth=2, max_features=sqrt, min_impurity_decrease=0.0, min_samples_leaf=4, min_samples_split=2; total time=   0.0s\n",
      "[CV] END max_depth=2, max_features=sqrt, min_impurity_decrease=0.0, min_samples_leaf=4, min_samples_split=2; total time=   0.0s\n",
      "[CV] END max_depth=2, max_features=sqrt, min_impurity_decrease=0.0, min_samples_leaf=4, min_samples_split=4; total time=   0.0s\n",
      "[CV] END max_depth=2, max_features=sqrt, min_impurity_decrease=0.0, min_samples_leaf=4, min_samples_split=4; total time=   0.0s\n",
      "[CV] END max_depth=2, max_features=sqrt, min_impurity_decrease=0.0, min_samples_leaf=4, min_samples_split=4; total time=   0.0s\n",
      "[CV] END max_depth=2, max_features=sqrt, min_impurity_decrease=0.0, min_samples_leaf=4, min_samples_split=4; total time=   0.0s\n",
      "[CV] END max_depth=2, max_features=sqrt, min_impurity_decrease=0.0, min_samples_leaf=4, min_samples_split=4; total time=   0.0s\n",
      "[CV] END max_depth=2, max_features=sqrt, min_impurity_decrease=0.0, min_samples_leaf=4, min_samples_split=5; total time=   0.0s\n",
      "[CV] END max_depth=2, max_features=sqrt, min_impurity_decrease=0.0, min_samples_leaf=4, min_samples_split=5; total time=   0.0s\n",
      "[CV] END max_depth=2, max_features=sqrt, min_impurity_decrease=0.0, min_samples_leaf=4, min_samples_split=5; total time=   0.0s\n",
      "[CV] END max_depth=2, max_features=sqrt, min_impurity_decrease=0.0, min_samples_leaf=4, min_samples_split=5; total time=   0.0s\n",
      "[CV] END max_depth=2, max_features=sqrt, min_impurity_decrease=0.0, min_samples_leaf=4, min_samples_split=5; total time=   0.0s\n",
      "[CV] END max_depth=2, max_features=sqrt, min_impurity_decrease=2.1, min_samples_leaf=2, min_samples_split=2; total time=   0.0s\n",
      "[CV] END max_depth=2, max_features=sqrt, min_impurity_decrease=2.1, min_samples_leaf=2, min_samples_split=2; total time=   0.0s\n",
      "[CV] END max_depth=2, max_features=sqrt, min_impurity_decrease=2.1, min_samples_leaf=2, min_samples_split=2; total time=   0.0s\n",
      "[CV] END max_depth=2, max_features=sqrt, min_impurity_decrease=2.1, min_samples_leaf=2, min_samples_split=2; total time=   0.0s\n",
      "[CV] END max_depth=2, max_features=sqrt, min_impurity_decrease=2.1, min_samples_leaf=2, min_samples_split=2; total time=   0.0s\n",
      "[CV] END max_depth=2, max_features=sqrt, min_impurity_decrease=2.1, min_samples_leaf=2, min_samples_split=4; total time=   0.0s\n",
      "[CV] END max_depth=2, max_features=sqrt, min_impurity_decrease=2.1, min_samples_leaf=2, min_samples_split=4; total time=   0.0s\n",
      "[CV] END max_depth=2, max_features=sqrt, min_impurity_decrease=2.1, min_samples_leaf=2, min_samples_split=4; total time=   0.0s\n",
      "[CV] END max_depth=2, max_features=sqrt, min_impurity_decrease=2.1, min_samples_leaf=2, min_samples_split=4; total time=   0.0s\n",
      "[CV] END max_depth=2, max_features=sqrt, min_impurity_decrease=2.1, min_samples_leaf=2, min_samples_split=4; total time=   0.0s\n",
      "[CV] END max_depth=2, max_features=sqrt, min_impurity_decrease=2.1, min_samples_leaf=2, min_samples_split=5; total time=   0.0s\n",
      "[CV] END max_depth=2, max_features=sqrt, min_impurity_decrease=2.1, min_samples_leaf=2, min_samples_split=5; total time=   0.0s\n",
      "[CV] END max_depth=2, max_features=sqrt, min_impurity_decrease=2.1, min_samples_leaf=2, min_samples_split=5; total time=   0.0s\n",
      "[CV] END max_depth=2, max_features=sqrt, min_impurity_decrease=2.1, min_samples_leaf=2, min_samples_split=5; total time=   0.0s\n",
      "[CV] END max_depth=2, max_features=sqrt, min_impurity_decrease=2.1, min_samples_leaf=2, min_samples_split=5; total time=   0.0s\n",
      "[CV] END max_depth=2, max_features=sqrt, min_impurity_decrease=2.1, min_samples_leaf=4, min_samples_split=2; total time=   0.0s\n",
      "[CV] END max_depth=2, max_features=sqrt, min_impurity_decrease=2.1, min_samples_leaf=4, min_samples_split=2; total time=   0.0s\n",
      "[CV] END max_depth=2, max_features=sqrt, min_impurity_decrease=2.1, min_samples_leaf=4, min_samples_split=2; total time=   0.0s\n",
      "[CV] END max_depth=2, max_features=sqrt, min_impurity_decrease=2.1, min_samples_leaf=4, min_samples_split=2; total time=   0.0s\n",
      "[CV] END max_depth=2, max_features=sqrt, min_impurity_decrease=2.1, min_samples_leaf=4, min_samples_split=2; total time=   0.0s\n",
      "[CV] END max_depth=2, max_features=sqrt, min_impurity_decrease=2.1, min_samples_leaf=4, min_samples_split=4; total time=   0.0s\n",
      "[CV] END max_depth=2, max_features=sqrt, min_impurity_decrease=2.1, min_samples_leaf=4, min_samples_split=4; total time=   0.0s\n",
      "[CV] END max_depth=2, max_features=sqrt, min_impurity_decrease=2.1, min_samples_leaf=4, min_samples_split=4; total time=   0.0s\n",
      "[CV] END max_depth=2, max_features=sqrt, min_impurity_decrease=2.1, min_samples_leaf=4, min_samples_split=4; total time=   0.0s\n",
      "[CV] END max_depth=2, max_features=sqrt, min_impurity_decrease=2.1, min_samples_leaf=4, min_samples_split=4; total time=   0.0s\n",
      "[CV] END max_depth=2, max_features=sqrt, min_impurity_decrease=2.1, min_samples_leaf=4, min_samples_split=5; total time=   0.0s\n",
      "[CV] END max_depth=2, max_features=sqrt, min_impurity_decrease=2.1, min_samples_leaf=4, min_samples_split=5; total time=   0.0s\n",
      "[CV] END max_depth=2, max_features=sqrt, min_impurity_decrease=2.1, min_samples_leaf=4, min_samples_split=5; total time=   0.0s\n",
      "[CV] END max_depth=2, max_features=sqrt, min_impurity_decrease=2.1, min_samples_leaf=4, min_samples_split=5; total time=   0.0s\n",
      "[CV] END max_depth=2, max_features=sqrt, min_impurity_decrease=2.1, min_samples_leaf=4, min_samples_split=5; total time=   0.0s\n",
      "[CV] END max_depth=2, max_features=sqrt, min_impurity_decrease=1.1, min_samples_leaf=2, min_samples_split=2; total time=   0.0s\n",
      "[CV] END max_depth=2, max_features=sqrt, min_impurity_decrease=1.1, min_samples_leaf=2, min_samples_split=2; total time=   0.0s\n",
      "[CV] END max_depth=2, max_features=sqrt, min_impurity_decrease=1.1, min_samples_leaf=2, min_samples_split=2; total time=   0.0s\n",
      "[CV] END max_depth=2, max_features=sqrt, min_impurity_decrease=1.1, min_samples_leaf=2, min_samples_split=2; total time=   0.0s\n",
      "[CV] END max_depth=2, max_features=sqrt, min_impurity_decrease=1.1, min_samples_leaf=2, min_samples_split=2; total time=   0.0s\n",
      "[CV] END max_depth=2, max_features=sqrt, min_impurity_decrease=1.1, min_samples_leaf=2, min_samples_split=4; total time=   0.0s\n",
      "[CV] END max_depth=2, max_features=sqrt, min_impurity_decrease=1.1, min_samples_leaf=2, min_samples_split=4; total time=   0.0s\n",
      "[CV] END max_depth=2, max_features=sqrt, min_impurity_decrease=1.1, min_samples_leaf=2, min_samples_split=4; total time=   0.0s\n",
      "[CV] END max_depth=2, max_features=sqrt, min_impurity_decrease=1.1, min_samples_leaf=2, min_samples_split=4; total time=   0.0s\n",
      "[CV] END max_depth=2, max_features=sqrt, min_impurity_decrease=1.1, min_samples_leaf=2, min_samples_split=4; total time=   0.0s\n",
      "[CV] END max_depth=2, max_features=sqrt, min_impurity_decrease=1.1, min_samples_leaf=2, min_samples_split=5; total time=   0.0s\n",
      "[CV] END max_depth=2, max_features=sqrt, min_impurity_decrease=1.1, min_samples_leaf=2, min_samples_split=5; total time=   0.0s\n",
      "[CV] END max_depth=2, max_features=sqrt, min_impurity_decrease=1.1, min_samples_leaf=2, min_samples_split=5; total time=   0.0s\n"
     ]
    },
    {
     "name": "stdout",
     "output_type": "stream",
     "text": [
      "[CV] END max_depth=2, max_features=sqrt, min_impurity_decrease=1.1, min_samples_leaf=2, min_samples_split=5; total time=   0.0s\n",
      "[CV] END max_depth=2, max_features=sqrt, min_impurity_decrease=1.1, min_samples_leaf=2, min_samples_split=5; total time=   0.0s\n",
      "[CV] END max_depth=2, max_features=sqrt, min_impurity_decrease=1.1, min_samples_leaf=4, min_samples_split=2; total time=   0.0s\n",
      "[CV] END max_depth=2, max_features=sqrt, min_impurity_decrease=1.1, min_samples_leaf=4, min_samples_split=2; total time=   0.0s\n",
      "[CV] END max_depth=2, max_features=sqrt, min_impurity_decrease=1.1, min_samples_leaf=4, min_samples_split=2; total time=   0.0s\n",
      "[CV] END max_depth=2, max_features=sqrt, min_impurity_decrease=1.1, min_samples_leaf=4, min_samples_split=2; total time=   0.0s\n",
      "[CV] END max_depth=2, max_features=sqrt, min_impurity_decrease=1.1, min_samples_leaf=4, min_samples_split=2; total time=   0.0s\n",
      "[CV] END max_depth=2, max_features=sqrt, min_impurity_decrease=1.1, min_samples_leaf=4, min_samples_split=4; total time=   0.0s\n",
      "[CV] END max_depth=2, max_features=sqrt, min_impurity_decrease=1.1, min_samples_leaf=4, min_samples_split=4; total time=   0.0s\n",
      "[CV] END max_depth=2, max_features=sqrt, min_impurity_decrease=1.1, min_samples_leaf=4, min_samples_split=4; total time=   0.0s\n",
      "[CV] END max_depth=2, max_features=sqrt, min_impurity_decrease=1.1, min_samples_leaf=4, min_samples_split=4; total time=   0.0s\n",
      "[CV] END max_depth=2, max_features=sqrt, min_impurity_decrease=1.1, min_samples_leaf=4, min_samples_split=4; total time=   0.0s\n",
      "[CV] END max_depth=2, max_features=sqrt, min_impurity_decrease=1.1, min_samples_leaf=4, min_samples_split=5; total time=   0.0s\n",
      "[CV] END max_depth=2, max_features=sqrt, min_impurity_decrease=1.1, min_samples_leaf=4, min_samples_split=5; total time=   0.0s\n",
      "[CV] END max_depth=2, max_features=sqrt, min_impurity_decrease=1.1, min_samples_leaf=4, min_samples_split=5; total time=   0.0s\n",
      "[CV] END max_depth=2, max_features=sqrt, min_impurity_decrease=1.1, min_samples_leaf=4, min_samples_split=5; total time=   0.0s\n",
      "[CV] END max_depth=2, max_features=sqrt, min_impurity_decrease=1.1, min_samples_leaf=4, min_samples_split=5; total time=   0.0s\n",
      "[CV] END max_depth=4, max_features=auto, min_impurity_decrease=0.0, min_samples_leaf=2, min_samples_split=2; total time=   0.0s\n",
      "[CV] END max_depth=4, max_features=auto, min_impurity_decrease=0.0, min_samples_leaf=2, min_samples_split=2; total time=   0.0s\n",
      "[CV] END max_depth=4, max_features=auto, min_impurity_decrease=0.0, min_samples_leaf=2, min_samples_split=2; total time=   0.0s\n",
      "[CV] END max_depth=4, max_features=auto, min_impurity_decrease=0.0, min_samples_leaf=2, min_samples_split=2; total time=   0.0s\n",
      "[CV] END max_depth=4, max_features=auto, min_impurity_decrease=0.0, min_samples_leaf=2, min_samples_split=2; total time=   0.0s\n",
      "[CV] END max_depth=4, max_features=auto, min_impurity_decrease=0.0, min_samples_leaf=2, min_samples_split=4; total time=   0.0s\n",
      "[CV] END max_depth=4, max_features=auto, min_impurity_decrease=0.0, min_samples_leaf=2, min_samples_split=4; total time=   0.0s\n",
      "[CV] END max_depth=4, max_features=auto, min_impurity_decrease=0.0, min_samples_leaf=2, min_samples_split=4; total time=   0.0s\n",
      "[CV] END max_depth=4, max_features=auto, min_impurity_decrease=0.0, min_samples_leaf=2, min_samples_split=4; total time=   0.0s\n",
      "[CV] END max_depth=4, max_features=auto, min_impurity_decrease=0.0, min_samples_leaf=2, min_samples_split=4; total time=   0.0s\n",
      "[CV] END max_depth=4, max_features=auto, min_impurity_decrease=0.0, min_samples_leaf=2, min_samples_split=5; total time=   0.0s\n",
      "[CV] END max_depth=4, max_features=auto, min_impurity_decrease=0.0, min_samples_leaf=2, min_samples_split=5; total time=   0.0s\n",
      "[CV] END max_depth=4, max_features=auto, min_impurity_decrease=0.0, min_samples_leaf=2, min_samples_split=5; total time=   0.0s\n",
      "[CV] END max_depth=4, max_features=auto, min_impurity_decrease=0.0, min_samples_leaf=2, min_samples_split=5; total time=   0.0s\n",
      "[CV] END max_depth=4, max_features=auto, min_impurity_decrease=0.0, min_samples_leaf=2, min_samples_split=5; total time=   0.0s\n",
      "[CV] END max_depth=4, max_features=auto, min_impurity_decrease=0.0, min_samples_leaf=4, min_samples_split=2; total time=   0.0s\n",
      "[CV] END max_depth=4, max_features=auto, min_impurity_decrease=0.0, min_samples_leaf=4, min_samples_split=2; total time=   0.0s\n",
      "[CV] END max_depth=4, max_features=auto, min_impurity_decrease=0.0, min_samples_leaf=4, min_samples_split=2; total time=   0.0s\n",
      "[CV] END max_depth=4, max_features=auto, min_impurity_decrease=0.0, min_samples_leaf=4, min_samples_split=2; total time=   0.0s\n",
      "[CV] END max_depth=4, max_features=auto, min_impurity_decrease=0.0, min_samples_leaf=4, min_samples_split=2; total time=   0.0s\n",
      "[CV] END max_depth=4, max_features=auto, min_impurity_decrease=0.0, min_samples_leaf=4, min_samples_split=4; total time=   0.0s\n",
      "[CV] END max_depth=4, max_features=auto, min_impurity_decrease=0.0, min_samples_leaf=4, min_samples_split=4; total time=   0.0s\n"
     ]
    },
    {
     "name": "stderr",
     "output_type": "stream",
     "text": [
      "C:\\Users\\Dell\\AppData\\Roaming\\Python\\Python38\\site-packages\\sklearn\\tree\\_classes.py:306: FutureWarning: `max_features='auto'` has been deprecated in 1.1 and will be removed in 1.3. To keep the past behaviour, explicitly set `max_features=1.0'`.\n",
      "  warnings.warn(\n",
      "C:\\Users\\Dell\\AppData\\Roaming\\Python\\Python38\\site-packages\\sklearn\\tree\\_classes.py:306: FutureWarning: `max_features='auto'` has been deprecated in 1.1 and will be removed in 1.3. To keep the past behaviour, explicitly set `max_features=1.0'`.\n",
      "  warnings.warn(\n",
      "C:\\Users\\Dell\\AppData\\Roaming\\Python\\Python38\\site-packages\\sklearn\\tree\\_classes.py:306: FutureWarning: `max_features='auto'` has been deprecated in 1.1 and will be removed in 1.3. To keep the past behaviour, explicitly set `max_features=1.0'`.\n",
      "  warnings.warn(\n",
      "C:\\Users\\Dell\\AppData\\Roaming\\Python\\Python38\\site-packages\\sklearn\\tree\\_classes.py:306: FutureWarning: `max_features='auto'` has been deprecated in 1.1 and will be removed in 1.3. To keep the past behaviour, explicitly set `max_features=1.0'`.\n",
      "  warnings.warn(\n",
      "C:\\Users\\Dell\\AppData\\Roaming\\Python\\Python38\\site-packages\\sklearn\\tree\\_classes.py:306: FutureWarning: `max_features='auto'` has been deprecated in 1.1 and will be removed in 1.3. To keep the past behaviour, explicitly set `max_features=1.0'`.\n",
      "  warnings.warn(\n",
      "C:\\Users\\Dell\\AppData\\Roaming\\Python\\Python38\\site-packages\\sklearn\\tree\\_classes.py:306: FutureWarning: `max_features='auto'` has been deprecated in 1.1 and will be removed in 1.3. To keep the past behaviour, explicitly set `max_features=1.0'`.\n",
      "  warnings.warn(\n",
      "C:\\Users\\Dell\\AppData\\Roaming\\Python\\Python38\\site-packages\\sklearn\\tree\\_classes.py:306: FutureWarning: `max_features='auto'` has been deprecated in 1.1 and will be removed in 1.3. To keep the past behaviour, explicitly set `max_features=1.0'`.\n",
      "  warnings.warn(\n",
      "C:\\Users\\Dell\\AppData\\Roaming\\Python\\Python38\\site-packages\\sklearn\\tree\\_classes.py:306: FutureWarning: `max_features='auto'` has been deprecated in 1.1 and will be removed in 1.3. To keep the past behaviour, explicitly set `max_features=1.0'`.\n",
      "  warnings.warn(\n",
      "C:\\Users\\Dell\\AppData\\Roaming\\Python\\Python38\\site-packages\\sklearn\\tree\\_classes.py:306: FutureWarning: `max_features='auto'` has been deprecated in 1.1 and will be removed in 1.3. To keep the past behaviour, explicitly set `max_features=1.0'`.\n",
      "  warnings.warn(\n",
      "C:\\Users\\Dell\\AppData\\Roaming\\Python\\Python38\\site-packages\\sklearn\\tree\\_classes.py:306: FutureWarning: `max_features='auto'` has been deprecated in 1.1 and will be removed in 1.3. To keep the past behaviour, explicitly set `max_features=1.0'`.\n",
      "  warnings.warn(\n",
      "C:\\Users\\Dell\\AppData\\Roaming\\Python\\Python38\\site-packages\\sklearn\\tree\\_classes.py:306: FutureWarning: `max_features='auto'` has been deprecated in 1.1 and will be removed in 1.3. To keep the past behaviour, explicitly set `max_features=1.0'`.\n",
      "  warnings.warn(\n",
      "C:\\Users\\Dell\\AppData\\Roaming\\Python\\Python38\\site-packages\\sklearn\\tree\\_classes.py:306: FutureWarning: `max_features='auto'` has been deprecated in 1.1 and will be removed in 1.3. To keep the past behaviour, explicitly set `max_features=1.0'`.\n",
      "  warnings.warn(\n",
      "C:\\Users\\Dell\\AppData\\Roaming\\Python\\Python38\\site-packages\\sklearn\\tree\\_classes.py:306: FutureWarning: `max_features='auto'` has been deprecated in 1.1 and will be removed in 1.3. To keep the past behaviour, explicitly set `max_features=1.0'`.\n",
      "  warnings.warn(\n",
      "C:\\Users\\Dell\\AppData\\Roaming\\Python\\Python38\\site-packages\\sklearn\\tree\\_classes.py:306: FutureWarning: `max_features='auto'` has been deprecated in 1.1 and will be removed in 1.3. To keep the past behaviour, explicitly set `max_features=1.0'`.\n",
      "  warnings.warn(\n",
      "C:\\Users\\Dell\\AppData\\Roaming\\Python\\Python38\\site-packages\\sklearn\\tree\\_classes.py:306: FutureWarning: `max_features='auto'` has been deprecated in 1.1 and will be removed in 1.3. To keep the past behaviour, explicitly set `max_features=1.0'`.\n",
      "  warnings.warn(\n",
      "C:\\Users\\Dell\\AppData\\Roaming\\Python\\Python38\\site-packages\\sklearn\\tree\\_classes.py:306: FutureWarning: `max_features='auto'` has been deprecated in 1.1 and will be removed in 1.3. To keep the past behaviour, explicitly set `max_features=1.0'`.\n",
      "  warnings.warn(\n",
      "C:\\Users\\Dell\\AppData\\Roaming\\Python\\Python38\\site-packages\\sklearn\\tree\\_classes.py:306: FutureWarning: `max_features='auto'` has been deprecated in 1.1 and will be removed in 1.3. To keep the past behaviour, explicitly set `max_features=1.0'`.\n",
      "  warnings.warn(\n",
      "C:\\Users\\Dell\\AppData\\Roaming\\Python\\Python38\\site-packages\\sklearn\\tree\\_classes.py:306: FutureWarning: `max_features='auto'` has been deprecated in 1.1 and will be removed in 1.3. To keep the past behaviour, explicitly set `max_features=1.0'`.\n",
      "  warnings.warn(\n",
      "C:\\Users\\Dell\\AppData\\Roaming\\Python\\Python38\\site-packages\\sklearn\\tree\\_classes.py:306: FutureWarning: `max_features='auto'` has been deprecated in 1.1 and will be removed in 1.3. To keep the past behaviour, explicitly set `max_features=1.0'`.\n",
      "  warnings.warn(\n",
      "C:\\Users\\Dell\\AppData\\Roaming\\Python\\Python38\\site-packages\\sklearn\\tree\\_classes.py:306: FutureWarning: `max_features='auto'` has been deprecated in 1.1 and will be removed in 1.3. To keep the past behaviour, explicitly set `max_features=1.0'`.\n",
      "  warnings.warn(\n",
      "C:\\Users\\Dell\\AppData\\Roaming\\Python\\Python38\\site-packages\\sklearn\\tree\\_classes.py:306: FutureWarning: `max_features='auto'` has been deprecated in 1.1 and will be removed in 1.3. To keep the past behaviour, explicitly set `max_features=1.0'`.\n",
      "  warnings.warn(\n",
      "C:\\Users\\Dell\\AppData\\Roaming\\Python\\Python38\\site-packages\\sklearn\\tree\\_classes.py:306: FutureWarning: `max_features='auto'` has been deprecated in 1.1 and will be removed in 1.3. To keep the past behaviour, explicitly set `max_features=1.0'`.\n",
      "  warnings.warn(\n",
      "C:\\Users\\Dell\\AppData\\Roaming\\Python\\Python38\\site-packages\\sklearn\\tree\\_classes.py:306: FutureWarning: `max_features='auto'` has been deprecated in 1.1 and will be removed in 1.3. To keep the past behaviour, explicitly set `max_features=1.0'`.\n",
      "  warnings.warn(\n",
      "C:\\Users\\Dell\\AppData\\Roaming\\Python\\Python38\\site-packages\\sklearn\\tree\\_classes.py:306: FutureWarning: `max_features='auto'` has been deprecated in 1.1 and will be removed in 1.3. To keep the past behaviour, explicitly set `max_features=1.0'`.\n",
      "  warnings.warn(\n",
      "C:\\Users\\Dell\\AppData\\Roaming\\Python\\Python38\\site-packages\\sklearn\\tree\\_classes.py:306: FutureWarning: `max_features='auto'` has been deprecated in 1.1 and will be removed in 1.3. To keep the past behaviour, explicitly set `max_features=1.0'`.\n",
      "  warnings.warn(\n",
      "C:\\Users\\Dell\\AppData\\Roaming\\Python\\Python38\\site-packages\\sklearn\\tree\\_classes.py:306: FutureWarning: `max_features='auto'` has been deprecated in 1.1 and will be removed in 1.3. To keep the past behaviour, explicitly set `max_features=1.0'`.\n",
      "  warnings.warn(\n",
      "C:\\Users\\Dell\\AppData\\Roaming\\Python\\Python38\\site-packages\\sklearn\\tree\\_classes.py:306: FutureWarning: `max_features='auto'` has been deprecated in 1.1 and will be removed in 1.3. To keep the past behaviour, explicitly set `max_features=1.0'`.\n",
      "  warnings.warn(\n",
      "C:\\Users\\Dell\\AppData\\Roaming\\Python\\Python38\\site-packages\\sklearn\\tree\\_classes.py:306: FutureWarning: `max_features='auto'` has been deprecated in 1.1 and will be removed in 1.3. To keep the past behaviour, explicitly set `max_features=1.0'`.\n",
      "  warnings.warn(\n",
      "C:\\Users\\Dell\\AppData\\Roaming\\Python\\Python38\\site-packages\\sklearn\\tree\\_classes.py:306: FutureWarning: `max_features='auto'` has been deprecated in 1.1 and will be removed in 1.3. To keep the past behaviour, explicitly set `max_features=1.0'`.\n",
      "  warnings.warn(\n",
      "C:\\Users\\Dell\\AppData\\Roaming\\Python\\Python38\\site-packages\\sklearn\\tree\\_classes.py:306: FutureWarning: `max_features='auto'` has been deprecated in 1.1 and will be removed in 1.3. To keep the past behaviour, explicitly set `max_features=1.0'`.\n",
      "  warnings.warn(\n"
     ]
    },
    {
     "name": "stdout",
     "output_type": "stream",
     "text": [
      "[CV] END max_depth=4, max_features=auto, min_impurity_decrease=0.0, min_samples_leaf=4, min_samples_split=4; total time=   0.0s\n",
      "[CV] END max_depth=4, max_features=auto, min_impurity_decrease=0.0, min_samples_leaf=4, min_samples_split=4; total time=   0.0s\n",
      "[CV] END max_depth=4, max_features=auto, min_impurity_decrease=0.0, min_samples_leaf=4, min_samples_split=4; total time=   0.0s\n",
      "[CV] END max_depth=4, max_features=auto, min_impurity_decrease=0.0, min_samples_leaf=4, min_samples_split=5; total time=   0.0s\n",
      "[CV] END max_depth=4, max_features=auto, min_impurity_decrease=0.0, min_samples_leaf=4, min_samples_split=5; total time=   0.0s\n",
      "[CV] END max_depth=4, max_features=auto, min_impurity_decrease=0.0, min_samples_leaf=4, min_samples_split=5; total time=   0.0s\n",
      "[CV] END max_depth=4, max_features=auto, min_impurity_decrease=0.0, min_samples_leaf=4, min_samples_split=5; total time=   0.0s\n",
      "[CV] END max_depth=4, max_features=auto, min_impurity_decrease=0.0, min_samples_leaf=4, min_samples_split=5; total time=   0.0s\n",
      "[CV] END max_depth=4, max_features=auto, min_impurity_decrease=2.1, min_samples_leaf=2, min_samples_split=2; total time=   0.0s\n",
      "[CV] END max_depth=4, max_features=auto, min_impurity_decrease=2.1, min_samples_leaf=2, min_samples_split=2; total time=   0.0s\n",
      "[CV] END max_depth=4, max_features=auto, min_impurity_decrease=2.1, min_samples_leaf=2, min_samples_split=2; total time=   0.0s\n",
      "[CV] END max_depth=4, max_features=auto, min_impurity_decrease=2.1, min_samples_leaf=2, min_samples_split=2; total time=   0.0s\n",
      "[CV] END max_depth=4, max_features=auto, min_impurity_decrease=2.1, min_samples_leaf=2, min_samples_split=2; total time=   0.0s\n",
      "[CV] END max_depth=4, max_features=auto, min_impurity_decrease=2.1, min_samples_leaf=2, min_samples_split=4; total time=   0.0s\n",
      "[CV] END max_depth=4, max_features=auto, min_impurity_decrease=2.1, min_samples_leaf=2, min_samples_split=4; total time=   0.0s\n",
      "[CV] END max_depth=4, max_features=auto, min_impurity_decrease=2.1, min_samples_leaf=2, min_samples_split=4; total time=   0.0s\n",
      "[CV] END max_depth=4, max_features=auto, min_impurity_decrease=2.1, min_samples_leaf=2, min_samples_split=4; total time=   0.0s\n",
      "[CV] END max_depth=4, max_features=auto, min_impurity_decrease=2.1, min_samples_leaf=2, min_samples_split=4; total time=   0.0s\n",
      "[CV] END max_depth=4, max_features=auto, min_impurity_decrease=2.1, min_samples_leaf=2, min_samples_split=5; total time=   0.0s\n",
      "[CV] END max_depth=4, max_features=auto, min_impurity_decrease=2.1, min_samples_leaf=2, min_samples_split=5; total time=   0.0s\n",
      "[CV] END max_depth=4, max_features=auto, min_impurity_decrease=2.1, min_samples_leaf=2, min_samples_split=5; total time=   0.0s\n",
      "[CV] END max_depth=4, max_features=auto, min_impurity_decrease=2.1, min_samples_leaf=2, min_samples_split=5; total time=   0.0s\n",
      "[CV] END max_depth=4, max_features=auto, min_impurity_decrease=2.1, min_samples_leaf=2, min_samples_split=5; total time=   0.0s\n",
      "[CV] END max_depth=4, max_features=auto, min_impurity_decrease=2.1, min_samples_leaf=4, min_samples_split=2; total time=   0.0s\n",
      "[CV] END max_depth=4, max_features=auto, min_impurity_decrease=2.1, min_samples_leaf=4, min_samples_split=2; total time=   0.0s\n",
      "[CV] END max_depth=4, max_features=auto, min_impurity_decrease=2.1, min_samples_leaf=4, min_samples_split=2; total time=   0.0s\n",
      "[CV] END max_depth=4, max_features=auto, min_impurity_decrease=2.1, min_samples_leaf=4, min_samples_split=2; total time=   0.0s\n",
      "[CV] END max_depth=4, max_features=auto, min_impurity_decrease=2.1, min_samples_leaf=4, min_samples_split=2; total time=   0.0s\n",
      "[CV] END max_depth=4, max_features=auto, min_impurity_decrease=2.1, min_samples_leaf=4, min_samples_split=4; total time=   0.0s\n",
      "[CV] END max_depth=4, max_features=auto, min_impurity_decrease=2.1, min_samples_leaf=4, min_samples_split=4; total time=   0.0s\n",
      "[CV] END max_depth=4, max_features=auto, min_impurity_decrease=2.1, min_samples_leaf=4, min_samples_split=4; total time=   0.0s\n",
      "[CV] END max_depth=4, max_features=auto, min_impurity_decrease=2.1, min_samples_leaf=4, min_samples_split=4; total time=   0.0s\n",
      "[CV] END max_depth=4, max_features=auto, min_impurity_decrease=2.1, min_samples_leaf=4, min_samples_split=4; total time=   0.0s\n",
      "[CV] END max_depth=4, max_features=auto, min_impurity_decrease=2.1, min_samples_leaf=4, min_samples_split=5; total time=   0.0s\n",
      "[CV] END max_depth=4, max_features=auto, min_impurity_decrease=2.1, min_samples_leaf=4, min_samples_split=5; total time=   0.0s\n",
      "[CV] END max_depth=4, max_features=auto, min_impurity_decrease=2.1, min_samples_leaf=4, min_samples_split=5; total time=   0.0s\n",
      "[CV] END max_depth=4, max_features=auto, min_impurity_decrease=2.1, min_samples_leaf=4, min_samples_split=5; total time=   0.0s\n",
      "[CV] END max_depth=4, max_features=auto, min_impurity_decrease=2.1, min_samples_leaf=4, min_samples_split=5; total time=   0.0s\n",
      "[CV] END max_depth=4, max_features=auto, min_impurity_decrease=1.1, min_samples_leaf=2, min_samples_split=2; total time=   0.0s\n",
      "[CV] END max_depth=4, max_features=auto, min_impurity_decrease=1.1, min_samples_leaf=2, min_samples_split=2; total time=   0.0s\n",
      "[CV] END max_depth=4, max_features=auto, min_impurity_decrease=1.1, min_samples_leaf=2, min_samples_split=2; total time=   0.0s\n",
      "[CV] END max_depth=4, max_features=auto, min_impurity_decrease=1.1, min_samples_leaf=2, min_samples_split=2; total time=   0.0s\n",
      "[CV] END max_depth=4, max_features=auto, min_impurity_decrease=1.1, min_samples_leaf=2, min_samples_split=2; total time=   0.0s\n",
      "[CV] END max_depth=4, max_features=auto, min_impurity_decrease=1.1, min_samples_leaf=2, min_samples_split=4; total time=   0.0s\n",
      "[CV] END max_depth=4, max_features=auto, min_impurity_decrease=1.1, min_samples_leaf=2, min_samples_split=4; total time=   0.0s\n",
      "[CV] END max_depth=4, max_features=auto, min_impurity_decrease=1.1, min_samples_leaf=2, min_samples_split=4; total time=   0.0s\n",
      "[CV] END max_depth=4, max_features=auto, min_impurity_decrease=1.1, min_samples_leaf=2, min_samples_split=4; total time=   0.0s\n",
      "[CV] END max_depth=4, max_features=auto, min_impurity_decrease=1.1, min_samples_leaf=2, min_samples_split=4; total time=   0.0s\n",
      "[CV] END max_depth=4, max_features=auto, min_impurity_decrease=1.1, min_samples_leaf=2, min_samples_split=5; total time=   0.0s\n",
      "[CV] END max_depth=4, max_features=auto, min_impurity_decrease=1.1, min_samples_leaf=2, min_samples_split=5; total time=   0.0s\n",
      "[CV] END max_depth=4, max_features=auto, min_impurity_decrease=1.1, min_samples_leaf=2, min_samples_split=5; total time=   0.0s\n",
      "[CV] END max_depth=4, max_features=auto, min_impurity_decrease=1.1, min_samples_leaf=2, min_samples_split=5; total time=   0.0s\n"
     ]
    },
    {
     "name": "stderr",
     "output_type": "stream",
     "text": [
      "C:\\Users\\Dell\\AppData\\Roaming\\Python\\Python38\\site-packages\\sklearn\\tree\\_classes.py:306: FutureWarning: `max_features='auto'` has been deprecated in 1.1 and will be removed in 1.3. To keep the past behaviour, explicitly set `max_features=1.0'`.\n",
      "  warnings.warn(\n",
      "C:\\Users\\Dell\\AppData\\Roaming\\Python\\Python38\\site-packages\\sklearn\\tree\\_classes.py:306: FutureWarning: `max_features='auto'` has been deprecated in 1.1 and will be removed in 1.3. To keep the past behaviour, explicitly set `max_features=1.0'`.\n",
      "  warnings.warn(\n",
      "C:\\Users\\Dell\\AppData\\Roaming\\Python\\Python38\\site-packages\\sklearn\\tree\\_classes.py:306: FutureWarning: `max_features='auto'` has been deprecated in 1.1 and will be removed in 1.3. To keep the past behaviour, explicitly set `max_features=1.0'`.\n",
      "  warnings.warn(\n",
      "C:\\Users\\Dell\\AppData\\Roaming\\Python\\Python38\\site-packages\\sklearn\\tree\\_classes.py:306: FutureWarning: `max_features='auto'` has been deprecated in 1.1 and will be removed in 1.3. To keep the past behaviour, explicitly set `max_features=1.0'`.\n",
      "  warnings.warn(\n",
      "C:\\Users\\Dell\\AppData\\Roaming\\Python\\Python38\\site-packages\\sklearn\\tree\\_classes.py:306: FutureWarning: `max_features='auto'` has been deprecated in 1.1 and will be removed in 1.3. To keep the past behaviour, explicitly set `max_features=1.0'`.\n",
      "  warnings.warn(\n",
      "C:\\Users\\Dell\\AppData\\Roaming\\Python\\Python38\\site-packages\\sklearn\\tree\\_classes.py:306: FutureWarning: `max_features='auto'` has been deprecated in 1.1 and will be removed in 1.3. To keep the past behaviour, explicitly set `max_features=1.0'`.\n",
      "  warnings.warn(\n",
      "C:\\Users\\Dell\\AppData\\Roaming\\Python\\Python38\\site-packages\\sklearn\\tree\\_classes.py:306: FutureWarning: `max_features='auto'` has been deprecated in 1.1 and will be removed in 1.3. To keep the past behaviour, explicitly set `max_features=1.0'`.\n",
      "  warnings.warn(\n",
      "C:\\Users\\Dell\\AppData\\Roaming\\Python\\Python38\\site-packages\\sklearn\\tree\\_classes.py:306: FutureWarning: `max_features='auto'` has been deprecated in 1.1 and will be removed in 1.3. To keep the past behaviour, explicitly set `max_features=1.0'`.\n",
      "  warnings.warn(\n",
      "C:\\Users\\Dell\\AppData\\Roaming\\Python\\Python38\\site-packages\\sklearn\\tree\\_classes.py:306: FutureWarning: `max_features='auto'` has been deprecated in 1.1 and will be removed in 1.3. To keep the past behaviour, explicitly set `max_features=1.0'`.\n",
      "  warnings.warn(\n",
      "C:\\Users\\Dell\\AppData\\Roaming\\Python\\Python38\\site-packages\\sklearn\\tree\\_classes.py:306: FutureWarning: `max_features='auto'` has been deprecated in 1.1 and will be removed in 1.3. To keep the past behaviour, explicitly set `max_features=1.0'`.\n",
      "  warnings.warn(\n",
      "C:\\Users\\Dell\\AppData\\Roaming\\Python\\Python38\\site-packages\\sklearn\\tree\\_classes.py:306: FutureWarning: `max_features='auto'` has been deprecated in 1.1 and will be removed in 1.3. To keep the past behaviour, explicitly set `max_features=1.0'`.\n",
      "  warnings.warn(\n",
      "C:\\Users\\Dell\\AppData\\Roaming\\Python\\Python38\\site-packages\\sklearn\\tree\\_classes.py:306: FutureWarning: `max_features='auto'` has been deprecated in 1.1 and will be removed in 1.3. To keep the past behaviour, explicitly set `max_features=1.0'`.\n",
      "  warnings.warn(\n",
      "C:\\Users\\Dell\\AppData\\Roaming\\Python\\Python38\\site-packages\\sklearn\\tree\\_classes.py:306: FutureWarning: `max_features='auto'` has been deprecated in 1.1 and will be removed in 1.3. To keep the past behaviour, explicitly set `max_features=1.0'`.\n",
      "  warnings.warn(\n",
      "C:\\Users\\Dell\\AppData\\Roaming\\Python\\Python38\\site-packages\\sklearn\\tree\\_classes.py:306: FutureWarning: `max_features='auto'` has been deprecated in 1.1 and will be removed in 1.3. To keep the past behaviour, explicitly set `max_features=1.0'`.\n",
      "  warnings.warn(\n",
      "C:\\Users\\Dell\\AppData\\Roaming\\Python\\Python38\\site-packages\\sklearn\\tree\\_classes.py:306: FutureWarning: `max_features='auto'` has been deprecated in 1.1 and will be removed in 1.3. To keep the past behaviour, explicitly set `max_features=1.0'`.\n",
      "  warnings.warn(\n",
      "C:\\Users\\Dell\\AppData\\Roaming\\Python\\Python38\\site-packages\\sklearn\\tree\\_classes.py:306: FutureWarning: `max_features='auto'` has been deprecated in 1.1 and will be removed in 1.3. To keep the past behaviour, explicitly set `max_features=1.0'`.\n",
      "  warnings.warn(\n",
      "C:\\Users\\Dell\\AppData\\Roaming\\Python\\Python38\\site-packages\\sklearn\\tree\\_classes.py:306: FutureWarning: `max_features='auto'` has been deprecated in 1.1 and will be removed in 1.3. To keep the past behaviour, explicitly set `max_features=1.0'`.\n",
      "  warnings.warn(\n",
      "C:\\Users\\Dell\\AppData\\Roaming\\Python\\Python38\\site-packages\\sklearn\\tree\\_classes.py:306: FutureWarning: `max_features='auto'` has been deprecated in 1.1 and will be removed in 1.3. To keep the past behaviour, explicitly set `max_features=1.0'`.\n",
      "  warnings.warn(\n",
      "C:\\Users\\Dell\\AppData\\Roaming\\Python\\Python38\\site-packages\\sklearn\\tree\\_classes.py:306: FutureWarning: `max_features='auto'` has been deprecated in 1.1 and will be removed in 1.3. To keep the past behaviour, explicitly set `max_features=1.0'`.\n",
      "  warnings.warn(\n",
      "C:\\Users\\Dell\\AppData\\Roaming\\Python\\Python38\\site-packages\\sklearn\\tree\\_classes.py:306: FutureWarning: `max_features='auto'` has been deprecated in 1.1 and will be removed in 1.3. To keep the past behaviour, explicitly set `max_features=1.0'`.\n",
      "  warnings.warn(\n",
      "C:\\Users\\Dell\\AppData\\Roaming\\Python\\Python38\\site-packages\\sklearn\\tree\\_classes.py:306: FutureWarning: `max_features='auto'` has been deprecated in 1.1 and will be removed in 1.3. To keep the past behaviour, explicitly set `max_features=1.0'`.\n",
      "  warnings.warn(\n",
      "C:\\Users\\Dell\\AppData\\Roaming\\Python\\Python38\\site-packages\\sklearn\\tree\\_classes.py:306: FutureWarning: `max_features='auto'` has been deprecated in 1.1 and will be removed in 1.3. To keep the past behaviour, explicitly set `max_features=1.0'`.\n",
      "  warnings.warn(\n",
      "C:\\Users\\Dell\\AppData\\Roaming\\Python\\Python38\\site-packages\\sklearn\\tree\\_classes.py:306: FutureWarning: `max_features='auto'` has been deprecated in 1.1 and will be removed in 1.3. To keep the past behaviour, explicitly set `max_features=1.0'`.\n",
      "  warnings.warn(\n",
      "C:\\Users\\Dell\\AppData\\Roaming\\Python\\Python38\\site-packages\\sklearn\\tree\\_classes.py:306: FutureWarning: `max_features='auto'` has been deprecated in 1.1 and will be removed in 1.3. To keep the past behaviour, explicitly set `max_features=1.0'`.\n",
      "  warnings.warn(\n",
      "C:\\Users\\Dell\\AppData\\Roaming\\Python\\Python38\\site-packages\\sklearn\\tree\\_classes.py:306: FutureWarning: `max_features='auto'` has been deprecated in 1.1 and will be removed in 1.3. To keep the past behaviour, explicitly set `max_features=1.0'`.\n",
      "  warnings.warn(\n",
      "C:\\Users\\Dell\\AppData\\Roaming\\Python\\Python38\\site-packages\\sklearn\\tree\\_classes.py:306: FutureWarning: `max_features='auto'` has been deprecated in 1.1 and will be removed in 1.3. To keep the past behaviour, explicitly set `max_features=1.0'`.\n",
      "  warnings.warn(\n",
      "C:\\Users\\Dell\\AppData\\Roaming\\Python\\Python38\\site-packages\\sklearn\\tree\\_classes.py:306: FutureWarning: `max_features='auto'` has been deprecated in 1.1 and will be removed in 1.3. To keep the past behaviour, explicitly set `max_features=1.0'`.\n",
      "  warnings.warn(\n",
      "C:\\Users\\Dell\\AppData\\Roaming\\Python\\Python38\\site-packages\\sklearn\\tree\\_classes.py:306: FutureWarning: `max_features='auto'` has been deprecated in 1.1 and will be removed in 1.3. To keep the past behaviour, explicitly set `max_features=1.0'`.\n",
      "  warnings.warn(\n",
      "C:\\Users\\Dell\\AppData\\Roaming\\Python\\Python38\\site-packages\\sklearn\\tree\\_classes.py:306: FutureWarning: `max_features='auto'` has been deprecated in 1.1 and will be removed in 1.3. To keep the past behaviour, explicitly set `max_features=1.0'`.\n",
      "  warnings.warn(\n",
      "C:\\Users\\Dell\\AppData\\Roaming\\Python\\Python38\\site-packages\\sklearn\\tree\\_classes.py:306: FutureWarning: `max_features='auto'` has been deprecated in 1.1 and will be removed in 1.3. To keep the past behaviour, explicitly set `max_features=1.0'`.\n",
      "  warnings.warn(\n",
      "C:\\Users\\Dell\\AppData\\Roaming\\Python\\Python38\\site-packages\\sklearn\\tree\\_classes.py:306: FutureWarning: `max_features='auto'` has been deprecated in 1.1 and will be removed in 1.3. To keep the past behaviour, explicitly set `max_features=1.0'`.\n",
      "  warnings.warn(\n",
      "C:\\Users\\Dell\\AppData\\Roaming\\Python\\Python38\\site-packages\\sklearn\\tree\\_classes.py:306: FutureWarning: `max_features='auto'` has been deprecated in 1.1 and will be removed in 1.3. To keep the past behaviour, explicitly set `max_features=1.0'`.\n",
      "  warnings.warn(\n",
      "C:\\Users\\Dell\\AppData\\Roaming\\Python\\Python38\\site-packages\\sklearn\\tree\\_classes.py:306: FutureWarning: `max_features='auto'` has been deprecated in 1.1 and will be removed in 1.3. To keep the past behaviour, explicitly set `max_features=1.0'`.\n",
      "  warnings.warn(\n",
      "C:\\Users\\Dell\\AppData\\Roaming\\Python\\Python38\\site-packages\\sklearn\\tree\\_classes.py:306: FutureWarning: `max_features='auto'` has been deprecated in 1.1 and will be removed in 1.3. To keep the past behaviour, explicitly set `max_features=1.0'`.\n",
      "  warnings.warn(\n",
      "C:\\Users\\Dell\\AppData\\Roaming\\Python\\Python38\\site-packages\\sklearn\\tree\\_classes.py:306: FutureWarning: `max_features='auto'` has been deprecated in 1.1 and will be removed in 1.3. To keep the past behaviour, explicitly set `max_features=1.0'`.\n",
      "  warnings.warn(\n",
      "C:\\Users\\Dell\\AppData\\Roaming\\Python\\Python38\\site-packages\\sklearn\\tree\\_classes.py:306: FutureWarning: `max_features='auto'` has been deprecated in 1.1 and will be removed in 1.3. To keep the past behaviour, explicitly set `max_features=1.0'`.\n",
      "  warnings.warn(\n",
      "C:\\Users\\Dell\\AppData\\Roaming\\Python\\Python38\\site-packages\\sklearn\\tree\\_classes.py:306: FutureWarning: `max_features='auto'` has been deprecated in 1.1 and will be removed in 1.3. To keep the past behaviour, explicitly set `max_features=1.0'`.\n",
      "  warnings.warn(\n",
      "C:\\Users\\Dell\\AppData\\Roaming\\Python\\Python38\\site-packages\\sklearn\\tree\\_classes.py:306: FutureWarning: `max_features='auto'` has been deprecated in 1.1 and will be removed in 1.3. To keep the past behaviour, explicitly set `max_features=1.0'`.\n",
      "  warnings.warn(\n",
      "C:\\Users\\Dell\\AppData\\Roaming\\Python\\Python38\\site-packages\\sklearn\\tree\\_classes.py:306: FutureWarning: `max_features='auto'` has been deprecated in 1.1 and will be removed in 1.3. To keep the past behaviour, explicitly set `max_features=1.0'`.\n",
      "  warnings.warn(\n",
      "C:\\Users\\Dell\\AppData\\Roaming\\Python\\Python38\\site-packages\\sklearn\\tree\\_classes.py:306: FutureWarning: `max_features='auto'` has been deprecated in 1.1 and will be removed in 1.3. To keep the past behaviour, explicitly set `max_features=1.0'`.\n",
      "  warnings.warn(\n",
      "C:\\Users\\Dell\\AppData\\Roaming\\Python\\Python38\\site-packages\\sklearn\\tree\\_classes.py:306: FutureWarning: `max_features='auto'` has been deprecated in 1.1 and will be removed in 1.3. To keep the past behaviour, explicitly set `max_features=1.0'`.\n",
      "  warnings.warn(\n",
      "C:\\Users\\Dell\\AppData\\Roaming\\Python\\Python38\\site-packages\\sklearn\\tree\\_classes.py:306: FutureWarning: `max_features='auto'` has been deprecated in 1.1 and will be removed in 1.3. To keep the past behaviour, explicitly set `max_features=1.0'`.\n",
      "  warnings.warn(\n",
      "C:\\Users\\Dell\\AppData\\Roaming\\Python\\Python38\\site-packages\\sklearn\\tree\\_classes.py:306: FutureWarning: `max_features='auto'` has been deprecated in 1.1 and will be removed in 1.3. To keep the past behaviour, explicitly set `max_features=1.0'`.\n",
      "  warnings.warn(\n",
      "C:\\Users\\Dell\\AppData\\Roaming\\Python\\Python38\\site-packages\\sklearn\\tree\\_classes.py:306: FutureWarning: `max_features='auto'` has been deprecated in 1.1 and will be removed in 1.3. To keep the past behaviour, explicitly set `max_features=1.0'`.\n",
      "  warnings.warn(\n",
      "C:\\Users\\Dell\\AppData\\Roaming\\Python\\Python38\\site-packages\\sklearn\\tree\\_classes.py:306: FutureWarning: `max_features='auto'` has been deprecated in 1.1 and will be removed in 1.3. To keep the past behaviour, explicitly set `max_features=1.0'`.\n",
      "  warnings.warn(\n",
      "C:\\Users\\Dell\\AppData\\Roaming\\Python\\Python38\\site-packages\\sklearn\\tree\\_classes.py:306: FutureWarning: `max_features='auto'` has been deprecated in 1.1 and will be removed in 1.3. To keep the past behaviour, explicitly set `max_features=1.0'`.\n",
      "  warnings.warn(\n",
      "C:\\Users\\Dell\\AppData\\Roaming\\Python\\Python38\\site-packages\\sklearn\\tree\\_classes.py:306: FutureWarning: `max_features='auto'` has been deprecated in 1.1 and will be removed in 1.3. To keep the past behaviour, explicitly set `max_features=1.0'`.\n",
      "  warnings.warn(\n",
      "C:\\Users\\Dell\\AppData\\Roaming\\Python\\Python38\\site-packages\\sklearn\\tree\\_classes.py:306: FutureWarning: `max_features='auto'` has been deprecated in 1.1 and will be removed in 1.3. To keep the past behaviour, explicitly set `max_features=1.0'`.\n",
      "  warnings.warn(\n",
      "C:\\Users\\Dell\\AppData\\Roaming\\Python\\Python38\\site-packages\\sklearn\\tree\\_classes.py:306: FutureWarning: `max_features='auto'` has been deprecated in 1.1 and will be removed in 1.3. To keep the past behaviour, explicitly set `max_features=1.0'`.\n",
      "  warnings.warn(\n",
      "C:\\Users\\Dell\\AppData\\Roaming\\Python\\Python38\\site-packages\\sklearn\\tree\\_classes.py:306: FutureWarning: `max_features='auto'` has been deprecated in 1.1 and will be removed in 1.3. To keep the past behaviour, explicitly set `max_features=1.0'`.\n",
      "  warnings.warn(\n",
      "C:\\Users\\Dell\\AppData\\Roaming\\Python\\Python38\\site-packages\\sklearn\\tree\\_classes.py:306: FutureWarning: `max_features='auto'` has been deprecated in 1.1 and will be removed in 1.3. To keep the past behaviour, explicitly set `max_features=1.0'`.\n",
      "  warnings.warn(\n",
      "C:\\Users\\Dell\\AppData\\Roaming\\Python\\Python38\\site-packages\\sklearn\\tree\\_classes.py:306: FutureWarning: `max_features='auto'` has been deprecated in 1.1 and will be removed in 1.3. To keep the past behaviour, explicitly set `max_features=1.0'`.\n",
      "  warnings.warn(\n"
     ]
    },
    {
     "name": "stdout",
     "output_type": "stream",
     "text": [
      "[CV] END max_depth=4, max_features=auto, min_impurity_decrease=1.1, min_samples_leaf=2, min_samples_split=5; total time=   0.0s\n",
      "[CV] END max_depth=4, max_features=auto, min_impurity_decrease=1.1, min_samples_leaf=4, min_samples_split=2; total time=   0.0s\n",
      "[CV] END max_depth=4, max_features=auto, min_impurity_decrease=1.1, min_samples_leaf=4, min_samples_split=2; total time=   0.0s\n",
      "[CV] END max_depth=4, max_features=auto, min_impurity_decrease=1.1, min_samples_leaf=4, min_samples_split=2; total time=   0.0s\n",
      "[CV] END max_depth=4, max_features=auto, min_impurity_decrease=1.1, min_samples_leaf=4, min_samples_split=2; total time=   0.0s\n",
      "[CV] END max_depth=4, max_features=auto, min_impurity_decrease=1.1, min_samples_leaf=4, min_samples_split=2; total time=   0.0s\n",
      "[CV] END max_depth=4, max_features=auto, min_impurity_decrease=1.1, min_samples_leaf=4, min_samples_split=4; total time=   0.0s\n",
      "[CV] END max_depth=4, max_features=auto, min_impurity_decrease=1.1, min_samples_leaf=4, min_samples_split=4; total time=   0.0s\n",
      "[CV] END max_depth=4, max_features=auto, min_impurity_decrease=1.1, min_samples_leaf=4, min_samples_split=4; total time=   0.0s\n",
      "[CV] END max_depth=4, max_features=auto, min_impurity_decrease=1.1, min_samples_leaf=4, min_samples_split=4; total time=   0.0s\n",
      "[CV] END max_depth=4, max_features=auto, min_impurity_decrease=1.1, min_samples_leaf=4, min_samples_split=4; total time=   0.0s\n",
      "[CV] END max_depth=4, max_features=auto, min_impurity_decrease=1.1, min_samples_leaf=4, min_samples_split=5; total time=   0.0s\n",
      "[CV] END max_depth=4, max_features=auto, min_impurity_decrease=1.1, min_samples_leaf=4, min_samples_split=5; total time=   0.0s\n",
      "[CV] END max_depth=4, max_features=auto, min_impurity_decrease=1.1, min_samples_leaf=4, min_samples_split=5; total time=   0.0s\n",
      "[CV] END max_depth=4, max_features=auto, min_impurity_decrease=1.1, min_samples_leaf=4, min_samples_split=5; total time=   0.0s\n",
      "[CV] END max_depth=4, max_features=auto, min_impurity_decrease=1.1, min_samples_leaf=4, min_samples_split=5; total time=   0.0s\n",
      "[CV] END max_depth=4, max_features=sqrt, min_impurity_decrease=0.0, min_samples_leaf=2, min_samples_split=2; total time=   0.0s\n",
      "[CV] END max_depth=4, max_features=sqrt, min_impurity_decrease=0.0, min_samples_leaf=2, min_samples_split=2; total time=   0.0s\n",
      "[CV] END max_depth=4, max_features=sqrt, min_impurity_decrease=0.0, min_samples_leaf=2, min_samples_split=2; total time=   0.0s\n",
      "[CV] END max_depth=4, max_features=sqrt, min_impurity_decrease=0.0, min_samples_leaf=2, min_samples_split=2; total time=   0.0s\n",
      "[CV] END max_depth=4, max_features=sqrt, min_impurity_decrease=0.0, min_samples_leaf=2, min_samples_split=2; total time=   0.0s\n",
      "[CV] END max_depth=4, max_features=sqrt, min_impurity_decrease=0.0, min_samples_leaf=2, min_samples_split=4; total time=   0.0s\n",
      "[CV] END max_depth=4, max_features=sqrt, min_impurity_decrease=0.0, min_samples_leaf=2, min_samples_split=4; total time=   0.0s\n",
      "[CV] END max_depth=4, max_features=sqrt, min_impurity_decrease=0.0, min_samples_leaf=2, min_samples_split=4; total time=   0.0s\n",
      "[CV] END max_depth=4, max_features=sqrt, min_impurity_decrease=0.0, min_samples_leaf=2, min_samples_split=4; total time=   0.0s\n",
      "[CV] END max_depth=4, max_features=sqrt, min_impurity_decrease=0.0, min_samples_leaf=2, min_samples_split=4; total time=   0.0s\n",
      "[CV] END max_depth=4, max_features=sqrt, min_impurity_decrease=0.0, min_samples_leaf=2, min_samples_split=5; total time=   0.0s\n",
      "[CV] END max_depth=4, max_features=sqrt, min_impurity_decrease=0.0, min_samples_leaf=2, min_samples_split=5; total time=   0.0s\n",
      "[CV] END max_depth=4, max_features=sqrt, min_impurity_decrease=0.0, min_samples_leaf=2, min_samples_split=5; total time=   0.0s\n",
      "[CV] END max_depth=4, max_features=sqrt, min_impurity_decrease=0.0, min_samples_leaf=2, min_samples_split=5; total time=   0.0s\n",
      "[CV] END max_depth=4, max_features=sqrt, min_impurity_decrease=0.0, min_samples_leaf=2, min_samples_split=5; total time=   0.0s\n",
      "[CV] END max_depth=4, max_features=sqrt, min_impurity_decrease=0.0, min_samples_leaf=4, min_samples_split=2; total time=   0.0s\n",
      "[CV] END max_depth=4, max_features=sqrt, min_impurity_decrease=0.0, min_samples_leaf=4, min_samples_split=2; total time=   0.0s\n",
      "[CV] END max_depth=4, max_features=sqrt, min_impurity_decrease=0.0, min_samples_leaf=4, min_samples_split=2; total time=   0.0s\n",
      "[CV] END max_depth=4, max_features=sqrt, min_impurity_decrease=0.0, min_samples_leaf=4, min_samples_split=2; total time=   0.0s\n"
     ]
    },
    {
     "name": "stderr",
     "output_type": "stream",
     "text": [
      "C:\\Users\\Dell\\AppData\\Roaming\\Python\\Python38\\site-packages\\sklearn\\tree\\_classes.py:306: FutureWarning: `max_features='auto'` has been deprecated in 1.1 and will be removed in 1.3. To keep the past behaviour, explicitly set `max_features=1.0'`.\n",
      "  warnings.warn(\n",
      "C:\\Users\\Dell\\AppData\\Roaming\\Python\\Python38\\site-packages\\sklearn\\tree\\_classes.py:306: FutureWarning: `max_features='auto'` has been deprecated in 1.1 and will be removed in 1.3. To keep the past behaviour, explicitly set `max_features=1.0'`.\n",
      "  warnings.warn(\n",
      "C:\\Users\\Dell\\AppData\\Roaming\\Python\\Python38\\site-packages\\sklearn\\tree\\_classes.py:306: FutureWarning: `max_features='auto'` has been deprecated in 1.1 and will be removed in 1.3. To keep the past behaviour, explicitly set `max_features=1.0'`.\n",
      "  warnings.warn(\n",
      "C:\\Users\\Dell\\AppData\\Roaming\\Python\\Python38\\site-packages\\sklearn\\tree\\_classes.py:306: FutureWarning: `max_features='auto'` has been deprecated in 1.1 and will be removed in 1.3. To keep the past behaviour, explicitly set `max_features=1.0'`.\n",
      "  warnings.warn(\n",
      "C:\\Users\\Dell\\AppData\\Roaming\\Python\\Python38\\site-packages\\sklearn\\tree\\_classes.py:306: FutureWarning: `max_features='auto'` has been deprecated in 1.1 and will be removed in 1.3. To keep the past behaviour, explicitly set `max_features=1.0'`.\n",
      "  warnings.warn(\n",
      "C:\\Users\\Dell\\AppData\\Roaming\\Python\\Python38\\site-packages\\sklearn\\tree\\_classes.py:306: FutureWarning: `max_features='auto'` has been deprecated in 1.1 and will be removed in 1.3. To keep the past behaviour, explicitly set `max_features=1.0'`.\n",
      "  warnings.warn(\n",
      "C:\\Users\\Dell\\AppData\\Roaming\\Python\\Python38\\site-packages\\sklearn\\tree\\_classes.py:306: FutureWarning: `max_features='auto'` has been deprecated in 1.1 and will be removed in 1.3. To keep the past behaviour, explicitly set `max_features=1.0'`.\n",
      "  warnings.warn(\n",
      "C:\\Users\\Dell\\AppData\\Roaming\\Python\\Python38\\site-packages\\sklearn\\tree\\_classes.py:306: FutureWarning: `max_features='auto'` has been deprecated in 1.1 and will be removed in 1.3. To keep the past behaviour, explicitly set `max_features=1.0'`.\n",
      "  warnings.warn(\n"
     ]
    },
    {
     "name": "stdout",
     "output_type": "stream",
     "text": [
      "[CV] END max_depth=4, max_features=sqrt, min_impurity_decrease=0.0, min_samples_leaf=4, min_samples_split=2; total time=   0.0s\n",
      "[CV] END max_depth=4, max_features=sqrt, min_impurity_decrease=0.0, min_samples_leaf=4, min_samples_split=4; total time=   0.0s\n",
      "[CV] END max_depth=4, max_features=sqrt, min_impurity_decrease=0.0, min_samples_leaf=4, min_samples_split=4; total time=   0.0s\n",
      "[CV] END max_depth=4, max_features=sqrt, min_impurity_decrease=0.0, min_samples_leaf=4, min_samples_split=4; total time=   0.0s\n",
      "[CV] END max_depth=4, max_features=sqrt, min_impurity_decrease=0.0, min_samples_leaf=4, min_samples_split=4; total time=   0.0s\n",
      "[CV] END max_depth=4, max_features=sqrt, min_impurity_decrease=0.0, min_samples_leaf=4, min_samples_split=4; total time=   0.0s\n",
      "[CV] END max_depth=4, max_features=sqrt, min_impurity_decrease=0.0, min_samples_leaf=4, min_samples_split=5; total time=   0.0s\n",
      "[CV] END max_depth=4, max_features=sqrt, min_impurity_decrease=0.0, min_samples_leaf=4, min_samples_split=5; total time=   0.0s\n",
      "[CV] END max_depth=4, max_features=sqrt, min_impurity_decrease=0.0, min_samples_leaf=4, min_samples_split=5; total time=   0.0s\n",
      "[CV] END max_depth=4, max_features=sqrt, min_impurity_decrease=0.0, min_samples_leaf=4, min_samples_split=5; total time=   0.0s\n",
      "[CV] END max_depth=4, max_features=sqrt, min_impurity_decrease=0.0, min_samples_leaf=4, min_samples_split=5; total time=   0.0s\n",
      "[CV] END max_depth=4, max_features=sqrt, min_impurity_decrease=2.1, min_samples_leaf=2, min_samples_split=2; total time=   0.0s\n",
      "[CV] END max_depth=4, max_features=sqrt, min_impurity_decrease=2.1, min_samples_leaf=2, min_samples_split=2; total time=   0.0s\n",
      "[CV] END max_depth=4, max_features=sqrt, min_impurity_decrease=2.1, min_samples_leaf=2, min_samples_split=2; total time=   0.0s\n",
      "[CV] END max_depth=4, max_features=sqrt, min_impurity_decrease=2.1, min_samples_leaf=2, min_samples_split=2; total time=   0.0s\n",
      "[CV] END max_depth=4, max_features=sqrt, min_impurity_decrease=2.1, min_samples_leaf=2, min_samples_split=2; total time=   0.0s\n",
      "[CV] END max_depth=4, max_features=sqrt, min_impurity_decrease=2.1, min_samples_leaf=2, min_samples_split=4; total time=   0.0s\n",
      "[CV] END max_depth=4, max_features=sqrt, min_impurity_decrease=2.1, min_samples_leaf=2, min_samples_split=4; total time=   0.0s\n",
      "[CV] END max_depth=4, max_features=sqrt, min_impurity_decrease=2.1, min_samples_leaf=2, min_samples_split=4; total time=   0.0s\n",
      "[CV] END max_depth=4, max_features=sqrt, min_impurity_decrease=2.1, min_samples_leaf=2, min_samples_split=4; total time=   0.0s\n",
      "[CV] END max_depth=4, max_features=sqrt, min_impurity_decrease=2.1, min_samples_leaf=2, min_samples_split=4; total time=   0.0s\n",
      "[CV] END max_depth=4, max_features=sqrt, min_impurity_decrease=2.1, min_samples_leaf=2, min_samples_split=5; total time=   0.0s\n",
      "[CV] END max_depth=4, max_features=sqrt, min_impurity_decrease=2.1, min_samples_leaf=2, min_samples_split=5; total time=   0.0s\n",
      "[CV] END max_depth=4, max_features=sqrt, min_impurity_decrease=2.1, min_samples_leaf=2, min_samples_split=5; total time=   0.0s\n",
      "[CV] END max_depth=4, max_features=sqrt, min_impurity_decrease=2.1, min_samples_leaf=2, min_samples_split=5; total time=   0.0s\n",
      "[CV] END max_depth=4, max_features=sqrt, min_impurity_decrease=2.1, min_samples_leaf=2, min_samples_split=5; total time=   0.0s\n",
      "[CV] END max_depth=4, max_features=sqrt, min_impurity_decrease=2.1, min_samples_leaf=4, min_samples_split=2; total time=   0.0s\n",
      "[CV] END max_depth=4, max_features=sqrt, min_impurity_decrease=2.1, min_samples_leaf=4, min_samples_split=2; total time=   0.0s\n",
      "[CV] END max_depth=4, max_features=sqrt, min_impurity_decrease=2.1, min_samples_leaf=4, min_samples_split=2; total time=   0.0s\n",
      "[CV] END max_depth=4, max_features=sqrt, min_impurity_decrease=2.1, min_samples_leaf=4, min_samples_split=2; total time=   0.0s\n",
      "[CV] END max_depth=4, max_features=sqrt, min_impurity_decrease=2.1, min_samples_leaf=4, min_samples_split=2; total time=   0.0s\n",
      "[CV] END max_depth=4, max_features=sqrt, min_impurity_decrease=2.1, min_samples_leaf=4, min_samples_split=4; total time=   0.0s\n",
      "[CV] END max_depth=4, max_features=sqrt, min_impurity_decrease=2.1, min_samples_leaf=4, min_samples_split=4; total time=   0.0s\n",
      "[CV] END max_depth=4, max_features=sqrt, min_impurity_decrease=2.1, min_samples_leaf=4, min_samples_split=4; total time=   0.0s\n",
      "[CV] END max_depth=4, max_features=sqrt, min_impurity_decrease=2.1, min_samples_leaf=4, min_samples_split=4; total time=   0.0s\n",
      "[CV] END max_depth=4, max_features=sqrt, min_impurity_decrease=2.1, min_samples_leaf=4, min_samples_split=4; total time=   0.0s\n",
      "[CV] END max_depth=4, max_features=sqrt, min_impurity_decrease=2.1, min_samples_leaf=4, min_samples_split=5; total time=   0.0s\n",
      "[CV] END max_depth=4, max_features=sqrt, min_impurity_decrease=2.1, min_samples_leaf=4, min_samples_split=5; total time=   0.0s\n",
      "[CV] END max_depth=4, max_features=sqrt, min_impurity_decrease=2.1, min_samples_leaf=4, min_samples_split=5; total time=   0.0s\n",
      "[CV] END max_depth=4, max_features=sqrt, min_impurity_decrease=2.1, min_samples_leaf=4, min_samples_split=5; total time=   0.0s\n",
      "[CV] END max_depth=4, max_features=sqrt, min_impurity_decrease=2.1, min_samples_leaf=4, min_samples_split=5; total time=   0.0s\n",
      "[CV] END max_depth=4, max_features=sqrt, min_impurity_decrease=1.1, min_samples_leaf=2, min_samples_split=2; total time=   0.0s\n",
      "[CV] END max_depth=4, max_features=sqrt, min_impurity_decrease=1.1, min_samples_leaf=2, min_samples_split=2; total time=   0.0s\n",
      "[CV] END max_depth=4, max_features=sqrt, min_impurity_decrease=1.1, min_samples_leaf=2, min_samples_split=2; total time=   0.0s\n",
      "[CV] END max_depth=4, max_features=sqrt, min_impurity_decrease=1.1, min_samples_leaf=2, min_samples_split=2; total time=   0.0s\n",
      "[CV] END max_depth=4, max_features=sqrt, min_impurity_decrease=1.1, min_samples_leaf=2, min_samples_split=2; total time=   0.0s\n",
      "[CV] END max_depth=4, max_features=sqrt, min_impurity_decrease=1.1, min_samples_leaf=2, min_samples_split=4; total time=   0.0s\n",
      "[CV] END max_depth=4, max_features=sqrt, min_impurity_decrease=1.1, min_samples_leaf=2, min_samples_split=4; total time=   0.0s\n",
      "[CV] END max_depth=4, max_features=sqrt, min_impurity_decrease=1.1, min_samples_leaf=2, min_samples_split=4; total time=   0.0s\n",
      "[CV] END max_depth=4, max_features=sqrt, min_impurity_decrease=1.1, min_samples_leaf=2, min_samples_split=4; total time=   0.0s\n",
      "[CV] END max_depth=4, max_features=sqrt, min_impurity_decrease=1.1, min_samples_leaf=2, min_samples_split=4; total time=   0.0s\n",
      "[CV] END max_depth=4, max_features=sqrt, min_impurity_decrease=1.1, min_samples_leaf=2, min_samples_split=5; total time=   0.0s\n",
      "[CV] END max_depth=4, max_features=sqrt, min_impurity_decrease=1.1, min_samples_leaf=2, min_samples_split=5; total time=   0.0s\n",
      "[CV] END max_depth=4, max_features=sqrt, min_impurity_decrease=1.1, min_samples_leaf=2, min_samples_split=5; total time=   0.0s\n",
      "[CV] END max_depth=4, max_features=sqrt, min_impurity_decrease=1.1, min_samples_leaf=2, min_samples_split=5; total time=   0.0s\n",
      "[CV] END max_depth=4, max_features=sqrt, min_impurity_decrease=1.1, min_samples_leaf=2, min_samples_split=5; total time=   0.0s\n",
      "[CV] END max_depth=4, max_features=sqrt, min_impurity_decrease=1.1, min_samples_leaf=4, min_samples_split=2; total time=   0.0s\n",
      "[CV] END max_depth=4, max_features=sqrt, min_impurity_decrease=1.1, min_samples_leaf=4, min_samples_split=2; total time=   0.0s\n",
      "[CV] END max_depth=4, max_features=sqrt, min_impurity_decrease=1.1, min_samples_leaf=4, min_samples_split=2; total time=   0.0s\n",
      "[CV] END max_depth=4, max_features=sqrt, min_impurity_decrease=1.1, min_samples_leaf=4, min_samples_split=2; total time=   0.0s\n",
      "[CV] END max_depth=4, max_features=sqrt, min_impurity_decrease=1.1, min_samples_leaf=4, min_samples_split=2; total time=   0.0s\n",
      "[CV] END max_depth=4, max_features=sqrt, min_impurity_decrease=1.1, min_samples_leaf=4, min_samples_split=4; total time=   0.0s\n",
      "[CV] END max_depth=4, max_features=sqrt, min_impurity_decrease=1.1, min_samples_leaf=4, min_samples_split=4; total time=   0.0s\n",
      "[CV] END max_depth=4, max_features=sqrt, min_impurity_decrease=1.1, min_samples_leaf=4, min_samples_split=4; total time=   0.0s\n",
      "[CV] END max_depth=4, max_features=sqrt, min_impurity_decrease=1.1, min_samples_leaf=4, min_samples_split=4; total time=   0.0s\n",
      "[CV] END max_depth=4, max_features=sqrt, min_impurity_decrease=1.1, min_samples_leaf=4, min_samples_split=4; total time=   0.0s\n",
      "[CV] END max_depth=4, max_features=sqrt, min_impurity_decrease=1.1, min_samples_leaf=4, min_samples_split=5; total time=   0.0s\n",
      "[CV] END max_depth=4, max_features=sqrt, min_impurity_decrease=1.1, min_samples_leaf=4, min_samples_split=5; total time=   0.0s\n",
      "[CV] END max_depth=4, max_features=sqrt, min_impurity_decrease=1.1, min_samples_leaf=4, min_samples_split=5; total time=   0.0s\n",
      "[CV] END max_depth=4, max_features=sqrt, min_impurity_decrease=1.1, min_samples_leaf=4, min_samples_split=5; total time=   0.0s\n",
      "[CV] END max_depth=4, max_features=sqrt, min_impurity_decrease=1.1, min_samples_leaf=4, min_samples_split=5; total time=   0.0s\n",
      "[CV] END max_depth=5, max_features=auto, min_impurity_decrease=0.0, min_samples_leaf=2, min_samples_split=2; total time=   0.0s\n",
      "[CV] END max_depth=5, max_features=auto, min_impurity_decrease=0.0, min_samples_leaf=2, min_samples_split=2; total time=   0.0s\n",
      "[CV] END max_depth=5, max_features=auto, min_impurity_decrease=0.0, min_samples_leaf=2, min_samples_split=2; total time=   0.0s\n",
      "[CV] END max_depth=5, max_features=auto, min_impurity_decrease=0.0, min_samples_leaf=2, min_samples_split=2; total time=   0.0s\n",
      "[CV] END max_depth=5, max_features=auto, min_impurity_decrease=0.0, min_samples_leaf=2, min_samples_split=2; total time=   0.0s\n",
      "[CV] END max_depth=5, max_features=auto, min_impurity_decrease=0.0, min_samples_leaf=2, min_samples_split=4; total time=   0.0s\n",
      "[CV] END max_depth=5, max_features=auto, min_impurity_decrease=0.0, min_samples_leaf=2, min_samples_split=4; total time=   0.0s\n",
      "[CV] END max_depth=5, max_features=auto, min_impurity_decrease=0.0, min_samples_leaf=2, min_samples_split=4; total time=   0.0s\n",
      "[CV] END max_depth=5, max_features=auto, min_impurity_decrease=0.0, min_samples_leaf=2, min_samples_split=4; total time=   0.0s\n",
      "[CV] END max_depth=5, max_features=auto, min_impurity_decrease=0.0, min_samples_leaf=2, min_samples_split=4; total time=   0.0s\n",
      "[CV] END max_depth=5, max_features=auto, min_impurity_decrease=0.0, min_samples_leaf=2, min_samples_split=5; total time=   0.0s\n",
      "[CV] END max_depth=5, max_features=auto, min_impurity_decrease=0.0, min_samples_leaf=2, min_samples_split=5; total time=   0.0s\n",
      "[CV] END max_depth=5, max_features=auto, min_impurity_decrease=0.0, min_samples_leaf=2, min_samples_split=5; total time=   0.0s\n",
      "[CV] END max_depth=5, max_features=auto, min_impurity_decrease=0.0, min_samples_leaf=2, min_samples_split=5; total time=   0.0s\n",
      "[CV] END max_depth=5, max_features=auto, min_impurity_decrease=0.0, min_samples_leaf=2, min_samples_split=5; total time=   0.0s\n",
      "[CV] END max_depth=5, max_features=auto, min_impurity_decrease=0.0, min_samples_leaf=4, min_samples_split=2; total time=   0.0s\n",
      "[CV] END max_depth=5, max_features=auto, min_impurity_decrease=0.0, min_samples_leaf=4, min_samples_split=2; total time=   0.0s\n",
      "[CV] END max_depth=5, max_features=auto, min_impurity_decrease=0.0, min_samples_leaf=4, min_samples_split=2; total time=   0.0s\n",
      "[CV] END max_depth=5, max_features=auto, min_impurity_decrease=0.0, min_samples_leaf=4, min_samples_split=2; total time=   0.0s\n",
      "[CV] END max_depth=5, max_features=auto, min_impurity_decrease=0.0, min_samples_leaf=4, min_samples_split=2; total time=   0.0s\n",
      "[CV] END max_depth=5, max_features=auto, min_impurity_decrease=0.0, min_samples_leaf=4, min_samples_split=4; total time=   0.0s\n",
      "[CV] END max_depth=5, max_features=auto, min_impurity_decrease=0.0, min_samples_leaf=4, min_samples_split=4; total time=   0.0s\n",
      "[CV] END max_depth=5, max_features=auto, min_impurity_decrease=0.0, min_samples_leaf=4, min_samples_split=4; total time=   0.0s\n",
      "[CV] END max_depth=5, max_features=auto, min_impurity_decrease=0.0, min_samples_leaf=4, min_samples_split=4; total time=   0.0s\n",
      "[CV] END max_depth=5, max_features=auto, min_impurity_decrease=0.0, min_samples_leaf=4, min_samples_split=4; total time=   0.0s\n",
      "[CV] END max_depth=5, max_features=auto, min_impurity_decrease=0.0, min_samples_leaf=4, min_samples_split=5; total time=   0.0s\n",
      "[CV] END max_depth=5, max_features=auto, min_impurity_decrease=0.0, min_samples_leaf=4, min_samples_split=5; total time=   0.0s\n",
      "[CV] END max_depth=5, max_features=auto, min_impurity_decrease=0.0, min_samples_leaf=4, min_samples_split=5; total time=   0.0s\n",
      "[CV] END max_depth=5, max_features=auto, min_impurity_decrease=0.0, min_samples_leaf=4, min_samples_split=5; total time=   0.0s\n",
      "[CV] END max_depth=5, max_features=auto, min_impurity_decrease=0.0, min_samples_leaf=4, min_samples_split=5; total time=   0.0s\n",
      "[CV] END max_depth=5, max_features=auto, min_impurity_decrease=2.1, min_samples_leaf=2, min_samples_split=2; total time=   0.0s\n",
      "[CV] END max_depth=5, max_features=auto, min_impurity_decrease=2.1, min_samples_leaf=2, min_samples_split=2; total time=   0.0s\n",
      "[CV] END max_depth=5, max_features=auto, min_impurity_decrease=2.1, min_samples_leaf=2, min_samples_split=2; total time=   0.0s\n",
      "[CV] END max_depth=5, max_features=auto, min_impurity_decrease=2.1, min_samples_leaf=2, min_samples_split=2; total time=   0.0s\n",
      "[CV] END max_depth=5, max_features=auto, min_impurity_decrease=2.1, min_samples_leaf=2, min_samples_split=2; total time=   0.0s\n",
      "[CV] END max_depth=5, max_features=auto, min_impurity_decrease=2.1, min_samples_leaf=2, min_samples_split=4; total time=   0.0s\n",
      "[CV] END max_depth=5, max_features=auto, min_impurity_decrease=2.1, min_samples_leaf=2, min_samples_split=4; total time=   0.0s\n",
      "[CV] END max_depth=5, max_features=auto, min_impurity_decrease=2.1, min_samples_leaf=2, min_samples_split=4; total time=   0.0s\n",
      "[CV] END max_depth=5, max_features=auto, min_impurity_decrease=2.1, min_samples_leaf=2, min_samples_split=4; total time=   0.0s\n",
      "[CV] END max_depth=5, max_features=auto, min_impurity_decrease=2.1, min_samples_leaf=2, min_samples_split=4; total time=   0.0s\n",
      "[CV] END max_depth=5, max_features=auto, min_impurity_decrease=2.1, min_samples_leaf=2, min_samples_split=5; total time=   0.0s\n",
      "[CV] END max_depth=5, max_features=auto, min_impurity_decrease=2.1, min_samples_leaf=2, min_samples_split=5; total time=   0.0s\n",
      "[CV] END max_depth=5, max_features=auto, min_impurity_decrease=2.1, min_samples_leaf=2, min_samples_split=5; total time=   0.0s\n",
      "[CV] END max_depth=5, max_features=auto, min_impurity_decrease=2.1, min_samples_leaf=2, min_samples_split=5; total time=   0.0s\n",
      "[CV] END max_depth=5, max_features=auto, min_impurity_decrease=2.1, min_samples_leaf=2, min_samples_split=5; total time=   0.0s\n",
      "[CV] END max_depth=5, max_features=auto, min_impurity_decrease=2.1, min_samples_leaf=4, min_samples_split=2; total time=   0.0s\n",
      "[CV] END max_depth=5, max_features=auto, min_impurity_decrease=2.1, min_samples_leaf=4, min_samples_split=2; total time=   0.0s\n",
      "[CV] END max_depth=5, max_features=auto, min_impurity_decrease=2.1, min_samples_leaf=4, min_samples_split=2; total time=   0.0s\n"
     ]
    },
    {
     "name": "stderr",
     "output_type": "stream",
     "text": [
      "C:\\Users\\Dell\\AppData\\Roaming\\Python\\Python38\\site-packages\\sklearn\\tree\\_classes.py:306: FutureWarning: `max_features='auto'` has been deprecated in 1.1 and will be removed in 1.3. To keep the past behaviour, explicitly set `max_features=1.0'`.\n",
      "  warnings.warn(\n",
      "C:\\Users\\Dell\\AppData\\Roaming\\Python\\Python38\\site-packages\\sklearn\\tree\\_classes.py:306: FutureWarning: `max_features='auto'` has been deprecated in 1.1 and will be removed in 1.3. To keep the past behaviour, explicitly set `max_features=1.0'`.\n",
      "  warnings.warn(\n",
      "C:\\Users\\Dell\\AppData\\Roaming\\Python\\Python38\\site-packages\\sklearn\\tree\\_classes.py:306: FutureWarning: `max_features='auto'` has been deprecated in 1.1 and will be removed in 1.3. To keep the past behaviour, explicitly set `max_features=1.0'`.\n",
      "  warnings.warn(\n",
      "C:\\Users\\Dell\\AppData\\Roaming\\Python\\Python38\\site-packages\\sklearn\\tree\\_classes.py:306: FutureWarning: `max_features='auto'` has been deprecated in 1.1 and will be removed in 1.3. To keep the past behaviour, explicitly set `max_features=1.0'`.\n",
      "  warnings.warn(\n",
      "C:\\Users\\Dell\\AppData\\Roaming\\Python\\Python38\\site-packages\\sklearn\\tree\\_classes.py:306: FutureWarning: `max_features='auto'` has been deprecated in 1.1 and will be removed in 1.3. To keep the past behaviour, explicitly set `max_features=1.0'`.\n",
      "  warnings.warn(\n",
      "C:\\Users\\Dell\\AppData\\Roaming\\Python\\Python38\\site-packages\\sklearn\\tree\\_classes.py:306: FutureWarning: `max_features='auto'` has been deprecated in 1.1 and will be removed in 1.3. To keep the past behaviour, explicitly set `max_features=1.0'`.\n",
      "  warnings.warn(\n",
      "C:\\Users\\Dell\\AppData\\Roaming\\Python\\Python38\\site-packages\\sklearn\\tree\\_classes.py:306: FutureWarning: `max_features='auto'` has been deprecated in 1.1 and will be removed in 1.3. To keep the past behaviour, explicitly set `max_features=1.0'`.\n",
      "  warnings.warn(\n",
      "C:\\Users\\Dell\\AppData\\Roaming\\Python\\Python38\\site-packages\\sklearn\\tree\\_classes.py:306: FutureWarning: `max_features='auto'` has been deprecated in 1.1 and will be removed in 1.3. To keep the past behaviour, explicitly set `max_features=1.0'`.\n",
      "  warnings.warn(\n",
      "C:\\Users\\Dell\\AppData\\Roaming\\Python\\Python38\\site-packages\\sklearn\\tree\\_classes.py:306: FutureWarning: `max_features='auto'` has been deprecated in 1.1 and will be removed in 1.3. To keep the past behaviour, explicitly set `max_features=1.0'`.\n",
      "  warnings.warn(\n",
      "C:\\Users\\Dell\\AppData\\Roaming\\Python\\Python38\\site-packages\\sklearn\\tree\\_classes.py:306: FutureWarning: `max_features='auto'` has been deprecated in 1.1 and will be removed in 1.3. To keep the past behaviour, explicitly set `max_features=1.0'`.\n",
      "  warnings.warn(\n",
      "C:\\Users\\Dell\\AppData\\Roaming\\Python\\Python38\\site-packages\\sklearn\\tree\\_classes.py:306: FutureWarning: `max_features='auto'` has been deprecated in 1.1 and will be removed in 1.3. To keep the past behaviour, explicitly set `max_features=1.0'`.\n",
      "  warnings.warn(\n",
      "C:\\Users\\Dell\\AppData\\Roaming\\Python\\Python38\\site-packages\\sklearn\\tree\\_classes.py:306: FutureWarning: `max_features='auto'` has been deprecated in 1.1 and will be removed in 1.3. To keep the past behaviour, explicitly set `max_features=1.0'`.\n",
      "  warnings.warn(\n",
      "C:\\Users\\Dell\\AppData\\Roaming\\Python\\Python38\\site-packages\\sklearn\\tree\\_classes.py:306: FutureWarning: `max_features='auto'` has been deprecated in 1.1 and will be removed in 1.3. To keep the past behaviour, explicitly set `max_features=1.0'`.\n",
      "  warnings.warn(\n",
      "C:\\Users\\Dell\\AppData\\Roaming\\Python\\Python38\\site-packages\\sklearn\\tree\\_classes.py:306: FutureWarning: `max_features='auto'` has been deprecated in 1.1 and will be removed in 1.3. To keep the past behaviour, explicitly set `max_features=1.0'`.\n",
      "  warnings.warn(\n",
      "C:\\Users\\Dell\\AppData\\Roaming\\Python\\Python38\\site-packages\\sklearn\\tree\\_classes.py:306: FutureWarning: `max_features='auto'` has been deprecated in 1.1 and will be removed in 1.3. To keep the past behaviour, explicitly set `max_features=1.0'`.\n",
      "  warnings.warn(\n",
      "C:\\Users\\Dell\\AppData\\Roaming\\Python\\Python38\\site-packages\\sklearn\\tree\\_classes.py:306: FutureWarning: `max_features='auto'` has been deprecated in 1.1 and will be removed in 1.3. To keep the past behaviour, explicitly set `max_features=1.0'`.\n",
      "  warnings.warn(\n",
      "C:\\Users\\Dell\\AppData\\Roaming\\Python\\Python38\\site-packages\\sklearn\\tree\\_classes.py:306: FutureWarning: `max_features='auto'` has been deprecated in 1.1 and will be removed in 1.3. To keep the past behaviour, explicitly set `max_features=1.0'`.\n",
      "  warnings.warn(\n",
      "C:\\Users\\Dell\\AppData\\Roaming\\Python\\Python38\\site-packages\\sklearn\\tree\\_classes.py:306: FutureWarning: `max_features='auto'` has been deprecated in 1.1 and will be removed in 1.3. To keep the past behaviour, explicitly set `max_features=1.0'`.\n",
      "  warnings.warn(\n",
      "C:\\Users\\Dell\\AppData\\Roaming\\Python\\Python38\\site-packages\\sklearn\\tree\\_classes.py:306: FutureWarning: `max_features='auto'` has been deprecated in 1.1 and will be removed in 1.3. To keep the past behaviour, explicitly set `max_features=1.0'`.\n",
      "  warnings.warn(\n",
      "C:\\Users\\Dell\\AppData\\Roaming\\Python\\Python38\\site-packages\\sklearn\\tree\\_classes.py:306: FutureWarning: `max_features='auto'` has been deprecated in 1.1 and will be removed in 1.3. To keep the past behaviour, explicitly set `max_features=1.0'`.\n",
      "  warnings.warn(\n",
      "C:\\Users\\Dell\\AppData\\Roaming\\Python\\Python38\\site-packages\\sklearn\\tree\\_classes.py:306: FutureWarning: `max_features='auto'` has been deprecated in 1.1 and will be removed in 1.3. To keep the past behaviour, explicitly set `max_features=1.0'`.\n",
      "  warnings.warn(\n",
      "C:\\Users\\Dell\\AppData\\Roaming\\Python\\Python38\\site-packages\\sklearn\\tree\\_classes.py:306: FutureWarning: `max_features='auto'` has been deprecated in 1.1 and will be removed in 1.3. To keep the past behaviour, explicitly set `max_features=1.0'`.\n",
      "  warnings.warn(\n",
      "C:\\Users\\Dell\\AppData\\Roaming\\Python\\Python38\\site-packages\\sklearn\\tree\\_classes.py:306: FutureWarning: `max_features='auto'` has been deprecated in 1.1 and will be removed in 1.3. To keep the past behaviour, explicitly set `max_features=1.0'`.\n",
      "  warnings.warn(\n",
      "C:\\Users\\Dell\\AppData\\Roaming\\Python\\Python38\\site-packages\\sklearn\\tree\\_classes.py:306: FutureWarning: `max_features='auto'` has been deprecated in 1.1 and will be removed in 1.3. To keep the past behaviour, explicitly set `max_features=1.0'`.\n",
      "  warnings.warn(\n",
      "C:\\Users\\Dell\\AppData\\Roaming\\Python\\Python38\\site-packages\\sklearn\\tree\\_classes.py:306: FutureWarning: `max_features='auto'` has been deprecated in 1.1 and will be removed in 1.3. To keep the past behaviour, explicitly set `max_features=1.0'`.\n",
      "  warnings.warn(\n",
      "C:\\Users\\Dell\\AppData\\Roaming\\Python\\Python38\\site-packages\\sklearn\\tree\\_classes.py:306: FutureWarning: `max_features='auto'` has been deprecated in 1.1 and will be removed in 1.3. To keep the past behaviour, explicitly set `max_features=1.0'`.\n",
      "  warnings.warn(\n",
      "C:\\Users\\Dell\\AppData\\Roaming\\Python\\Python38\\site-packages\\sklearn\\tree\\_classes.py:306: FutureWarning: `max_features='auto'` has been deprecated in 1.1 and will be removed in 1.3. To keep the past behaviour, explicitly set `max_features=1.0'`.\n",
      "  warnings.warn(\n",
      "C:\\Users\\Dell\\AppData\\Roaming\\Python\\Python38\\site-packages\\sklearn\\tree\\_classes.py:306: FutureWarning: `max_features='auto'` has been deprecated in 1.1 and will be removed in 1.3. To keep the past behaviour, explicitly set `max_features=1.0'`.\n",
      "  warnings.warn(\n",
      "C:\\Users\\Dell\\AppData\\Roaming\\Python\\Python38\\site-packages\\sklearn\\tree\\_classes.py:306: FutureWarning: `max_features='auto'` has been deprecated in 1.1 and will be removed in 1.3. To keep the past behaviour, explicitly set `max_features=1.0'`.\n",
      "  warnings.warn(\n",
      "C:\\Users\\Dell\\AppData\\Roaming\\Python\\Python38\\site-packages\\sklearn\\tree\\_classes.py:306: FutureWarning: `max_features='auto'` has been deprecated in 1.1 and will be removed in 1.3. To keep the past behaviour, explicitly set `max_features=1.0'`.\n",
      "  warnings.warn(\n",
      "C:\\Users\\Dell\\AppData\\Roaming\\Python\\Python38\\site-packages\\sklearn\\tree\\_classes.py:306: FutureWarning: `max_features='auto'` has been deprecated in 1.1 and will be removed in 1.3. To keep the past behaviour, explicitly set `max_features=1.0'`.\n",
      "  warnings.warn(\n",
      "C:\\Users\\Dell\\AppData\\Roaming\\Python\\Python38\\site-packages\\sklearn\\tree\\_classes.py:306: FutureWarning: `max_features='auto'` has been deprecated in 1.1 and will be removed in 1.3. To keep the past behaviour, explicitly set `max_features=1.0'`.\n",
      "  warnings.warn(\n",
      "C:\\Users\\Dell\\AppData\\Roaming\\Python\\Python38\\site-packages\\sklearn\\tree\\_classes.py:306: FutureWarning: `max_features='auto'` has been deprecated in 1.1 and will be removed in 1.3. To keep the past behaviour, explicitly set `max_features=1.0'`.\n",
      "  warnings.warn(\n",
      "C:\\Users\\Dell\\AppData\\Roaming\\Python\\Python38\\site-packages\\sklearn\\tree\\_classes.py:306: FutureWarning: `max_features='auto'` has been deprecated in 1.1 and will be removed in 1.3. To keep the past behaviour, explicitly set `max_features=1.0'`.\n",
      "  warnings.warn(\n",
      "C:\\Users\\Dell\\AppData\\Roaming\\Python\\Python38\\site-packages\\sklearn\\tree\\_classes.py:306: FutureWarning: `max_features='auto'` has been deprecated in 1.1 and will be removed in 1.3. To keep the past behaviour, explicitly set `max_features=1.0'`.\n",
      "  warnings.warn(\n",
      "C:\\Users\\Dell\\AppData\\Roaming\\Python\\Python38\\site-packages\\sklearn\\tree\\_classes.py:306: FutureWarning: `max_features='auto'` has been deprecated in 1.1 and will be removed in 1.3. To keep the past behaviour, explicitly set `max_features=1.0'`.\n",
      "  warnings.warn(\n",
      "C:\\Users\\Dell\\AppData\\Roaming\\Python\\Python38\\site-packages\\sklearn\\tree\\_classes.py:306: FutureWarning: `max_features='auto'` has been deprecated in 1.1 and will be removed in 1.3. To keep the past behaviour, explicitly set `max_features=1.0'`.\n",
      "  warnings.warn(\n",
      "C:\\Users\\Dell\\AppData\\Roaming\\Python\\Python38\\site-packages\\sklearn\\tree\\_classes.py:306: FutureWarning: `max_features='auto'` has been deprecated in 1.1 and will be removed in 1.3. To keep the past behaviour, explicitly set `max_features=1.0'`.\n",
      "  warnings.warn(\n",
      "C:\\Users\\Dell\\AppData\\Roaming\\Python\\Python38\\site-packages\\sklearn\\tree\\_classes.py:306: FutureWarning: `max_features='auto'` has been deprecated in 1.1 and will be removed in 1.3. To keep the past behaviour, explicitly set `max_features=1.0'`.\n",
      "  warnings.warn(\n",
      "C:\\Users\\Dell\\AppData\\Roaming\\Python\\Python38\\site-packages\\sklearn\\tree\\_classes.py:306: FutureWarning: `max_features='auto'` has been deprecated in 1.1 and will be removed in 1.3. To keep the past behaviour, explicitly set `max_features=1.0'`.\n",
      "  warnings.warn(\n",
      "C:\\Users\\Dell\\AppData\\Roaming\\Python\\Python38\\site-packages\\sklearn\\tree\\_classes.py:306: FutureWarning: `max_features='auto'` has been deprecated in 1.1 and will be removed in 1.3. To keep the past behaviour, explicitly set `max_features=1.0'`.\n",
      "  warnings.warn(\n",
      "C:\\Users\\Dell\\AppData\\Roaming\\Python\\Python38\\site-packages\\sklearn\\tree\\_classes.py:306: FutureWarning: `max_features='auto'` has been deprecated in 1.1 and will be removed in 1.3. To keep the past behaviour, explicitly set `max_features=1.0'`.\n",
      "  warnings.warn(\n",
      "C:\\Users\\Dell\\AppData\\Roaming\\Python\\Python38\\site-packages\\sklearn\\tree\\_classes.py:306: FutureWarning: `max_features='auto'` has been deprecated in 1.1 and will be removed in 1.3. To keep the past behaviour, explicitly set `max_features=1.0'`.\n",
      "  warnings.warn(\n",
      "C:\\Users\\Dell\\AppData\\Roaming\\Python\\Python38\\site-packages\\sklearn\\tree\\_classes.py:306: FutureWarning: `max_features='auto'` has been deprecated in 1.1 and will be removed in 1.3. To keep the past behaviour, explicitly set `max_features=1.0'`.\n",
      "  warnings.warn(\n",
      "C:\\Users\\Dell\\AppData\\Roaming\\Python\\Python38\\site-packages\\sklearn\\tree\\_classes.py:306: FutureWarning: `max_features='auto'` has been deprecated in 1.1 and will be removed in 1.3. To keep the past behaviour, explicitly set `max_features=1.0'`.\n",
      "  warnings.warn(\n",
      "C:\\Users\\Dell\\AppData\\Roaming\\Python\\Python38\\site-packages\\sklearn\\tree\\_classes.py:306: FutureWarning: `max_features='auto'` has been deprecated in 1.1 and will be removed in 1.3. To keep the past behaviour, explicitly set `max_features=1.0'`.\n",
      "  warnings.warn(\n",
      "C:\\Users\\Dell\\AppData\\Roaming\\Python\\Python38\\site-packages\\sklearn\\tree\\_classes.py:306: FutureWarning: `max_features='auto'` has been deprecated in 1.1 and will be removed in 1.3. To keep the past behaviour, explicitly set `max_features=1.0'`.\n",
      "  warnings.warn(\n",
      "C:\\Users\\Dell\\AppData\\Roaming\\Python\\Python38\\site-packages\\sklearn\\tree\\_classes.py:306: FutureWarning: `max_features='auto'` has been deprecated in 1.1 and will be removed in 1.3. To keep the past behaviour, explicitly set `max_features=1.0'`.\n",
      "  warnings.warn(\n",
      "C:\\Users\\Dell\\AppData\\Roaming\\Python\\Python38\\site-packages\\sklearn\\tree\\_classes.py:306: FutureWarning: `max_features='auto'` has been deprecated in 1.1 and will be removed in 1.3. To keep the past behaviour, explicitly set `max_features=1.0'`.\n",
      "  warnings.warn(\n"
     ]
    },
    {
     "name": "stdout",
     "output_type": "stream",
     "text": [
      "[CV] END max_depth=5, max_features=auto, min_impurity_decrease=2.1, min_samples_leaf=4, min_samples_split=2; total time=   0.0s\n",
      "[CV] END max_depth=5, max_features=auto, min_impurity_decrease=2.1, min_samples_leaf=4, min_samples_split=2; total time=   0.0s\n",
      "[CV] END max_depth=5, max_features=auto, min_impurity_decrease=2.1, min_samples_leaf=4, min_samples_split=4; total time=   0.0s\n",
      "[CV] END max_depth=5, max_features=auto, min_impurity_decrease=2.1, min_samples_leaf=4, min_samples_split=4; total time=   0.0s\n",
      "[CV] END max_depth=5, max_features=auto, min_impurity_decrease=2.1, min_samples_leaf=4, min_samples_split=4; total time=   0.0s\n",
      "[CV] END max_depth=5, max_features=auto, min_impurity_decrease=2.1, min_samples_leaf=4, min_samples_split=4; total time=   0.0s\n",
      "[CV] END max_depth=5, max_features=auto, min_impurity_decrease=2.1, min_samples_leaf=4, min_samples_split=4; total time=   0.0s\n",
      "[CV] END max_depth=5, max_features=auto, min_impurity_decrease=2.1, min_samples_leaf=4, min_samples_split=5; total time=   0.0s\n",
      "[CV] END max_depth=5, max_features=auto, min_impurity_decrease=2.1, min_samples_leaf=4, min_samples_split=5; total time=   0.0s\n",
      "[CV] END max_depth=5, max_features=auto, min_impurity_decrease=2.1, min_samples_leaf=4, min_samples_split=5; total time=   0.0s\n",
      "[CV] END max_depth=5, max_features=auto, min_impurity_decrease=2.1, min_samples_leaf=4, min_samples_split=5; total time=   0.0s\n",
      "[CV] END max_depth=5, max_features=auto, min_impurity_decrease=2.1, min_samples_leaf=4, min_samples_split=5; total time=   0.0s\n",
      "[CV] END max_depth=5, max_features=auto, min_impurity_decrease=1.1, min_samples_leaf=2, min_samples_split=2; total time=   0.0s\n",
      "[CV] END max_depth=5, max_features=auto, min_impurity_decrease=1.1, min_samples_leaf=2, min_samples_split=2; total time=   0.0s\n",
      "[CV] END max_depth=5, max_features=auto, min_impurity_decrease=1.1, min_samples_leaf=2, min_samples_split=2; total time=   0.0s\n",
      "[CV] END max_depth=5, max_features=auto, min_impurity_decrease=1.1, min_samples_leaf=2, min_samples_split=2; total time=   0.0s\n",
      "[CV] END max_depth=5, max_features=auto, min_impurity_decrease=1.1, min_samples_leaf=2, min_samples_split=2; total time=   0.0s\n",
      "[CV] END max_depth=5, max_features=auto, min_impurity_decrease=1.1, min_samples_leaf=2, min_samples_split=4; total time=   0.0s\n",
      "[CV] END max_depth=5, max_features=auto, min_impurity_decrease=1.1, min_samples_leaf=2, min_samples_split=4; total time=   0.0s\n",
      "[CV] END max_depth=5, max_features=auto, min_impurity_decrease=1.1, min_samples_leaf=2, min_samples_split=4; total time=   0.0s\n",
      "[CV] END max_depth=5, max_features=auto, min_impurity_decrease=1.1, min_samples_leaf=2, min_samples_split=4; total time=   0.0s\n",
      "[CV] END max_depth=5, max_features=auto, min_impurity_decrease=1.1, min_samples_leaf=2, min_samples_split=4; total time=   0.0s\n",
      "[CV] END max_depth=5, max_features=auto, min_impurity_decrease=1.1, min_samples_leaf=2, min_samples_split=5; total time=   0.0s\n",
      "[CV] END max_depth=5, max_features=auto, min_impurity_decrease=1.1, min_samples_leaf=2, min_samples_split=5; total time=   0.0s\n",
      "[CV] END max_depth=5, max_features=auto, min_impurity_decrease=1.1, min_samples_leaf=2, min_samples_split=5; total time=   0.0s\n",
      "[CV] END max_depth=5, max_features=auto, min_impurity_decrease=1.1, min_samples_leaf=2, min_samples_split=5; total time=   0.0s\n",
      "[CV] END max_depth=5, max_features=auto, min_impurity_decrease=1.1, min_samples_leaf=2, min_samples_split=5; total time=   0.0s\n",
      "[CV] END max_depth=5, max_features=auto, min_impurity_decrease=1.1, min_samples_leaf=4, min_samples_split=2; total time=   0.0s\n",
      "[CV] END max_depth=5, max_features=auto, min_impurity_decrease=1.1, min_samples_leaf=4, min_samples_split=2; total time=   0.0s\n",
      "[CV] END max_depth=5, max_features=auto, min_impurity_decrease=1.1, min_samples_leaf=4, min_samples_split=2; total time=   0.0s\n",
      "[CV] END max_depth=5, max_features=auto, min_impurity_decrease=1.1, min_samples_leaf=4, min_samples_split=2; total time=   0.0s\n",
      "[CV] END max_depth=5, max_features=auto, min_impurity_decrease=1.1, min_samples_leaf=4, min_samples_split=2; total time=   0.0s\n",
      "[CV] END max_depth=5, max_features=auto, min_impurity_decrease=1.1, min_samples_leaf=4, min_samples_split=4; total time=   0.0s\n",
      "[CV] END max_depth=5, max_features=auto, min_impurity_decrease=1.1, min_samples_leaf=4, min_samples_split=4; total time=   0.0s\n",
      "[CV] END max_depth=5, max_features=auto, min_impurity_decrease=1.1, min_samples_leaf=4, min_samples_split=4; total time=   0.0s\n",
      "[CV] END max_depth=5, max_features=auto, min_impurity_decrease=1.1, min_samples_leaf=4, min_samples_split=4; total time=   0.0s\n",
      "[CV] END max_depth=5, max_features=auto, min_impurity_decrease=1.1, min_samples_leaf=4, min_samples_split=4; total time=   0.0s\n",
      "[CV] END max_depth=5, max_features=auto, min_impurity_decrease=1.1, min_samples_leaf=4, min_samples_split=5; total time=   0.0s\n",
      "[CV] END max_depth=5, max_features=auto, min_impurity_decrease=1.1, min_samples_leaf=4, min_samples_split=5; total time=   0.0s\n",
      "[CV] END max_depth=5, max_features=auto, min_impurity_decrease=1.1, min_samples_leaf=4, min_samples_split=5; total time=   0.0s\n",
      "[CV] END max_depth=5, max_features=auto, min_impurity_decrease=1.1, min_samples_leaf=4, min_samples_split=5; total time=   0.0s\n",
      "[CV] END max_depth=5, max_features=auto, min_impurity_decrease=1.1, min_samples_leaf=4, min_samples_split=5; total time=   0.0s\n",
      "[CV] END max_depth=5, max_features=sqrt, min_impurity_decrease=0.0, min_samples_leaf=2, min_samples_split=2; total time=   0.0s\n",
      "[CV] END max_depth=5, max_features=sqrt, min_impurity_decrease=0.0, min_samples_leaf=2, min_samples_split=2; total time=   0.0s\n",
      "[CV] END max_depth=5, max_features=sqrt, min_impurity_decrease=0.0, min_samples_leaf=2, min_samples_split=2; total time=   0.0s\n",
      "[CV] END max_depth=5, max_features=sqrt, min_impurity_decrease=0.0, min_samples_leaf=2, min_samples_split=2; total time=   0.0s\n",
      "[CV] END max_depth=5, max_features=sqrt, min_impurity_decrease=0.0, min_samples_leaf=2, min_samples_split=2; total time=   0.0s\n",
      "[CV] END max_depth=5, max_features=sqrt, min_impurity_decrease=0.0, min_samples_leaf=2, min_samples_split=4; total time=   0.0s\n",
      "[CV] END max_depth=5, max_features=sqrt, min_impurity_decrease=0.0, min_samples_leaf=2, min_samples_split=4; total time=   0.0s\n",
      "[CV] END max_depth=5, max_features=sqrt, min_impurity_decrease=0.0, min_samples_leaf=2, min_samples_split=4; total time=   0.0s\n"
     ]
    },
    {
     "name": "stderr",
     "output_type": "stream",
     "text": [
      "C:\\Users\\Dell\\AppData\\Roaming\\Python\\Python38\\site-packages\\sklearn\\tree\\_classes.py:306: FutureWarning: `max_features='auto'` has been deprecated in 1.1 and will be removed in 1.3. To keep the past behaviour, explicitly set `max_features=1.0'`.\n",
      "  warnings.warn(\n",
      "C:\\Users\\Dell\\AppData\\Roaming\\Python\\Python38\\site-packages\\sklearn\\tree\\_classes.py:306: FutureWarning: `max_features='auto'` has been deprecated in 1.1 and will be removed in 1.3. To keep the past behaviour, explicitly set `max_features=1.0'`.\n",
      "  warnings.warn(\n",
      "C:\\Users\\Dell\\AppData\\Roaming\\Python\\Python38\\site-packages\\sklearn\\tree\\_classes.py:306: FutureWarning: `max_features='auto'` has been deprecated in 1.1 and will be removed in 1.3. To keep the past behaviour, explicitly set `max_features=1.0'`.\n",
      "  warnings.warn(\n",
      "C:\\Users\\Dell\\AppData\\Roaming\\Python\\Python38\\site-packages\\sklearn\\tree\\_classes.py:306: FutureWarning: `max_features='auto'` has been deprecated in 1.1 and will be removed in 1.3. To keep the past behaviour, explicitly set `max_features=1.0'`.\n",
      "  warnings.warn(\n",
      "C:\\Users\\Dell\\AppData\\Roaming\\Python\\Python38\\site-packages\\sklearn\\tree\\_classes.py:306: FutureWarning: `max_features='auto'` has been deprecated in 1.1 and will be removed in 1.3. To keep the past behaviour, explicitly set `max_features=1.0'`.\n",
      "  warnings.warn(\n",
      "C:\\Users\\Dell\\AppData\\Roaming\\Python\\Python38\\site-packages\\sklearn\\tree\\_classes.py:306: FutureWarning: `max_features='auto'` has been deprecated in 1.1 and will be removed in 1.3. To keep the past behaviour, explicitly set `max_features=1.0'`.\n",
      "  warnings.warn(\n",
      "C:\\Users\\Dell\\AppData\\Roaming\\Python\\Python38\\site-packages\\sklearn\\tree\\_classes.py:306: FutureWarning: `max_features='auto'` has been deprecated in 1.1 and will be removed in 1.3. To keep the past behaviour, explicitly set `max_features=1.0'`.\n",
      "  warnings.warn(\n",
      "C:\\Users\\Dell\\AppData\\Roaming\\Python\\Python38\\site-packages\\sklearn\\tree\\_classes.py:306: FutureWarning: `max_features='auto'` has been deprecated in 1.1 and will be removed in 1.3. To keep the past behaviour, explicitly set `max_features=1.0'`.\n",
      "  warnings.warn(\n",
      "C:\\Users\\Dell\\AppData\\Roaming\\Python\\Python38\\site-packages\\sklearn\\tree\\_classes.py:306: FutureWarning: `max_features='auto'` has been deprecated in 1.1 and will be removed in 1.3. To keep the past behaviour, explicitly set `max_features=1.0'`.\n",
      "  warnings.warn(\n",
      "C:\\Users\\Dell\\AppData\\Roaming\\Python\\Python38\\site-packages\\sklearn\\tree\\_classes.py:306: FutureWarning: `max_features='auto'` has been deprecated in 1.1 and will be removed in 1.3. To keep the past behaviour, explicitly set `max_features=1.0'`.\n",
      "  warnings.warn(\n",
      "C:\\Users\\Dell\\AppData\\Roaming\\Python\\Python38\\site-packages\\sklearn\\tree\\_classes.py:306: FutureWarning: `max_features='auto'` has been deprecated in 1.1 and will be removed in 1.3. To keep the past behaviour, explicitly set `max_features=1.0'`.\n",
      "  warnings.warn(\n",
      "C:\\Users\\Dell\\AppData\\Roaming\\Python\\Python38\\site-packages\\sklearn\\tree\\_classes.py:306: FutureWarning: `max_features='auto'` has been deprecated in 1.1 and will be removed in 1.3. To keep the past behaviour, explicitly set `max_features=1.0'`.\n",
      "  warnings.warn(\n",
      "C:\\Users\\Dell\\AppData\\Roaming\\Python\\Python38\\site-packages\\sklearn\\tree\\_classes.py:306: FutureWarning: `max_features='auto'` has been deprecated in 1.1 and will be removed in 1.3. To keep the past behaviour, explicitly set `max_features=1.0'`.\n",
      "  warnings.warn(\n",
      "C:\\Users\\Dell\\AppData\\Roaming\\Python\\Python38\\site-packages\\sklearn\\tree\\_classes.py:306: FutureWarning: `max_features='auto'` has been deprecated in 1.1 and will be removed in 1.3. To keep the past behaviour, explicitly set `max_features=1.0'`.\n",
      "  warnings.warn(\n",
      "C:\\Users\\Dell\\AppData\\Roaming\\Python\\Python38\\site-packages\\sklearn\\tree\\_classes.py:306: FutureWarning: `max_features='auto'` has been deprecated in 1.1 and will be removed in 1.3. To keep the past behaviour, explicitly set `max_features=1.0'`.\n",
      "  warnings.warn(\n",
      "C:\\Users\\Dell\\AppData\\Roaming\\Python\\Python38\\site-packages\\sklearn\\tree\\_classes.py:306: FutureWarning: `max_features='auto'` has been deprecated in 1.1 and will be removed in 1.3. To keep the past behaviour, explicitly set `max_features=1.0'`.\n",
      "  warnings.warn(\n",
      "C:\\Users\\Dell\\AppData\\Roaming\\Python\\Python38\\site-packages\\sklearn\\tree\\_classes.py:306: FutureWarning: `max_features='auto'` has been deprecated in 1.1 and will be removed in 1.3. To keep the past behaviour, explicitly set `max_features=1.0'`.\n",
      "  warnings.warn(\n",
      "C:\\Users\\Dell\\AppData\\Roaming\\Python\\Python38\\site-packages\\sklearn\\tree\\_classes.py:306: FutureWarning: `max_features='auto'` has been deprecated in 1.1 and will be removed in 1.3. To keep the past behaviour, explicitly set `max_features=1.0'`.\n",
      "  warnings.warn(\n",
      "C:\\Users\\Dell\\AppData\\Roaming\\Python\\Python38\\site-packages\\sklearn\\tree\\_classes.py:306: FutureWarning: `max_features='auto'` has been deprecated in 1.1 and will be removed in 1.3. To keep the past behaviour, explicitly set `max_features=1.0'`.\n",
      "  warnings.warn(\n",
      "C:\\Users\\Dell\\AppData\\Roaming\\Python\\Python38\\site-packages\\sklearn\\tree\\_classes.py:306: FutureWarning: `max_features='auto'` has been deprecated in 1.1 and will be removed in 1.3. To keep the past behaviour, explicitly set `max_features=1.0'`.\n",
      "  warnings.warn(\n",
      "C:\\Users\\Dell\\AppData\\Roaming\\Python\\Python38\\site-packages\\sklearn\\tree\\_classes.py:306: FutureWarning: `max_features='auto'` has been deprecated in 1.1 and will be removed in 1.3. To keep the past behaviour, explicitly set `max_features=1.0'`.\n",
      "  warnings.warn(\n",
      "C:\\Users\\Dell\\AppData\\Roaming\\Python\\Python38\\site-packages\\sklearn\\tree\\_classes.py:306: FutureWarning: `max_features='auto'` has been deprecated in 1.1 and will be removed in 1.3. To keep the past behaviour, explicitly set `max_features=1.0'`.\n",
      "  warnings.warn(\n",
      "C:\\Users\\Dell\\AppData\\Roaming\\Python\\Python38\\site-packages\\sklearn\\tree\\_classes.py:306: FutureWarning: `max_features='auto'` has been deprecated in 1.1 and will be removed in 1.3. To keep the past behaviour, explicitly set `max_features=1.0'`.\n",
      "  warnings.warn(\n",
      "C:\\Users\\Dell\\AppData\\Roaming\\Python\\Python38\\site-packages\\sklearn\\tree\\_classes.py:306: FutureWarning: `max_features='auto'` has been deprecated in 1.1 and will be removed in 1.3. To keep the past behaviour, explicitly set `max_features=1.0'`.\n",
      "  warnings.warn(\n",
      "C:\\Users\\Dell\\AppData\\Roaming\\Python\\Python38\\site-packages\\sklearn\\tree\\_classes.py:306: FutureWarning: `max_features='auto'` has been deprecated in 1.1 and will be removed in 1.3. To keep the past behaviour, explicitly set `max_features=1.0'`.\n",
      "  warnings.warn(\n",
      "C:\\Users\\Dell\\AppData\\Roaming\\Python\\Python38\\site-packages\\sklearn\\tree\\_classes.py:306: FutureWarning: `max_features='auto'` has been deprecated in 1.1 and will be removed in 1.3. To keep the past behaviour, explicitly set `max_features=1.0'`.\n",
      "  warnings.warn(\n",
      "C:\\Users\\Dell\\AppData\\Roaming\\Python\\Python38\\site-packages\\sklearn\\tree\\_classes.py:306: FutureWarning: `max_features='auto'` has been deprecated in 1.1 and will be removed in 1.3. To keep the past behaviour, explicitly set `max_features=1.0'`.\n",
      "  warnings.warn(\n",
      "C:\\Users\\Dell\\AppData\\Roaming\\Python\\Python38\\site-packages\\sklearn\\tree\\_classes.py:306: FutureWarning: `max_features='auto'` has been deprecated in 1.1 and will be removed in 1.3. To keep the past behaviour, explicitly set `max_features=1.0'`.\n",
      "  warnings.warn(\n",
      "C:\\Users\\Dell\\AppData\\Roaming\\Python\\Python38\\site-packages\\sklearn\\tree\\_classes.py:306: FutureWarning: `max_features='auto'` has been deprecated in 1.1 and will be removed in 1.3. To keep the past behaviour, explicitly set `max_features=1.0'`.\n",
      "  warnings.warn(\n",
      "C:\\Users\\Dell\\AppData\\Roaming\\Python\\Python38\\site-packages\\sklearn\\tree\\_classes.py:306: FutureWarning: `max_features='auto'` has been deprecated in 1.1 and will be removed in 1.3. To keep the past behaviour, explicitly set `max_features=1.0'`.\n",
      "  warnings.warn(\n",
      "C:\\Users\\Dell\\AppData\\Roaming\\Python\\Python38\\site-packages\\sklearn\\tree\\_classes.py:306: FutureWarning: `max_features='auto'` has been deprecated in 1.1 and will be removed in 1.3. To keep the past behaviour, explicitly set `max_features=1.0'`.\n",
      "  warnings.warn(\n",
      "C:\\Users\\Dell\\AppData\\Roaming\\Python\\Python38\\site-packages\\sklearn\\tree\\_classes.py:306: FutureWarning: `max_features='auto'` has been deprecated in 1.1 and will be removed in 1.3. To keep the past behaviour, explicitly set `max_features=1.0'`.\n",
      "  warnings.warn(\n",
      "C:\\Users\\Dell\\AppData\\Roaming\\Python\\Python38\\site-packages\\sklearn\\tree\\_classes.py:306: FutureWarning: `max_features='auto'` has been deprecated in 1.1 and will be removed in 1.3. To keep the past behaviour, explicitly set `max_features=1.0'`.\n",
      "  warnings.warn(\n",
      "C:\\Users\\Dell\\AppData\\Roaming\\Python\\Python38\\site-packages\\sklearn\\tree\\_classes.py:306: FutureWarning: `max_features='auto'` has been deprecated in 1.1 and will be removed in 1.3. To keep the past behaviour, explicitly set `max_features=1.0'`.\n",
      "  warnings.warn(\n",
      "C:\\Users\\Dell\\AppData\\Roaming\\Python\\Python38\\site-packages\\sklearn\\tree\\_classes.py:306: FutureWarning: `max_features='auto'` has been deprecated in 1.1 and will be removed in 1.3. To keep the past behaviour, explicitly set `max_features=1.0'`.\n",
      "  warnings.warn(\n",
      "C:\\Users\\Dell\\AppData\\Roaming\\Python\\Python38\\site-packages\\sklearn\\tree\\_classes.py:306: FutureWarning: `max_features='auto'` has been deprecated in 1.1 and will be removed in 1.3. To keep the past behaviour, explicitly set `max_features=1.0'`.\n",
      "  warnings.warn(\n",
      "C:\\Users\\Dell\\AppData\\Roaming\\Python\\Python38\\site-packages\\sklearn\\tree\\_classes.py:306: FutureWarning: `max_features='auto'` has been deprecated in 1.1 and will be removed in 1.3. To keep the past behaviour, explicitly set `max_features=1.0'`.\n",
      "  warnings.warn(\n",
      "C:\\Users\\Dell\\AppData\\Roaming\\Python\\Python38\\site-packages\\sklearn\\tree\\_classes.py:306: FutureWarning: `max_features='auto'` has been deprecated in 1.1 and will be removed in 1.3. To keep the past behaviour, explicitly set `max_features=1.0'`.\n",
      "  warnings.warn(\n",
      "C:\\Users\\Dell\\AppData\\Roaming\\Python\\Python38\\site-packages\\sklearn\\tree\\_classes.py:306: FutureWarning: `max_features='auto'` has been deprecated in 1.1 and will be removed in 1.3. To keep the past behaviour, explicitly set `max_features=1.0'`.\n",
      "  warnings.warn(\n",
      "C:\\Users\\Dell\\AppData\\Roaming\\Python\\Python38\\site-packages\\sklearn\\tree\\_classes.py:306: FutureWarning: `max_features='auto'` has been deprecated in 1.1 and will be removed in 1.3. To keep the past behaviour, explicitly set `max_features=1.0'`.\n",
      "  warnings.warn(\n",
      "C:\\Users\\Dell\\AppData\\Roaming\\Python\\Python38\\site-packages\\sklearn\\tree\\_classes.py:306: FutureWarning: `max_features='auto'` has been deprecated in 1.1 and will be removed in 1.3. To keep the past behaviour, explicitly set `max_features=1.0'`.\n",
      "  warnings.warn(\n"
     ]
    },
    {
     "name": "stdout",
     "output_type": "stream",
     "text": [
      "[CV] END max_depth=5, max_features=sqrt, min_impurity_decrease=0.0, min_samples_leaf=2, min_samples_split=4; total time=   0.0s\n",
      "[CV] END max_depth=5, max_features=sqrt, min_impurity_decrease=0.0, min_samples_leaf=2, min_samples_split=4; total time=   0.0s\n",
      "[CV] END max_depth=5, max_features=sqrt, min_impurity_decrease=0.0, min_samples_leaf=2, min_samples_split=5; total time=   0.0s\n",
      "[CV] END max_depth=5, max_features=sqrt, min_impurity_decrease=0.0, min_samples_leaf=2, min_samples_split=5; total time=   0.0s\n",
      "[CV] END max_depth=5, max_features=sqrt, min_impurity_decrease=0.0, min_samples_leaf=2, min_samples_split=5; total time=   0.0s\n",
      "[CV] END max_depth=5, max_features=sqrt, min_impurity_decrease=0.0, min_samples_leaf=2, min_samples_split=5; total time=   0.0s\n",
      "[CV] END max_depth=5, max_features=sqrt, min_impurity_decrease=0.0, min_samples_leaf=2, min_samples_split=5; total time=   0.0s\n",
      "[CV] END max_depth=5, max_features=sqrt, min_impurity_decrease=0.0, min_samples_leaf=4, min_samples_split=2; total time=   0.0s\n",
      "[CV] END max_depth=5, max_features=sqrt, min_impurity_decrease=0.0, min_samples_leaf=4, min_samples_split=2; total time=   0.0s\n",
      "[CV] END max_depth=5, max_features=sqrt, min_impurity_decrease=0.0, min_samples_leaf=4, min_samples_split=2; total time=   0.0s\n",
      "[CV] END max_depth=5, max_features=sqrt, min_impurity_decrease=0.0, min_samples_leaf=4, min_samples_split=2; total time=   0.0s\n",
      "[CV] END max_depth=5, max_features=sqrt, min_impurity_decrease=0.0, min_samples_leaf=4, min_samples_split=2; total time=   0.0s\n",
      "[CV] END max_depth=5, max_features=sqrt, min_impurity_decrease=0.0, min_samples_leaf=4, min_samples_split=4; total time=   0.0s\n",
      "[CV] END max_depth=5, max_features=sqrt, min_impurity_decrease=0.0, min_samples_leaf=4, min_samples_split=4; total time=   0.0s\n",
      "[CV] END max_depth=5, max_features=sqrt, min_impurity_decrease=0.0, min_samples_leaf=4, min_samples_split=4; total time=   0.0s\n",
      "[CV] END max_depth=5, max_features=sqrt, min_impurity_decrease=0.0, min_samples_leaf=4, min_samples_split=4; total time=   0.0s\n",
      "[CV] END max_depth=5, max_features=sqrt, min_impurity_decrease=0.0, min_samples_leaf=4, min_samples_split=4; total time=   0.0s\n",
      "[CV] END max_depth=5, max_features=sqrt, min_impurity_decrease=0.0, min_samples_leaf=4, min_samples_split=5; total time=   0.0s\n",
      "[CV] END max_depth=5, max_features=sqrt, min_impurity_decrease=0.0, min_samples_leaf=4, min_samples_split=5; total time=   0.0s\n",
      "[CV] END max_depth=5, max_features=sqrt, min_impurity_decrease=0.0, min_samples_leaf=4, min_samples_split=5; total time=   0.0s\n",
      "[CV] END max_depth=5, max_features=sqrt, min_impurity_decrease=0.0, min_samples_leaf=4, min_samples_split=5; total time=   0.0s\n",
      "[CV] END max_depth=5, max_features=sqrt, min_impurity_decrease=0.0, min_samples_leaf=4, min_samples_split=5; total time=   0.0s\n",
      "[CV] END max_depth=5, max_features=sqrt, min_impurity_decrease=2.1, min_samples_leaf=2, min_samples_split=2; total time=   0.0s\n",
      "[CV] END max_depth=5, max_features=sqrt, min_impurity_decrease=2.1, min_samples_leaf=2, min_samples_split=2; total time=   0.0s\n",
      "[CV] END max_depth=5, max_features=sqrt, min_impurity_decrease=2.1, min_samples_leaf=2, min_samples_split=2; total time=   0.0s\n",
      "[CV] END max_depth=5, max_features=sqrt, min_impurity_decrease=2.1, min_samples_leaf=2, min_samples_split=2; total time=   0.0s\n",
      "[CV] END max_depth=5, max_features=sqrt, min_impurity_decrease=2.1, min_samples_leaf=2, min_samples_split=2; total time=   0.0s\n",
      "[CV] END max_depth=5, max_features=sqrt, min_impurity_decrease=2.1, min_samples_leaf=2, min_samples_split=4; total time=   0.0s\n",
      "[CV] END max_depth=5, max_features=sqrt, min_impurity_decrease=2.1, min_samples_leaf=2, min_samples_split=4; total time=   0.0s\n",
      "[CV] END max_depth=5, max_features=sqrt, min_impurity_decrease=2.1, min_samples_leaf=2, min_samples_split=4; total time=   0.0s\n",
      "[CV] END max_depth=5, max_features=sqrt, min_impurity_decrease=2.1, min_samples_leaf=2, min_samples_split=4; total time=   0.0s\n",
      "[CV] END max_depth=5, max_features=sqrt, min_impurity_decrease=2.1, min_samples_leaf=2, min_samples_split=4; total time=   0.0s\n",
      "[CV] END max_depth=5, max_features=sqrt, min_impurity_decrease=2.1, min_samples_leaf=2, min_samples_split=5; total time=   0.0s\n",
      "[CV] END max_depth=5, max_features=sqrt, min_impurity_decrease=2.1, min_samples_leaf=2, min_samples_split=5; total time=   0.0s\n",
      "[CV] END max_depth=5, max_features=sqrt, min_impurity_decrease=2.1, min_samples_leaf=2, min_samples_split=5; total time=   0.0s\n",
      "[CV] END max_depth=5, max_features=sqrt, min_impurity_decrease=2.1, min_samples_leaf=2, min_samples_split=5; total time=   0.0s\n",
      "[CV] END max_depth=5, max_features=sqrt, min_impurity_decrease=2.1, min_samples_leaf=2, min_samples_split=5; total time=   0.0s\n",
      "[CV] END max_depth=5, max_features=sqrt, min_impurity_decrease=2.1, min_samples_leaf=4, min_samples_split=2; total time=   0.0s\n",
      "[CV] END max_depth=5, max_features=sqrt, min_impurity_decrease=2.1, min_samples_leaf=4, min_samples_split=2; total time=   0.0s\n",
      "[CV] END max_depth=5, max_features=sqrt, min_impurity_decrease=2.1, min_samples_leaf=4, min_samples_split=2; total time=   0.0s\n",
      "[CV] END max_depth=5, max_features=sqrt, min_impurity_decrease=2.1, min_samples_leaf=4, min_samples_split=2; total time=   0.0s\n",
      "[CV] END max_depth=5, max_features=sqrt, min_impurity_decrease=2.1, min_samples_leaf=4, min_samples_split=2; total time=   0.0s\n",
      "[CV] END max_depth=5, max_features=sqrt, min_impurity_decrease=2.1, min_samples_leaf=4, min_samples_split=4; total time=   0.0s\n",
      "[CV] END max_depth=5, max_features=sqrt, min_impurity_decrease=2.1, min_samples_leaf=4, min_samples_split=4; total time=   0.0s\n",
      "[CV] END max_depth=5, max_features=sqrt, min_impurity_decrease=2.1, min_samples_leaf=4, min_samples_split=4; total time=   0.0s\n",
      "[CV] END max_depth=5, max_features=sqrt, min_impurity_decrease=2.1, min_samples_leaf=4, min_samples_split=4; total time=   0.0s\n",
      "[CV] END max_depth=5, max_features=sqrt, min_impurity_decrease=2.1, min_samples_leaf=4, min_samples_split=4; total time=   0.0s\n",
      "[CV] END max_depth=5, max_features=sqrt, min_impurity_decrease=2.1, min_samples_leaf=4, min_samples_split=5; total time=   0.0s\n",
      "[CV] END max_depth=5, max_features=sqrt, min_impurity_decrease=2.1, min_samples_leaf=4, min_samples_split=5; total time=   0.0s\n",
      "[CV] END max_depth=5, max_features=sqrt, min_impurity_decrease=2.1, min_samples_leaf=4, min_samples_split=5; total time=   0.0s\n",
      "[CV] END max_depth=5, max_features=sqrt, min_impurity_decrease=2.1, min_samples_leaf=4, min_samples_split=5; total time=   0.0s\n",
      "[CV] END max_depth=5, max_features=sqrt, min_impurity_decrease=2.1, min_samples_leaf=4, min_samples_split=5; total time=   0.0s\n",
      "[CV] END max_depth=5, max_features=sqrt, min_impurity_decrease=1.1, min_samples_leaf=2, min_samples_split=2; total time=   0.0s\n",
      "[CV] END max_depth=5, max_features=sqrt, min_impurity_decrease=1.1, min_samples_leaf=2, min_samples_split=2; total time=   0.0s\n",
      "[CV] END max_depth=5, max_features=sqrt, min_impurity_decrease=1.1, min_samples_leaf=2, min_samples_split=2; total time=   0.0s\n",
      "[CV] END max_depth=5, max_features=sqrt, min_impurity_decrease=1.1, min_samples_leaf=2, min_samples_split=2; total time=   0.0s\n",
      "[CV] END max_depth=5, max_features=sqrt, min_impurity_decrease=1.1, min_samples_leaf=2, min_samples_split=2; total time=   0.0s\n",
      "[CV] END max_depth=5, max_features=sqrt, min_impurity_decrease=1.1, min_samples_leaf=2, min_samples_split=4; total time=   0.0s\n",
      "[CV] END max_depth=5, max_features=sqrt, min_impurity_decrease=1.1, min_samples_leaf=2, min_samples_split=4; total time=   0.0s\n",
      "[CV] END max_depth=5, max_features=sqrt, min_impurity_decrease=1.1, min_samples_leaf=2, min_samples_split=4; total time=   0.0s\n",
      "[CV] END max_depth=5, max_features=sqrt, min_impurity_decrease=1.1, min_samples_leaf=2, min_samples_split=4; total time=   0.0s\n",
      "[CV] END max_depth=5, max_features=sqrt, min_impurity_decrease=1.1, min_samples_leaf=2, min_samples_split=4; total time=   0.0s\n",
      "[CV] END max_depth=5, max_features=sqrt, min_impurity_decrease=1.1, min_samples_leaf=2, min_samples_split=5; total time=   0.0s\n",
      "[CV] END max_depth=5, max_features=sqrt, min_impurity_decrease=1.1, min_samples_leaf=2, min_samples_split=5; total time=   0.0s\n",
      "[CV] END max_depth=5, max_features=sqrt, min_impurity_decrease=1.1, min_samples_leaf=2, min_samples_split=5; total time=   0.0s\n",
      "[CV] END max_depth=5, max_features=sqrt, min_impurity_decrease=1.1, min_samples_leaf=2, min_samples_split=5; total time=   0.0s\n",
      "[CV] END max_depth=5, max_features=sqrt, min_impurity_decrease=1.1, min_samples_leaf=2, min_samples_split=5; total time=   0.0s\n",
      "[CV] END max_depth=5, max_features=sqrt, min_impurity_decrease=1.1, min_samples_leaf=4, min_samples_split=2; total time=   0.0s\n",
      "[CV] END max_depth=5, max_features=sqrt, min_impurity_decrease=1.1, min_samples_leaf=4, min_samples_split=2; total time=   0.0s\n",
      "[CV] END max_depth=5, max_features=sqrt, min_impurity_decrease=1.1, min_samples_leaf=4, min_samples_split=2; total time=   0.0s\n",
      "[CV] END max_depth=5, max_features=sqrt, min_impurity_decrease=1.1, min_samples_leaf=4, min_samples_split=2; total time=   0.0s\n"
     ]
    },
    {
     "name": "stdout",
     "output_type": "stream",
     "text": [
      "[CV] END max_depth=5, max_features=sqrt, min_impurity_decrease=1.1, min_samples_leaf=4, min_samples_split=2; total time=   0.0s\n",
      "[CV] END max_depth=5, max_features=sqrt, min_impurity_decrease=1.1, min_samples_leaf=4, min_samples_split=4; total time=   0.0s\n",
      "[CV] END max_depth=5, max_features=sqrt, min_impurity_decrease=1.1, min_samples_leaf=4, min_samples_split=4; total time=   0.0s\n",
      "[CV] END max_depth=5, max_features=sqrt, min_impurity_decrease=1.1, min_samples_leaf=4, min_samples_split=4; total time=   0.0s\n",
      "[CV] END max_depth=5, max_features=sqrt, min_impurity_decrease=1.1, min_samples_leaf=4, min_samples_split=4; total time=   0.0s\n",
      "[CV] END max_depth=5, max_features=sqrt, min_impurity_decrease=1.1, min_samples_leaf=4, min_samples_split=4; total time=   0.0s\n",
      "[CV] END max_depth=5, max_features=sqrt, min_impurity_decrease=1.1, min_samples_leaf=4, min_samples_split=5; total time=   0.0s\n",
      "[CV] END max_depth=5, max_features=sqrt, min_impurity_decrease=1.1, min_samples_leaf=4, min_samples_split=5; total time=   0.0s\n",
      "[CV] END max_depth=5, max_features=sqrt, min_impurity_decrease=1.1, min_samples_leaf=4, min_samples_split=5; total time=   0.0s\n",
      "[CV] END max_depth=5, max_features=sqrt, min_impurity_decrease=1.1, min_samples_leaf=4, min_samples_split=5; total time=   0.0s\n",
      "[CV] END max_depth=5, max_features=sqrt, min_impurity_decrease=1.1, min_samples_leaf=4, min_samples_split=5; total time=   0.0s\n"
     ]
    },
    {
     "name": "stderr",
     "output_type": "stream",
     "text": [
      "C:\\Users\\Dell\\AppData\\Roaming\\Python\\Python38\\site-packages\\sklearn\\tree\\_classes.py:306: FutureWarning: `max_features='auto'` has been deprecated in 1.1 and will be removed in 1.3. To keep the past behaviour, explicitly set `max_features=1.0'`.\n",
      "  warnings.warn(\n"
     ]
    },
    {
     "data": {
      "text/html": [
       "<style>#sk-container-id-5 {color: black;background-color: white;}#sk-container-id-5 pre{padding: 0;}#sk-container-id-5 div.sk-toggleable {background-color: white;}#sk-container-id-5 label.sk-toggleable__label {cursor: pointer;display: block;width: 100%;margin-bottom: 0;padding: 0.3em;box-sizing: border-box;text-align: center;}#sk-container-id-5 label.sk-toggleable__label-arrow:before {content: \"▸\";float: left;margin-right: 0.25em;color: #696969;}#sk-container-id-5 label.sk-toggleable__label-arrow:hover:before {color: black;}#sk-container-id-5 div.sk-estimator:hover label.sk-toggleable__label-arrow:before {color: black;}#sk-container-id-5 div.sk-toggleable__content {max-height: 0;max-width: 0;overflow: hidden;text-align: left;background-color: #f0f8ff;}#sk-container-id-5 div.sk-toggleable__content pre {margin: 0.2em;color: black;border-radius: 0.25em;background-color: #f0f8ff;}#sk-container-id-5 input.sk-toggleable__control:checked~div.sk-toggleable__content {max-height: 200px;max-width: 100%;overflow: auto;}#sk-container-id-5 input.sk-toggleable__control:checked~label.sk-toggleable__label-arrow:before {content: \"▾\";}#sk-container-id-5 div.sk-estimator input.sk-toggleable__control:checked~label.sk-toggleable__label {background-color: #d4ebff;}#sk-container-id-5 div.sk-label input.sk-toggleable__control:checked~label.sk-toggleable__label {background-color: #d4ebff;}#sk-container-id-5 input.sk-hidden--visually {border: 0;clip: rect(1px 1px 1px 1px);clip: rect(1px, 1px, 1px, 1px);height: 1px;margin: -1px;overflow: hidden;padding: 0;position: absolute;width: 1px;}#sk-container-id-5 div.sk-estimator {font-family: monospace;background-color: #f0f8ff;border: 1px dotted black;border-radius: 0.25em;box-sizing: border-box;margin-bottom: 0.5em;}#sk-container-id-5 div.sk-estimator:hover {background-color: #d4ebff;}#sk-container-id-5 div.sk-parallel-item::after {content: \"\";width: 100%;border-bottom: 1px solid gray;flex-grow: 1;}#sk-container-id-5 div.sk-label:hover label.sk-toggleable__label {background-color: #d4ebff;}#sk-container-id-5 div.sk-serial::before {content: \"\";position: absolute;border-left: 1px solid gray;box-sizing: border-box;top: 0;bottom: 0;left: 50%;z-index: 0;}#sk-container-id-5 div.sk-serial {display: flex;flex-direction: column;align-items: center;background-color: white;padding-right: 0.2em;padding-left: 0.2em;position: relative;}#sk-container-id-5 div.sk-item {position: relative;z-index: 1;}#sk-container-id-5 div.sk-parallel {display: flex;align-items: stretch;justify-content: center;background-color: white;position: relative;}#sk-container-id-5 div.sk-item::before, #sk-container-id-5 div.sk-parallel-item::before {content: \"\";position: absolute;border-left: 1px solid gray;box-sizing: border-box;top: 0;bottom: 0;left: 50%;z-index: -1;}#sk-container-id-5 div.sk-parallel-item {display: flex;flex-direction: column;z-index: 1;position: relative;background-color: white;}#sk-container-id-5 div.sk-parallel-item:first-child::after {align-self: flex-end;width: 50%;}#sk-container-id-5 div.sk-parallel-item:last-child::after {align-self: flex-start;width: 50%;}#sk-container-id-5 div.sk-parallel-item:only-child::after {width: 0;}#sk-container-id-5 div.sk-dashed-wrapped {border: 1px dashed gray;margin: 0 0.4em 0.5em 0.4em;box-sizing: border-box;padding-bottom: 0.4em;background-color: white;}#sk-container-id-5 div.sk-label label {font-family: monospace;font-weight: bold;display: inline-block;line-height: 1.2em;}#sk-container-id-5 div.sk-label-container {text-align: center;}#sk-container-id-5 div.sk-container {/* jupyter's `normalize.less` sets `[hidden] { display: none; }` but bootstrap.min.css set `[hidden] { display: none !important; }` so we also need the `!important` here to be able to override the default hidden behavior on the sphinx rendered scikit-learn.org. See: https://github.com/scikit-learn/scikit-learn/issues/21755 */display: inline-block !important;position: relative;}#sk-container-id-5 div.sk-text-repr-fallback {display: none;}</style><div id=\"sk-container-id-5\" class=\"sk-top-container\"><div class=\"sk-text-repr-fallback\"><pre>GridSearchCV(cv=5, estimator=DecisionTreeRegressor(),\n",
       "             param_grid={&#x27;max_depth&#x27;: [3, 2, 4, 5],\n",
       "                         &#x27;max_features&#x27;: [&#x27;auto&#x27;, &#x27;sqrt&#x27;],\n",
       "                         &#x27;min_impurity_decrease&#x27;: [0.0, 2.1, 1.1],\n",
       "                         &#x27;min_samples_leaf&#x27;: [2, 4],\n",
       "                         &#x27;min_samples_split&#x27;: [2, 4, 5]},\n",
       "             verbose=2)</pre><b>In a Jupyter environment, please rerun this cell to show the HTML representation or trust the notebook. <br />On GitHub, the HTML representation is unable to render, please try loading this page with nbviewer.org.</b></div><div class=\"sk-container\" hidden><div class=\"sk-item sk-dashed-wrapped\"><div class=\"sk-label-container\"><div class=\"sk-label sk-toggleable\"><input class=\"sk-toggleable__control sk-hidden--visually\" id=\"sk-estimator-id-7\" type=\"checkbox\" ><label for=\"sk-estimator-id-7\" class=\"sk-toggleable__label sk-toggleable__label-arrow\">GridSearchCV</label><div class=\"sk-toggleable__content\"><pre>GridSearchCV(cv=5, estimator=DecisionTreeRegressor(),\n",
       "             param_grid={&#x27;max_depth&#x27;: [3, 2, 4, 5],\n",
       "                         &#x27;max_features&#x27;: [&#x27;auto&#x27;, &#x27;sqrt&#x27;],\n",
       "                         &#x27;min_impurity_decrease&#x27;: [0.0, 2.1, 1.1],\n",
       "                         &#x27;min_samples_leaf&#x27;: [2, 4],\n",
       "                         &#x27;min_samples_split&#x27;: [2, 4, 5]},\n",
       "             verbose=2)</pre></div></div></div><div class=\"sk-parallel\"><div class=\"sk-parallel-item\"><div class=\"sk-item\"><div class=\"sk-label-container\"><div class=\"sk-label sk-toggleable\"><input class=\"sk-toggleable__control sk-hidden--visually\" id=\"sk-estimator-id-8\" type=\"checkbox\" ><label for=\"sk-estimator-id-8\" class=\"sk-toggleable__label sk-toggleable__label-arrow\">estimator: DecisionTreeRegressor</label><div class=\"sk-toggleable__content\"><pre>DecisionTreeRegressor()</pre></div></div></div><div class=\"sk-serial\"><div class=\"sk-item\"><div class=\"sk-estimator sk-toggleable\"><input class=\"sk-toggleable__control sk-hidden--visually\" id=\"sk-estimator-id-9\" type=\"checkbox\" ><label for=\"sk-estimator-id-9\" class=\"sk-toggleable__label sk-toggleable__label-arrow\">DecisionTreeRegressor</label><div class=\"sk-toggleable__content\"><pre>DecisionTreeRegressor()</pre></div></div></div></div></div></div></div></div></div></div>"
      ],
      "text/plain": [
       "GridSearchCV(cv=5, estimator=DecisionTreeRegressor(),\n",
       "             param_grid={'max_depth': [3, 2, 4, 5],\n",
       "                         'max_features': ['auto', 'sqrt'],\n",
       "                         'min_impurity_decrease': [0.0, 2.1, 1.1],\n",
       "                         'min_samples_leaf': [2, 4],\n",
       "                         'min_samples_split': [2, 4, 5]},\n",
       "             verbose=2)"
      ]
     },
     "execution_count": 33,
     "metadata": {},
     "output_type": "execute_result"
    }
   ],
   "source": [
    "from sklearn.model_selection import GridSearchCV\n",
    "DTgrid = {\"min_impurity_decrease\":[0.0,2.1,1.1],\n",
    "          \"max_depth\":[3,2,4,5],\n",
    "          \"max_features\":['auto','sqrt'],\n",
    "          \"min_samples_split\":[2,4,5],\n",
    "          \"min_samples_leaf\":[2,4]}\n",
    "GCV_DTReg = GridSearchCV(estimator = DTReg,\n",
    "                         param_grid = DTgrid,\n",
    "                         cv = 5,\n",
    "                         verbose = 2)\n",
    "GCV_DTReg.fit(scaled_train_set,train_label)"
   ]
  },
  {
   "cell_type": "code",
   "execution_count": 34,
   "id": "70196a81",
   "metadata": {},
   "outputs": [
    {
     "data": {
      "text/plain": [
       "{'max_depth': 4,\n",
       " 'max_features': 'auto',\n",
       " 'min_impurity_decrease': 0.0,\n",
       " 'min_samples_leaf': 2,\n",
       " 'min_samples_split': 2}"
      ]
     },
     "execution_count": 34,
     "metadata": {},
     "output_type": "execute_result"
    }
   ],
   "source": [
    "GCV_DTReg.best_params_"
   ]
  },
  {
   "cell_type": "markdown",
   "id": "ad505bf9",
   "metadata": {},
   "source": [
    "### Model Score after using GridSearchCV method"
   ]
  },
  {
   "cell_type": "code",
   "execution_count": 35,
   "id": "65bf27cd",
   "metadata": {},
   "outputs": [
    {
     "data": {
      "text/plain": [
       "0.8682501578297672"
      ]
     },
     "execution_count": 35,
     "metadata": {},
     "output_type": "execute_result"
    }
   ],
   "source": [
    "GCV_DTReg.score(scaled_test_set,test_label)"
   ]
  },
  {
   "cell_type": "markdown",
   "id": "8a513f60",
   "metadata": {},
   "source": [
    "# Random Forest Regression"
   ]
  },
  {
   "cell_type": "markdown",
   "id": "3dcf82e0",
   "metadata": {},
   "source": [
    "## Applying Random Forest Regression"
   ]
  },
  {
   "cell_type": "code",
   "execution_count": 36,
   "id": "a0c5f947",
   "metadata": {},
   "outputs": [
    {
     "data": {
      "text/html": [
       "<style>#sk-container-id-6 {color: black;background-color: white;}#sk-container-id-6 pre{padding: 0;}#sk-container-id-6 div.sk-toggleable {background-color: white;}#sk-container-id-6 label.sk-toggleable__label {cursor: pointer;display: block;width: 100%;margin-bottom: 0;padding: 0.3em;box-sizing: border-box;text-align: center;}#sk-container-id-6 label.sk-toggleable__label-arrow:before {content: \"▸\";float: left;margin-right: 0.25em;color: #696969;}#sk-container-id-6 label.sk-toggleable__label-arrow:hover:before {color: black;}#sk-container-id-6 div.sk-estimator:hover label.sk-toggleable__label-arrow:before {color: black;}#sk-container-id-6 div.sk-toggleable__content {max-height: 0;max-width: 0;overflow: hidden;text-align: left;background-color: #f0f8ff;}#sk-container-id-6 div.sk-toggleable__content pre {margin: 0.2em;color: black;border-radius: 0.25em;background-color: #f0f8ff;}#sk-container-id-6 input.sk-toggleable__control:checked~div.sk-toggleable__content {max-height: 200px;max-width: 100%;overflow: auto;}#sk-container-id-6 input.sk-toggleable__control:checked~label.sk-toggleable__label-arrow:before {content: \"▾\";}#sk-container-id-6 div.sk-estimator input.sk-toggleable__control:checked~label.sk-toggleable__label {background-color: #d4ebff;}#sk-container-id-6 div.sk-label input.sk-toggleable__control:checked~label.sk-toggleable__label {background-color: #d4ebff;}#sk-container-id-6 input.sk-hidden--visually {border: 0;clip: rect(1px 1px 1px 1px);clip: rect(1px, 1px, 1px, 1px);height: 1px;margin: -1px;overflow: hidden;padding: 0;position: absolute;width: 1px;}#sk-container-id-6 div.sk-estimator {font-family: monospace;background-color: #f0f8ff;border: 1px dotted black;border-radius: 0.25em;box-sizing: border-box;margin-bottom: 0.5em;}#sk-container-id-6 div.sk-estimator:hover {background-color: #d4ebff;}#sk-container-id-6 div.sk-parallel-item::after {content: \"\";width: 100%;border-bottom: 1px solid gray;flex-grow: 1;}#sk-container-id-6 div.sk-label:hover label.sk-toggleable__label {background-color: #d4ebff;}#sk-container-id-6 div.sk-serial::before {content: \"\";position: absolute;border-left: 1px solid gray;box-sizing: border-box;top: 0;bottom: 0;left: 50%;z-index: 0;}#sk-container-id-6 div.sk-serial {display: flex;flex-direction: column;align-items: center;background-color: white;padding-right: 0.2em;padding-left: 0.2em;position: relative;}#sk-container-id-6 div.sk-item {position: relative;z-index: 1;}#sk-container-id-6 div.sk-parallel {display: flex;align-items: stretch;justify-content: center;background-color: white;position: relative;}#sk-container-id-6 div.sk-item::before, #sk-container-id-6 div.sk-parallel-item::before {content: \"\";position: absolute;border-left: 1px solid gray;box-sizing: border-box;top: 0;bottom: 0;left: 50%;z-index: -1;}#sk-container-id-6 div.sk-parallel-item {display: flex;flex-direction: column;z-index: 1;position: relative;background-color: white;}#sk-container-id-6 div.sk-parallel-item:first-child::after {align-self: flex-end;width: 50%;}#sk-container-id-6 div.sk-parallel-item:last-child::after {align-self: flex-start;width: 50%;}#sk-container-id-6 div.sk-parallel-item:only-child::after {width: 0;}#sk-container-id-6 div.sk-dashed-wrapped {border: 1px dashed gray;margin: 0 0.4em 0.5em 0.4em;box-sizing: border-box;padding-bottom: 0.4em;background-color: white;}#sk-container-id-6 div.sk-label label {font-family: monospace;font-weight: bold;display: inline-block;line-height: 1.2em;}#sk-container-id-6 div.sk-label-container {text-align: center;}#sk-container-id-6 div.sk-container {/* jupyter's `normalize.less` sets `[hidden] { display: none; }` but bootstrap.min.css set `[hidden] { display: none !important; }` so we also need the `!important` here to be able to override the default hidden behavior on the sphinx rendered scikit-learn.org. See: https://github.com/scikit-learn/scikit-learn/issues/21755 */display: inline-block !important;position: relative;}#sk-container-id-6 div.sk-text-repr-fallback {display: none;}</style><div id=\"sk-container-id-6\" class=\"sk-top-container\"><div class=\"sk-text-repr-fallback\"><pre>RandomForestRegressor()</pre><b>In a Jupyter environment, please rerun this cell to show the HTML representation or trust the notebook. <br />On GitHub, the HTML representation is unable to render, please try loading this page with nbviewer.org.</b></div><div class=\"sk-container\" hidden><div class=\"sk-item\"><div class=\"sk-estimator sk-toggleable\"><input class=\"sk-toggleable__control sk-hidden--visually\" id=\"sk-estimator-id-10\" type=\"checkbox\" checked><label for=\"sk-estimator-id-10\" class=\"sk-toggleable__label sk-toggleable__label-arrow\">RandomForestRegressor</label><div class=\"sk-toggleable__content\"><pre>RandomForestRegressor()</pre></div></div></div></div></div>"
      ],
      "text/plain": [
       "RandomForestRegressor()"
      ]
     },
     "execution_count": 36,
     "metadata": {},
     "output_type": "execute_result"
    }
   ],
   "source": [
    "from sklearn.ensemble import RandomForestRegressor\n",
    "\n",
    "RFReg = RandomForestRegressor()\n",
    "RFReg.fit(scaled_train_set,train_label)"
   ]
  },
  {
   "cell_type": "markdown",
   "id": "00a5a37f",
   "metadata": {},
   "source": [
    "## Predicting the charges"
   ]
  },
  {
   "cell_type": "code",
   "execution_count": 37,
   "id": "cdc1b137",
   "metadata": {},
   "outputs": [],
   "source": [
    "RFReg.predict(scaled_test_set);"
   ]
  },
  {
   "cell_type": "markdown",
   "id": "0649ab6f",
   "metadata": {},
   "source": [
    "## Evaluating the random forest regression"
   ]
  },
  {
   "cell_type": "code",
   "execution_count": 38,
   "id": "46b22691",
   "metadata": {},
   "outputs": [
    {
     "name": "stdout",
     "output_type": "stream",
     "text": [
      "The root mean squared error score for the RandomForestRegressor() is 4771.441 for 5 fold cross validation\n",
      "\n"
     ]
    }
   ],
   "source": [
    "EvalPar(RFReg,5)"
   ]
  },
  {
   "cell_type": "code",
   "execution_count": 39,
   "id": "1a74b71f",
   "metadata": {},
   "outputs": [
    {
     "name": "stdout",
     "output_type": "stream",
     "text": [
      "The root mean squared error score for the RandomForestRegressor() is 4744.173 for 10 fold cross validation\n",
      "\n"
     ]
    }
   ],
   "source": [
    "EvalPar(RFReg,10)"
   ]
  },
  {
   "cell_type": "markdown",
   "id": "735a4987",
   "metadata": {},
   "source": [
    "## Hyperparameters Tuning"
   ]
  },
  {
   "cell_type": "markdown",
   "id": "9be4afc7",
   "metadata": {},
   "source": [
    "### Using RandomSearchCV"
   ]
  },
  {
   "cell_type": "code",
   "execution_count": 43,
   "id": "9efeb4e4",
   "metadata": {},
   "outputs": [
    {
     "data": {
      "text/plain": [
       "{'bootstrap': True,\n",
       " 'ccp_alpha': 0.0,\n",
       " 'criterion': 'squared_error',\n",
       " 'max_depth': None,\n",
       " 'max_features': 1.0,\n",
       " 'max_leaf_nodes': None,\n",
       " 'max_samples': None,\n",
       " 'min_impurity_decrease': 0.0,\n",
       " 'min_samples_leaf': 1,\n",
       " 'min_samples_split': 2,\n",
       " 'min_weight_fraction_leaf': 0.0,\n",
       " 'n_estimators': 100,\n",
       " 'n_jobs': None,\n",
       " 'oob_score': False,\n",
       " 'random_state': None,\n",
       " 'verbose': 0,\n",
       " 'warm_start': False}"
      ]
     },
     "execution_count": 43,
     "metadata": {},
     "output_type": "execute_result"
    }
   ],
   "source": [
    "RFReg.get_params()"
   ]
  },
  {
   "cell_type": "code",
   "execution_count": 44,
   "id": "ddee9418",
   "metadata": {},
   "outputs": [
    {
     "name": "stdout",
     "output_type": "stream",
     "text": [
      "Fitting 5 folds for each of 15 candidates, totalling 75 fits\n",
      "[CV] END criterion=poisson, max_depth=25, max_features=None, min_samples_leaf=2, min_samples_split=1, n_estimators=200; total time=   0.1s\n",
      "[CV] END criterion=poisson, max_depth=25, max_features=None, min_samples_leaf=2, min_samples_split=1, n_estimators=200; total time=   0.2s\n",
      "[CV] END criterion=poisson, max_depth=25, max_features=None, min_samples_leaf=2, min_samples_split=1, n_estimators=200; total time=   0.2s\n",
      "[CV] END criterion=poisson, max_depth=25, max_features=None, min_samples_leaf=2, min_samples_split=1, n_estimators=200; total time=   0.1s\n",
      "[CV] END criterion=poisson, max_depth=25, max_features=None, min_samples_leaf=2, min_samples_split=1, n_estimators=200; total time=   0.0s\n",
      "[CV] END criterion=absolute_error, max_depth=10, max_features=log2, min_samples_leaf=3, min_samples_split=2, n_estimators=100; total time=   1.2s\n",
      "[CV] END criterion=absolute_error, max_depth=10, max_features=log2, min_samples_leaf=3, min_samples_split=2, n_estimators=100; total time=   1.1s\n",
      "[CV] END criterion=absolute_error, max_depth=10, max_features=log2, min_samples_leaf=3, min_samples_split=2, n_estimators=100; total time=   1.3s\n",
      "[CV] END criterion=absolute_error, max_depth=10, max_features=log2, min_samples_leaf=3, min_samples_split=2, n_estimators=100; total time=   1.1s\n",
      "[CV] END criterion=absolute_error, max_depth=10, max_features=log2, min_samples_leaf=3, min_samples_split=2, n_estimators=100; total time=   1.1s\n"
     ]
    },
    {
     "name": "stderr",
     "output_type": "stream",
     "text": [
      "C:\\Users\\Dell\\AppData\\Local\\Programs\\Python\\Python310\\lib\\site-packages\\sklearn\\ensemble\\_forest.py:416: FutureWarning: `max_features='auto'` has been deprecated in 1.1 and will be removed in 1.3. To keep the past behaviour, explicitly set `max_features=1.0` or remove this parameter as it is also the default value for RandomForestRegressors and ExtraTreesRegressors.\n",
      "  warn(\n"
     ]
    },
    {
     "name": "stdout",
     "output_type": "stream",
     "text": [
      "[CV] END criterion=poisson, max_depth=15, max_features=auto, min_samples_leaf=1, min_samples_split=4, n_estimators=100; total time=   0.5s\n"
     ]
    },
    {
     "name": "stderr",
     "output_type": "stream",
     "text": [
      "C:\\Users\\Dell\\AppData\\Local\\Programs\\Python\\Python310\\lib\\site-packages\\sklearn\\ensemble\\_forest.py:416: FutureWarning: `max_features='auto'` has been deprecated in 1.1 and will be removed in 1.3. To keep the past behaviour, explicitly set `max_features=1.0` or remove this parameter as it is also the default value for RandomForestRegressors and ExtraTreesRegressors.\n",
      "  warn(\n"
     ]
    },
    {
     "name": "stdout",
     "output_type": "stream",
     "text": [
      "[CV] END criterion=poisson, max_depth=15, max_features=auto, min_samples_leaf=1, min_samples_split=4, n_estimators=100; total time=   0.6s\n"
     ]
    },
    {
     "name": "stderr",
     "output_type": "stream",
     "text": [
      "C:\\Users\\Dell\\AppData\\Local\\Programs\\Python\\Python310\\lib\\site-packages\\sklearn\\ensemble\\_forest.py:416: FutureWarning: `max_features='auto'` has been deprecated in 1.1 and will be removed in 1.3. To keep the past behaviour, explicitly set `max_features=1.0` or remove this parameter as it is also the default value for RandomForestRegressors and ExtraTreesRegressors.\n",
      "  warn(\n"
     ]
    },
    {
     "name": "stdout",
     "output_type": "stream",
     "text": [
      "[CV] END criterion=poisson, max_depth=15, max_features=auto, min_samples_leaf=1, min_samples_split=4, n_estimators=100; total time=   0.5s\n"
     ]
    },
    {
     "name": "stderr",
     "output_type": "stream",
     "text": [
      "C:\\Users\\Dell\\AppData\\Local\\Programs\\Python\\Python310\\lib\\site-packages\\sklearn\\ensemble\\_forest.py:416: FutureWarning: `max_features='auto'` has been deprecated in 1.1 and will be removed in 1.3. To keep the past behaviour, explicitly set `max_features=1.0` or remove this parameter as it is also the default value for RandomForestRegressors and ExtraTreesRegressors.\n",
      "  warn(\n"
     ]
    },
    {
     "name": "stdout",
     "output_type": "stream",
     "text": [
      "[CV] END criterion=poisson, max_depth=15, max_features=auto, min_samples_leaf=1, min_samples_split=4, n_estimators=100; total time=   0.5s\n"
     ]
    },
    {
     "name": "stderr",
     "output_type": "stream",
     "text": [
      "C:\\Users\\Dell\\AppData\\Local\\Programs\\Python\\Python310\\lib\\site-packages\\sklearn\\ensemble\\_forest.py:416: FutureWarning: `max_features='auto'` has been deprecated in 1.1 and will be removed in 1.3. To keep the past behaviour, explicitly set `max_features=1.0` or remove this parameter as it is also the default value for RandomForestRegressors and ExtraTreesRegressors.\n",
      "  warn(\n"
     ]
    },
    {
     "name": "stdout",
     "output_type": "stream",
     "text": [
      "[CV] END criterion=poisson, max_depth=15, max_features=auto, min_samples_leaf=1, min_samples_split=4, n_estimators=100; total time=   0.3s\n"
     ]
    },
    {
     "name": "stderr",
     "output_type": "stream",
     "text": [
      "C:\\Users\\Dell\\AppData\\Local\\Programs\\Python\\Python310\\lib\\site-packages\\sklearn\\ensemble\\_forest.py:416: FutureWarning: `max_features='auto'` has been deprecated in 1.1 and will be removed in 1.3. To keep the past behaviour, explicitly set `max_features=1.0` or remove this parameter as it is also the default value for RandomForestRegressors and ExtraTreesRegressors.\n",
      "  warn(\n"
     ]
    },
    {
     "name": "stdout",
     "output_type": "stream",
     "text": [
      "[CV] END criterion=poisson, max_depth=None, max_features=auto, min_samples_leaf=2, min_samples_split=7, n_estimators=200; total time=   1.0s\n"
     ]
    },
    {
     "name": "stderr",
     "output_type": "stream",
     "text": [
      "C:\\Users\\Dell\\AppData\\Local\\Programs\\Python\\Python310\\lib\\site-packages\\sklearn\\ensemble\\_forest.py:416: FutureWarning: `max_features='auto'` has been deprecated in 1.1 and will be removed in 1.3. To keep the past behaviour, explicitly set `max_features=1.0` or remove this parameter as it is also the default value for RandomForestRegressors and ExtraTreesRegressors.\n",
      "  warn(\n"
     ]
    },
    {
     "name": "stdout",
     "output_type": "stream",
     "text": [
      "[CV] END criterion=poisson, max_depth=None, max_features=auto, min_samples_leaf=2, min_samples_split=7, n_estimators=200; total time=   1.1s\n"
     ]
    },
    {
     "name": "stderr",
     "output_type": "stream",
     "text": [
      "C:\\Users\\Dell\\AppData\\Local\\Programs\\Python\\Python310\\lib\\site-packages\\sklearn\\ensemble\\_forest.py:416: FutureWarning: `max_features='auto'` has been deprecated in 1.1 and will be removed in 1.3. To keep the past behaviour, explicitly set `max_features=1.0` or remove this parameter as it is also the default value for RandomForestRegressors and ExtraTreesRegressors.\n",
      "  warn(\n"
     ]
    },
    {
     "name": "stdout",
     "output_type": "stream",
     "text": [
      "[CV] END criterion=poisson, max_depth=None, max_features=auto, min_samples_leaf=2, min_samples_split=7, n_estimators=200; total time=   1.1s\n"
     ]
    },
    {
     "name": "stderr",
     "output_type": "stream",
     "text": [
      "C:\\Users\\Dell\\AppData\\Local\\Programs\\Python\\Python310\\lib\\site-packages\\sklearn\\ensemble\\_forest.py:416: FutureWarning: `max_features='auto'` has been deprecated in 1.1 and will be removed in 1.3. To keep the past behaviour, explicitly set `max_features=1.0` or remove this parameter as it is also the default value for RandomForestRegressors and ExtraTreesRegressors.\n",
      "  warn(\n"
     ]
    },
    {
     "name": "stdout",
     "output_type": "stream",
     "text": [
      "[CV] END criterion=poisson, max_depth=None, max_features=auto, min_samples_leaf=2, min_samples_split=7, n_estimators=200; total time=   1.1s\n"
     ]
    },
    {
     "name": "stderr",
     "output_type": "stream",
     "text": [
      "C:\\Users\\Dell\\AppData\\Local\\Programs\\Python\\Python310\\lib\\site-packages\\sklearn\\ensemble\\_forest.py:416: FutureWarning: `max_features='auto'` has been deprecated in 1.1 and will be removed in 1.3. To keep the past behaviour, explicitly set `max_features=1.0` or remove this parameter as it is also the default value for RandomForestRegressors and ExtraTreesRegressors.\n",
      "  warn(\n"
     ]
    },
    {
     "name": "stdout",
     "output_type": "stream",
     "text": [
      "[CV] END criterion=poisson, max_depth=None, max_features=auto, min_samples_leaf=2, min_samples_split=7, n_estimators=200; total time=   1.2s\n",
      "[CV] END criterion=poisson, max_depth=15, max_features=None, min_samples_leaf=3, min_samples_split=4, n_estimators=10; total time=   0.0s\n",
      "[CV] END criterion=poisson, max_depth=15, max_features=None, min_samples_leaf=3, min_samples_split=4, n_estimators=10; total time=   0.0s\n",
      "[CV] END criterion=poisson, max_depth=15, max_features=None, min_samples_leaf=3, min_samples_split=4, n_estimators=10; total time=   0.0s\n",
      "[CV] END criterion=poisson, max_depth=15, max_features=None, min_samples_leaf=3, min_samples_split=4, n_estimators=10; total time=   0.0s\n",
      "[CV] END criterion=poisson, max_depth=15, max_features=None, min_samples_leaf=3, min_samples_split=4, n_estimators=10; total time=   0.0s\n"
     ]
    },
    {
     "name": "stderr",
     "output_type": "stream",
     "text": [
      "C:\\Users\\Dell\\AppData\\Local\\Programs\\Python\\Python310\\lib\\site-packages\\sklearn\\ensemble\\_forest.py:416: FutureWarning: `max_features='auto'` has been deprecated in 1.1 and will be removed in 1.3. To keep the past behaviour, explicitly set `max_features=1.0` or remove this parameter as it is also the default value for RandomForestRegressors and ExtraTreesRegressors.\n",
      "  warn(\n"
     ]
    },
    {
     "name": "stdout",
     "output_type": "stream",
     "text": [
      "[CV] END criterion=absolute_error, max_depth=5, max_features=auto, min_samples_leaf=2, min_samples_split=7, n_estimators=100; total time=   2.5s\n"
     ]
    },
    {
     "name": "stderr",
     "output_type": "stream",
     "text": [
      "C:\\Users\\Dell\\AppData\\Local\\Programs\\Python\\Python310\\lib\\site-packages\\sklearn\\ensemble\\_forest.py:416: FutureWarning: `max_features='auto'` has been deprecated in 1.1 and will be removed in 1.3. To keep the past behaviour, explicitly set `max_features=1.0` or remove this parameter as it is also the default value for RandomForestRegressors and ExtraTreesRegressors.\n",
      "  warn(\n"
     ]
    },
    {
     "name": "stdout",
     "output_type": "stream",
     "text": [
      "[CV] END criterion=absolute_error, max_depth=5, max_features=auto, min_samples_leaf=2, min_samples_split=7, n_estimators=100; total time=   2.5s\n"
     ]
    },
    {
     "name": "stderr",
     "output_type": "stream",
     "text": [
      "C:\\Users\\Dell\\AppData\\Local\\Programs\\Python\\Python310\\lib\\site-packages\\sklearn\\ensemble\\_forest.py:416: FutureWarning: `max_features='auto'` has been deprecated in 1.1 and will be removed in 1.3. To keep the past behaviour, explicitly set `max_features=1.0` or remove this parameter as it is also the default value for RandomForestRegressors and ExtraTreesRegressors.\n",
      "  warn(\n"
     ]
    },
    {
     "name": "stdout",
     "output_type": "stream",
     "text": [
      "[CV] END criterion=absolute_error, max_depth=5, max_features=auto, min_samples_leaf=2, min_samples_split=7, n_estimators=100; total time=   2.5s\n"
     ]
    },
    {
     "name": "stderr",
     "output_type": "stream",
     "text": [
      "C:\\Users\\Dell\\AppData\\Local\\Programs\\Python\\Python310\\lib\\site-packages\\sklearn\\ensemble\\_forest.py:416: FutureWarning: `max_features='auto'` has been deprecated in 1.1 and will be removed in 1.3. To keep the past behaviour, explicitly set `max_features=1.0` or remove this parameter as it is also the default value for RandomForestRegressors and ExtraTreesRegressors.\n",
      "  warn(\n"
     ]
    },
    {
     "name": "stdout",
     "output_type": "stream",
     "text": [
      "[CV] END criterion=absolute_error, max_depth=5, max_features=auto, min_samples_leaf=2, min_samples_split=7, n_estimators=100; total time=   2.7s\n"
     ]
    },
    {
     "name": "stderr",
     "output_type": "stream",
     "text": [
      "C:\\Users\\Dell\\AppData\\Local\\Programs\\Python\\Python310\\lib\\site-packages\\sklearn\\ensemble\\_forest.py:416: FutureWarning: `max_features='auto'` has been deprecated in 1.1 and will be removed in 1.3. To keep the past behaviour, explicitly set `max_features=1.0` or remove this parameter as it is also the default value for RandomForestRegressors and ExtraTreesRegressors.\n",
      "  warn(\n"
     ]
    },
    {
     "name": "stdout",
     "output_type": "stream",
     "text": [
      "[CV] END criterion=absolute_error, max_depth=5, max_features=auto, min_samples_leaf=2, min_samples_split=7, n_estimators=100; total time=   2.3s\n",
      "[CV] END criterion=squared_error, max_depth=15, max_features=sqrt, min_samples_leaf=3, min_samples_split=7, n_estimators=10; total time=   0.0s\n",
      "[CV] END criterion=squared_error, max_depth=15, max_features=sqrt, min_samples_leaf=3, min_samples_split=7, n_estimators=10; total time=   0.0s\n",
      "[CV] END criterion=squared_error, max_depth=15, max_features=sqrt, min_samples_leaf=3, min_samples_split=7, n_estimators=10; total time=   0.0s\n",
      "[CV] END criterion=squared_error, max_depth=15, max_features=sqrt, min_samples_leaf=3, min_samples_split=7, n_estimators=10; total time=   0.0s\n",
      "[CV] END criterion=squared_error, max_depth=15, max_features=sqrt, min_samples_leaf=3, min_samples_split=7, n_estimators=10; total time=   0.0s\n"
     ]
    },
    {
     "name": "stderr",
     "output_type": "stream",
     "text": [
      "C:\\Users\\Dell\\AppData\\Local\\Programs\\Python\\Python310\\lib\\site-packages\\sklearn\\ensemble\\_forest.py:416: FutureWarning: `max_features='auto'` has been deprecated in 1.1 and will be removed in 1.3. To keep the past behaviour, explicitly set `max_features=1.0` or remove this parameter as it is also the default value for RandomForestRegressors and ExtraTreesRegressors.\n",
      "  warn(\n"
     ]
    },
    {
     "name": "stdout",
     "output_type": "stream",
     "text": [
      "[CV] END criterion=squared_error, max_depth=None, max_features=auto, min_samples_leaf=1, min_samples_split=7, n_estimators=200; total time=   0.7s\n"
     ]
    },
    {
     "name": "stderr",
     "output_type": "stream",
     "text": [
      "C:\\Users\\Dell\\AppData\\Local\\Programs\\Python\\Python310\\lib\\site-packages\\sklearn\\ensemble\\_forest.py:416: FutureWarning: `max_features='auto'` has been deprecated in 1.1 and will be removed in 1.3. To keep the past behaviour, explicitly set `max_features=1.0` or remove this parameter as it is also the default value for RandomForestRegressors and ExtraTreesRegressors.\n",
      "  warn(\n"
     ]
    },
    {
     "name": "stdout",
     "output_type": "stream",
     "text": [
      "[CV] END criterion=squared_error, max_depth=None, max_features=auto, min_samples_leaf=1, min_samples_split=7, n_estimators=200; total time=   1.3s\n"
     ]
    },
    {
     "name": "stderr",
     "output_type": "stream",
     "text": [
      "C:\\Users\\Dell\\AppData\\Local\\Programs\\Python\\Python310\\lib\\site-packages\\sklearn\\ensemble\\_forest.py:416: FutureWarning: `max_features='auto'` has been deprecated in 1.1 and will be removed in 1.3. To keep the past behaviour, explicitly set `max_features=1.0` or remove this parameter as it is also the default value for RandomForestRegressors and ExtraTreesRegressors.\n",
      "  warn(\n"
     ]
    },
    {
     "name": "stdout",
     "output_type": "stream",
     "text": [
      "[CV] END criterion=squared_error, max_depth=None, max_features=auto, min_samples_leaf=1, min_samples_split=7, n_estimators=200; total time=   1.3s\n"
     ]
    },
    {
     "name": "stderr",
     "output_type": "stream",
     "text": [
      "C:\\Users\\Dell\\AppData\\Local\\Programs\\Python\\Python310\\lib\\site-packages\\sklearn\\ensemble\\_forest.py:416: FutureWarning: `max_features='auto'` has been deprecated in 1.1 and will be removed in 1.3. To keep the past behaviour, explicitly set `max_features=1.0` or remove this parameter as it is also the default value for RandomForestRegressors and ExtraTreesRegressors.\n",
      "  warn(\n"
     ]
    },
    {
     "name": "stdout",
     "output_type": "stream",
     "text": [
      "[CV] END criterion=squared_error, max_depth=None, max_features=auto, min_samples_leaf=1, min_samples_split=7, n_estimators=200; total time=   1.3s\n"
     ]
    },
    {
     "name": "stderr",
     "output_type": "stream",
     "text": [
      "C:\\Users\\Dell\\AppData\\Local\\Programs\\Python\\Python310\\lib\\site-packages\\sklearn\\ensemble\\_forest.py:416: FutureWarning: `max_features='auto'` has been deprecated in 1.1 and will be removed in 1.3. To keep the past behaviour, explicitly set `max_features=1.0` or remove this parameter as it is also the default value for RandomForestRegressors and ExtraTreesRegressors.\n",
      "  warn(\n"
     ]
    },
    {
     "name": "stdout",
     "output_type": "stream",
     "text": [
      "[CV] END criterion=squared_error, max_depth=None, max_features=auto, min_samples_leaf=1, min_samples_split=7, n_estimators=200; total time=   1.0s\n",
      "[CV] END criterion=absolute_error, max_depth=5, max_features=auto, min_samples_leaf=1, min_samples_split=4, n_estimators=10; total time=   0.1s\n"
     ]
    },
    {
     "name": "stderr",
     "output_type": "stream",
     "text": [
      "C:\\Users\\Dell\\AppData\\Local\\Programs\\Python\\Python310\\lib\\site-packages\\sklearn\\ensemble\\_forest.py:416: FutureWarning: `max_features='auto'` has been deprecated in 1.1 and will be removed in 1.3. To keep the past behaviour, explicitly set `max_features=1.0` or remove this parameter as it is also the default value for RandomForestRegressors and ExtraTreesRegressors.\n",
      "  warn(\n",
      "C:\\Users\\Dell\\AppData\\Local\\Programs\\Python\\Python310\\lib\\site-packages\\sklearn\\ensemble\\_forest.py:416: FutureWarning: `max_features='auto'` has been deprecated in 1.1 and will be removed in 1.3. To keep the past behaviour, explicitly set `max_features=1.0` or remove this parameter as it is also the default value for RandomForestRegressors and ExtraTreesRegressors.\n",
      "  warn(\n"
     ]
    },
    {
     "name": "stdout",
     "output_type": "stream",
     "text": [
      "[CV] END criterion=absolute_error, max_depth=5, max_features=auto, min_samples_leaf=1, min_samples_split=4, n_estimators=10; total time=   0.2s\n"
     ]
    },
    {
     "name": "stderr",
     "output_type": "stream",
     "text": [
      "C:\\Users\\Dell\\AppData\\Local\\Programs\\Python\\Python310\\lib\\site-packages\\sklearn\\ensemble\\_forest.py:416: FutureWarning: `max_features='auto'` has been deprecated in 1.1 and will be removed in 1.3. To keep the past behaviour, explicitly set `max_features=1.0` or remove this parameter as it is also the default value for RandomForestRegressors and ExtraTreesRegressors.\n",
      "  warn(\n"
     ]
    },
    {
     "name": "stdout",
     "output_type": "stream",
     "text": [
      "[CV] END criterion=absolute_error, max_depth=5, max_features=auto, min_samples_leaf=1, min_samples_split=4, n_estimators=10; total time=   0.2s\n"
     ]
    },
    {
     "name": "stderr",
     "output_type": "stream",
     "text": [
      "C:\\Users\\Dell\\AppData\\Local\\Programs\\Python\\Python310\\lib\\site-packages\\sklearn\\ensemble\\_forest.py:416: FutureWarning: `max_features='auto'` has been deprecated in 1.1 and will be removed in 1.3. To keep the past behaviour, explicitly set `max_features=1.0` or remove this parameter as it is also the default value for RandomForestRegressors and ExtraTreesRegressors.\n",
      "  warn(\n"
     ]
    },
    {
     "name": "stdout",
     "output_type": "stream",
     "text": [
      "[CV] END criterion=absolute_error, max_depth=5, max_features=auto, min_samples_leaf=1, min_samples_split=4, n_estimators=10; total time=   0.2s\n"
     ]
    },
    {
     "name": "stderr",
     "output_type": "stream",
     "text": [
      "C:\\Users\\Dell\\AppData\\Local\\Programs\\Python\\Python310\\lib\\site-packages\\sklearn\\ensemble\\_forest.py:416: FutureWarning: `max_features='auto'` has been deprecated in 1.1 and will be removed in 1.3. To keep the past behaviour, explicitly set `max_features=1.0` or remove this parameter as it is also the default value for RandomForestRegressors and ExtraTreesRegressors.\n",
      "  warn(\n"
     ]
    },
    {
     "name": "stdout",
     "output_type": "stream",
     "text": [
      "[CV] END criterion=absolute_error, max_depth=5, max_features=auto, min_samples_leaf=1, min_samples_split=4, n_estimators=10; total time=   0.2s\n",
      "[CV] END criterion=squared_error, max_depth=5, max_features=log2, min_samples_leaf=1, min_samples_split=1, n_estimators=200; total time=   0.0s\n",
      "[CV] END criterion=squared_error, max_depth=5, max_features=log2, min_samples_leaf=1, min_samples_split=1, n_estimators=200; total time=   0.0s\n",
      "[CV] END criterion=squared_error, max_depth=5, max_features=log2, min_samples_leaf=1, min_samples_split=1, n_estimators=200; total time=   0.1s\n",
      "[CV] END criterion=squared_error, max_depth=5, max_features=log2, min_samples_leaf=1, min_samples_split=1, n_estimators=200; total time=   0.2s\n",
      "[CV] END criterion=squared_error, max_depth=5, max_features=log2, min_samples_leaf=1, min_samples_split=1, n_estimators=200; total time=   0.2s\n"
     ]
    },
    {
     "name": "stderr",
     "output_type": "stream",
     "text": [
      "C:\\Users\\Dell\\AppData\\Local\\Programs\\Python\\Python310\\lib\\site-packages\\sklearn\\ensemble\\_forest.py:416: FutureWarning: `max_features='auto'` has been deprecated in 1.1 and will be removed in 1.3. To keep the past behaviour, explicitly set `max_features=1.0` or remove this parameter as it is also the default value for RandomForestRegressors and ExtraTreesRegressors.\n",
      "  warn(\n"
     ]
    },
    {
     "name": "stdout",
     "output_type": "stream",
     "text": [
      "[CV] END criterion=absolute_error, max_depth=25, max_features=auto, min_samples_leaf=3, min_samples_split=2, n_estimators=200; total time=   7.1s\n"
     ]
    },
    {
     "name": "stderr",
     "output_type": "stream",
     "text": [
      "C:\\Users\\Dell\\AppData\\Local\\Programs\\Python\\Python310\\lib\\site-packages\\sklearn\\ensemble\\_forest.py:416: FutureWarning: `max_features='auto'` has been deprecated in 1.1 and will be removed in 1.3. To keep the past behaviour, explicitly set `max_features=1.0` or remove this parameter as it is also the default value for RandomForestRegressors and ExtraTreesRegressors.\n",
      "  warn(\n"
     ]
    },
    {
     "name": "stdout",
     "output_type": "stream",
     "text": [
      "[CV] END criterion=absolute_error, max_depth=25, max_features=auto, min_samples_leaf=3, min_samples_split=2, n_estimators=200; total time=   6.6s\n"
     ]
    },
    {
     "name": "stderr",
     "output_type": "stream",
     "text": [
      "C:\\Users\\Dell\\AppData\\Local\\Programs\\Python\\Python310\\lib\\site-packages\\sklearn\\ensemble\\_forest.py:416: FutureWarning: `max_features='auto'` has been deprecated in 1.1 and will be removed in 1.3. To keep the past behaviour, explicitly set `max_features=1.0` or remove this parameter as it is also the default value for RandomForestRegressors and ExtraTreesRegressors.\n",
      "  warn(\n"
     ]
    },
    {
     "name": "stdout",
     "output_type": "stream",
     "text": [
      "[CV] END criterion=absolute_error, max_depth=25, max_features=auto, min_samples_leaf=3, min_samples_split=2, n_estimators=200; total time=   6.0s\n"
     ]
    },
    {
     "name": "stderr",
     "output_type": "stream",
     "text": [
      "C:\\Users\\Dell\\AppData\\Local\\Programs\\Python\\Python310\\lib\\site-packages\\sklearn\\ensemble\\_forest.py:416: FutureWarning: `max_features='auto'` has been deprecated in 1.1 and will be removed in 1.3. To keep the past behaviour, explicitly set `max_features=1.0` or remove this parameter as it is also the default value for RandomForestRegressors and ExtraTreesRegressors.\n",
      "  warn(\n"
     ]
    },
    {
     "name": "stdout",
     "output_type": "stream",
     "text": [
      "[CV] END criterion=absolute_error, max_depth=25, max_features=auto, min_samples_leaf=3, min_samples_split=2, n_estimators=200; total time=   7.1s\n"
     ]
    },
    {
     "name": "stderr",
     "output_type": "stream",
     "text": [
      "C:\\Users\\Dell\\AppData\\Local\\Programs\\Python\\Python310\\lib\\site-packages\\sklearn\\ensemble\\_forest.py:416: FutureWarning: `max_features='auto'` has been deprecated in 1.1 and will be removed in 1.3. To keep the past behaviour, explicitly set `max_features=1.0` or remove this parameter as it is also the default value for RandomForestRegressors and ExtraTreesRegressors.\n",
      "  warn(\n"
     ]
    },
    {
     "name": "stdout",
     "output_type": "stream",
     "text": [
      "[CV] END criterion=absolute_error, max_depth=25, max_features=auto, min_samples_leaf=3, min_samples_split=2, n_estimators=200; total time=   6.4s\n",
      "[CV] END criterion=poisson, max_depth=25, max_features=log2, min_samples_leaf=3, min_samples_split=1, n_estimators=150; total time=   0.1s\n",
      "[CV] END criterion=poisson, max_depth=25, max_features=log2, min_samples_leaf=3, min_samples_split=1, n_estimators=150; total time=   0.1s\n",
      "[CV] END criterion=poisson, max_depth=25, max_features=log2, min_samples_leaf=3, min_samples_split=1, n_estimators=150; total time=   0.0s\n",
      "[CV] END criterion=poisson, max_depth=25, max_features=log2, min_samples_leaf=3, min_samples_split=1, n_estimators=150; total time=   0.1s\n",
      "[CV] END criterion=poisson, max_depth=25, max_features=log2, min_samples_leaf=3, min_samples_split=1, n_estimators=150; total time=   0.0s\n"
     ]
    },
    {
     "name": "stderr",
     "output_type": "stream",
     "text": [
      "C:\\Users\\Dell\\AppData\\Local\\Programs\\Python\\Python310\\lib\\site-packages\\sklearn\\ensemble\\_forest.py:416: FutureWarning: `max_features='auto'` has been deprecated in 1.1 and will be removed in 1.3. To keep the past behaviour, explicitly set `max_features=1.0` or remove this parameter as it is also the default value for RandomForestRegressors and ExtraTreesRegressors.\n",
      "  warn(\n"
     ]
    },
    {
     "name": "stdout",
     "output_type": "stream",
     "text": [
      "[CV] END criterion=squared_error, max_depth=None, max_features=auto, min_samples_leaf=3, min_samples_split=7, n_estimators=150; total time=   0.9s\n"
     ]
    },
    {
     "name": "stderr",
     "output_type": "stream",
     "text": [
      "C:\\Users\\Dell\\AppData\\Local\\Programs\\Python\\Python310\\lib\\site-packages\\sklearn\\ensemble\\_forest.py:416: FutureWarning: `max_features='auto'` has been deprecated in 1.1 and will be removed in 1.3. To keep the past behaviour, explicitly set `max_features=1.0` or remove this parameter as it is also the default value for RandomForestRegressors and ExtraTreesRegressors.\n",
      "  warn(\n"
     ]
    },
    {
     "name": "stdout",
     "output_type": "stream",
     "text": [
      "[CV] END criterion=squared_error, max_depth=None, max_features=auto, min_samples_leaf=3, min_samples_split=7, n_estimators=150; total time=   1.1s\n"
     ]
    },
    {
     "name": "stderr",
     "output_type": "stream",
     "text": [
      "C:\\Users\\Dell\\AppData\\Local\\Programs\\Python\\Python310\\lib\\site-packages\\sklearn\\ensemble\\_forest.py:416: FutureWarning: `max_features='auto'` has been deprecated in 1.1 and will be removed in 1.3. To keep the past behaviour, explicitly set `max_features=1.0` or remove this parameter as it is also the default value for RandomForestRegressors and ExtraTreesRegressors.\n",
      "  warn(\n"
     ]
    },
    {
     "name": "stdout",
     "output_type": "stream",
     "text": [
      "[CV] END criterion=squared_error, max_depth=None, max_features=auto, min_samples_leaf=3, min_samples_split=7, n_estimators=150; total time=   1.0s\n"
     ]
    },
    {
     "name": "stderr",
     "output_type": "stream",
     "text": [
      "C:\\Users\\Dell\\AppData\\Local\\Programs\\Python\\Python310\\lib\\site-packages\\sklearn\\ensemble\\_forest.py:416: FutureWarning: `max_features='auto'` has been deprecated in 1.1 and will be removed in 1.3. To keep the past behaviour, explicitly set `max_features=1.0` or remove this parameter as it is also the default value for RandomForestRegressors and ExtraTreesRegressors.\n",
      "  warn(\n"
     ]
    },
    {
     "name": "stdout",
     "output_type": "stream",
     "text": [
      "[CV] END criterion=squared_error, max_depth=None, max_features=auto, min_samples_leaf=3, min_samples_split=7, n_estimators=150; total time=   1.0s\n"
     ]
    },
    {
     "name": "stderr",
     "output_type": "stream",
     "text": [
      "C:\\Users\\Dell\\AppData\\Local\\Programs\\Python\\Python310\\lib\\site-packages\\sklearn\\ensemble\\_forest.py:416: FutureWarning: `max_features='auto'` has been deprecated in 1.1 and will be removed in 1.3. To keep the past behaviour, explicitly set `max_features=1.0` or remove this parameter as it is also the default value for RandomForestRegressors and ExtraTreesRegressors.\n",
      "  warn(\n"
     ]
    },
    {
     "name": "stdout",
     "output_type": "stream",
     "text": [
      "[CV] END criterion=squared_error, max_depth=None, max_features=auto, min_samples_leaf=3, min_samples_split=7, n_estimators=150; total time=   1.0s\n",
      "[CV] END criterion=squared_error, max_depth=25, max_features=None, min_samples_leaf=2, min_samples_split=1, n_estimators=200; total time=   0.2s\n",
      "[CV] END criterion=squared_error, max_depth=25, max_features=None, min_samples_leaf=2, min_samples_split=1, n_estimators=200; total time=   0.2s\n",
      "[CV] END criterion=squared_error, max_depth=25, max_features=None, min_samples_leaf=2, min_samples_split=1, n_estimators=200; total time=   0.1s\n",
      "[CV] END criterion=squared_error, max_depth=25, max_features=None, min_samples_leaf=2, min_samples_split=1, n_estimators=200; total time=   0.1s\n",
      "[CV] END criterion=squared_error, max_depth=25, max_features=None, min_samples_leaf=2, min_samples_split=1, n_estimators=200; total time=   0.1s\n",
      "[CV] END criterion=poisson, max_depth=10, max_features=sqrt, min_samples_leaf=3, min_samples_split=4, n_estimators=150; total time=   0.8s\n",
      "[CV] END criterion=poisson, max_depth=10, max_features=sqrt, min_samples_leaf=3, min_samples_split=4, n_estimators=150; total time=   0.8s\n",
      "[CV] END criterion=poisson, max_depth=10, max_features=sqrt, min_samples_leaf=3, min_samples_split=4, n_estimators=150; total time=   0.9s\n",
      "[CV] END criterion=poisson, max_depth=10, max_features=sqrt, min_samples_leaf=3, min_samples_split=4, n_estimators=150; total time=   0.8s\n",
      "[CV] END criterion=poisson, max_depth=10, max_features=sqrt, min_samples_leaf=3, min_samples_split=4, n_estimators=150; total time=   0.8s\n"
     ]
    },
    {
     "name": "stderr",
     "output_type": "stream",
     "text": [
      "C:\\Users\\Dell\\AppData\\Local\\Programs\\Python\\Python310\\lib\\site-packages\\sklearn\\model_selection\\_validation.py:378: FitFailedWarning: \n",
      "20 fits failed out of a total of 75.\n",
      "The score on these train-test partitions for these parameters will be set to nan.\n",
      "If these failures are not expected, you can try to debug them by setting error_score='raise'.\n",
      "\n",
      "Below are more details about the failures:\n",
      "--------------------------------------------------------------------------------\n",
      "20 fits failed with the following error:\n",
      "Traceback (most recent call last):\n",
      "  File \"C:\\Users\\Dell\\AppData\\Local\\Programs\\Python\\Python310\\lib\\site-packages\\sklearn\\model_selection\\_validation.py\", line 686, in _fit_and_score\n",
      "    estimator.fit(X_train, y_train, **fit_params)\n",
      "  File \"C:\\Users\\Dell\\AppData\\Local\\Programs\\Python\\Python310\\lib\\site-packages\\sklearn\\ensemble\\_forest.py\", line 476, in fit\n",
      "    trees = Parallel(\n",
      "  File \"C:\\Users\\Dell\\AppData\\Local\\Programs\\Python\\Python310\\lib\\site-packages\\joblib\\parallel.py\", line 1085, in __call__\n",
      "    if self.dispatch_one_batch(iterator):\n",
      "  File \"C:\\Users\\Dell\\AppData\\Local\\Programs\\Python\\Python310\\lib\\site-packages\\joblib\\parallel.py\", line 901, in dispatch_one_batch\n",
      "    self._dispatch(tasks)\n",
      "  File \"C:\\Users\\Dell\\AppData\\Local\\Programs\\Python\\Python310\\lib\\site-packages\\joblib\\parallel.py\", line 819, in _dispatch\n",
      "    job = self._backend.apply_async(batch, callback=cb)\n",
      "  File \"C:\\Users\\Dell\\AppData\\Local\\Programs\\Python\\Python310\\lib\\site-packages\\joblib\\_parallel_backends.py\", line 208, in apply_async\n",
      "    result = ImmediateResult(func)\n",
      "  File \"C:\\Users\\Dell\\AppData\\Local\\Programs\\Python\\Python310\\lib\\site-packages\\joblib\\_parallel_backends.py\", line 597, in __init__\n",
      "    self.results = batch()\n",
      "  File \"C:\\Users\\Dell\\AppData\\Local\\Programs\\Python\\Python310\\lib\\site-packages\\joblib\\parallel.py\", line 288, in __call__\n",
      "    return [func(*args, **kwargs)\n",
      "  File \"C:\\Users\\Dell\\AppData\\Local\\Programs\\Python\\Python310\\lib\\site-packages\\joblib\\parallel.py\", line 288, in <listcomp>\n",
      "    return [func(*args, **kwargs)\n",
      "  File \"C:\\Users\\Dell\\AppData\\Local\\Programs\\Python\\Python310\\lib\\site-packages\\sklearn\\utils\\fixes.py\", line 117, in __call__\n",
      "    return self.function(*args, **kwargs)\n",
      "  File \"C:\\Users\\Dell\\AppData\\Local\\Programs\\Python\\Python310\\lib\\site-packages\\sklearn\\ensemble\\_forest.py\", line 189, in _parallel_build_trees\n",
      "    tree.fit(X, y, sample_weight=curr_sample_weight, check_input=False)\n",
      "  File \"C:\\Users\\Dell\\AppData\\Local\\Programs\\Python\\Python310\\lib\\site-packages\\sklearn\\tree\\_classes.py\", line 1342, in fit\n",
      "    super().fit(\n",
      "  File \"C:\\Users\\Dell\\AppData\\Local\\Programs\\Python\\Python310\\lib\\site-packages\\sklearn\\tree\\_classes.py\", line 265, in fit\n",
      "    check_scalar(\n",
      "  File \"C:\\Users\\Dell\\AppData\\Local\\Programs\\Python\\Python310\\lib\\site-packages\\sklearn\\utils\\validation.py\", line 1480, in check_scalar\n",
      "    raise ValueError(\n",
      "ValueError: min_samples_split == 1, must be >= 2.\n",
      "\n",
      "  warnings.warn(some_fits_failed_message, FitFailedWarning)\n",
      "C:\\Users\\Dell\\AppData\\Local\\Programs\\Python\\Python310\\lib\\site-packages\\sklearn\\model_selection\\_search.py:953: UserWarning: One or more of the test scores are non-finite: [       nan 0.83412829 0.83001204 0.83930371 0.83466921 0.84575018\n",
      " 0.82567829 0.83502909 0.84272559        nan 0.84477318        nan\n",
      " 0.83917142        nan 0.83626849]\n",
      "  warnings.warn(\n",
      "C:\\Users\\Dell\\AppData\\Local\\Programs\\Python\\Python310\\lib\\site-packages\\sklearn\\ensemble\\_forest.py:416: FutureWarning: `max_features='auto'` has been deprecated in 1.1 and will be removed in 1.3. To keep the past behaviour, explicitly set `max_features=1.0` or remove this parameter as it is also the default value for RandomForestRegressors and ExtraTreesRegressors.\n",
      "  warn(\n"
     ]
    },
    {
     "data": {
      "text/html": [
       "<style>#sk-container-id-7 {color: black;background-color: white;}#sk-container-id-7 pre{padding: 0;}#sk-container-id-7 div.sk-toggleable {background-color: white;}#sk-container-id-7 label.sk-toggleable__label {cursor: pointer;display: block;width: 100%;margin-bottom: 0;padding: 0.3em;box-sizing: border-box;text-align: center;}#sk-container-id-7 label.sk-toggleable__label-arrow:before {content: \"▸\";float: left;margin-right: 0.25em;color: #696969;}#sk-container-id-7 label.sk-toggleable__label-arrow:hover:before {color: black;}#sk-container-id-7 div.sk-estimator:hover label.sk-toggleable__label-arrow:before {color: black;}#sk-container-id-7 div.sk-toggleable__content {max-height: 0;max-width: 0;overflow: hidden;text-align: left;background-color: #f0f8ff;}#sk-container-id-7 div.sk-toggleable__content pre {margin: 0.2em;color: black;border-radius: 0.25em;background-color: #f0f8ff;}#sk-container-id-7 input.sk-toggleable__control:checked~div.sk-toggleable__content {max-height: 200px;max-width: 100%;overflow: auto;}#sk-container-id-7 input.sk-toggleable__control:checked~label.sk-toggleable__label-arrow:before {content: \"▾\";}#sk-container-id-7 div.sk-estimator input.sk-toggleable__control:checked~label.sk-toggleable__label {background-color: #d4ebff;}#sk-container-id-7 div.sk-label input.sk-toggleable__control:checked~label.sk-toggleable__label {background-color: #d4ebff;}#sk-container-id-7 input.sk-hidden--visually {border: 0;clip: rect(1px 1px 1px 1px);clip: rect(1px, 1px, 1px, 1px);height: 1px;margin: -1px;overflow: hidden;padding: 0;position: absolute;width: 1px;}#sk-container-id-7 div.sk-estimator {font-family: monospace;background-color: #f0f8ff;border: 1px dotted black;border-radius: 0.25em;box-sizing: border-box;margin-bottom: 0.5em;}#sk-container-id-7 div.sk-estimator:hover {background-color: #d4ebff;}#sk-container-id-7 div.sk-parallel-item::after {content: \"\";width: 100%;border-bottom: 1px solid gray;flex-grow: 1;}#sk-container-id-7 div.sk-label:hover label.sk-toggleable__label {background-color: #d4ebff;}#sk-container-id-7 div.sk-serial::before {content: \"\";position: absolute;border-left: 1px solid gray;box-sizing: border-box;top: 0;bottom: 0;left: 50%;z-index: 0;}#sk-container-id-7 div.sk-serial {display: flex;flex-direction: column;align-items: center;background-color: white;padding-right: 0.2em;padding-left: 0.2em;position: relative;}#sk-container-id-7 div.sk-item {position: relative;z-index: 1;}#sk-container-id-7 div.sk-parallel {display: flex;align-items: stretch;justify-content: center;background-color: white;position: relative;}#sk-container-id-7 div.sk-item::before, #sk-container-id-7 div.sk-parallel-item::before {content: \"\";position: absolute;border-left: 1px solid gray;box-sizing: border-box;top: 0;bottom: 0;left: 50%;z-index: -1;}#sk-container-id-7 div.sk-parallel-item {display: flex;flex-direction: column;z-index: 1;position: relative;background-color: white;}#sk-container-id-7 div.sk-parallel-item:first-child::after {align-self: flex-end;width: 50%;}#sk-container-id-7 div.sk-parallel-item:last-child::after {align-self: flex-start;width: 50%;}#sk-container-id-7 div.sk-parallel-item:only-child::after {width: 0;}#sk-container-id-7 div.sk-dashed-wrapped {border: 1px dashed gray;margin: 0 0.4em 0.5em 0.4em;box-sizing: border-box;padding-bottom: 0.4em;background-color: white;}#sk-container-id-7 div.sk-label label {font-family: monospace;font-weight: bold;display: inline-block;line-height: 1.2em;}#sk-container-id-7 div.sk-label-container {text-align: center;}#sk-container-id-7 div.sk-container {/* jupyter's `normalize.less` sets `[hidden] { display: none; }` but bootstrap.min.css set `[hidden] { display: none !important; }` so we also need the `!important` here to be able to override the default hidden behavior on the sphinx rendered scikit-learn.org. See: https://github.com/scikit-learn/scikit-learn/issues/21755 */display: inline-block !important;position: relative;}#sk-container-id-7 div.sk-text-repr-fallback {display: none;}</style><div id=\"sk-container-id-7\" class=\"sk-top-container\"><div class=\"sk-text-repr-fallback\"><pre>RandomizedSearchCV(cv=5, estimator=RandomForestRegressor(), n_iter=15,\n",
       "                   param_distributions={&#x27;criterion&#x27;: [&#x27;squared_error&#x27;,\n",
       "                                                      &#x27;absolute_error&#x27;,\n",
       "                                                      &#x27;poisson&#x27;],\n",
       "                                        &#x27;max_depth&#x27;: [None, 5, 10, 15, 25],\n",
       "                                        &#x27;max_features&#x27;: [&#x27;auto&#x27;, &#x27;sqrt&#x27;, &#x27;log2&#x27;,\n",
       "                                                         None],\n",
       "                                        &#x27;min_samples_leaf&#x27;: [1, 2, 3],\n",
       "                                        &#x27;min_samples_split&#x27;: [2, 4, 7, 1],\n",
       "                                        &#x27;n_estimators&#x27;: [10, 100, 150, 200]},\n",
       "                   verbose=2)</pre><b>In a Jupyter environment, please rerun this cell to show the HTML representation or trust the notebook. <br />On GitHub, the HTML representation is unable to render, please try loading this page with nbviewer.org.</b></div><div class=\"sk-container\" hidden><div class=\"sk-item sk-dashed-wrapped\"><div class=\"sk-label-container\"><div class=\"sk-label sk-toggleable\"><input class=\"sk-toggleable__control sk-hidden--visually\" id=\"sk-estimator-id-11\" type=\"checkbox\" ><label for=\"sk-estimator-id-11\" class=\"sk-toggleable__label sk-toggleable__label-arrow\">RandomizedSearchCV</label><div class=\"sk-toggleable__content\"><pre>RandomizedSearchCV(cv=5, estimator=RandomForestRegressor(), n_iter=15,\n",
       "                   param_distributions={&#x27;criterion&#x27;: [&#x27;squared_error&#x27;,\n",
       "                                                      &#x27;absolute_error&#x27;,\n",
       "                                                      &#x27;poisson&#x27;],\n",
       "                                        &#x27;max_depth&#x27;: [None, 5, 10, 15, 25],\n",
       "                                        &#x27;max_features&#x27;: [&#x27;auto&#x27;, &#x27;sqrt&#x27;, &#x27;log2&#x27;,\n",
       "                                                         None],\n",
       "                                        &#x27;min_samples_leaf&#x27;: [1, 2, 3],\n",
       "                                        &#x27;min_samples_split&#x27;: [2, 4, 7, 1],\n",
       "                                        &#x27;n_estimators&#x27;: [10, 100, 150, 200]},\n",
       "                   verbose=2)</pre></div></div></div><div class=\"sk-parallel\"><div class=\"sk-parallel-item\"><div class=\"sk-item\"><div class=\"sk-label-container\"><div class=\"sk-label sk-toggleable\"><input class=\"sk-toggleable__control sk-hidden--visually\" id=\"sk-estimator-id-12\" type=\"checkbox\" ><label for=\"sk-estimator-id-12\" class=\"sk-toggleable__label sk-toggleable__label-arrow\">estimator: RandomForestRegressor</label><div class=\"sk-toggleable__content\"><pre>RandomForestRegressor()</pre></div></div></div><div class=\"sk-serial\"><div class=\"sk-item\"><div class=\"sk-estimator sk-toggleable\"><input class=\"sk-toggleable__control sk-hidden--visually\" id=\"sk-estimator-id-13\" type=\"checkbox\" ><label for=\"sk-estimator-id-13\" class=\"sk-toggleable__label sk-toggleable__label-arrow\">RandomForestRegressor</label><div class=\"sk-toggleable__content\"><pre>RandomForestRegressor()</pre></div></div></div></div></div></div></div></div></div></div>"
      ],
      "text/plain": [
       "RandomizedSearchCV(cv=5, estimator=RandomForestRegressor(), n_iter=15,\n",
       "                   param_distributions={'criterion': ['squared_error',\n",
       "                                                      'absolute_error',\n",
       "                                                      'poisson'],\n",
       "                                        'max_depth': [None, 5, 10, 15, 25],\n",
       "                                        'max_features': ['auto', 'sqrt', 'log2',\n",
       "                                                         None],\n",
       "                                        'min_samples_leaf': [1, 2, 3],\n",
       "                                        'min_samples_split': [2, 4, 7, 1],\n",
       "                                        'n_estimators': [10, 100, 150, 200]},\n",
       "                   verbose=2)"
      ]
     },
     "execution_count": 44,
     "metadata": {},
     "output_type": "execute_result"
    }
   ],
   "source": [
    "RFgrid = {\"n_estimators\": [10,100,150,200],\n",
    "        \"criterion\":['squared_error', 'absolute_error', 'poisson'],\n",
    "        \"max_depth\":[None,5,10,15,25],\n",
    "        \"max_features\":['auto','sqrt','log2',None],\n",
    "        \"min_samples_split\":[2,4,7,1],\n",
    "        \"min_samples_leaf\":[1,2,3]}\n",
    "RCV_RFReg = RandomizedSearchCV(estimator = RFReg,\n",
    "                              param_distributions = RFgrid,\n",
    "                              n_iter = 15,\n",
    "                              cv = 5,\n",
    "                              verbose = 2)\n",
    "RCV_RFReg.fit(scaled_train_set,train_label)"
   ]
  },
  {
   "cell_type": "code",
   "execution_count": 45,
   "id": "6745bfb5",
   "metadata": {},
   "outputs": [
    {
     "data": {
      "text/plain": [
       "{'n_estimators': 100,\n",
       " 'min_samples_split': 7,\n",
       " 'min_samples_leaf': 2,\n",
       " 'max_features': 'auto',\n",
       " 'max_depth': 5,\n",
       " 'criterion': 'absolute_error'}"
      ]
     },
     "execution_count": 45,
     "metadata": {},
     "output_type": "execute_result"
    }
   ],
   "source": [
    "RCV_RFReg.best_params_"
   ]
  },
  {
   "cell_type": "markdown",
   "id": "9df1d4e6",
   "metadata": {},
   "source": [
    "### Baseline Random Forest Regressor Model Score"
   ]
  },
  {
   "cell_type": "code",
   "execution_count": 46,
   "id": "abed1a31",
   "metadata": {},
   "outputs": [
    {
     "data": {
      "text/plain": [
       "0.859868750040822"
      ]
     },
     "execution_count": 46,
     "metadata": {},
     "output_type": "execute_result"
    }
   ],
   "source": [
    "RFReg.score(scaled_test_set,test_label)"
   ]
  },
  {
   "cell_type": "markdown",
   "id": "4d9f3fad",
   "metadata": {},
   "source": [
    "### Model Score after Hyperparameter Tuning by RandomSearchCV method"
   ]
  },
  {
   "cell_type": "code",
   "execution_count": 47,
   "id": "1b34a043",
   "metadata": {},
   "outputs": [
    {
     "data": {
      "text/plain": [
       "0.8786047789551993"
      ]
     },
     "execution_count": 47,
     "metadata": {},
     "output_type": "execute_result"
    }
   ],
   "source": [
    "RCV_RFReg.score(scaled_test_set,test_label)"
   ]
  },
  {
   "cell_type": "markdown",
   "id": "499120cd",
   "metadata": {},
   "source": [
    "## Using GridSearchCV"
   ]
  },
  {
   "cell_type": "code",
   "execution_count": 97,
   "id": "c21c314b",
   "metadata": {},
   "outputs": [
    {
     "name": "stdout",
     "output_type": "stream",
     "text": [
      "Fitting 5 folds for each of 32 candidates, totalling 160 fits\n",
      "[CV] END criterion=absolute_error, max_depth=None, max_features=sqrt, min_samples_leaf=2, min_samples_split=4, n_estimators=100; total time=   0.4s\n",
      "[CV] END criterion=absolute_error, max_depth=None, max_features=sqrt, min_samples_leaf=2, min_samples_split=4, n_estimators=100; total time=   0.4s\n",
      "[CV] END criterion=absolute_error, max_depth=None, max_features=sqrt, min_samples_leaf=2, min_samples_split=4, n_estimators=100; total time=   0.5s\n",
      "[CV] END criterion=absolute_error, max_depth=None, max_features=sqrt, min_samples_leaf=2, min_samples_split=4, n_estimators=100; total time=   0.4s\n",
      "[CV] END criterion=absolute_error, max_depth=None, max_features=sqrt, min_samples_leaf=2, min_samples_split=4, n_estimators=100; total time=   0.5s\n",
      "[CV] END criterion=absolute_error, max_depth=None, max_features=sqrt, min_samples_leaf=2, min_samples_split=4, n_estimators=200; total time=   1.0s\n",
      "[CV] END criterion=absolute_error, max_depth=None, max_features=sqrt, min_samples_leaf=2, min_samples_split=4, n_estimators=200; total time=   1.0s\n",
      "[CV] END criterion=absolute_error, max_depth=None, max_features=sqrt, min_samples_leaf=2, min_samples_split=4, n_estimators=200; total time=   1.0s\n",
      "[CV] END criterion=absolute_error, max_depth=None, max_features=sqrt, min_samples_leaf=2, min_samples_split=4, n_estimators=200; total time=   1.0s\n",
      "[CV] END criterion=absolute_error, max_depth=None, max_features=sqrt, min_samples_leaf=2, min_samples_split=4, n_estimators=200; total time=   1.0s\n",
      "[CV] END criterion=absolute_error, max_depth=None, max_features=sqrt, min_samples_leaf=3, min_samples_split=4, n_estimators=100; total time=   0.4s\n",
      "[CV] END criterion=absolute_error, max_depth=None, max_features=sqrt, min_samples_leaf=3, min_samples_split=4, n_estimators=100; total time=   0.4s\n",
      "[CV] END criterion=absolute_error, max_depth=None, max_features=sqrt, min_samples_leaf=3, min_samples_split=4, n_estimators=100; total time=   0.4s\n",
      "[CV] END criterion=absolute_error, max_depth=None, max_features=sqrt, min_samples_leaf=3, min_samples_split=4, n_estimators=100; total time=   0.4s\n",
      "[CV] END criterion=absolute_error, max_depth=None, max_features=sqrt, min_samples_leaf=3, min_samples_split=4, n_estimators=100; total time=   0.4s\n",
      "[CV] END criterion=absolute_error, max_depth=None, max_features=sqrt, min_samples_leaf=3, min_samples_split=4, n_estimators=200; total time=   0.9s\n",
      "[CV] END criterion=absolute_error, max_depth=None, max_features=sqrt, min_samples_leaf=3, min_samples_split=4, n_estimators=200; total time=   0.9s\n",
      "[CV] END criterion=absolute_error, max_depth=None, max_features=sqrt, min_samples_leaf=3, min_samples_split=4, n_estimators=200; total time=   0.9s\n",
      "[CV] END criterion=absolute_error, max_depth=None, max_features=sqrt, min_samples_leaf=3, min_samples_split=4, n_estimators=200; total time=   0.9s\n",
      "[CV] END criterion=absolute_error, max_depth=None, max_features=sqrt, min_samples_leaf=3, min_samples_split=4, n_estimators=200; total time=   0.9s\n"
     ]
    },
    {
     "name": "stderr",
     "output_type": "stream",
     "text": [
      "C:\\Users\\Dell\\AppData\\Local\\Programs\\Python\\Python310\\lib\\site-packages\\sklearn\\ensemble\\_forest.py:416: FutureWarning: `max_features='auto'` has been deprecated in 1.1 and will be removed in 1.3. To keep the past behaviour, explicitly set `max_features=1.0` or remove this parameter as it is also the default value for RandomForestRegressors and ExtraTreesRegressors.\n",
      "  warn(\n"
     ]
    },
    {
     "name": "stdout",
     "output_type": "stream",
     "text": [
      "[CV] END criterion=absolute_error, max_depth=None, max_features=auto, min_samples_leaf=2, min_samples_split=4, n_estimators=100; total time=   1.2s\n"
     ]
    },
    {
     "name": "stderr",
     "output_type": "stream",
     "text": [
      "C:\\Users\\Dell\\AppData\\Local\\Programs\\Python\\Python310\\lib\\site-packages\\sklearn\\ensemble\\_forest.py:416: FutureWarning: `max_features='auto'` has been deprecated in 1.1 and will be removed in 1.3. To keep the past behaviour, explicitly set `max_features=1.0` or remove this parameter as it is also the default value for RandomForestRegressors and ExtraTreesRegressors.\n",
      "  warn(\n"
     ]
    },
    {
     "name": "stdout",
     "output_type": "stream",
     "text": [
      "[CV] END criterion=absolute_error, max_depth=None, max_features=auto, min_samples_leaf=2, min_samples_split=4, n_estimators=100; total time=   1.3s\n"
     ]
    },
    {
     "name": "stderr",
     "output_type": "stream",
     "text": [
      "C:\\Users\\Dell\\AppData\\Local\\Programs\\Python\\Python310\\lib\\site-packages\\sklearn\\ensemble\\_forest.py:416: FutureWarning: `max_features='auto'` has been deprecated in 1.1 and will be removed in 1.3. To keep the past behaviour, explicitly set `max_features=1.0` or remove this parameter as it is also the default value for RandomForestRegressors and ExtraTreesRegressors.\n",
      "  warn(\n"
     ]
    },
    {
     "name": "stdout",
     "output_type": "stream",
     "text": [
      "[CV] END criterion=absolute_error, max_depth=None, max_features=auto, min_samples_leaf=2, min_samples_split=4, n_estimators=100; total time=   1.2s\n"
     ]
    },
    {
     "name": "stderr",
     "output_type": "stream",
     "text": [
      "C:\\Users\\Dell\\AppData\\Local\\Programs\\Python\\Python310\\lib\\site-packages\\sklearn\\ensemble\\_forest.py:416: FutureWarning: `max_features='auto'` has been deprecated in 1.1 and will be removed in 1.3. To keep the past behaviour, explicitly set `max_features=1.0` or remove this parameter as it is also the default value for RandomForestRegressors and ExtraTreesRegressors.\n",
      "  warn(\n"
     ]
    },
    {
     "name": "stdout",
     "output_type": "stream",
     "text": [
      "[CV] END criterion=absolute_error, max_depth=None, max_features=auto, min_samples_leaf=2, min_samples_split=4, n_estimators=100; total time=   1.3s\n"
     ]
    },
    {
     "name": "stderr",
     "output_type": "stream",
     "text": [
      "C:\\Users\\Dell\\AppData\\Local\\Programs\\Python\\Python310\\lib\\site-packages\\sklearn\\ensemble\\_forest.py:416: FutureWarning: `max_features='auto'` has been deprecated in 1.1 and will be removed in 1.3. To keep the past behaviour, explicitly set `max_features=1.0` or remove this parameter as it is also the default value for RandomForestRegressors and ExtraTreesRegressors.\n",
      "  warn(\n"
     ]
    },
    {
     "name": "stdout",
     "output_type": "stream",
     "text": [
      "[CV] END criterion=absolute_error, max_depth=None, max_features=auto, min_samples_leaf=2, min_samples_split=4, n_estimators=100; total time=   1.2s\n"
     ]
    },
    {
     "name": "stderr",
     "output_type": "stream",
     "text": [
      "C:\\Users\\Dell\\AppData\\Local\\Programs\\Python\\Python310\\lib\\site-packages\\sklearn\\ensemble\\_forest.py:416: FutureWarning: `max_features='auto'` has been deprecated in 1.1 and will be removed in 1.3. To keep the past behaviour, explicitly set `max_features=1.0` or remove this parameter as it is also the default value for RandomForestRegressors and ExtraTreesRegressors.\n",
      "  warn(\n"
     ]
    },
    {
     "name": "stdout",
     "output_type": "stream",
     "text": [
      "[CV] END criterion=absolute_error, max_depth=None, max_features=auto, min_samples_leaf=2, min_samples_split=4, n_estimators=200; total time=   2.6s\n"
     ]
    },
    {
     "name": "stderr",
     "output_type": "stream",
     "text": [
      "C:\\Users\\Dell\\AppData\\Local\\Programs\\Python\\Python310\\lib\\site-packages\\sklearn\\ensemble\\_forest.py:416: FutureWarning: `max_features='auto'` has been deprecated in 1.1 and will be removed in 1.3. To keep the past behaviour, explicitly set `max_features=1.0` or remove this parameter as it is also the default value for RandomForestRegressors and ExtraTreesRegressors.\n",
      "  warn(\n"
     ]
    },
    {
     "name": "stdout",
     "output_type": "stream",
     "text": [
      "[CV] END criterion=absolute_error, max_depth=None, max_features=auto, min_samples_leaf=2, min_samples_split=4, n_estimators=200; total time=   2.6s\n"
     ]
    },
    {
     "name": "stderr",
     "output_type": "stream",
     "text": [
      "C:\\Users\\Dell\\AppData\\Local\\Programs\\Python\\Python310\\lib\\site-packages\\sklearn\\ensemble\\_forest.py:416: FutureWarning: `max_features='auto'` has been deprecated in 1.1 and will be removed in 1.3. To keep the past behaviour, explicitly set `max_features=1.0` or remove this parameter as it is also the default value for RandomForestRegressors and ExtraTreesRegressors.\n",
      "  warn(\n"
     ]
    },
    {
     "name": "stdout",
     "output_type": "stream",
     "text": [
      "[CV] END criterion=absolute_error, max_depth=None, max_features=auto, min_samples_leaf=2, min_samples_split=4, n_estimators=200; total time=   2.6s\n"
     ]
    },
    {
     "name": "stderr",
     "output_type": "stream",
     "text": [
      "C:\\Users\\Dell\\AppData\\Local\\Programs\\Python\\Python310\\lib\\site-packages\\sklearn\\ensemble\\_forest.py:416: FutureWarning: `max_features='auto'` has been deprecated in 1.1 and will be removed in 1.3. To keep the past behaviour, explicitly set `max_features=1.0` or remove this parameter as it is also the default value for RandomForestRegressors and ExtraTreesRegressors.\n",
      "  warn(\n"
     ]
    },
    {
     "name": "stdout",
     "output_type": "stream",
     "text": [
      "[CV] END criterion=absolute_error, max_depth=None, max_features=auto, min_samples_leaf=2, min_samples_split=4, n_estimators=200; total time=   2.6s\n"
     ]
    },
    {
     "name": "stderr",
     "output_type": "stream",
     "text": [
      "C:\\Users\\Dell\\AppData\\Local\\Programs\\Python\\Python310\\lib\\site-packages\\sklearn\\ensemble\\_forest.py:416: FutureWarning: `max_features='auto'` has been deprecated in 1.1 and will be removed in 1.3. To keep the past behaviour, explicitly set `max_features=1.0` or remove this parameter as it is also the default value for RandomForestRegressors and ExtraTreesRegressors.\n",
      "  warn(\n"
     ]
    },
    {
     "name": "stdout",
     "output_type": "stream",
     "text": [
      "[CV] END criterion=absolute_error, max_depth=None, max_features=auto, min_samples_leaf=2, min_samples_split=4, n_estimators=200; total time=   2.6s\n"
     ]
    },
    {
     "name": "stderr",
     "output_type": "stream",
     "text": [
      "C:\\Users\\Dell\\AppData\\Local\\Programs\\Python\\Python310\\lib\\site-packages\\sklearn\\ensemble\\_forest.py:416: FutureWarning: `max_features='auto'` has been deprecated in 1.1 and will be removed in 1.3. To keep the past behaviour, explicitly set `max_features=1.0` or remove this parameter as it is also the default value for RandomForestRegressors and ExtraTreesRegressors.\n",
      "  warn(\n"
     ]
    },
    {
     "name": "stdout",
     "output_type": "stream",
     "text": [
      "[CV] END criterion=absolute_error, max_depth=None, max_features=auto, min_samples_leaf=3, min_samples_split=4, n_estimators=100; total time=   1.2s\n"
     ]
    },
    {
     "name": "stderr",
     "output_type": "stream",
     "text": [
      "C:\\Users\\Dell\\AppData\\Local\\Programs\\Python\\Python310\\lib\\site-packages\\sklearn\\ensemble\\_forest.py:416: FutureWarning: `max_features='auto'` has been deprecated in 1.1 and will be removed in 1.3. To keep the past behaviour, explicitly set `max_features=1.0` or remove this parameter as it is also the default value for RandomForestRegressors and ExtraTreesRegressors.\n",
      "  warn(\n"
     ]
    },
    {
     "name": "stdout",
     "output_type": "stream",
     "text": [
      "[CV] END criterion=absolute_error, max_depth=None, max_features=auto, min_samples_leaf=3, min_samples_split=4, n_estimators=100; total time=   1.2s\n"
     ]
    },
    {
     "name": "stderr",
     "output_type": "stream",
     "text": [
      "C:\\Users\\Dell\\AppData\\Local\\Programs\\Python\\Python310\\lib\\site-packages\\sklearn\\ensemble\\_forest.py:416: FutureWarning: `max_features='auto'` has been deprecated in 1.1 and will be removed in 1.3. To keep the past behaviour, explicitly set `max_features=1.0` or remove this parameter as it is also the default value for RandomForestRegressors and ExtraTreesRegressors.\n",
      "  warn(\n"
     ]
    },
    {
     "name": "stdout",
     "output_type": "stream",
     "text": [
      "[CV] END criterion=absolute_error, max_depth=None, max_features=auto, min_samples_leaf=3, min_samples_split=4, n_estimators=100; total time=   1.2s\n"
     ]
    },
    {
     "name": "stderr",
     "output_type": "stream",
     "text": [
      "C:\\Users\\Dell\\AppData\\Local\\Programs\\Python\\Python310\\lib\\site-packages\\sklearn\\ensemble\\_forest.py:416: FutureWarning: `max_features='auto'` has been deprecated in 1.1 and will be removed in 1.3. To keep the past behaviour, explicitly set `max_features=1.0` or remove this parameter as it is also the default value for RandomForestRegressors and ExtraTreesRegressors.\n",
      "  warn(\n"
     ]
    },
    {
     "name": "stdout",
     "output_type": "stream",
     "text": [
      "[CV] END criterion=absolute_error, max_depth=None, max_features=auto, min_samples_leaf=3, min_samples_split=4, n_estimators=100; total time=   1.2s\n"
     ]
    },
    {
     "name": "stderr",
     "output_type": "stream",
     "text": [
      "C:\\Users\\Dell\\AppData\\Local\\Programs\\Python\\Python310\\lib\\site-packages\\sklearn\\ensemble\\_forest.py:416: FutureWarning: `max_features='auto'` has been deprecated in 1.1 and will be removed in 1.3. To keep the past behaviour, explicitly set `max_features=1.0` or remove this parameter as it is also the default value for RandomForestRegressors and ExtraTreesRegressors.\n",
      "  warn(\n"
     ]
    },
    {
     "name": "stdout",
     "output_type": "stream",
     "text": [
      "[CV] END criterion=absolute_error, max_depth=None, max_features=auto, min_samples_leaf=3, min_samples_split=4, n_estimators=100; total time=   1.2s\n"
     ]
    },
    {
     "name": "stderr",
     "output_type": "stream",
     "text": [
      "C:\\Users\\Dell\\AppData\\Local\\Programs\\Python\\Python310\\lib\\site-packages\\sklearn\\ensemble\\_forest.py:416: FutureWarning: `max_features='auto'` has been deprecated in 1.1 and will be removed in 1.3. To keep the past behaviour, explicitly set `max_features=1.0` or remove this parameter as it is also the default value for RandomForestRegressors and ExtraTreesRegressors.\n",
      "  warn(\n"
     ]
    },
    {
     "name": "stdout",
     "output_type": "stream",
     "text": [
      "[CV] END criterion=absolute_error, max_depth=None, max_features=auto, min_samples_leaf=3, min_samples_split=4, n_estimators=200; total time=   2.4s\n"
     ]
    },
    {
     "name": "stderr",
     "output_type": "stream",
     "text": [
      "C:\\Users\\Dell\\AppData\\Local\\Programs\\Python\\Python310\\lib\\site-packages\\sklearn\\ensemble\\_forest.py:416: FutureWarning: `max_features='auto'` has been deprecated in 1.1 and will be removed in 1.3. To keep the past behaviour, explicitly set `max_features=1.0` or remove this parameter as it is also the default value for RandomForestRegressors and ExtraTreesRegressors.\n",
      "  warn(\n"
     ]
    },
    {
     "name": "stdout",
     "output_type": "stream",
     "text": [
      "[CV] END criterion=absolute_error, max_depth=None, max_features=auto, min_samples_leaf=3, min_samples_split=4, n_estimators=200; total time=   2.5s\n"
     ]
    },
    {
     "name": "stderr",
     "output_type": "stream",
     "text": [
      "C:\\Users\\Dell\\AppData\\Local\\Programs\\Python\\Python310\\lib\\site-packages\\sklearn\\ensemble\\_forest.py:416: FutureWarning: `max_features='auto'` has been deprecated in 1.1 and will be removed in 1.3. To keep the past behaviour, explicitly set `max_features=1.0` or remove this parameter as it is also the default value for RandomForestRegressors and ExtraTreesRegressors.\n",
      "  warn(\n"
     ]
    },
    {
     "name": "stdout",
     "output_type": "stream",
     "text": [
      "[CV] END criterion=absolute_error, max_depth=None, max_features=auto, min_samples_leaf=3, min_samples_split=4, n_estimators=200; total time=   2.6s\n"
     ]
    },
    {
     "name": "stderr",
     "output_type": "stream",
     "text": [
      "C:\\Users\\Dell\\AppData\\Local\\Programs\\Python\\Python310\\lib\\site-packages\\sklearn\\ensemble\\_forest.py:416: FutureWarning: `max_features='auto'` has been deprecated in 1.1 and will be removed in 1.3. To keep the past behaviour, explicitly set `max_features=1.0` or remove this parameter as it is also the default value for RandomForestRegressors and ExtraTreesRegressors.\n",
      "  warn(\n"
     ]
    },
    {
     "name": "stdout",
     "output_type": "stream",
     "text": [
      "[CV] END criterion=absolute_error, max_depth=None, max_features=auto, min_samples_leaf=3, min_samples_split=4, n_estimators=200; total time=   2.7s\n"
     ]
    },
    {
     "name": "stderr",
     "output_type": "stream",
     "text": [
      "C:\\Users\\Dell\\AppData\\Local\\Programs\\Python\\Python310\\lib\\site-packages\\sklearn\\ensemble\\_forest.py:416: FutureWarning: `max_features='auto'` has been deprecated in 1.1 and will be removed in 1.3. To keep the past behaviour, explicitly set `max_features=1.0` or remove this parameter as it is also the default value for RandomForestRegressors and ExtraTreesRegressors.\n",
      "  warn(\n"
     ]
    },
    {
     "name": "stdout",
     "output_type": "stream",
     "text": [
      "[CV] END criterion=absolute_error, max_depth=None, max_features=auto, min_samples_leaf=3, min_samples_split=4, n_estimators=200; total time=   2.7s\n",
      "[CV] END criterion=absolute_error, max_depth=15, max_features=sqrt, min_samples_leaf=2, min_samples_split=4, n_estimators=100; total time=   0.5s\n",
      "[CV] END criterion=absolute_error, max_depth=15, max_features=sqrt, min_samples_leaf=2, min_samples_split=4, n_estimators=100; total time=   0.5s\n",
      "[CV] END criterion=absolute_error, max_depth=15, max_features=sqrt, min_samples_leaf=2, min_samples_split=4, n_estimators=100; total time=   0.4s\n",
      "[CV] END criterion=absolute_error, max_depth=15, max_features=sqrt, min_samples_leaf=2, min_samples_split=4, n_estimators=100; total time=   0.5s\n",
      "[CV] END criterion=absolute_error, max_depth=15, max_features=sqrt, min_samples_leaf=2, min_samples_split=4, n_estimators=100; total time=   0.4s\n",
      "[CV] END criterion=absolute_error, max_depth=15, max_features=sqrt, min_samples_leaf=2, min_samples_split=4, n_estimators=200; total time=   1.0s\n",
      "[CV] END criterion=absolute_error, max_depth=15, max_features=sqrt, min_samples_leaf=2, min_samples_split=4, n_estimators=200; total time=   1.0s\n",
      "[CV] END criterion=absolute_error, max_depth=15, max_features=sqrt, min_samples_leaf=2, min_samples_split=4, n_estimators=200; total time=   1.1s\n",
      "[CV] END criterion=absolute_error, max_depth=15, max_features=sqrt, min_samples_leaf=2, min_samples_split=4, n_estimators=200; total time=   1.1s\n",
      "[CV] END criterion=absolute_error, max_depth=15, max_features=sqrt, min_samples_leaf=2, min_samples_split=4, n_estimators=200; total time=   1.0s\n",
      "[CV] END criterion=absolute_error, max_depth=15, max_features=sqrt, min_samples_leaf=3, min_samples_split=4, n_estimators=100; total time=   0.4s\n",
      "[CV] END criterion=absolute_error, max_depth=15, max_features=sqrt, min_samples_leaf=3, min_samples_split=4, n_estimators=100; total time=   0.4s\n",
      "[CV] END criterion=absolute_error, max_depth=15, max_features=sqrt, min_samples_leaf=3, min_samples_split=4, n_estimators=100; total time=   0.4s\n",
      "[CV] END criterion=absolute_error, max_depth=15, max_features=sqrt, min_samples_leaf=3, min_samples_split=4, n_estimators=100; total time=   0.4s\n",
      "[CV] END criterion=absolute_error, max_depth=15, max_features=sqrt, min_samples_leaf=3, min_samples_split=4, n_estimators=100; total time=   0.4s\n",
      "[CV] END criterion=absolute_error, max_depth=15, max_features=sqrt, min_samples_leaf=3, min_samples_split=4, n_estimators=200; total time=   1.0s\n",
      "[CV] END criterion=absolute_error, max_depth=15, max_features=sqrt, min_samples_leaf=3, min_samples_split=4, n_estimators=200; total time=   1.0s\n",
      "[CV] END criterion=absolute_error, max_depth=15, max_features=sqrt, min_samples_leaf=3, min_samples_split=4, n_estimators=200; total time=   0.9s\n",
      "[CV] END criterion=absolute_error, max_depth=15, max_features=sqrt, min_samples_leaf=3, min_samples_split=4, n_estimators=200; total time=   0.9s\n",
      "[CV] END criterion=absolute_error, max_depth=15, max_features=sqrt, min_samples_leaf=3, min_samples_split=4, n_estimators=200; total time=   0.9s\n"
     ]
    },
    {
     "name": "stderr",
     "output_type": "stream",
     "text": [
      "C:\\Users\\Dell\\AppData\\Local\\Programs\\Python\\Python310\\lib\\site-packages\\sklearn\\ensemble\\_forest.py:416: FutureWarning: `max_features='auto'` has been deprecated in 1.1 and will be removed in 1.3. To keep the past behaviour, explicitly set `max_features=1.0` or remove this parameter as it is also the default value for RandomForestRegressors and ExtraTreesRegressors.\n",
      "  warn(\n"
     ]
    },
    {
     "name": "stdout",
     "output_type": "stream",
     "text": [
      "[CV] END criterion=absolute_error, max_depth=15, max_features=auto, min_samples_leaf=2, min_samples_split=4, n_estimators=100; total time=   1.3s\n"
     ]
    },
    {
     "name": "stderr",
     "output_type": "stream",
     "text": [
      "C:\\Users\\Dell\\AppData\\Local\\Programs\\Python\\Python310\\lib\\site-packages\\sklearn\\ensemble\\_forest.py:416: FutureWarning: `max_features='auto'` has been deprecated in 1.1 and will be removed in 1.3. To keep the past behaviour, explicitly set `max_features=1.0` or remove this parameter as it is also the default value for RandomForestRegressors and ExtraTreesRegressors.\n",
      "  warn(\n"
     ]
    },
    {
     "name": "stdout",
     "output_type": "stream",
     "text": [
      "[CV] END criterion=absolute_error, max_depth=15, max_features=auto, min_samples_leaf=2, min_samples_split=4, n_estimators=100; total time=   1.6s\n"
     ]
    },
    {
     "name": "stderr",
     "output_type": "stream",
     "text": [
      "C:\\Users\\Dell\\AppData\\Local\\Programs\\Python\\Python310\\lib\\site-packages\\sklearn\\ensemble\\_forest.py:416: FutureWarning: `max_features='auto'` has been deprecated in 1.1 and will be removed in 1.3. To keep the past behaviour, explicitly set `max_features=1.0` or remove this parameter as it is also the default value for RandomForestRegressors and ExtraTreesRegressors.\n",
      "  warn(\n"
     ]
    },
    {
     "name": "stdout",
     "output_type": "stream",
     "text": [
      "[CV] END criterion=absolute_error, max_depth=15, max_features=auto, min_samples_leaf=2, min_samples_split=4, n_estimators=100; total time=   1.4s\n"
     ]
    },
    {
     "name": "stderr",
     "output_type": "stream",
     "text": [
      "C:\\Users\\Dell\\AppData\\Local\\Programs\\Python\\Python310\\lib\\site-packages\\sklearn\\ensemble\\_forest.py:416: FutureWarning: `max_features='auto'` has been deprecated in 1.1 and will be removed in 1.3. To keep the past behaviour, explicitly set `max_features=1.0` or remove this parameter as it is also the default value for RandomForestRegressors and ExtraTreesRegressors.\n",
      "  warn(\n"
     ]
    },
    {
     "name": "stdout",
     "output_type": "stream",
     "text": [
      "[CV] END criterion=absolute_error, max_depth=15, max_features=auto, min_samples_leaf=2, min_samples_split=4, n_estimators=100; total time=   1.5s\n"
     ]
    },
    {
     "name": "stderr",
     "output_type": "stream",
     "text": [
      "C:\\Users\\Dell\\AppData\\Local\\Programs\\Python\\Python310\\lib\\site-packages\\sklearn\\ensemble\\_forest.py:416: FutureWarning: `max_features='auto'` has been deprecated in 1.1 and will be removed in 1.3. To keep the past behaviour, explicitly set `max_features=1.0` or remove this parameter as it is also the default value for RandomForestRegressors and ExtraTreesRegressors.\n",
      "  warn(\n"
     ]
    },
    {
     "name": "stdout",
     "output_type": "stream",
     "text": [
      "[CV] END criterion=absolute_error, max_depth=15, max_features=auto, min_samples_leaf=2, min_samples_split=4, n_estimators=100; total time=   1.4s\n"
     ]
    },
    {
     "name": "stderr",
     "output_type": "stream",
     "text": [
      "C:\\Users\\Dell\\AppData\\Local\\Programs\\Python\\Python310\\lib\\site-packages\\sklearn\\ensemble\\_forest.py:416: FutureWarning: `max_features='auto'` has been deprecated in 1.1 and will be removed in 1.3. To keep the past behaviour, explicitly set `max_features=1.0` or remove this parameter as it is also the default value for RandomForestRegressors and ExtraTreesRegressors.\n",
      "  warn(\n"
     ]
    },
    {
     "name": "stdout",
     "output_type": "stream",
     "text": [
      "[CV] END criterion=absolute_error, max_depth=15, max_features=auto, min_samples_leaf=2, min_samples_split=4, n_estimators=200; total time=   2.9s\n"
     ]
    },
    {
     "name": "stderr",
     "output_type": "stream",
     "text": [
      "C:\\Users\\Dell\\AppData\\Local\\Programs\\Python\\Python310\\lib\\site-packages\\sklearn\\ensemble\\_forest.py:416: FutureWarning: `max_features='auto'` has been deprecated in 1.1 and will be removed in 1.3. To keep the past behaviour, explicitly set `max_features=1.0` or remove this parameter as it is also the default value for RandomForestRegressors and ExtraTreesRegressors.\n",
      "  warn(\n"
     ]
    },
    {
     "name": "stdout",
     "output_type": "stream",
     "text": [
      "[CV] END criterion=absolute_error, max_depth=15, max_features=auto, min_samples_leaf=2, min_samples_split=4, n_estimators=200; total time=   2.9s\n"
     ]
    },
    {
     "name": "stderr",
     "output_type": "stream",
     "text": [
      "C:\\Users\\Dell\\AppData\\Local\\Programs\\Python\\Python310\\lib\\site-packages\\sklearn\\ensemble\\_forest.py:416: FutureWarning: `max_features='auto'` has been deprecated in 1.1 and will be removed in 1.3. To keep the past behaviour, explicitly set `max_features=1.0` or remove this parameter as it is also the default value for RandomForestRegressors and ExtraTreesRegressors.\n",
      "  warn(\n"
     ]
    },
    {
     "name": "stdout",
     "output_type": "stream",
     "text": [
      "[CV] END criterion=absolute_error, max_depth=15, max_features=auto, min_samples_leaf=2, min_samples_split=4, n_estimators=200; total time=   2.9s\n"
     ]
    },
    {
     "name": "stderr",
     "output_type": "stream",
     "text": [
      "C:\\Users\\Dell\\AppData\\Local\\Programs\\Python\\Python310\\lib\\site-packages\\sklearn\\ensemble\\_forest.py:416: FutureWarning: `max_features='auto'` has been deprecated in 1.1 and will be removed in 1.3. To keep the past behaviour, explicitly set `max_features=1.0` or remove this parameter as it is also the default value for RandomForestRegressors and ExtraTreesRegressors.\n",
      "  warn(\n"
     ]
    },
    {
     "name": "stdout",
     "output_type": "stream",
     "text": [
      "[CV] END criterion=absolute_error, max_depth=15, max_features=auto, min_samples_leaf=2, min_samples_split=4, n_estimators=200; total time=   2.8s\n"
     ]
    },
    {
     "name": "stderr",
     "output_type": "stream",
     "text": [
      "C:\\Users\\Dell\\AppData\\Local\\Programs\\Python\\Python310\\lib\\site-packages\\sklearn\\ensemble\\_forest.py:416: FutureWarning: `max_features='auto'` has been deprecated in 1.1 and will be removed in 1.3. To keep the past behaviour, explicitly set `max_features=1.0` or remove this parameter as it is also the default value for RandomForestRegressors and ExtraTreesRegressors.\n",
      "  warn(\n"
     ]
    },
    {
     "name": "stdout",
     "output_type": "stream",
     "text": [
      "[CV] END criterion=absolute_error, max_depth=15, max_features=auto, min_samples_leaf=2, min_samples_split=4, n_estimators=200; total time=   2.8s\n"
     ]
    },
    {
     "name": "stderr",
     "output_type": "stream",
     "text": [
      "C:\\Users\\Dell\\AppData\\Local\\Programs\\Python\\Python310\\lib\\site-packages\\sklearn\\ensemble\\_forest.py:416: FutureWarning: `max_features='auto'` has been deprecated in 1.1 and will be removed in 1.3. To keep the past behaviour, explicitly set `max_features=1.0` or remove this parameter as it is also the default value for RandomForestRegressors and ExtraTreesRegressors.\n",
      "  warn(\n"
     ]
    },
    {
     "name": "stdout",
     "output_type": "stream",
     "text": [
      "[CV] END criterion=absolute_error, max_depth=15, max_features=auto, min_samples_leaf=3, min_samples_split=4, n_estimators=100; total time=   1.2s\n"
     ]
    },
    {
     "name": "stderr",
     "output_type": "stream",
     "text": [
      "C:\\Users\\Dell\\AppData\\Local\\Programs\\Python\\Python310\\lib\\site-packages\\sklearn\\ensemble\\_forest.py:416: FutureWarning: `max_features='auto'` has been deprecated in 1.1 and will be removed in 1.3. To keep the past behaviour, explicitly set `max_features=1.0` or remove this parameter as it is also the default value for RandomForestRegressors and ExtraTreesRegressors.\n",
      "  warn(\n"
     ]
    },
    {
     "name": "stdout",
     "output_type": "stream",
     "text": [
      "[CV] END criterion=absolute_error, max_depth=15, max_features=auto, min_samples_leaf=3, min_samples_split=4, n_estimators=100; total time=   1.2s\n"
     ]
    },
    {
     "name": "stderr",
     "output_type": "stream",
     "text": [
      "C:\\Users\\Dell\\AppData\\Local\\Programs\\Python\\Python310\\lib\\site-packages\\sklearn\\ensemble\\_forest.py:416: FutureWarning: `max_features='auto'` has been deprecated in 1.1 and will be removed in 1.3. To keep the past behaviour, explicitly set `max_features=1.0` or remove this parameter as it is also the default value for RandomForestRegressors and ExtraTreesRegressors.\n",
      "  warn(\n"
     ]
    },
    {
     "name": "stdout",
     "output_type": "stream",
     "text": [
      "[CV] END criterion=absolute_error, max_depth=15, max_features=auto, min_samples_leaf=3, min_samples_split=4, n_estimators=100; total time=   1.2s\n"
     ]
    },
    {
     "name": "stderr",
     "output_type": "stream",
     "text": [
      "C:\\Users\\Dell\\AppData\\Local\\Programs\\Python\\Python310\\lib\\site-packages\\sklearn\\ensemble\\_forest.py:416: FutureWarning: `max_features='auto'` has been deprecated in 1.1 and will be removed in 1.3. To keep the past behaviour, explicitly set `max_features=1.0` or remove this parameter as it is also the default value for RandomForestRegressors and ExtraTreesRegressors.\n",
      "  warn(\n"
     ]
    },
    {
     "name": "stdout",
     "output_type": "stream",
     "text": [
      "[CV] END criterion=absolute_error, max_depth=15, max_features=auto, min_samples_leaf=3, min_samples_split=4, n_estimators=100; total time=   1.3s\n"
     ]
    },
    {
     "name": "stderr",
     "output_type": "stream",
     "text": [
      "C:\\Users\\Dell\\AppData\\Local\\Programs\\Python\\Python310\\lib\\site-packages\\sklearn\\ensemble\\_forest.py:416: FutureWarning: `max_features='auto'` has been deprecated in 1.1 and will be removed in 1.3. To keep the past behaviour, explicitly set `max_features=1.0` or remove this parameter as it is also the default value for RandomForestRegressors and ExtraTreesRegressors.\n",
      "  warn(\n"
     ]
    },
    {
     "name": "stdout",
     "output_type": "stream",
     "text": [
      "[CV] END criterion=absolute_error, max_depth=15, max_features=auto, min_samples_leaf=3, min_samples_split=4, n_estimators=100; total time=   1.2s\n"
     ]
    },
    {
     "name": "stderr",
     "output_type": "stream",
     "text": [
      "C:\\Users\\Dell\\AppData\\Local\\Programs\\Python\\Python310\\lib\\site-packages\\sklearn\\ensemble\\_forest.py:416: FutureWarning: `max_features='auto'` has been deprecated in 1.1 and will be removed in 1.3. To keep the past behaviour, explicitly set `max_features=1.0` or remove this parameter as it is also the default value for RandomForestRegressors and ExtraTreesRegressors.\n",
      "  warn(\n"
     ]
    },
    {
     "name": "stdout",
     "output_type": "stream",
     "text": [
      "[CV] END criterion=absolute_error, max_depth=15, max_features=auto, min_samples_leaf=3, min_samples_split=4, n_estimators=200; total time=   2.5s\n"
     ]
    },
    {
     "name": "stderr",
     "output_type": "stream",
     "text": [
      "C:\\Users\\Dell\\AppData\\Local\\Programs\\Python\\Python310\\lib\\site-packages\\sklearn\\ensemble\\_forest.py:416: FutureWarning: `max_features='auto'` has been deprecated in 1.1 and will be removed in 1.3. To keep the past behaviour, explicitly set `max_features=1.0` or remove this parameter as it is also the default value for RandomForestRegressors and ExtraTreesRegressors.\n",
      "  warn(\n"
     ]
    },
    {
     "name": "stdout",
     "output_type": "stream",
     "text": [
      "[CV] END criterion=absolute_error, max_depth=15, max_features=auto, min_samples_leaf=3, min_samples_split=4, n_estimators=200; total time=   2.5s\n"
     ]
    },
    {
     "name": "stderr",
     "output_type": "stream",
     "text": [
      "C:\\Users\\Dell\\AppData\\Local\\Programs\\Python\\Python310\\lib\\site-packages\\sklearn\\ensemble\\_forest.py:416: FutureWarning: `max_features='auto'` has been deprecated in 1.1 and will be removed in 1.3. To keep the past behaviour, explicitly set `max_features=1.0` or remove this parameter as it is also the default value for RandomForestRegressors and ExtraTreesRegressors.\n",
      "  warn(\n"
     ]
    },
    {
     "name": "stdout",
     "output_type": "stream",
     "text": [
      "[CV] END criterion=absolute_error, max_depth=15, max_features=auto, min_samples_leaf=3, min_samples_split=4, n_estimators=200; total time=   2.4s\n"
     ]
    },
    {
     "name": "stderr",
     "output_type": "stream",
     "text": [
      "C:\\Users\\Dell\\AppData\\Local\\Programs\\Python\\Python310\\lib\\site-packages\\sklearn\\ensemble\\_forest.py:416: FutureWarning: `max_features='auto'` has been deprecated in 1.1 and will be removed in 1.3. To keep the past behaviour, explicitly set `max_features=1.0` or remove this parameter as it is also the default value for RandomForestRegressors and ExtraTreesRegressors.\n",
      "  warn(\n"
     ]
    },
    {
     "name": "stdout",
     "output_type": "stream",
     "text": [
      "[CV] END criterion=absolute_error, max_depth=15, max_features=auto, min_samples_leaf=3, min_samples_split=4, n_estimators=200; total time=   2.6s\n"
     ]
    },
    {
     "name": "stderr",
     "output_type": "stream",
     "text": [
      "C:\\Users\\Dell\\AppData\\Local\\Programs\\Python\\Python310\\lib\\site-packages\\sklearn\\ensemble\\_forest.py:416: FutureWarning: `max_features='auto'` has been deprecated in 1.1 and will be removed in 1.3. To keep the past behaviour, explicitly set `max_features=1.0` or remove this parameter as it is also the default value for RandomForestRegressors and ExtraTreesRegressors.\n",
      "  warn(\n"
     ]
    },
    {
     "name": "stdout",
     "output_type": "stream",
     "text": [
      "[CV] END criterion=absolute_error, max_depth=15, max_features=auto, min_samples_leaf=3, min_samples_split=4, n_estimators=200; total time=   2.4s\n",
      "[CV] END criterion=poisson, max_depth=None, max_features=sqrt, min_samples_leaf=2, min_samples_split=4, n_estimators=100; total time=   0.1s\n",
      "[CV] END criterion=poisson, max_depth=None, max_features=sqrt, min_samples_leaf=2, min_samples_split=4, n_estimators=100; total time=   0.1s\n",
      "[CV] END criterion=poisson, max_depth=None, max_features=sqrt, min_samples_leaf=2, min_samples_split=4, n_estimators=100; total time=   0.1s\n",
      "[CV] END criterion=poisson, max_depth=None, max_features=sqrt, min_samples_leaf=2, min_samples_split=4, n_estimators=100; total time=   0.1s\n",
      "[CV] END criterion=poisson, max_depth=None, max_features=sqrt, min_samples_leaf=2, min_samples_split=4, n_estimators=100; total time=   0.1s\n",
      "[CV] END criterion=poisson, max_depth=None, max_features=sqrt, min_samples_leaf=2, min_samples_split=4, n_estimators=200; total time=   0.2s\n",
      "[CV] END criterion=poisson, max_depth=None, max_features=sqrt, min_samples_leaf=2, min_samples_split=4, n_estimators=200; total time=   0.2s\n",
      "[CV] END criterion=poisson, max_depth=None, max_features=sqrt, min_samples_leaf=2, min_samples_split=4, n_estimators=200; total time=   0.2s\n",
      "[CV] END criterion=poisson, max_depth=None, max_features=sqrt, min_samples_leaf=2, min_samples_split=4, n_estimators=200; total time=   0.2s\n",
      "[CV] END criterion=poisson, max_depth=None, max_features=sqrt, min_samples_leaf=2, min_samples_split=4, n_estimators=200; total time=   0.2s\n",
      "[CV] END criterion=poisson, max_depth=None, max_features=sqrt, min_samples_leaf=3, min_samples_split=4, n_estimators=100; total time=   0.0s\n",
      "[CV] END criterion=poisson, max_depth=None, max_features=sqrt, min_samples_leaf=3, min_samples_split=4, n_estimators=100; total time=   0.0s\n",
      "[CV] END criterion=poisson, max_depth=None, max_features=sqrt, min_samples_leaf=3, min_samples_split=4, n_estimators=100; total time=   0.0s\n",
      "[CV] END criterion=poisson, max_depth=None, max_features=sqrt, min_samples_leaf=3, min_samples_split=4, n_estimators=100; total time=   0.0s\n",
      "[CV] END criterion=poisson, max_depth=None, max_features=sqrt, min_samples_leaf=3, min_samples_split=4, n_estimators=100; total time=   0.0s\n",
      "[CV] END criterion=poisson, max_depth=None, max_features=sqrt, min_samples_leaf=3, min_samples_split=4, n_estimators=200; total time=   0.2s\n",
      "[CV] END criterion=poisson, max_depth=None, max_features=sqrt, min_samples_leaf=3, min_samples_split=4, n_estimators=200; total time=   0.2s\n",
      "[CV] END criterion=poisson, max_depth=None, max_features=sqrt, min_samples_leaf=3, min_samples_split=4, n_estimators=200; total time=   0.2s\n",
      "[CV] END criterion=poisson, max_depth=None, max_features=sqrt, min_samples_leaf=3, min_samples_split=4, n_estimators=200; total time=   0.2s\n",
      "[CV] END criterion=poisson, max_depth=None, max_features=sqrt, min_samples_leaf=3, min_samples_split=4, n_estimators=200; total time=   0.2s\n"
     ]
    },
    {
     "name": "stderr",
     "output_type": "stream",
     "text": [
      "C:\\Users\\Dell\\AppData\\Local\\Programs\\Python\\Python310\\lib\\site-packages\\sklearn\\ensemble\\_forest.py:416: FutureWarning: `max_features='auto'` has been deprecated in 1.1 and will be removed in 1.3. To keep the past behaviour, explicitly set `max_features=1.0` or remove this parameter as it is also the default value for RandomForestRegressors and ExtraTreesRegressors.\n",
      "  warn(\n"
     ]
    },
    {
     "name": "stdout",
     "output_type": "stream",
     "text": [
      "[CV] END criterion=poisson, max_depth=None, max_features=auto, min_samples_leaf=2, min_samples_split=4, n_estimators=100; total time=   0.2s\n"
     ]
    },
    {
     "name": "stderr",
     "output_type": "stream",
     "text": [
      "C:\\Users\\Dell\\AppData\\Local\\Programs\\Python\\Python310\\lib\\site-packages\\sklearn\\ensemble\\_forest.py:416: FutureWarning: `max_features='auto'` has been deprecated in 1.1 and will be removed in 1.3. To keep the past behaviour, explicitly set `max_features=1.0` or remove this parameter as it is also the default value for RandomForestRegressors and ExtraTreesRegressors.\n",
      "  warn(\n"
     ]
    },
    {
     "name": "stdout",
     "output_type": "stream",
     "text": [
      "[CV] END criterion=poisson, max_depth=None, max_features=auto, min_samples_leaf=2, min_samples_split=4, n_estimators=100; total time=   0.2s\n"
     ]
    },
    {
     "name": "stderr",
     "output_type": "stream",
     "text": [
      "C:\\Users\\Dell\\AppData\\Local\\Programs\\Python\\Python310\\lib\\site-packages\\sklearn\\ensemble\\_forest.py:416: FutureWarning: `max_features='auto'` has been deprecated in 1.1 and will be removed in 1.3. To keep the past behaviour, explicitly set `max_features=1.0` or remove this parameter as it is also the default value for RandomForestRegressors and ExtraTreesRegressors.\n",
      "  warn(\n"
     ]
    },
    {
     "name": "stdout",
     "output_type": "stream",
     "text": [
      "[CV] END criterion=poisson, max_depth=None, max_features=auto, min_samples_leaf=2, min_samples_split=4, n_estimators=100; total time=   0.2s\n"
     ]
    },
    {
     "name": "stderr",
     "output_type": "stream",
     "text": [
      "C:\\Users\\Dell\\AppData\\Local\\Programs\\Python\\Python310\\lib\\site-packages\\sklearn\\ensemble\\_forest.py:416: FutureWarning: `max_features='auto'` has been deprecated in 1.1 and will be removed in 1.3. To keep the past behaviour, explicitly set `max_features=1.0` or remove this parameter as it is also the default value for RandomForestRegressors and ExtraTreesRegressors.\n",
      "  warn(\n"
     ]
    },
    {
     "name": "stdout",
     "output_type": "stream",
     "text": [
      "[CV] END criterion=poisson, max_depth=None, max_features=auto, min_samples_leaf=2, min_samples_split=4, n_estimators=100; total time=   0.2s\n"
     ]
    },
    {
     "name": "stderr",
     "output_type": "stream",
     "text": [
      "C:\\Users\\Dell\\AppData\\Local\\Programs\\Python\\Python310\\lib\\site-packages\\sklearn\\ensemble\\_forest.py:416: FutureWarning: `max_features='auto'` has been deprecated in 1.1 and will be removed in 1.3. To keep the past behaviour, explicitly set `max_features=1.0` or remove this parameter as it is also the default value for RandomForestRegressors and ExtraTreesRegressors.\n",
      "  warn(\n"
     ]
    },
    {
     "name": "stdout",
     "output_type": "stream",
     "text": [
      "[CV] END criterion=poisson, max_depth=None, max_features=auto, min_samples_leaf=2, min_samples_split=4, n_estimators=100; total time=   0.2s\n"
     ]
    },
    {
     "name": "stderr",
     "output_type": "stream",
     "text": [
      "C:\\Users\\Dell\\AppData\\Local\\Programs\\Python\\Python310\\lib\\site-packages\\sklearn\\ensemble\\_forest.py:416: FutureWarning: `max_features='auto'` has been deprecated in 1.1 and will be removed in 1.3. To keep the past behaviour, explicitly set `max_features=1.0` or remove this parameter as it is also the default value for RandomForestRegressors and ExtraTreesRegressors.\n",
      "  warn(\n"
     ]
    },
    {
     "name": "stdout",
     "output_type": "stream",
     "text": [
      "[CV] END criterion=poisson, max_depth=None, max_features=auto, min_samples_leaf=2, min_samples_split=4, n_estimators=200; total time=   0.5s\n"
     ]
    },
    {
     "name": "stderr",
     "output_type": "stream",
     "text": [
      "C:\\Users\\Dell\\AppData\\Local\\Programs\\Python\\Python310\\lib\\site-packages\\sklearn\\ensemble\\_forest.py:416: FutureWarning: `max_features='auto'` has been deprecated in 1.1 and will be removed in 1.3. To keep the past behaviour, explicitly set `max_features=1.0` or remove this parameter as it is also the default value for RandomForestRegressors and ExtraTreesRegressors.\n",
      "  warn(\n"
     ]
    },
    {
     "name": "stdout",
     "output_type": "stream",
     "text": [
      "[CV] END criterion=poisson, max_depth=None, max_features=auto, min_samples_leaf=2, min_samples_split=4, n_estimators=200; total time=   0.4s\n"
     ]
    },
    {
     "name": "stderr",
     "output_type": "stream",
     "text": [
      "C:\\Users\\Dell\\AppData\\Local\\Programs\\Python\\Python310\\lib\\site-packages\\sklearn\\ensemble\\_forest.py:416: FutureWarning: `max_features='auto'` has been deprecated in 1.1 and will be removed in 1.3. To keep the past behaviour, explicitly set `max_features=1.0` or remove this parameter as it is also the default value for RandomForestRegressors and ExtraTreesRegressors.\n",
      "  warn(\n"
     ]
    },
    {
     "name": "stdout",
     "output_type": "stream",
     "text": [
      "[CV] END criterion=poisson, max_depth=None, max_features=auto, min_samples_leaf=2, min_samples_split=4, n_estimators=200; total time=   0.4s\n"
     ]
    },
    {
     "name": "stderr",
     "output_type": "stream",
     "text": [
      "C:\\Users\\Dell\\AppData\\Local\\Programs\\Python\\Python310\\lib\\site-packages\\sklearn\\ensemble\\_forest.py:416: FutureWarning: `max_features='auto'` has been deprecated in 1.1 and will be removed in 1.3. To keep the past behaviour, explicitly set `max_features=1.0` or remove this parameter as it is also the default value for RandomForestRegressors and ExtraTreesRegressors.\n",
      "  warn(\n"
     ]
    },
    {
     "name": "stdout",
     "output_type": "stream",
     "text": [
      "[CV] END criterion=poisson, max_depth=None, max_features=auto, min_samples_leaf=2, min_samples_split=4, n_estimators=200; total time=   0.4s\n"
     ]
    },
    {
     "name": "stderr",
     "output_type": "stream",
     "text": [
      "C:\\Users\\Dell\\AppData\\Local\\Programs\\Python\\Python310\\lib\\site-packages\\sklearn\\ensemble\\_forest.py:416: FutureWarning: `max_features='auto'` has been deprecated in 1.1 and will be removed in 1.3. To keep the past behaviour, explicitly set `max_features=1.0` or remove this parameter as it is also the default value for RandomForestRegressors and ExtraTreesRegressors.\n",
      "  warn(\n"
     ]
    },
    {
     "name": "stdout",
     "output_type": "stream",
     "text": [
      "[CV] END criterion=poisson, max_depth=None, max_features=auto, min_samples_leaf=2, min_samples_split=4, n_estimators=200; total time=   0.4s\n"
     ]
    },
    {
     "name": "stderr",
     "output_type": "stream",
     "text": [
      "C:\\Users\\Dell\\AppData\\Local\\Programs\\Python\\Python310\\lib\\site-packages\\sklearn\\ensemble\\_forest.py:416: FutureWarning: `max_features='auto'` has been deprecated in 1.1 and will be removed in 1.3. To keep the past behaviour, explicitly set `max_features=1.0` or remove this parameter as it is also the default value for RandomForestRegressors and ExtraTreesRegressors.\n",
      "  warn(\n"
     ]
    },
    {
     "name": "stdout",
     "output_type": "stream",
     "text": [
      "[CV] END criterion=poisson, max_depth=None, max_features=auto, min_samples_leaf=3, min_samples_split=4, n_estimators=100; total time=   0.2s\n"
     ]
    },
    {
     "name": "stderr",
     "output_type": "stream",
     "text": [
      "C:\\Users\\Dell\\AppData\\Local\\Programs\\Python\\Python310\\lib\\site-packages\\sklearn\\ensemble\\_forest.py:416: FutureWarning: `max_features='auto'` has been deprecated in 1.1 and will be removed in 1.3. To keep the past behaviour, explicitly set `max_features=1.0` or remove this parameter as it is also the default value for RandomForestRegressors and ExtraTreesRegressors.\n",
      "  warn(\n"
     ]
    },
    {
     "name": "stdout",
     "output_type": "stream",
     "text": [
      "[CV] END criterion=poisson, max_depth=None, max_features=auto, min_samples_leaf=3, min_samples_split=4, n_estimators=100; total time=   0.2s\n"
     ]
    },
    {
     "name": "stderr",
     "output_type": "stream",
     "text": [
      "C:\\Users\\Dell\\AppData\\Local\\Programs\\Python\\Python310\\lib\\site-packages\\sklearn\\ensemble\\_forest.py:416: FutureWarning: `max_features='auto'` has been deprecated in 1.1 and will be removed in 1.3. To keep the past behaviour, explicitly set `max_features=1.0` or remove this parameter as it is also the default value for RandomForestRegressors and ExtraTreesRegressors.\n",
      "  warn(\n"
     ]
    },
    {
     "name": "stdout",
     "output_type": "stream",
     "text": [
      "[CV] END criterion=poisson, max_depth=None, max_features=auto, min_samples_leaf=3, min_samples_split=4, n_estimators=100; total time=   0.1s\n",
      "[CV] END criterion=poisson, max_depth=None, max_features=auto, min_samples_leaf=3, min_samples_split=4, n_estimators=100; total time=   0.1s\n"
     ]
    },
    {
     "name": "stderr",
     "output_type": "stream",
     "text": [
      "C:\\Users\\Dell\\AppData\\Local\\Programs\\Python\\Python310\\lib\\site-packages\\sklearn\\ensemble\\_forest.py:416: FutureWarning: `max_features='auto'` has been deprecated in 1.1 and will be removed in 1.3. To keep the past behaviour, explicitly set `max_features=1.0` or remove this parameter as it is also the default value for RandomForestRegressors and ExtraTreesRegressors.\n",
      "  warn(\n",
      "C:\\Users\\Dell\\AppData\\Local\\Programs\\Python\\Python310\\lib\\site-packages\\sklearn\\ensemble\\_forest.py:416: FutureWarning: `max_features='auto'` has been deprecated in 1.1 and will be removed in 1.3. To keep the past behaviour, explicitly set `max_features=1.0` or remove this parameter as it is also the default value for RandomForestRegressors and ExtraTreesRegressors.\n",
      "  warn(\n"
     ]
    },
    {
     "name": "stdout",
     "output_type": "stream",
     "text": [
      "[CV] END criterion=poisson, max_depth=None, max_features=auto, min_samples_leaf=3, min_samples_split=4, n_estimators=100; total time=   0.1s\n"
     ]
    },
    {
     "name": "stderr",
     "output_type": "stream",
     "text": [
      "C:\\Users\\Dell\\AppData\\Local\\Programs\\Python\\Python310\\lib\\site-packages\\sklearn\\ensemble\\_forest.py:416: FutureWarning: `max_features='auto'` has been deprecated in 1.1 and will be removed in 1.3. To keep the past behaviour, explicitly set `max_features=1.0` or remove this parameter as it is also the default value for RandomForestRegressors and ExtraTreesRegressors.\n",
      "  warn(\n"
     ]
    },
    {
     "name": "stdout",
     "output_type": "stream",
     "text": [
      "[CV] END criterion=poisson, max_depth=None, max_features=auto, min_samples_leaf=3, min_samples_split=4, n_estimators=200; total time=   0.3s\n"
     ]
    },
    {
     "name": "stderr",
     "output_type": "stream",
     "text": [
      "C:\\Users\\Dell\\AppData\\Local\\Programs\\Python\\Python310\\lib\\site-packages\\sklearn\\ensemble\\_forest.py:416: FutureWarning: `max_features='auto'` has been deprecated in 1.1 and will be removed in 1.3. To keep the past behaviour, explicitly set `max_features=1.0` or remove this parameter as it is also the default value for RandomForestRegressors and ExtraTreesRegressors.\n",
      "  warn(\n"
     ]
    },
    {
     "name": "stdout",
     "output_type": "stream",
     "text": [
      "[CV] END criterion=poisson, max_depth=None, max_features=auto, min_samples_leaf=3, min_samples_split=4, n_estimators=200; total time=   0.4s\n"
     ]
    },
    {
     "name": "stderr",
     "output_type": "stream",
     "text": [
      "C:\\Users\\Dell\\AppData\\Local\\Programs\\Python\\Python310\\lib\\site-packages\\sklearn\\ensemble\\_forest.py:416: FutureWarning: `max_features='auto'` has been deprecated in 1.1 and will be removed in 1.3. To keep the past behaviour, explicitly set `max_features=1.0` or remove this parameter as it is also the default value for RandomForestRegressors and ExtraTreesRegressors.\n",
      "  warn(\n"
     ]
    },
    {
     "name": "stdout",
     "output_type": "stream",
     "text": [
      "[CV] END criterion=poisson, max_depth=None, max_features=auto, min_samples_leaf=3, min_samples_split=4, n_estimators=200; total time=   0.4s\n"
     ]
    },
    {
     "name": "stderr",
     "output_type": "stream",
     "text": [
      "C:\\Users\\Dell\\AppData\\Local\\Programs\\Python\\Python310\\lib\\site-packages\\sklearn\\ensemble\\_forest.py:416: FutureWarning: `max_features='auto'` has been deprecated in 1.1 and will be removed in 1.3. To keep the past behaviour, explicitly set `max_features=1.0` or remove this parameter as it is also the default value for RandomForestRegressors and ExtraTreesRegressors.\n",
      "  warn(\n"
     ]
    },
    {
     "name": "stdout",
     "output_type": "stream",
     "text": [
      "[CV] END criterion=poisson, max_depth=None, max_features=auto, min_samples_leaf=3, min_samples_split=4, n_estimators=200; total time=   0.4s\n"
     ]
    },
    {
     "name": "stderr",
     "output_type": "stream",
     "text": [
      "C:\\Users\\Dell\\AppData\\Local\\Programs\\Python\\Python310\\lib\\site-packages\\sklearn\\ensemble\\_forest.py:416: FutureWarning: `max_features='auto'` has been deprecated in 1.1 and will be removed in 1.3. To keep the past behaviour, explicitly set `max_features=1.0` or remove this parameter as it is also the default value for RandomForestRegressors and ExtraTreesRegressors.\n",
      "  warn(\n"
     ]
    },
    {
     "name": "stdout",
     "output_type": "stream",
     "text": [
      "[CV] END criterion=poisson, max_depth=None, max_features=auto, min_samples_leaf=3, min_samples_split=4, n_estimators=200; total time=   0.4s\n",
      "[CV] END criterion=poisson, max_depth=15, max_features=sqrt, min_samples_leaf=2, min_samples_split=4, n_estimators=100; total time=   0.1s\n",
      "[CV] END criterion=poisson, max_depth=15, max_features=sqrt, min_samples_leaf=2, min_samples_split=4, n_estimators=100; total time=   0.1s\n",
      "[CV] END criterion=poisson, max_depth=15, max_features=sqrt, min_samples_leaf=2, min_samples_split=4, n_estimators=100; total time=   0.1s\n",
      "[CV] END criterion=poisson, max_depth=15, max_features=sqrt, min_samples_leaf=2, min_samples_split=4, n_estimators=100; total time=   0.1s\n",
      "[CV] END criterion=poisson, max_depth=15, max_features=sqrt, min_samples_leaf=2, min_samples_split=4, n_estimators=100; total time=   0.1s\n",
      "[CV] END criterion=poisson, max_depth=15, max_features=sqrt, min_samples_leaf=2, min_samples_split=4, n_estimators=200; total time=   0.3s\n",
      "[CV] END criterion=poisson, max_depth=15, max_features=sqrt, min_samples_leaf=2, min_samples_split=4, n_estimators=200; total time=   0.2s\n",
      "[CV] END criterion=poisson, max_depth=15, max_features=sqrt, min_samples_leaf=2, min_samples_split=4, n_estimators=200; total time=   0.2s\n",
      "[CV] END criterion=poisson, max_depth=15, max_features=sqrt, min_samples_leaf=2, min_samples_split=4, n_estimators=200; total time=   0.2s\n",
      "[CV] END criterion=poisson, max_depth=15, max_features=sqrt, min_samples_leaf=2, min_samples_split=4, n_estimators=200; total time=   0.2s\n",
      "[CV] END criterion=poisson, max_depth=15, max_features=sqrt, min_samples_leaf=3, min_samples_split=4, n_estimators=100; total time=   0.0s\n",
      "[CV] END criterion=poisson, max_depth=15, max_features=sqrt, min_samples_leaf=3, min_samples_split=4, n_estimators=100; total time=   0.1s\n",
      "[CV] END criterion=poisson, max_depth=15, max_features=sqrt, min_samples_leaf=3, min_samples_split=4, n_estimators=100; total time=   0.1s\n",
      "[CV] END criterion=poisson, max_depth=15, max_features=sqrt, min_samples_leaf=3, min_samples_split=4, n_estimators=100; total time=   0.1s\n",
      "[CV] END criterion=poisson, max_depth=15, max_features=sqrt, min_samples_leaf=3, min_samples_split=4, n_estimators=100; total time=   0.1s\n",
      "[CV] END criterion=poisson, max_depth=15, max_features=sqrt, min_samples_leaf=3, min_samples_split=4, n_estimators=200; total time=   0.2s\n",
      "[CV] END criterion=poisson, max_depth=15, max_features=sqrt, min_samples_leaf=3, min_samples_split=4, n_estimators=200; total time=   0.2s\n",
      "[CV] END criterion=poisson, max_depth=15, max_features=sqrt, min_samples_leaf=3, min_samples_split=4, n_estimators=200; total time=   0.2s\n",
      "[CV] END criterion=poisson, max_depth=15, max_features=sqrt, min_samples_leaf=3, min_samples_split=4, n_estimators=200; total time=   0.2s\n",
      "[CV] END criterion=poisson, max_depth=15, max_features=sqrt, min_samples_leaf=3, min_samples_split=4, n_estimators=200; total time=   0.2s\n"
     ]
    },
    {
     "name": "stderr",
     "output_type": "stream",
     "text": [
      "C:\\Users\\Dell\\AppData\\Local\\Programs\\Python\\Python310\\lib\\site-packages\\sklearn\\ensemble\\_forest.py:416: FutureWarning: `max_features='auto'` has been deprecated in 1.1 and will be removed in 1.3. To keep the past behaviour, explicitly set `max_features=1.0` or remove this parameter as it is also the default value for RandomForestRegressors and ExtraTreesRegressors.\n",
      "  warn(\n"
     ]
    },
    {
     "name": "stdout",
     "output_type": "stream",
     "text": [
      "[CV] END criterion=poisson, max_depth=15, max_features=auto, min_samples_leaf=2, min_samples_split=4, n_estimators=100; total time=   0.2s\n"
     ]
    },
    {
     "name": "stderr",
     "output_type": "stream",
     "text": [
      "C:\\Users\\Dell\\AppData\\Local\\Programs\\Python\\Python310\\lib\\site-packages\\sklearn\\ensemble\\_forest.py:416: FutureWarning: `max_features='auto'` has been deprecated in 1.1 and will be removed in 1.3. To keep the past behaviour, explicitly set `max_features=1.0` or remove this parameter as it is also the default value for RandomForestRegressors and ExtraTreesRegressors.\n",
      "  warn(\n"
     ]
    },
    {
     "name": "stdout",
     "output_type": "stream",
     "text": [
      "[CV] END criterion=poisson, max_depth=15, max_features=auto, min_samples_leaf=2, min_samples_split=4, n_estimators=100; total time=   0.2s\n"
     ]
    },
    {
     "name": "stderr",
     "output_type": "stream",
     "text": [
      "C:\\Users\\Dell\\AppData\\Local\\Programs\\Python\\Python310\\lib\\site-packages\\sklearn\\ensemble\\_forest.py:416: FutureWarning: `max_features='auto'` has been deprecated in 1.1 and will be removed in 1.3. To keep the past behaviour, explicitly set `max_features=1.0` or remove this parameter as it is also the default value for RandomForestRegressors and ExtraTreesRegressors.\n",
      "  warn(\n"
     ]
    },
    {
     "name": "stdout",
     "output_type": "stream",
     "text": [
      "[CV] END criterion=poisson, max_depth=15, max_features=auto, min_samples_leaf=2, min_samples_split=4, n_estimators=100; total time=   0.2s\n"
     ]
    },
    {
     "name": "stderr",
     "output_type": "stream",
     "text": [
      "C:\\Users\\Dell\\AppData\\Local\\Programs\\Python\\Python310\\lib\\site-packages\\sklearn\\ensemble\\_forest.py:416: FutureWarning: `max_features='auto'` has been deprecated in 1.1 and will be removed in 1.3. To keep the past behaviour, explicitly set `max_features=1.0` or remove this parameter as it is also the default value for RandomForestRegressors and ExtraTreesRegressors.\n",
      "  warn(\n"
     ]
    },
    {
     "name": "stdout",
     "output_type": "stream",
     "text": [
      "[CV] END criterion=poisson, max_depth=15, max_features=auto, min_samples_leaf=2, min_samples_split=4, n_estimators=100; total time=   0.2s\n"
     ]
    },
    {
     "name": "stderr",
     "output_type": "stream",
     "text": [
      "C:\\Users\\Dell\\AppData\\Local\\Programs\\Python\\Python310\\lib\\site-packages\\sklearn\\ensemble\\_forest.py:416: FutureWarning: `max_features='auto'` has been deprecated in 1.1 and will be removed in 1.3. To keep the past behaviour, explicitly set `max_features=1.0` or remove this parameter as it is also the default value for RandomForestRegressors and ExtraTreesRegressors.\n",
      "  warn(\n"
     ]
    },
    {
     "name": "stdout",
     "output_type": "stream",
     "text": [
      "[CV] END criterion=poisson, max_depth=15, max_features=auto, min_samples_leaf=2, min_samples_split=4, n_estimators=100; total time=   0.2s\n"
     ]
    },
    {
     "name": "stderr",
     "output_type": "stream",
     "text": [
      "C:\\Users\\Dell\\AppData\\Local\\Programs\\Python\\Python310\\lib\\site-packages\\sklearn\\ensemble\\_forest.py:416: FutureWarning: `max_features='auto'` has been deprecated in 1.1 and will be removed in 1.3. To keep the past behaviour, explicitly set `max_features=1.0` or remove this parameter as it is also the default value for RandomForestRegressors and ExtraTreesRegressors.\n",
      "  warn(\n"
     ]
    },
    {
     "name": "stdout",
     "output_type": "stream",
     "text": [
      "[CV] END criterion=poisson, max_depth=15, max_features=auto, min_samples_leaf=2, min_samples_split=4, n_estimators=200; total time=   0.4s\n"
     ]
    },
    {
     "name": "stderr",
     "output_type": "stream",
     "text": [
      "C:\\Users\\Dell\\AppData\\Local\\Programs\\Python\\Python310\\lib\\site-packages\\sklearn\\ensemble\\_forest.py:416: FutureWarning: `max_features='auto'` has been deprecated in 1.1 and will be removed in 1.3. To keep the past behaviour, explicitly set `max_features=1.0` or remove this parameter as it is also the default value for RandomForestRegressors and ExtraTreesRegressors.\n",
      "  warn(\n"
     ]
    },
    {
     "name": "stdout",
     "output_type": "stream",
     "text": [
      "[CV] END criterion=poisson, max_depth=15, max_features=auto, min_samples_leaf=2, min_samples_split=4, n_estimators=200; total time=   0.4s\n"
     ]
    },
    {
     "name": "stderr",
     "output_type": "stream",
     "text": [
      "C:\\Users\\Dell\\AppData\\Local\\Programs\\Python\\Python310\\lib\\site-packages\\sklearn\\ensemble\\_forest.py:416: FutureWarning: `max_features='auto'` has been deprecated in 1.1 and will be removed in 1.3. To keep the past behaviour, explicitly set `max_features=1.0` or remove this parameter as it is also the default value for RandomForestRegressors and ExtraTreesRegressors.\n",
      "  warn(\n"
     ]
    },
    {
     "name": "stdout",
     "output_type": "stream",
     "text": [
      "[CV] END criterion=poisson, max_depth=15, max_features=auto, min_samples_leaf=2, min_samples_split=4, n_estimators=200; total time=   0.4s\n"
     ]
    },
    {
     "name": "stderr",
     "output_type": "stream",
     "text": [
      "C:\\Users\\Dell\\AppData\\Local\\Programs\\Python\\Python310\\lib\\site-packages\\sklearn\\ensemble\\_forest.py:416: FutureWarning: `max_features='auto'` has been deprecated in 1.1 and will be removed in 1.3. To keep the past behaviour, explicitly set `max_features=1.0` or remove this parameter as it is also the default value for RandomForestRegressors and ExtraTreesRegressors.\n",
      "  warn(\n"
     ]
    },
    {
     "name": "stdout",
     "output_type": "stream",
     "text": [
      "[CV] END criterion=poisson, max_depth=15, max_features=auto, min_samples_leaf=2, min_samples_split=4, n_estimators=200; total time=   0.4s\n"
     ]
    },
    {
     "name": "stderr",
     "output_type": "stream",
     "text": [
      "C:\\Users\\Dell\\AppData\\Local\\Programs\\Python\\Python310\\lib\\site-packages\\sklearn\\ensemble\\_forest.py:416: FutureWarning: `max_features='auto'` has been deprecated in 1.1 and will be removed in 1.3. To keep the past behaviour, explicitly set `max_features=1.0` or remove this parameter as it is also the default value for RandomForestRegressors and ExtraTreesRegressors.\n",
      "  warn(\n"
     ]
    },
    {
     "name": "stdout",
     "output_type": "stream",
     "text": [
      "[CV] END criterion=poisson, max_depth=15, max_features=auto, min_samples_leaf=2, min_samples_split=4, n_estimators=200; total time=   0.4s\n"
     ]
    },
    {
     "name": "stderr",
     "output_type": "stream",
     "text": [
      "C:\\Users\\Dell\\AppData\\Local\\Programs\\Python\\Python310\\lib\\site-packages\\sklearn\\ensemble\\_forest.py:416: FutureWarning: `max_features='auto'` has been deprecated in 1.1 and will be removed in 1.3. To keep the past behaviour, explicitly set `max_features=1.0` or remove this parameter as it is also the default value for RandomForestRegressors and ExtraTreesRegressors.\n",
      "  warn(\n"
     ]
    },
    {
     "name": "stdout",
     "output_type": "stream",
     "text": [
      "[CV] END criterion=poisson, max_depth=15, max_features=auto, min_samples_leaf=3, min_samples_split=4, n_estimators=100; total time=   0.1s\n"
     ]
    },
    {
     "name": "stderr",
     "output_type": "stream",
     "text": [
      "C:\\Users\\Dell\\AppData\\Local\\Programs\\Python\\Python310\\lib\\site-packages\\sklearn\\ensemble\\_forest.py:416: FutureWarning: `max_features='auto'` has been deprecated in 1.1 and will be removed in 1.3. To keep the past behaviour, explicitly set `max_features=1.0` or remove this parameter as it is also the default value for RandomForestRegressors and ExtraTreesRegressors.\n",
      "  warn(\n"
     ]
    },
    {
     "name": "stdout",
     "output_type": "stream",
     "text": [
      "[CV] END criterion=poisson, max_depth=15, max_features=auto, min_samples_leaf=3, min_samples_split=4, n_estimators=100; total time=   0.1s\n"
     ]
    },
    {
     "name": "stderr",
     "output_type": "stream",
     "text": [
      "C:\\Users\\Dell\\AppData\\Local\\Programs\\Python\\Python310\\lib\\site-packages\\sklearn\\ensemble\\_forest.py:416: FutureWarning: `max_features='auto'` has been deprecated in 1.1 and will be removed in 1.3. To keep the past behaviour, explicitly set `max_features=1.0` or remove this parameter as it is also the default value for RandomForestRegressors and ExtraTreesRegressors.\n",
      "  warn(\n"
     ]
    },
    {
     "name": "stdout",
     "output_type": "stream",
     "text": [
      "[CV] END criterion=poisson, max_depth=15, max_features=auto, min_samples_leaf=3, min_samples_split=4, n_estimators=100; total time=   0.1s\n"
     ]
    },
    {
     "name": "stderr",
     "output_type": "stream",
     "text": [
      "C:\\Users\\Dell\\AppData\\Local\\Programs\\Python\\Python310\\lib\\site-packages\\sklearn\\ensemble\\_forest.py:416: FutureWarning: `max_features='auto'` has been deprecated in 1.1 and will be removed in 1.3. To keep the past behaviour, explicitly set `max_features=1.0` or remove this parameter as it is also the default value for RandomForestRegressors and ExtraTreesRegressors.\n",
      "  warn(\n"
     ]
    },
    {
     "name": "stdout",
     "output_type": "stream",
     "text": [
      "[CV] END criterion=poisson, max_depth=15, max_features=auto, min_samples_leaf=3, min_samples_split=4, n_estimators=100; total time=   0.1s\n"
     ]
    },
    {
     "name": "stderr",
     "output_type": "stream",
     "text": [
      "C:\\Users\\Dell\\AppData\\Local\\Programs\\Python\\Python310\\lib\\site-packages\\sklearn\\ensemble\\_forest.py:416: FutureWarning: `max_features='auto'` has been deprecated in 1.1 and will be removed in 1.3. To keep the past behaviour, explicitly set `max_features=1.0` or remove this parameter as it is also the default value for RandomForestRegressors and ExtraTreesRegressors.\n",
      "  warn(\n"
     ]
    },
    {
     "name": "stdout",
     "output_type": "stream",
     "text": [
      "[CV] END criterion=poisson, max_depth=15, max_features=auto, min_samples_leaf=3, min_samples_split=4, n_estimators=100; total time=   0.1s\n"
     ]
    },
    {
     "name": "stderr",
     "output_type": "stream",
     "text": [
      "C:\\Users\\Dell\\AppData\\Local\\Programs\\Python\\Python310\\lib\\site-packages\\sklearn\\ensemble\\_forest.py:416: FutureWarning: `max_features='auto'` has been deprecated in 1.1 and will be removed in 1.3. To keep the past behaviour, explicitly set `max_features=1.0` or remove this parameter as it is also the default value for RandomForestRegressors and ExtraTreesRegressors.\n",
      "  warn(\n"
     ]
    },
    {
     "name": "stdout",
     "output_type": "stream",
     "text": [
      "[CV] END criterion=poisson, max_depth=15, max_features=auto, min_samples_leaf=3, min_samples_split=4, n_estimators=200; total time=   0.4s\n"
     ]
    },
    {
     "name": "stderr",
     "output_type": "stream",
     "text": [
      "C:\\Users\\Dell\\AppData\\Local\\Programs\\Python\\Python310\\lib\\site-packages\\sklearn\\ensemble\\_forest.py:416: FutureWarning: `max_features='auto'` has been deprecated in 1.1 and will be removed in 1.3. To keep the past behaviour, explicitly set `max_features=1.0` or remove this parameter as it is also the default value for RandomForestRegressors and ExtraTreesRegressors.\n",
      "  warn(\n"
     ]
    },
    {
     "name": "stdout",
     "output_type": "stream",
     "text": [
      "[CV] END criterion=poisson, max_depth=15, max_features=auto, min_samples_leaf=3, min_samples_split=4, n_estimators=200; total time=   0.4s\n"
     ]
    },
    {
     "name": "stderr",
     "output_type": "stream",
     "text": [
      "C:\\Users\\Dell\\AppData\\Local\\Programs\\Python\\Python310\\lib\\site-packages\\sklearn\\ensemble\\_forest.py:416: FutureWarning: `max_features='auto'` has been deprecated in 1.1 and will be removed in 1.3. To keep the past behaviour, explicitly set `max_features=1.0` or remove this parameter as it is also the default value for RandomForestRegressors and ExtraTreesRegressors.\n",
      "  warn(\n"
     ]
    },
    {
     "name": "stdout",
     "output_type": "stream",
     "text": [
      "[CV] END criterion=poisson, max_depth=15, max_features=auto, min_samples_leaf=3, min_samples_split=4, n_estimators=200; total time=   0.4s\n"
     ]
    },
    {
     "name": "stderr",
     "output_type": "stream",
     "text": [
      "C:\\Users\\Dell\\AppData\\Local\\Programs\\Python\\Python310\\lib\\site-packages\\sklearn\\ensemble\\_forest.py:416: FutureWarning: `max_features='auto'` has been deprecated in 1.1 and will be removed in 1.3. To keep the past behaviour, explicitly set `max_features=1.0` or remove this parameter as it is also the default value for RandomForestRegressors and ExtraTreesRegressors.\n",
      "  warn(\n"
     ]
    },
    {
     "name": "stdout",
     "output_type": "stream",
     "text": [
      "[CV] END criterion=poisson, max_depth=15, max_features=auto, min_samples_leaf=3, min_samples_split=4, n_estimators=200; total time=   0.4s\n"
     ]
    },
    {
     "name": "stderr",
     "output_type": "stream",
     "text": [
      "C:\\Users\\Dell\\AppData\\Local\\Programs\\Python\\Python310\\lib\\site-packages\\sklearn\\ensemble\\_forest.py:416: FutureWarning: `max_features='auto'` has been deprecated in 1.1 and will be removed in 1.3. To keep the past behaviour, explicitly set `max_features=1.0` or remove this parameter as it is also the default value for RandomForestRegressors and ExtraTreesRegressors.\n",
      "  warn(\n"
     ]
    },
    {
     "name": "stdout",
     "output_type": "stream",
     "text": [
      "[CV] END criterion=poisson, max_depth=15, max_features=auto, min_samples_leaf=3, min_samples_split=4, n_estimators=200; total time=   0.4s\n"
     ]
    },
    {
     "name": "stderr",
     "output_type": "stream",
     "text": [
      "C:\\Users\\Dell\\AppData\\Local\\Programs\\Python\\Python310\\lib\\site-packages\\sklearn\\ensemble\\_forest.py:416: FutureWarning: `max_features='auto'` has been deprecated in 1.1 and will be removed in 1.3. To keep the past behaviour, explicitly set `max_features=1.0` or remove this parameter as it is also the default value for RandomForestRegressors and ExtraTreesRegressors.\n",
      "  warn(\n"
     ]
    }
   ],
   "source": [
    "grid = {\"n_estimators\": [100,200],\n",
    "        \"criterion\":['absolute_error','poisson'],\n",
    "        \"max_depth\":[None,15],\n",
    "        \"max_features\":['sqrt','auto'],\n",
    "        \"min_samples_split\":[4],\n",
    "        \"min_samples_leaf\":[2,3]}\n",
    "GCV_RFReg = GridSearchCV(estimator = RFReg,\n",
    "                         param_grid = grid,\n",
    "                         cv = 5,\n",
    "                         verbose = 2)\n",
    "GCV_RFReg.fit(scaled_train_set,train_label);"
   ]
  },
  {
   "cell_type": "code",
   "execution_count": 107,
   "id": "f10fdf6e",
   "metadata": {},
   "outputs": [
    {
     "data": {
      "text/plain": [
       "{'criterion': 'absolute_error',\n",
       " 'max_depth': None,\n",
       " 'max_features': 'auto',\n",
       " 'min_samples_leaf': 3,\n",
       " 'min_samples_split': 4,\n",
       " 'n_estimators': 200}"
      ]
     },
     "execution_count": 107,
     "metadata": {},
     "output_type": "execute_result"
    }
   ],
   "source": [
    "GCV_RFReg.best_params_"
   ]
  },
  {
   "cell_type": "markdown",
   "id": "1856358e",
   "metadata": {},
   "source": [
    "### Model Score after using GridSearchCV method"
   ]
  },
  {
   "cell_type": "code",
   "execution_count": 99,
   "id": "ceb2f746",
   "metadata": {},
   "outputs": [
    {
     "data": {
      "text/plain": [
       "0.8835648798308859"
      ]
     },
     "execution_count": 99,
     "metadata": {},
     "output_type": "execute_result"
    }
   ],
   "source": [
    "GCV_RFReg.score(scaled_test_set,test_label)"
   ]
  },
  {
   "cell_type": "markdown",
   "id": "a9c9c0e5",
   "metadata": {},
   "source": [
    "# Support Vector Machine"
   ]
  },
  {
   "cell_type": "markdown",
   "id": "f0dd8dca",
   "metadata": {},
   "source": [
    "## Applying the support vector machine"
   ]
  },
  {
   "cell_type": "code",
   "execution_count": 40,
   "id": "7e8bb7a1",
   "metadata": {},
   "outputs": [
    {
     "data": {
      "text/html": [
       "<style>#sk-container-id-7 {color: black;background-color: white;}#sk-container-id-7 pre{padding: 0;}#sk-container-id-7 div.sk-toggleable {background-color: white;}#sk-container-id-7 label.sk-toggleable__label {cursor: pointer;display: block;width: 100%;margin-bottom: 0;padding: 0.3em;box-sizing: border-box;text-align: center;}#sk-container-id-7 label.sk-toggleable__label-arrow:before {content: \"▸\";float: left;margin-right: 0.25em;color: #696969;}#sk-container-id-7 label.sk-toggleable__label-arrow:hover:before {color: black;}#sk-container-id-7 div.sk-estimator:hover label.sk-toggleable__label-arrow:before {color: black;}#sk-container-id-7 div.sk-toggleable__content {max-height: 0;max-width: 0;overflow: hidden;text-align: left;background-color: #f0f8ff;}#sk-container-id-7 div.sk-toggleable__content pre {margin: 0.2em;color: black;border-radius: 0.25em;background-color: #f0f8ff;}#sk-container-id-7 input.sk-toggleable__control:checked~div.sk-toggleable__content {max-height: 200px;max-width: 100%;overflow: auto;}#sk-container-id-7 input.sk-toggleable__control:checked~label.sk-toggleable__label-arrow:before {content: \"▾\";}#sk-container-id-7 div.sk-estimator input.sk-toggleable__control:checked~label.sk-toggleable__label {background-color: #d4ebff;}#sk-container-id-7 div.sk-label input.sk-toggleable__control:checked~label.sk-toggleable__label {background-color: #d4ebff;}#sk-container-id-7 input.sk-hidden--visually {border: 0;clip: rect(1px 1px 1px 1px);clip: rect(1px, 1px, 1px, 1px);height: 1px;margin: -1px;overflow: hidden;padding: 0;position: absolute;width: 1px;}#sk-container-id-7 div.sk-estimator {font-family: monospace;background-color: #f0f8ff;border: 1px dotted black;border-radius: 0.25em;box-sizing: border-box;margin-bottom: 0.5em;}#sk-container-id-7 div.sk-estimator:hover {background-color: #d4ebff;}#sk-container-id-7 div.sk-parallel-item::after {content: \"\";width: 100%;border-bottom: 1px solid gray;flex-grow: 1;}#sk-container-id-7 div.sk-label:hover label.sk-toggleable__label {background-color: #d4ebff;}#sk-container-id-7 div.sk-serial::before {content: \"\";position: absolute;border-left: 1px solid gray;box-sizing: border-box;top: 0;bottom: 0;left: 50%;z-index: 0;}#sk-container-id-7 div.sk-serial {display: flex;flex-direction: column;align-items: center;background-color: white;padding-right: 0.2em;padding-left: 0.2em;position: relative;}#sk-container-id-7 div.sk-item {position: relative;z-index: 1;}#sk-container-id-7 div.sk-parallel {display: flex;align-items: stretch;justify-content: center;background-color: white;position: relative;}#sk-container-id-7 div.sk-item::before, #sk-container-id-7 div.sk-parallel-item::before {content: \"\";position: absolute;border-left: 1px solid gray;box-sizing: border-box;top: 0;bottom: 0;left: 50%;z-index: -1;}#sk-container-id-7 div.sk-parallel-item {display: flex;flex-direction: column;z-index: 1;position: relative;background-color: white;}#sk-container-id-7 div.sk-parallel-item:first-child::after {align-self: flex-end;width: 50%;}#sk-container-id-7 div.sk-parallel-item:last-child::after {align-self: flex-start;width: 50%;}#sk-container-id-7 div.sk-parallel-item:only-child::after {width: 0;}#sk-container-id-7 div.sk-dashed-wrapped {border: 1px dashed gray;margin: 0 0.4em 0.5em 0.4em;box-sizing: border-box;padding-bottom: 0.4em;background-color: white;}#sk-container-id-7 div.sk-label label {font-family: monospace;font-weight: bold;display: inline-block;line-height: 1.2em;}#sk-container-id-7 div.sk-label-container {text-align: center;}#sk-container-id-7 div.sk-container {/* jupyter's `normalize.less` sets `[hidden] { display: none; }` but bootstrap.min.css set `[hidden] { display: none !important; }` so we also need the `!important` here to be able to override the default hidden behavior on the sphinx rendered scikit-learn.org. See: https://github.com/scikit-learn/scikit-learn/issues/21755 */display: inline-block !important;position: relative;}#sk-container-id-7 div.sk-text-repr-fallback {display: none;}</style><div id=\"sk-container-id-7\" class=\"sk-top-container\"><div class=\"sk-text-repr-fallback\"><pre>SVR()</pre><b>In a Jupyter environment, please rerun this cell to show the HTML representation or trust the notebook. <br />On GitHub, the HTML representation is unable to render, please try loading this page with nbviewer.org.</b></div><div class=\"sk-container\" hidden><div class=\"sk-item\"><div class=\"sk-estimator sk-toggleable\"><input class=\"sk-toggleable__control sk-hidden--visually\" id=\"sk-estimator-id-11\" type=\"checkbox\" checked><label for=\"sk-estimator-id-11\" class=\"sk-toggleable__label sk-toggleable__label-arrow\">SVR</label><div class=\"sk-toggleable__content\"><pre>SVR()</pre></div></div></div></div></div>"
      ],
      "text/plain": [
       "SVR()"
      ]
     },
     "execution_count": 40,
     "metadata": {},
     "output_type": "execute_result"
    }
   ],
   "source": [
    "from sklearn.svm import SVR\n",
    "SVRReg = SVR()\n",
    "SVRReg.fit(scaled_train_set,train_label)"
   ]
  },
  {
   "cell_type": "markdown",
   "id": "8abc1af6",
   "metadata": {},
   "source": [
    "## Predicting the charges"
   ]
  },
  {
   "cell_type": "code",
   "execution_count": 41,
   "id": "525d7ff0",
   "metadata": {},
   "outputs": [],
   "source": [
    "SVRReg.predict(scaled_test_set);"
   ]
  },
  {
   "cell_type": "markdown",
   "id": "066edf4b",
   "metadata": {},
   "source": [
    "## Evaluating the Support vector machine"
   ]
  },
  {
   "cell_type": "code",
   "execution_count": 42,
   "id": "f3294b11",
   "metadata": {},
   "outputs": [
    {
     "name": "stdout",
     "output_type": "stream",
     "text": [
      "The root mean squared error score for the SVR() is 13212.507 for 5 fold cross validation\n",
      "\n"
     ]
    }
   ],
   "source": [
    "EvalPar(SVRReg,5)"
   ]
  },
  {
   "cell_type": "code",
   "execution_count": 44,
   "id": "2575d598",
   "metadata": {},
   "outputs": [
    {
     "name": "stdout",
     "output_type": "stream",
     "text": [
      "The root mean squared error score for the SVR() is 12958.936 for 10 fold cross validation\n",
      "\n"
     ]
    }
   ],
   "source": [
    "EvalPar(SVRReg,10)"
   ]
  },
  {
   "cell_type": "code",
   "execution_count": null,
   "id": "ace13158",
   "metadata": {},
   "outputs": [],
   "source": []
  }
 ],
 "metadata": {
  "kernelspec": {
   "display_name": "Python 3 (ipykernel)",
   "language": "python",
   "name": "python3"
  },
  "language_info": {
   "codemirror_mode": {
    "name": "ipython",
    "version": 3
   },
   "file_extension": ".py",
   "mimetype": "text/x-python",
   "name": "python",
   "nbconvert_exporter": "python",
   "pygments_lexer": "ipython3",
   "version": "3.8.8"
  }
 },
 "nbformat": 4,
 "nbformat_minor": 5
}
